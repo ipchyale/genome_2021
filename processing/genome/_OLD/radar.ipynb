{
 "cells": [
  {
   "cell_type": "code",
   "execution_count": 1,
   "id": "3e0f3ef1",
   "metadata": {},
   "outputs": [],
   "source": [
    "import pandas as pd\n",
    "import numpy as np"
   ]
  },
  {
   "cell_type": "code",
   "execution_count": 2,
   "id": "5eec8880",
   "metadata": {},
   "outputs": [],
   "source": [
    "rf = pd.read_csv(\"../texture/texture.csv\")\n",
    "tf = pd.read_csv(\"../thickness/thickness.csv\")\n",
    "cf = pd.read_csv(\"../color/color.csv\")\n",
    "gf = pd.read_csv(\"../gloss/gloss.csv\")"
   ]
  },
  {
   "cell_type": "code",
   "execution_count": 3,
   "id": "eff79b56",
   "metadata": {},
   "outputs": [],
   "source": [
    "dmax = cf[cf.mloc=='dmax']\n",
    "dmin = cf[cf.mloc!='dmax']\n",
    "dmax = dmax.reset_index(drop=True)\n",
    "dmin = dmin.reset_index(drop=True)"
   ]
  },
  {
   "cell_type": "code",
   "execution_count": 4,
   "id": "868185f8",
   "metadata": {},
   "outputs": [],
   "source": [
    "dmin.rename(columns={\"cat\":\"catalog\",\"LAB_L\":\"LAB_L_dmin\",\"LAB_A\":\"LAB_A_dmin\",\"LAB_B\":\"LAB_B_dmin\"},inplace=True)\n",
    "dmax.rename(columns={\"cat\":\"catalog\",\"LAB_L\":\"LAB_L_dmax\",\"LAB_A\":\"LAB_A_dmax\",\"LAB_B\":\"LAB_B_dmax\"},inplace=True)\n",
    "dmin = dmin[['catalog','LAB_L_dmin','LAB_A_dmin','LAB_B_dmin']]\n",
    "dmax = dmax[['catalog','LAB_L_dmax','LAB_A_dmax','LAB_B_dmax']]"
   ]
  },
  {
   "cell_type": "code",
   "execution_count": 5,
   "id": "aebc0bae",
   "metadata": {},
   "outputs": [],
   "source": [
    "rf = rf.set_index(\"catalog\")\n",
    "tf = tf.set_index(\"catalog\")\n",
    "gf = gf.set_index(\"catalog\")\n",
    "dmin = dmin.set_index(\"catalog\")\n",
    "dmax = dmax.set_index(\"catalog\")"
   ]
  },
  {
   "cell_type": "code",
   "execution_count": 6,
   "id": "7e0bfe97",
   "metadata": {},
   "outputs": [],
   "source": [
    "df = rf.join(tf,how='outer').join(gf,how='outer').join(dmin,how='outer').join(dmax,how='outer').reset_index()"
   ]
  },
  {
   "cell_type": "code",
   "execution_count": 7,
   "id": "74c8dee3",
   "metadata": {},
   "outputs": [],
   "source": [
    "X = df[['thickness','roughness','g60','LAB_B_dmin']]"
   ]
  },
  {
   "cell_type": "code",
   "execution_count": 8,
   "id": "b5555155",
   "metadata": {},
   "outputs": [],
   "source": [
    "droplist = []\n",
    "for i in X.index:\n",
    "    pctnulls = np.mean(X.loc[i].notnull())\n",
    "    if pctnulls <= 0.5:\n",
    "        droplist.append(i)"
   ]
  },
  {
   "cell_type": "code",
   "execution_count": 9,
   "id": "58285f95",
   "metadata": {},
   "outputs": [],
   "source": [
    "df = df.drop(droplist)"
   ]
  },
  {
   "cell_type": "code",
   "execution_count": 10,
   "id": "fe20a7aa",
   "metadata": {},
   "outputs": [
    {
     "name": "stdout",
     "output_type": "stream",
     "text": [
      "5624 562\n"
     ]
    }
   ],
   "source": [
    "print(len(df),len(droplist))"
   ]
  },
  {
   "cell_type": "code",
   "execution_count": 11,
   "id": "236ccf90",
   "metadata": {},
   "outputs": [],
   "source": [
    "df.to_csv('radar.csv',index=False)"
   ]
  },
  {
   "cell_type": "code",
   "execution_count": null,
   "id": "4f75fdac",
   "metadata": {},
   "outputs": [],
   "source": []
  }
 ],
 "metadata": {
  "kernelspec": {
   "display_name": "Python 3 (ipykernel)",
   "language": "python",
   "name": "python3"
  },
  "language_info": {
   "codemirror_mode": {
    "name": "ipython",
    "version": 3
   },
   "file_extension": ".py",
   "mimetype": "text/x-python",
   "name": "python",
   "nbconvert_exporter": "python",
   "pygments_lexer": "ipython3",
   "version": "3.10.4"
  }
 },
 "nbformat": 4,
 "nbformat_minor": 5
}
