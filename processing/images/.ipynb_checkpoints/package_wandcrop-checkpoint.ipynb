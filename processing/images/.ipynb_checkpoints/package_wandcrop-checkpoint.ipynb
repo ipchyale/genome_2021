{
 "cells": [
  {
   "cell_type": "code",
   "execution_count": 2,
   "id": "b4abf9ec",
   "metadata": {},
   "outputs": [],
   "source": [
    "#from wand.image import Image"
   ]
  },
  {
   "cell_type": "code",
   "execution_count": null,
   "id": "4e8ed1a8",
   "metadata": {},
   "outputs": [],
   "source": [
    "\n",
    "\n",
    "with Image(filename='0.png') as img:\n",
    "    img.trim(fuzz=0.3*img.quantum_range)\n",
    "    img.save(filename='0_wand_trim.png')"
   ]
  }
 ],
 "metadata": {
  "kernelspec": {
   "display_name": "Python 3 (ipykernel)",
   "language": "python",
   "name": "python3"
  },
  "language_info": {
   "codemirror_mode": {
    "name": "ipython",
    "version": 3
   },
   "file_extension": ".py",
   "mimetype": "text/x-python",
   "name": "python",
   "nbconvert_exporter": "python",
   "pygments_lexer": "ipython3",
   "version": "3.10.4"
  }
 },
 "nbformat": 4,
 "nbformat_minor": 5
}
