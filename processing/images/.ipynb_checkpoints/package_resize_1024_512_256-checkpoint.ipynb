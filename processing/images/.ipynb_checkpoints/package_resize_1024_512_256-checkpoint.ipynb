{
 "cells": [
  {
   "cell_type": "code",
   "execution_count": 1,
   "id": "bec7a2d8",
   "metadata": {},
   "outputs": [],
   "source": [
    "import glob,os\n",
    "import pandas as pd"
   ]
  },
  {
   "cell_type": "code",
   "execution_count": 2,
   "id": "52c30fc4",
   "metadata": {},
   "outputs": [
    {
     "name": "stdout",
     "output_type": "stream",
     "text": [
      "'requests' module not installed\n",
      "for neural feature extraction, must install 'tensorflow' module\n"
     ]
    }
   ],
   "source": [
    "import sys\n",
    "sys.path.append(\"/Users/damoncrockett/ivpy/src\")\n",
    "from ivpy import *\n",
    "from ivpy.utils import resize"
   ]
  },
  {
   "cell_type": "code",
   "execution_count": 3,
   "id": "15418ffa",
   "metadata": {},
   "outputs": [],
   "source": [
    "DIR = \"/Users/damoncrockett/genome_2021/data/images/genome_packages_2048/\"\n",
    "allfiles = glob.glob(os.path.join(DIR,\"*.jpg\"))\n",
    "df = pd.DataFrame({\"localpath\":allfiles})\n",
    "attach(df,\"localpath\")"
   ]
  },
  {
   "cell_type": "code",
   "execution_count": 4,
   "id": "0ba8bcc9",
   "metadata": {},
   "outputs": [
    {
     "name": "stderr",
     "output_type": "stream",
     "text": [
      "/Users/damoncrockett/ivpy/src/ivpy/utils.py:38: FutureWarning: The default dtype for empty Series will be 'object' instead of 'float64' in a future version. Specify a dtype explicitly to silence this warning.\n",
      "  pathcol_resized = pd.Series(index=pathcol.index)\n"
     ]
    }
   ],
   "source": [
    "SAVEDIR = \"/Users/damoncrockett/genome_2021/data/images/genome_packages_1024/\"\n",
    "df['localpath_1024'] = resize(savedir=SAVEDIR,thumb=1024)"
   ]
  },
  {
   "cell_type": "code",
   "execution_count": 5,
   "id": "1e0f9848",
   "metadata": {},
   "outputs": [
    {
     "name": "stderr",
     "output_type": "stream",
     "text": [
      "/Users/damoncrockett/ivpy/src/ivpy/utils.py:38: FutureWarning: The default dtype for empty Series will be 'object' instead of 'float64' in a future version. Specify a dtype explicitly to silence this warning.\n",
      "  pathcol_resized = pd.Series(index=pathcol.index)\n"
     ]
    }
   ],
   "source": [
    "attach(df,'localpath_1024')\n",
    "SAVEDIR = \"/Users/damoncrockett/genome_2021/data/images/genome_packages_512/\"\n",
    "df['localpath_512'] = resize(savedir=SAVEDIR,thumb=512)"
   ]
  },
  {
   "cell_type": "code",
   "execution_count": 6,
   "id": "f6f85453",
   "metadata": {},
   "outputs": [
    {
     "name": "stderr",
     "output_type": "stream",
     "text": [
      "/Users/damoncrockett/ivpy/src/ivpy/utils.py:38: FutureWarning: The default dtype for empty Series will be 'object' instead of 'float64' in a future version. Specify a dtype explicitly to silence this warning.\n",
      "  pathcol_resized = pd.Series(index=pathcol.index)\n"
     ]
    }
   ],
   "source": [
    "attach(df,'localpath_512')\n",
    "SAVEDIR = \"/Users/damoncrockett/genome_2021/data/images/genome_packages_256/\"\n",
    "df['localpath_256'] = resize(savedir=SAVEDIR,thumb=256)"
   ]
  }
 ],
 "metadata": {
  "kernelspec": {
   "display_name": "Python 3 (ipykernel)",
   "language": "python",
   "name": "python3"
  },
  "language_info": {
   "codemirror_mode": {
    "name": "ipython",
    "version": 3
   },
   "file_extension": ".py",
   "mimetype": "text/x-python",
   "name": "python",
   "nbconvert_exporter": "python",
   "pygments_lexer": "ipython3",
   "version": "3.10.4"
  }
 },
 "nbformat": 4,
 "nbformat_minor": 5
}
