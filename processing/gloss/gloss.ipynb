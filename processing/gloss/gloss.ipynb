{
 "cells": [
  {
   "cell_type": "code",
   "execution_count": 10,
   "id": "66da6b88",
   "metadata": {},
   "outputs": [],
   "source": [
    "import pandas as pd\n",
    "import os,glob\n",
    "import numpy as np\n",
    "import warnings\n",
    "warnings.filterwarnings(\"ignore\")"
   ]
  },
  {
   "cell_type": "code",
   "execution_count": 11,
   "id": "d584f4b9",
   "metadata": {},
   "outputs": [],
   "source": [
    "DIR = os.path.expanduser(\"~\") + \"/Dropbox/lml/genome_2021/\""
   ]
  },
  {
   "cell_type": "code",
   "execution_count": 12,
   "id": "c9ae7f90",
   "metadata": {},
   "outputs": [],
   "source": [
    "allexcel = glob.glob(os.path.join(DIR,\"*.xlsx\"))"
   ]
  },
  {
   "cell_type": "code",
   "execution_count": 13,
   "id": "323a0fec",
   "metadata": {},
   "outputs": [],
   "source": [
    "gfiles = [item for item in allexcel if 'glos' in item]"
   ]
  },
  {
   "cell_type": "code",
   "execution_count": 77,
   "id": "ec6be887",
   "metadata": {},
   "outputs": [],
   "source": [
    "def getgloss(f):\n",
    "    df = pd.read_excel(f)\n",
    "    firstcol = df.iloc[:,0]\n",
    "    for i in firstcol.index:\n",
    "        val = firstcol.loc[i]\n",
    "        if '_' in val:\n",
    "            idx = i\n",
    "            break\n",
    "    \n",
    "    df = df.loc[i:]\n",
    "    df = df.reset_index(drop=True)\n",
    "    ncols = len(df.columns)\n",
    "    newcols = ['c' + str(i) for i in range(ncols)]\n",
    "    df.columns = newcols\n",
    "    \n",
    "    firstrow = df.loc[0]\n",
    "    gcols = ['c0']\n",
    "    for c in firstrow.index[1:]:\n",
    "        val = firstrow.loc[c]\n",
    "        try:\n",
    "            int(val)\n",
    "            gcols.append(c)\n",
    "        except:\n",
    "            pass\n",
    "    \n",
    "    df = df.loc[:,gcols]\n",
    "    \n",
    "    try:\n",
    "        df.columns = ['idx','g20','g60','g85']\n",
    "        return df\n",
    "    except:\n",
    "        print(f)"
   ]
  },
  {
   "cell_type": "code",
   "execution_count": 78,
   "id": "de07b2f3",
   "metadata": {
    "scrolled": false
   },
   "outputs": [
    {
     "name": "stdout",
     "output_type": "stream",
     "text": [
      "/Users/damoncrockett/Dropbox/lml/genome_2021/gloss_dc_binder4_4.xlsx\n"
     ]
    }
   ],
   "source": [
    "for i,gfile in enumerate(gfiles):\n",
    "    tmp = getgloss(gfile)\n",
    "    if i==0:\n",
    "        glossf = tmp\n",
    "    else:\n",
    "        glossf = glossf.append(tmp)"
   ]
  },
  {
   "cell_type": "markdown",
   "id": "e08cc6d0",
   "metadata": {},
   "source": [
    "# Binder 4_4"
   ]
  },
  {
   "cell_type": "code",
   "execution_count": 80,
   "id": "d812ec76",
   "metadata": {},
   "outputs": [],
   "source": [
    "df = pd.read_excel(\"/Users/damoncrockett/Dropbox/lml/genome_2021/gloss_dc_binder4_4.xlsx\")"
   ]
  },
  {
   "cell_type": "code",
   "execution_count": 86,
   "id": "82c57776",
   "metadata": {},
   "outputs": [],
   "source": [
    "df = df.loc[14:]"
   ]
  },
  {
   "cell_type": "code",
   "execution_count": 88,
   "id": "3266e821",
   "metadata": {},
   "outputs": [],
   "source": [
    "df.columns = ['idx','t','emp','g20','g60','g85']"
   ]
  },
  {
   "cell_type": "code",
   "execution_count": 90,
   "id": "8c8c1ce4",
   "metadata": {},
   "outputs": [],
   "source": [
    "df = df[['idx','g20','g60','g85']]"
   ]
  },
  {
   "cell_type": "code",
   "execution_count": 93,
   "id": "33fbe6ea",
   "metadata": {},
   "outputs": [],
   "source": [
    "df = pd.concat([glossf,df])"
   ]
  },
  {
   "cell_type": "markdown",
   "id": "1a913f55",
   "metadata": {},
   "source": [
    "# Resume"
   ]
  },
  {
   "cell_type": "code",
   "execution_count": 95,
   "id": "b5368df0",
   "metadata": {},
   "outputs": [],
   "source": [
    "import numpy as np"
   ]
  },
  {
   "cell_type": "code",
   "execution_count": 110,
   "id": "5588b2f2",
   "metadata": {},
   "outputs": [],
   "source": [
    "#[int(item.split(\"_\")[0][0]) for item in df.idx]"
   ]
  },
  {
   "cell_type": "code",
   "execution_count": 112,
   "id": "93337673",
   "metadata": {},
   "outputs": [],
   "source": [
    "df['catalog'] = [item.split(\"_\")[0] for item in df.idx]"
   ]
  },
  {
   "cell_type": "code",
   "execution_count": 114,
   "id": "faefe787",
   "metadata": {},
   "outputs": [],
   "source": [
    "df = df.reset_index(drop=True)"
   ]
  },
  {
   "cell_type": "code",
   "execution_count": 129,
   "id": "18e2fe6a",
   "metadata": {},
   "outputs": [],
   "source": [
    "manbrans = []\n",
    "badidxs = []\n",
    "for i in df.index:\n",
    "    idx = df.idx.loc[i]\n",
    "    l = idx.split(\"_\")[1:]\n",
    "    l2 = [item for item in l if len(item)==2]\n",
    "    if len(l2)==1:\n",
    "        manbrans.append(l2[0])\n",
    "    else:\n",
    "        manbrans.append(None)\n",
    "        badidxs.append(i)"
   ]
  },
  {
   "cell_type": "code",
   "execution_count": 130,
   "id": "99b234a2",
   "metadata": {},
   "outputs": [],
   "source": [
    "df['manbran'] = manbrans"
   ]
  },
  {
   "cell_type": "code",
   "execution_count": 132,
   "id": "dfd69a34",
   "metadata": {},
   "outputs": [],
   "source": [
    "tmp = df.loc[badidxs]"
   ]
  },
  {
   "cell_type": "code",
   "execution_count": 134,
   "id": "6264db0e",
   "metadata": {},
   "outputs": [],
   "source": [
    "for i in tmp.index:\n",
    "    idx = tmp.idx.loc[i]\n",
    "    if len(idx.split(\"_\"))==2:\n",
    "        badidxs.remove(i)"
   ]
  },
  {
   "cell_type": "code",
   "execution_count": 135,
   "id": "f5e5d31e",
   "metadata": {},
   "outputs": [
    {
     "data": {
      "text/html": [
       "<div>\n",
       "<style scoped>\n",
       "    .dataframe tbody tr th:only-of-type {\n",
       "        vertical-align: middle;\n",
       "    }\n",
       "\n",
       "    .dataframe tbody tr th {\n",
       "        vertical-align: top;\n",
       "    }\n",
       "\n",
       "    .dataframe thead th {\n",
       "        text-align: right;\n",
       "    }\n",
       "</style>\n",
       "<table border=\"1\" class=\"dataframe\">\n",
       "  <thead>\n",
       "    <tr style=\"text-align: right;\">\n",
       "      <th></th>\n",
       "      <th>idx</th>\n",
       "      <th>g20</th>\n",
       "      <th>g60</th>\n",
       "      <th>g85</th>\n",
       "      <th>catalog</th>\n",
       "      <th>manbran</th>\n",
       "    </tr>\n",
       "  </thead>\n",
       "  <tbody>\n",
       "    <tr>\n",
       "      <th>995</th>\n",
       "      <td>2173_d_0</td>\n",
       "      <td>8.477818</td>\n",
       "      <td>43.35873</td>\n",
       "      <td>52.00391</td>\n",
       "      <td>2173</td>\n",
       "      <td>None</td>\n",
       "    </tr>\n",
       "    <tr>\n",
       "      <th>996</th>\n",
       "      <td>2173_d_1</td>\n",
       "      <td>8.913143</td>\n",
       "      <td>44.20387</td>\n",
       "      <td>50.74854</td>\n",
       "      <td>2173</td>\n",
       "      <td>None</td>\n",
       "    </tr>\n",
       "    <tr>\n",
       "      <th>997</th>\n",
       "      <td>2173_d_2</td>\n",
       "      <td>7.674736</td>\n",
       "      <td>40.29251</td>\n",
       "      <td>47.48029</td>\n",
       "      <td>2173</td>\n",
       "      <td>None</td>\n",
       "    </tr>\n",
       "    <tr>\n",
       "      <th>12675</th>\n",
       "      <td>5515y_al_30</td>\n",
       "      <td>1.521696</td>\n",
       "      <td>7.795217</td>\n",
       "      <td>11.14185</td>\n",
       "      <td>5515y</td>\n",
       "      <td>None</td>\n",
       "    </tr>\n",
       "  </tbody>\n",
       "</table>\n",
       "</div>"
      ],
      "text/plain": [
       "               idx       g20       g60       g85 catalog manbran\n",
       "995       2173_d_0  8.477818  43.35873  52.00391    2173    None\n",
       "996       2173_d_1  8.913143  44.20387  50.74854    2173    None\n",
       "997       2173_d_2  7.674736  40.29251  47.48029    2173    None\n",
       "12675  5515y_al_30  1.521696  7.795217  11.14185   5515y    None"
      ]
     },
     "execution_count": 135,
     "metadata": {},
     "output_type": "execute_result"
    }
   ],
   "source": [
    "df.loc[badidxs]"
   ]
  },
  {
   "cell_type": "code",
   "execution_count": 138,
   "id": "69c3904d",
   "metadata": {},
   "outputs": [],
   "source": [
    "df.manbran[df.idx=='2173_d_0'] = 'd'\n",
    "df.manbran[df.idx=='2173_d_1'] = 'd'\n",
    "df.manbran[df.idx=='2173_d_2'] = 'd'\n",
    "df.manbran[df.idx=='5515y_al_30'] = 'al'"
   ]
  },
  {
   "cell_type": "code",
   "execution_count": 140,
   "id": "13809ee8",
   "metadata": {},
   "outputs": [],
   "source": [
    "df = df[['catalog','manbran','g20','g60','g85']]"
   ]
  },
  {
   "cell_type": "code",
   "execution_count": 142,
   "id": "60dbf868",
   "metadata": {},
   "outputs": [],
   "source": [
    "badcats = []\n",
    "for cat in df.catalog.unique():\n",
    "    tmp = df[df.catalog==cat]\n",
    "    if len(set(list(tmp.manbran))) > 1:\n",
    "        badcats.append(cat)"
   ]
  },
  {
   "cell_type": "code",
   "execution_count": 146,
   "id": "04a6e6ef",
   "metadata": {},
   "outputs": [],
   "source": [
    "df = df[~df.catalog.isin(badcats)]"
   ]
  },
  {
   "cell_type": "code",
   "execution_count": 148,
   "id": "6ffc9930",
   "metadata": {},
   "outputs": [
    {
     "name": "stdout",
     "output_type": "stream",
     "text": [
      "12.544558096385645 5.419130990805651 6.62515673626715\n"
     ]
    }
   ],
   "source": [
    "var20 = []\n",
    "var60 = []\n",
    "var85 = []\n",
    "for cat in df.catalog.unique():\n",
    "    tmp = df[df.catalog==cat]\n",
    "    var20.append(np.var(tmp.g20))\n",
    "    var60.append(np.var(tmp.g60))\n",
    "    var85.append(np.var(tmp.g85))\n",
    "    \n",
    "print(np.mean(var20),np.mean(var60),np.mean(var85))"
   ]
  },
  {
   "cell_type": "code",
   "execution_count": 150,
   "id": "67de6768",
   "metadata": {},
   "outputs": [],
   "source": [
    "df = df.reset_index(drop=True)"
   ]
  },
  {
   "cell_type": "code",
   "execution_count": 153,
   "id": "4b62904a",
   "metadata": {},
   "outputs": [],
   "source": [
    "df = df[['catalog','g60']]"
   ]
  },
  {
   "cell_type": "code",
   "execution_count": 156,
   "id": "60cd31ae",
   "metadata": {},
   "outputs": [],
   "source": [
    "df = df.groupby(\"catalog\").agg(np.median).reset_index()"
   ]
  },
  {
   "cell_type": "code",
   "execution_count": 158,
   "id": "6283ddfd",
   "metadata": {},
   "outputs": [],
   "source": [
    "df.to_csv(\"gloss.csv\",index=False)"
   ]
  },
  {
   "cell_type": "code",
   "execution_count": 159,
   "id": "6794e4d9",
   "metadata": {},
   "outputs": [],
   "source": [
    "#5789"
   ]
  },
  {
   "cell_type": "code",
   "execution_count": null,
   "id": "f78dd251",
   "metadata": {},
   "outputs": [],
   "source": []
  }
 ],
 "metadata": {
  "kernelspec": {
   "display_name": "Python 3 (ipykernel)",
   "language": "python",
   "name": "python3"
  },
  "language_info": {
   "codemirror_mode": {
    "name": "ipython",
    "version": 3
   },
   "file_extension": ".py",
   "mimetype": "text/x-python",
   "name": "python",
   "nbconvert_exporter": "python",
   "pygments_lexer": "ipython3",
   "version": "3.10.4"
  }
 },
 "nbformat": 4,
 "nbformat_minor": 5
}
