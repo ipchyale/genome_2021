{
 "cells": [
  {
   "cell_type": "code",
   "execution_count": 1,
   "id": "da5dd57e",
   "metadata": {},
   "outputs": [],
   "source": [
    "import glob,os\n",
    "import pandas as pd\n",
    "import numpy as np"
   ]
  },
  {
   "cell_type": "code",
   "execution_count": 2,
   "id": "113f780e",
   "metadata": {},
   "outputs": [],
   "source": [
    "import sys\n",
    "sys.path.append(os.path.expanduser(\"~\"))\n",
    "from ss2csv.ss2csv import file2table,cleancols"
   ]
  },
  {
   "cell_type": "code",
   "execution_count": 3,
   "id": "d60d153e",
   "metadata": {},
   "outputs": [],
   "source": [
    "GDIR = os.path.expanduser(\"~\") + \"/\" + \"Dropbox/lml/genome_2021/\""
   ]
  },
  {
   "cell_type": "code",
   "execution_count": 4,
   "id": "34c5dbcd",
   "metadata": {},
   "outputs": [],
   "source": [
    "allfiles = glob.glob(os.path.join(GDIR,\"*.txt\"))"
   ]
  },
  {
   "cell_type": "code",
   "execution_count": 5,
   "id": "b157b8fd",
   "metadata": {
    "scrolled": false
   },
   "outputs": [],
   "source": [
    "for i,allfile in enumerate(allfiles):\n",
    "    tmp = cleancols(file2table(allfile))\n",
    "\n",
    "    if i==0:\n",
    "        df = tmp\n",
    "    else:\n",
    "        df = pd.concat([df,tmp])"
   ]
  },
  {
   "cell_type": "code",
   "execution_count": 6,
   "id": "f04eb1a8",
   "metadata": {},
   "outputs": [],
   "source": [
    "df = df.reset_index(drop=True)"
   ]
  },
  {
   "cell_type": "code",
   "execution_count": 7,
   "id": "b37c3735",
   "metadata": {},
   "outputs": [],
   "source": [
    "df.to_csv('table.csv',index=False)"
   ]
  }
 ],
 "metadata": {
  "kernelspec": {
   "display_name": "Python 3 (ipykernel)",
   "language": "python",
   "name": "python3"
  },
  "language_info": {
   "codemirror_mode": {
    "name": "ipython",
    "version": 3
   },
   "file_extension": ".py",
   "mimetype": "text/x-python",
   "name": "python",
   "nbconvert_exporter": "python",
   "pygments_lexer": "ipython3",
   "version": "3.10.4"
  }
 },
 "nbformat": 4,
 "nbformat_minor": 5
}
