{
 "cells": [
  {
   "cell_type": "code",
   "execution_count": 69,
   "id": "a2d015a3",
   "metadata": {},
   "outputs": [],
   "source": [
    "import pandas as pd\n",
    "import os,glob\n",
    "import numpy as np\n",
    "import warnings\n",
    "warnings.filterwarnings(\"ignore\")"
   ]
  },
  {
   "cell_type": "code",
   "execution_count": 70,
   "id": "b40ca8f9",
   "metadata": {},
   "outputs": [],
   "source": [
    "DIR = os.path.expanduser(\"~\") + \"/Dropbox/lml/genome_2021/\""
   ]
  },
  {
   "cell_type": "code",
   "execution_count": 71,
   "id": "89efe7b7",
   "metadata": {},
   "outputs": [],
   "source": [
    "allexcel = glob.glob(os.path.join(DIR,\"*.xlsx\"))"
   ]
  },
  {
   "cell_type": "code",
   "execution_count": 72,
   "id": "55194f58",
   "metadata": {},
   "outputs": [],
   "source": [
    "allfiles = [item for item in allexcel if 'thic' in item]"
   ]
  },
  {
   "cell_type": "code",
   "execution_count": 73,
   "id": "12a4f9f5",
   "metadata": {},
   "outputs": [],
   "source": [
    "for i,f in enumerate(allfiles):\n",
    "    tmp = pd.read_excel(f)\n",
    "    if i==0:\n",
    "        df = tmp\n",
    "    else:\n",
    "        df = pd.concat([df,tmp])"
   ]
  },
  {
   "cell_type": "code",
   "execution_count": 74,
   "id": "89090262",
   "metadata": {},
   "outputs": [],
   "source": [
    "df = df.reset_index(drop=True)"
   ]
  },
  {
   "cell_type": "code",
   "execution_count": 75,
   "id": "147e1874",
   "metadata": {},
   "outputs": [],
   "source": [
    "catcols = [item for item in df.columns if 'at' in item]"
   ]
  },
  {
   "cell_type": "code",
   "execution_count": 76,
   "id": "1bd9d9a2",
   "metadata": {},
   "outputs": [
    {
     "data": {
      "text/plain": [
       "['Catalog number',\n",
       " 'Catalog No.',\n",
       " 'Catalog',\n",
       " 'Catalog no.',\n",
       " 'Catalog Number',\n",
       " 'cat',\n",
       " 'Catalog number ',\n",
       " 'Catalog No. ']"
      ]
     },
     "execution_count": 76,
     "metadata": {},
     "output_type": "execute_result"
    }
   ],
   "source": [
    "catcols"
   ]
  },
  {
   "cell_type": "code",
   "execution_count": 77,
   "id": "4abc2890",
   "metadata": {},
   "outputs": [],
   "source": [
    "df = df.fillna('')"
   ]
  },
  {
   "cell_type": "code",
   "execution_count": 78,
   "id": "a3de0e3c",
   "metadata": {},
   "outputs": [],
   "source": [
    "cats = []\n",
    "for i in df.index:\n",
    "    icats = []\n",
    "    for catcol in catcols:\n",
    "        tmp = df[catcol].loc[i]\n",
    "        if tmp!='':\n",
    "            icats.append(tmp)\n",
    "    if len(icats)==0:\n",
    "        cats.append(None)\n",
    "    elif len(icats)==1:\n",
    "        cats.append(icats[0])\n",
    "    else:\n",
    "        print(i,icats)"
   ]
  },
  {
   "cell_type": "code",
   "execution_count": 79,
   "id": "74d73b9c",
   "metadata": {},
   "outputs": [
    {
     "data": {
      "text/plain": [
       "True"
      ]
     },
     "execution_count": 79,
     "metadata": {},
     "output_type": "execute_result"
    }
   ],
   "source": [
    "len(df)==len(cats)"
   ]
  },
  {
   "cell_type": "code",
   "execution_count": 80,
   "id": "eaa9651a",
   "metadata": {},
   "outputs": [],
   "source": [
    "df['catalog'] = cats"
   ]
  },
  {
   "cell_type": "code",
   "execution_count": 81,
   "id": "88ccb879",
   "metadata": {},
   "outputs": [],
   "source": [
    "df = df[['catalog','T1','T2','T3','t11','t12','t13','t21','t22','t23','t31','t32','t33']]"
   ]
  },
  {
   "cell_type": "code",
   "execution_count": 82,
   "id": "f3b15816",
   "metadata": {},
   "outputs": [],
   "source": [
    "df = df.dropna()"
   ]
  },
  {
   "cell_type": "code",
   "execution_count": 83,
   "id": "b9979f11",
   "metadata": {},
   "outputs": [],
   "source": [
    "df = df.replace('',None)"
   ]
  },
  {
   "cell_type": "code",
   "execution_count": 84,
   "id": "fbe3092e",
   "metadata": {},
   "outputs": [],
   "source": [
    "meds = []\n",
    "for i in range(len(df)):\n",
    "    vals = list(df.iloc[i,1:])\n",
    "    vals = [item for item in vals if item is not None]\n",
    "    for item in vals:\n",
    "        try:\n",
    "            float(item)\n",
    "        except:\n",
    "            vals.remove(item)\n",
    "    if len(vals)==0:\n",
    "        meds.append(None)\n",
    "    else:\n",
    "        vals = [abs(item) for item in vals]\n",
    "        meds.append(np.median(vals))"
   ]
  },
  {
   "cell_type": "code",
   "execution_count": 85,
   "id": "4d82b946",
   "metadata": {},
   "outputs": [],
   "source": [
    "df = df[['catalog']]"
   ]
  },
  {
   "cell_type": "code",
   "execution_count": 86,
   "id": "e6c7a80c",
   "metadata": {},
   "outputs": [],
   "source": [
    "df['thickness'] = meds"
   ]
  },
  {
   "cell_type": "code",
   "execution_count": 87,
   "id": "67d41821",
   "metadata": {},
   "outputs": [],
   "source": [
    "df = df[df.thickness.notnull()]"
   ]
  },
  {
   "cell_type": "code",
   "execution_count": 88,
   "id": "823c4d28",
   "metadata": {},
   "outputs": [],
   "source": [
    "df = df.reset_index(drop=True)"
   ]
  },
  {
   "cell_type": "code",
   "execution_count": 89,
   "id": "dabb9a7a",
   "metadata": {},
   "outputs": [],
   "source": [
    "#df = df.groupby('catalog').agg(np.median).reset_index()"
   ]
  },
  {
   "cell_type": "code",
   "execution_count": 90,
   "id": "b10f1b4a",
   "metadata": {},
   "outputs": [],
   "source": [
    "#df = df.drop_duplicates(subset='catalog',keep=False)"
   ]
  },
  {
   "cell_type": "code",
   "execution_count": 91,
   "id": "5b229a85",
   "metadata": {},
   "outputs": [],
   "source": [
    "newcats = []\n",
    "for i in df.index:\n",
    "    cat = df.catalog.loc[i]\n",
    "    try:\n",
    "        tmp = str(int(cat))\n",
    "        newcats.append(tmp)\n",
    "    except:\n",
    "        newcats.append(cat)"
   ]
  },
  {
   "cell_type": "code",
   "execution_count": 92,
   "id": "78bdbb4f",
   "metadata": {},
   "outputs": [],
   "source": [
    "df['catalog'] = newcats"
   ]
  },
  {
   "cell_type": "code",
   "execution_count": 93,
   "id": "3be6a299",
   "metadata": {},
   "outputs": [],
   "source": [
    "newcats = []\n",
    "manbrans = []\n",
    "for cat in df.catalog:\n",
    "    tmp = cat.split(\"_\")\n",
    "    if len(tmp)==1:\n",
    "        newcats.append(cat)\n",
    "        manbrans.append(None)\n",
    "    else:\n",
    "        assert len(tmp)==2\n",
    "        try:\n",
    "            int(tmp[0][0])\n",
    "            newcats.append(tmp[0])\n",
    "            manbrans.append(tmp[1])\n",
    "        except:\n",
    "            try:\n",
    "                int(tmp[1][0])\n",
    "                newcats.append(tmp[1])\n",
    "                manbrans.append(tmp[0])\n",
    "            except:\n",
    "                newcats.append(None)\n",
    "                manbrans.append(None)"
   ]
  },
  {
   "cell_type": "code",
   "execution_count": 94,
   "id": "f8b4071e",
   "metadata": {},
   "outputs": [],
   "source": [
    "df['catalog'] = newcats"
   ]
  },
  {
   "cell_type": "code",
   "execution_count": 95,
   "id": "4564410b",
   "metadata": {},
   "outputs": [],
   "source": [
    "df['manbran'] = manbrans"
   ]
  },
  {
   "cell_type": "code",
   "execution_count": 96,
   "id": "81fac197",
   "metadata": {},
   "outputs": [],
   "source": [
    "cats = []\n",
    "thicks = []\n",
    "for cat in df.catalog.unique():\n",
    "    tmp = df[df.catalog==cat]\n",
    "    if len(tmp)==1:\n",
    "        cats.append(cat)\n",
    "        thicks.append(tmp.thickness.iloc[0])\n",
    "    else:\n",
    "        if len(set(list(tmp.manbran)))==1:\n",
    "            cats.append(cat)\n",
    "            thicks.append(np.median(tmp.thickness))"
   ]
  },
  {
   "cell_type": "code",
   "execution_count": 97,
   "id": "3a7a8851",
   "metadata": {},
   "outputs": [],
   "source": [
    "tf = pd.DataFrame({\"catalog\":cats,\"thickness\":thicks})"
   ]
  },
  {
   "cell_type": "code",
   "execution_count": 98,
   "id": "dc53d8db",
   "metadata": {},
   "outputs": [],
   "source": [
    "ff = pd.read_excel(\"/Users/damoncrockett/Dropbox/lml/genome_2021/_flags/IgnoreList.xlsx\")"
   ]
  },
  {
   "cell_type": "code",
   "execution_count": 99,
   "id": "0fab3302",
   "metadata": {},
   "outputs": [],
   "source": [
    "ff = ff[ff['dim'].isin(['t','a'])]"
   ]
  },
  {
   "cell_type": "code",
   "execution_count": 102,
   "id": "27759c60",
   "metadata": {},
   "outputs": [],
   "source": [
    "tf = tf[~tf.catalog.isin(ff.catalog)]"
   ]
  },
  {
   "cell_type": "code",
   "execution_count": 103,
   "id": "86f7a4ae",
   "metadata": {},
   "outputs": [],
   "source": [
    "tf.to_csv('thickness.csv',index=False)"
   ]
  }
 ],
 "metadata": {
  "kernelspec": {
   "display_name": "Python 3 (ipykernel)",
   "language": "python",
   "name": "python3"
  },
  "language_info": {
   "codemirror_mode": {
    "name": "ipython",
    "version": 3
   },
   "file_extension": ".py",
   "mimetype": "text/x-python",
   "name": "python",
   "nbconvert_exporter": "python",
   "pygments_lexer": "ipython3",
   "version": "3.10.4"
  }
 },
 "nbformat": 4,
 "nbformat_minor": 5
}
