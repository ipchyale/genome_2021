{
 "cells": [
  {
   "cell_type": "code",
   "execution_count": 189,
   "id": "7d2e2341",
   "metadata": {},
   "outputs": [],
   "source": [
    "import pandas as pd\n",
    "import os\n",
    "import numpy as np\n",
    "import warnings\n",
    "warnings.filterwarnings(\"ignore\")"
   ]
  },
  {
   "cell_type": "code",
   "execution_count": 190,
   "id": "ed10186a",
   "metadata": {},
   "outputs": [],
   "source": [
    "HOME = os.path.expanduser(\"~\") + \"/\""
   ]
  },
  {
   "cell_type": "code",
   "execution_count": 191,
   "id": "943b28f8",
   "metadata": {},
   "outputs": [],
   "source": [
    "DIR = HOME + \"Desktop/paperbase_data/preprocessed\""
   ]
  },
  {
   "cell_type": "code",
   "execution_count": 192,
   "id": "1f9044c8",
   "metadata": {},
   "outputs": [],
   "source": [
    "allfiles = glob.glob(os.path.join(DIR,\"*.jpg\"))"
   ]
  },
  {
   "cell_type": "code",
   "execution_count": 193,
   "id": "799e12c3",
   "metadata": {},
   "outputs": [],
   "source": [
    "df = pd.DataFrame({\"localpath\":allfiles})"
   ]
  },
  {
   "cell_type": "code",
   "execution_count": 194,
   "id": "4bd2d73b",
   "metadata": {},
   "outputs": [],
   "source": [
    "rf = pd.read_csv(HOME + \"Desktop/paperbase_data/genome_roughness_1365_250_201_5_subtract.csv\")"
   ]
  },
  {
   "cell_type": "code",
   "execution_count": 195,
   "id": "d80b4f7b",
   "metadata": {},
   "outputs": [],
   "source": [
    "rf['pathstring'] = [\"_\".join(item.split(\"/\"))[:-4] + \".jpg\" for item in rf.localpath]"
   ]
  },
  {
   "cell_type": "code",
   "execution_count": 196,
   "id": "d8cb243a",
   "metadata": {},
   "outputs": [],
   "source": [
    "df['pathstring'] = [os.path.basename(item) for item in df.localpath]"
   ]
  },
  {
   "cell_type": "code",
   "execution_count": 197,
   "id": "8e67947e",
   "metadata": {},
   "outputs": [],
   "source": [
    "df = df.join(rf[['pathstring','roughness']].set_index('pathstring'),\"pathstring\")"
   ]
  },
  {
   "cell_type": "code",
   "execution_count": 198,
   "id": "13eadab1",
   "metadata": {},
   "outputs": [],
   "source": [
    "#df.to_csv(\"genome_roughness_all.csv\",index=False)"
   ]
  },
  {
   "cell_type": "code",
   "execution_count": 199,
   "id": "93938d66",
   "metadata": {},
   "outputs": [
    {
     "data": {
      "text/plain": [
       "{'_Volumes_G-DRIVE Thunderbolt 3_genome_texture_LML Collection_texture'}"
      ]
     },
     "execution_count": 199,
     "metadata": {},
     "output_type": "execute_result"
    }
   ],
   "source": [
    "set([\"_\".join(item.split(\"_\")[:7]) for item in df.pathstring])"
   ]
  },
  {
   "cell_type": "code",
   "execution_count": 200,
   "id": "962f8cfd",
   "metadata": {},
   "outputs": [],
   "source": [
    "df['pathstring'] = [\"_\".join(item.split(\"_\")[7:]) for item in df.pathstring]"
   ]
  },
  {
   "cell_type": "code",
   "execution_count": 201,
   "id": "563c0d0b",
   "metadata": {},
   "outputs": [
    {
     "data": {
      "text/plain": [
       "{'.jpg'}"
      ]
     },
     "execution_count": 201,
     "metadata": {},
     "output_type": "execute_result"
    }
   ],
   "source": [
    "set([item[-4:] for item in df.pathstring])"
   ]
  },
  {
   "cell_type": "code",
   "execution_count": 202,
   "id": "d46412ca",
   "metadata": {},
   "outputs": [],
   "source": [
    "tmp = [item[:-4] for item in df.pathstring]"
   ]
  },
  {
   "cell_type": "code",
   "execution_count": 203,
   "id": "2fa8a302",
   "metadata": {},
   "outputs": [
    {
     "data": {
      "text/plain": [
       "{5, 6}"
      ]
     },
     "execution_count": 203,
     "metadata": {},
     "output_type": "execute_result"
    }
   ],
   "source": [
    "set([len(item.split(\"_\")) for item in tmp])"
   ]
  },
  {
   "cell_type": "code",
   "execution_count": 207,
   "id": "fde15789",
   "metadata": {},
   "outputs": [
    {
     "data": {
      "text/plain": [
       "['binder4_jd_4213_mt_r_2',\n",
       " 'binder4_jd_4213_mt_r_1',\n",
       " 'binder4_jd_4213_mt_r_0',\n",
       " 'binder7_jd_1844__im_2',\n",
       " 'binder7_jd_1844__im_0',\n",
       " 'binder7_jd_1844__im_1',\n",
       " 'box1.1_jd_940k_kc_c_2',\n",
       " 'box1.1_jd_904z_kv_c_1',\n",
       " 'box1.1_jd_904z_kv_c_0',\n",
       " 'binder4_jd_4213_mt_y_2',\n",
       " 'binder4_jd_4213_mt_b_2',\n",
       " 'box1.1_jd_940k_kc_c_1',\n",
       " 'binder4_jd_4213_mt_b_0',\n",
       " 'binder4_jd_4213_mt_y_0',\n",
       " 'box1.1_jd_904z_kv_c_2',\n",
       " 'binder4_jd_4213_mt_y_1',\n",
       " 'binder4_jd_4213_mt_b_1',\n",
       " 'box1.1_jd_904x_kc_c_0',\n",
       " 'box1.1_jd_904x_kc_c_1',\n",
       " 'box1.1_jd_904x_kc_c_2']"
      ]
     },
     "execution_count": 207,
     "metadata": {},
     "output_type": "execute_result"
    }
   ],
   "source": [
    "[item for item in tmp if len(item.split(\"_\"))==6]"
   ]
  },
  {
   "cell_type": "code",
   "execution_count": 208,
   "id": "ab1c58f7",
   "metadata": {},
   "outputs": [],
   "source": [
    "df['catalog'] = [item.split(\"_\")[2] for item in tmp]"
   ]
  },
  {
   "cell_type": "code",
   "execution_count": 210,
   "id": "c59eeef2",
   "metadata": {},
   "outputs": [],
   "source": [
    "badlist = ['_r_','_y_','_c_','_b_']"
   ]
  },
  {
   "cell_type": "code",
   "execution_count": 212,
   "id": "c0ca09cc",
   "metadata": {},
   "outputs": [],
   "source": [
    "for item in badlist:\n",
    "    df = df[~df.pathstring.str.contains(item)]"
   ]
  },
  {
   "cell_type": "code",
   "execution_count": 215,
   "id": "31e84187",
   "metadata": {},
   "outputs": [
    {
     "data": {
      "text/plain": [
       "5586"
      ]
     },
     "execution_count": 215,
     "metadata": {},
     "output_type": "execute_result"
    }
   ],
   "source": [
    "len(df.catalog.unique())"
   ]
  },
  {
   "cell_type": "code",
   "execution_count": 216,
   "id": "f8970a60",
   "metadata": {},
   "outputs": [],
   "source": [
    "rows = []\n",
    "for catalog in df.catalog.unique():\n",
    "    tmp = df[df.catalog==catalog]\n",
    "    median_roughness = np.median(tmp.roughness)\n",
    "    tmp['difference_from_median'] = tmp.roughness.apply(lambda x: abs(median_roughness - x))\n",
    "    tmp = tmp[tmp.difference_from_median == tmp.difference_from_median.min()].iloc[0]\n",
    "    rows.append(tmp)"
   ]
  },
  {
   "cell_type": "code",
   "execution_count": 217,
   "id": "49e430c4",
   "metadata": {},
   "outputs": [],
   "source": [
    "df = pd.DataFrame(rows)"
   ]
  },
  {
   "cell_type": "code",
   "execution_count": 218,
   "id": "88662f09",
   "metadata": {},
   "outputs": [
    {
     "data": {
      "text/plain": [
       "2378     1\n",
       "4913d    1\n",
       "1684     1\n",
       "2211h    1\n",
       "5515v    1\n",
       "Name: catalog, dtype: int64"
      ]
     },
     "execution_count": 218,
     "metadata": {},
     "output_type": "execute_result"
    }
   ],
   "source": [
    "df.catalog.value_counts().head()"
   ]
  },
  {
   "cell_type": "code",
   "execution_count": 220,
   "id": "3c6b53ef",
   "metadata": {},
   "outputs": [],
   "source": [
    "try:\n",
    "    os.mkdir(\"texture\")\n",
    "except:\n",
    "    pass"
   ]
  },
  {
   "cell_type": "code",
   "execution_count": 221,
   "id": "d29ec568",
   "metadata": {},
   "outputs": [],
   "source": [
    "import shutil"
   ]
  },
  {
   "cell_type": "code",
   "execution_count": 222,
   "id": "fe13f9bc",
   "metadata": {},
   "outputs": [],
   "source": [
    "for i in df.index:\n",
    "    catalog = df.catalog.loc[i]\n",
    "    localpath = df.localpath.loc[i]\n",
    "    savestring = \"texture/\" + catalog + \".jpg\"\n",
    "    shutil.copy(localpath,savestring)"
   ]
  },
  {
   "cell_type": "code",
   "execution_count": 225,
   "id": "7ef13831",
   "metadata": {},
   "outputs": [],
   "source": [
    "df = df[['catalog','roughness']]"
   ]
  },
  {
   "cell_type": "code",
   "execution_count": 227,
   "id": "6a31c6eb",
   "metadata": {},
   "outputs": [],
   "source": [
    "df.to_csv(\"texture.csv\",index=False)"
   ]
  },
  {
   "cell_type": "code",
   "execution_count": null,
   "id": "37687125",
   "metadata": {},
   "outputs": [],
   "source": []
  }
 ],
 "metadata": {
  "kernelspec": {
   "display_name": "Python 3 (ipykernel)",
   "language": "python",
   "name": "python3"
  },
  "language_info": {
   "codemirror_mode": {
    "name": "ipython",
    "version": 3
   },
   "file_extension": ".py",
   "mimetype": "text/x-python",
   "name": "python",
   "nbconvert_exporter": "python",
   "pygments_lexer": "ipython3",
   "version": "3.10.4"
  }
 },
 "nbformat": 4,
 "nbformat_minor": 5
}
