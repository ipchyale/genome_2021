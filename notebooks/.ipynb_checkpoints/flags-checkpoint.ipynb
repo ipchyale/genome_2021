{
 "cells": [
  {
   "cell_type": "code",
   "execution_count": 1,
   "metadata": {},
   "outputs": [],
   "source": [
    "import os\n",
    "import pandas as pd"
   ]
  },
  {
   "cell_type": "code",
   "execution_count": 2,
   "metadata": {},
   "outputs": [],
   "source": [
    "FLAGDIR = os.path.expanduser(\"~\") + \"/Dropbox/lml/genome_2021/\" + \"_flags/\""
   ]
  },
  {
   "cell_type": "markdown",
   "metadata": {},
   "source": [
    "Important to distinguish now between flags that recommend elimination, and flags that don't. I think before, I was eliminating lots of item simply because someone made a note. But I think in general, if an item couldn't be measured, it simply wasn't measured. There are a few cases of color measurements we might want to eliminate, but I'll have to go through the flag files and make a \"drop\" column."
   ]
  },
  {
   "cell_type": "code",
   "execution_count": null,
   "metadata": {},
   "outputs": [],
   "source": [
    "dc = pd.read_excel(FLAGDIR+\"binder_flags_Crockett.xlsx\")\n",
    "dc.catalog = dc.catalog.apply(str)"
   ]
  },
  {
   "cell_type": "code",
   "execution_count": null,
   "metadata": {},
   "outputs": [],
   "source": [
    "jd = pd.read_excel(FLAGDIR+\"20211221 Issues and Notes.xlsx\")\n",
    "jd = jd.iloc[:,:3]\n",
    "jd.rename(columns={\"Sample:\":\"catalog\"},inplace=True)\n",
    "jd.catalog = jd.catalog.apply(str)"
   ]
  },
  {
   "cell_type": "code",
   "execution_count": null,
   "metadata": {},
   "outputs": [],
   "source": [
    "ac = pd.read_excel(FLAGDIR+\"Darkroom papers (to be processed).xlsx\")\n",
    "ac.rename(columns={\"Cat no. \":\"catalog\"},inplace=True)\n",
    "ac.catalog = ac.catalog.apply(str)"
   ]
  },
  {
   "cell_type": "code",
   "execution_count": 3,
   "metadata": {},
   "outputs": [],
   "source": [
    "kappyfile = os.path.expanduser(\"~\") + \"/Dropbox/lml/genome_2021/_SampleBooks/ColorMeasuerementIssues_SampleBooks.xlsx\"\n",
    "km = pd.read_excel(kappyfile)\n",
    "km.rename(columns={\"Cat #:\":\"catalog\"},inplace=True)"
   ]
  },
  {
   "cell_type": "code",
   "execution_count": null,
   "metadata": {},
   "outputs": [],
   "source": [
    "flagcats = list( set(dc.catalog) | set(jd.catalog) | set(ac.catalog) | set(km.catalog) )"
   ]
  },
  {
   "cell_type": "code",
   "execution_count": null,
   "metadata": {},
   "outputs": [],
   "source": []
  }
 ],
 "metadata": {
  "kernelspec": {
   "display_name": "Python 3 (ipykernel)",
   "language": "python",
   "name": "python3"
  },
  "language_info": {
   "codemirror_mode": {
    "name": "ipython",
    "version": 3
   },
   "file_extension": ".py",
   "mimetype": "text/x-python",
   "name": "python",
   "nbconvert_exporter": "python",
   "pygments_lexer": "ipython3",
   "version": "3.10.4"
  }
 },
 "nbformat": 4,
 "nbformat_minor": 2
}
