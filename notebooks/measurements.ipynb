{
 "cells": [
  {
   "cell_type": "code",
   "execution_count": 1,
   "metadata": {},
   "outputs": [],
   "source": [
    "import os\n",
    "import pandas as pd\n",
    "import numpy as np"
   ]
  },
  {
   "cell_type": "code",
   "execution_count": 2,
   "metadata": {},
   "outputs": [],
   "source": [
    "HOMEDIR = os.path.expanduser(\"~\") + \"/\""
   ]
  },
  {
   "cell_type": "code",
   "execution_count": 3,
   "metadata": {},
   "outputs": [],
   "source": [
    "DIR = HOMEDIR + \"Dropbox/lml/genome_2021/\""
   ]
  },
  {
   "cell_type": "code",
   "execution_count": 4,
   "metadata": {},
   "outputs": [],
   "source": [
    "df = pd.read_csv(HOMEDIR + \"Dropbox/lml/export_01_19_22.csv\",encoding='latin1')"
   ]
  },
  {
   "cell_type": "code",
   "execution_count": 5,
   "metadata": {},
   "outputs": [],
   "source": [
    "df['Secondary Catalog Number'] = df['Secondary Catalog Number'].fillna('').apply(str)"
   ]
  },
  {
   "cell_type": "code",
   "execution_count": 6,
   "metadata": {},
   "outputs": [],
   "source": [
    "df['Catalog Number'] = df['Catalog Number'].fillna('').apply(str)"
   ]
  },
  {
   "cell_type": "code",
   "execution_count": 7,
   "metadata": {},
   "outputs": [],
   "source": [
    "df['catalog'] = df['Catalog Number'] + df['Secondary Catalog Number']"
   ]
  },
  {
   "cell_type": "code",
   "execution_count": 8,
   "metadata": {
    "scrolled": true
   },
   "outputs": [],
   "source": [
    "cols = ['catalog',\n",
    "    'Sampled','Scanned','Copies','Format','T1','T2','T3','T4','T5','Year','Manufacturer','Brand','gloss',\n",
    "    'Thickness?','Gloss?','Texture?','Color?','L*-recto','a*-recto','b*-recto','R-recto','G-recto','B-recto',\n",
    "    'L*-verso','a*-verso','b*-verso','R-verso','G-verso','B-verso'\n",
    "]"
   ]
  },
  {
   "cell_type": "code",
   "execution_count": 9,
   "metadata": {},
   "outputs": [],
   "source": [
    "df = df[cols]"
   ]
  },
  {
   "cell_type": "markdown",
   "metadata": {},
   "source": [
    "# Gloss"
   ]
  },
  {
   "cell_type": "markdown",
   "metadata": {},
   "source": [
    "Legacy gloss measurements exist in two files, both now located in Dropbox folder \"lml/genome_legacy/\"."
   ]
  },
  {
   "cell_type": "code",
   "execution_count": 10,
   "metadata": {},
   "outputs": [],
   "source": [
    "gg = pd.read_excel(HOMEDIR + \"Dropbox/lml/genome_legacy/Gloss Spreadsheet.xls\", sheet_name=\"Sheet 2\")"
   ]
  },
  {
   "cell_type": "code",
   "execution_count": 11,
   "metadata": {},
   "outputs": [],
   "source": [
    "genevieve_idxs = list(gg[\" .1\"][2:].unique())"
   ]
  },
  {
   "cell_type": "code",
   "execution_count": 12,
   "metadata": {},
   "outputs": [],
   "source": [
    "pg = pd.read_excel(HOMEDIR + \"Dropbox/lml/genome_legacy/gloss.xlsx\", sheet_name=\"raw data\")"
   ]
  },
  {
   "cell_type": "code",
   "execution_count": 13,
   "metadata": {},
   "outputs": [],
   "source": [
    "paul_idx_strings = pg[' '][2:]"
   ]
  },
  {
   "cell_type": "code",
   "execution_count": 14,
   "metadata": {},
   "outputs": [],
   "source": [
    "paul_idxs = list(pd.Series([item.split('_')[0] for item in paul_idx_strings]).unique())"
   ]
  },
  {
   "cell_type": "code",
   "execution_count": 15,
   "metadata": {},
   "outputs": [],
   "source": [
    "database_has_gloss = df[['catalog','gloss']][df['Gloss?']==-1]"
   ]
  },
  {
   "cell_type": "code",
   "execution_count": 16,
   "metadata": {},
   "outputs": [
    {
     "data": {
      "text/plain": [
       "-0.6960830580462483"
      ]
     },
     "execution_count": 16,
     "metadata": {},
     "output_type": "execute_result"
    }
   ],
   "source": [
    "np.mean(df['Gloss?'][df.gloss.notnull()])"
   ]
  },
  {
   "cell_type": "code",
   "execution_count": 17,
   "metadata": {},
   "outputs": [
    {
     "data": {
      "text/plain": [
       "-0.01517874975034951"
      ]
     },
     "execution_count": 17,
     "metadata": {},
     "output_type": "execute_result"
    }
   ],
   "source": [
    "np.mean(df['Gloss?'][df.gloss.isnull()])"
   ]
  },
  {
   "cell_type": "code",
   "execution_count": 18,
   "metadata": {},
   "outputs": [
    {
     "name": "stdout",
     "output_type": "stream",
     "text": [
      "<class 'pandas.core.frame.DataFrame'>\n",
      "Int64Index: 1551 entries, 2 to 6832\n",
      "Data columns (total 2 columns):\n",
      " #   Column   Non-Null Count  Dtype  \n",
      "---  ------   --------------  -----  \n",
      " 0   catalog  1551 non-null   object \n",
      " 1   gloss    1475 non-null   float64\n",
      "dtypes: float64(1), object(1)\n",
      "memory usage: 36.4+ KB\n"
     ]
    }
   ],
   "source": [
    "database_has_gloss.info()"
   ]
  },
  {
   "cell_type": "markdown",
   "metadata": {},
   "source": [
    "Ok so the \"Gloss?\" column does not even follow the database's own entries for gloss. I don't know where this came from, but clearly it cannot be trusted."
   ]
  },
  {
   "cell_type": "code",
   "execution_count": 19,
   "metadata": {},
   "outputs": [],
   "source": [
    "genevieve_idxs = [str(item) for item in genevieve_idxs]"
   ]
  },
  {
   "cell_type": "code",
   "execution_count": 20,
   "metadata": {},
   "outputs": [
    {
     "data": {
      "text/plain": [
       "set()"
      ]
     },
     "execution_count": 20,
     "metadata": {},
     "output_type": "execute_result"
    }
   ],
   "source": [
    "set(database_has_gloss.catalog).intersection(set(genevieve_idxs))"
   ]
  },
  {
   "cell_type": "markdown",
   "metadata": {},
   "source": [
    "So, none of the \"has gloss\" comes from Genevieve's measurements."
   ]
  },
  {
   "cell_type": "code",
   "execution_count": 21,
   "metadata": {},
   "outputs": [
    {
     "data": {
      "text/plain": [
       "0.8517085751128304"
      ]
     },
     "execution_count": 21,
     "metadata": {},
     "output_type": "execute_result"
    }
   ],
   "source": [
    "len(set(database_has_gloss.catalog).intersection(set(paul_idxs))) / len(database_has_gloss)"
   ]
  },
  {
   "cell_type": "markdown",
   "metadata": {},
   "source": [
    "85% of the \"has gloss\" appears to come from Paul's measurements."
   ]
  },
  {
   "cell_type": "code",
   "execution_count": 22,
   "metadata": {},
   "outputs": [
    {
     "data": {
      "text/plain": [
       "0.8252740167633784"
      ]
     },
     "execution_count": 22,
     "metadata": {},
     "output_type": "execute_result"
    }
   ],
   "source": [
    "len(set(df.catalog[df.gloss.notnull()]).intersection(set(paul_idxs))) / len(database_has_gloss)"
   ]
  },
  {
   "cell_type": "markdown",
   "metadata": {},
   "source": [
    "This number goes down slightly if we just look at actual non-null gloss entries in the database."
   ]
  },
  {
   "cell_type": "code",
   "execution_count": 23,
   "metadata": {},
   "outputs": [
    {
     "data": {
      "text/plain": [
       "114"
      ]
     },
     "execution_count": 23,
     "metadata": {},
     "output_type": "execute_result"
    }
   ],
   "source": [
    "# cats in paul_idxs that aren't in the catalog at all\n",
    "\n",
    "whole_collection_residue = set(paul_idxs) - set(df.catalog)\n",
    "len(whole_collection_residue)"
   ]
  },
  {
   "cell_type": "code",
   "execution_count": 31,
   "metadata": {},
   "outputs": [
    {
     "data": {
      "text/plain": [
       "{'1006i',\n",
       " '1024i',\n",
       " '17j',\n",
       " '17l',\n",
       " '1942l',\n",
       " '2082j',\n",
       " '2084cc',\n",
       " '2210j',\n",
       " '23i',\n",
       " '293a',\n",
       " '293b',\n",
       " '293c',\n",
       " '293d',\n",
       " '293e',\n",
       " '293f',\n",
       " '293g',\n",
       " '293h',\n",
       " '293i',\n",
       " '293j',\n",
       " '293k',\n",
       " '293l',\n",
       " '293m',\n",
       " '293n',\n",
       " '293o',\n",
       " '293p',\n",
       " '293q',\n",
       " '293r',\n",
       " '293s',\n",
       " '293t',\n",
       " '293u',\n",
       " '293v',\n",
       " '293w',\n",
       " '293x',\n",
       " '2968aa',\n",
       " '2968b',\n",
       " '2968bb',\n",
       " '2968c',\n",
       " '2968cc',\n",
       " '2968d',\n",
       " '2968dd',\n",
       " '2968e',\n",
       " '2968ee',\n",
       " '2968f',\n",
       " '2968ff',\n",
       " '2968g',\n",
       " '2968gg',\n",
       " '2968h',\n",
       " '2968hh',\n",
       " '2968i',\n",
       " '2968ii',\n",
       " '2968j',\n",
       " '2968jj',\n",
       " '2968k',\n",
       " '2968kk',\n",
       " '2968l',\n",
       " '2968ll',\n",
       " '2968m',\n",
       " '2968mm',\n",
       " '2968n',\n",
       " '2968nn',\n",
       " '2968o',\n",
       " '2968oo',\n",
       " '2968p',\n",
       " '2968pp',\n",
       " '2968q',\n",
       " '2968qq',\n",
       " '2968r',\n",
       " '2968rr',\n",
       " '2968s',\n",
       " '2968ss',\n",
       " '2968t',\n",
       " '2968tt',\n",
       " '2968u',\n",
       " '2968uu',\n",
       " '2968v',\n",
       " '2968vv',\n",
       " '2968w',\n",
       " '2968ww',\n",
       " '2968x',\n",
       " '2968xx',\n",
       " '2968y',\n",
       " '2968z',\n",
       " '302a ',\n",
       " '302b ',\n",
       " '302c ',\n",
       " '302d ',\n",
       " '302e ',\n",
       " '302g ',\n",
       " '302h ',\n",
       " '302i ',\n",
       " '302j ',\n",
       " '3198rr',\n",
       " '3199ss',\n",
       " '4781m',\n",
       " '47i',\n",
       " '47l',\n",
       " '47m',\n",
       " '47n',\n",
       " '47o',\n",
       " '47p',\n",
       " '47q',\n",
       " '47r',\n",
       " '47s',\n",
       " '5165aa ',\n",
       " '5165bb ',\n",
       " '5165cc ',\n",
       " '5165dd ',\n",
       " '5166aa ',\n",
       " '875i',\n",
       " '877t',\n",
       " '898i',\n",
       " '901w',\n",
       " '903j',\n",
       " '904i'}"
      ]
     },
     "execution_count": 31,
     "metadata": {},
     "output_type": "execute_result"
    }
   ],
   "source": [
    "whole_collection_residue"
   ]
  },
  {
   "cell_type": "markdown",
   "metadata": {},
   "source": [
    "Puzzlingly, \"paul_idxs\" contains a number of catalog numbers that don't exist in the catalog at all."
   ]
  },
  {
   "cell_type": "code",
   "execution_count": 24,
   "metadata": {
    "scrolled": false
   },
   "outputs": [
    {
     "name": "stdout",
     "output_type": "stream",
     "text": [
      "1551 1550 278\n"
     ]
    }
   ],
   "source": [
    "print(len(database_has_gloss),len(paul_idxs),len(genevieve_idxs))"
   ]
  },
  {
   "cell_type": "code",
   "execution_count": 25,
   "metadata": {},
   "outputs": [
    {
     "data": {
      "text/plain": [
       "set()"
      ]
     },
     "execution_count": 25,
     "metadata": {},
     "output_type": "execute_result"
    }
   ],
   "source": [
    "set(genevieve_idxs) - set(df.catalog)"
   ]
  },
  {
   "cell_type": "markdown",
   "metadata": {},
   "source": [
    "All of Genevieve's measurements are actual catalog numbers, so that's good."
   ]
  },
  {
   "cell_type": "code",
   "execution_count": 26,
   "metadata": {},
   "outputs": [
    {
     "data": {
      "text/plain": [
       "Not exposed - package open      337\n",
       "Not exposed - package sealed    109\n",
       "Name: Format, dtype: int64"
      ]
     },
     "execution_count": 26,
     "metadata": {},
     "output_type": "execute_result"
    }
   ],
   "source": [
    "df.Format[df.catalog.isin(genevieve_idxs)].value_counts()"
   ]
  },
  {
   "cell_type": "code",
   "execution_count": 27,
   "metadata": {},
   "outputs": [
    {
     "data": {
      "text/plain": [
       "-1    413\n",
       " 0     33\n",
       "Name: Sampled, dtype: int64"
      ]
     },
     "execution_count": 27,
     "metadata": {},
     "output_type": "execute_result"
    }
   ],
   "source": [
    "df.Sampled[df.catalog.isin(genevieve_idxs)].value_counts()"
   ]
  },
  {
   "cell_type": "markdown",
   "metadata": {},
   "source": [
    "So all of Genevieve's measurements were of binder papers, and weirdly, some haven't been sampled, according to the database."
   ]
  },
  {
   "cell_type": "code",
   "execution_count": 28,
   "metadata": {},
   "outputs": [
    {
     "data": {
      "text/plain": [
       "Sample book    1615\n",
       "Name: Format, dtype: int64"
      ]
     },
     "execution_count": 28,
     "metadata": {},
     "output_type": "execute_result"
    }
   ],
   "source": [
    "df.Format[df.catalog.isin(paul_idxs)].value_counts()"
   ]
  },
  {
   "cell_type": "markdown",
   "metadata": {},
   "source": [
    "All of Paul's were from sample books."
   ]
  },
  {
   "cell_type": "code",
   "execution_count": 29,
   "metadata": {},
   "outputs": [
    {
     "data": {
      "text/plain": [
       "288b     9\n",
       "1732     9\n",
       "1881a    7\n",
       "366      7\n",
       "356      7\n",
       "1397     7\n",
       "1518     7\n",
       "141      7\n",
       "1971     7\n",
       "288c     7\n",
       "896      6\n",
       "994      6\n",
       "235      6\n",
       "292d     6\n",
       "1418     6\n",
       "2085d    6\n",
       "2085l    6\n",
       "289b     6\n",
       "1450     6\n",
       "2082n    6\n",
       "1976     6\n",
       "1882l    6\n",
       "188      6\n",
       "1026     6\n",
       "1764     6\n",
       "330      6\n",
       "1743     6\n",
       "4913g    6\n",
       "1882f    6\n",
       "1882m    6\n",
       "Name: catalog, dtype: int64"
      ]
     },
     "execution_count": 29,
     "metadata": {},
     "output_type": "execute_result"
    }
   ],
   "source": [
    "df.catalog.value_counts()[:30]"
   ]
  },
  {
   "cell_type": "markdown",
   "metadata": {},
   "source": [
    "Another puzzle: catalog numbers in the database are not unique. Some not even close. Although I think we've come across this before. I forget the explanation, and it might have something to do with certain types of tests."
   ]
  },
  {
   "cell_type": "code",
   "execution_count": 30,
   "metadata": {},
   "outputs": [
    {
     "data": {
      "text/html": [
       "<div>\n",
       "<style scoped>\n",
       "    .dataframe tbody tr th:only-of-type {\n",
       "        vertical-align: middle;\n",
       "    }\n",
       "\n",
       "    .dataframe tbody tr th {\n",
       "        vertical-align: top;\n",
       "    }\n",
       "\n",
       "    .dataframe thead th {\n",
       "        text-align: right;\n",
       "    }\n",
       "</style>\n",
       "<table border=\"1\" class=\"dataframe\">\n",
       "  <thead>\n",
       "    <tr style=\"text-align: right;\">\n",
       "      <th></th>\n",
       "      <th>Manufacturer</th>\n",
       "      <th>Brand</th>\n",
       "    </tr>\n",
       "  </thead>\n",
       "  <tbody>\n",
       "    <tr>\n",
       "      <th>597</th>\n",
       "      <td>Gevaert</td>\n",
       "      <td>Novabrom</td>\n",
       "    </tr>\n",
       "    <tr>\n",
       "      <th>598</th>\n",
       "      <td>Gevaert</td>\n",
       "      <td>Novabrom</td>\n",
       "    </tr>\n",
       "    <tr>\n",
       "      <th>599</th>\n",
       "      <td>Gevaert</td>\n",
       "      <td>Novabrom</td>\n",
       "    </tr>\n",
       "    <tr>\n",
       "      <th>600</th>\n",
       "      <td>Gevaert</td>\n",
       "      <td>Novabrom</td>\n",
       "    </tr>\n",
       "    <tr>\n",
       "      <th>601</th>\n",
       "      <td>Gevaert</td>\n",
       "      <td>Novabrom</td>\n",
       "    </tr>\n",
       "    <tr>\n",
       "      <th>602</th>\n",
       "      <td>Gevaert</td>\n",
       "      <td>Novabrom</td>\n",
       "    </tr>\n",
       "    <tr>\n",
       "      <th>603</th>\n",
       "      <td>Gevaert</td>\n",
       "      <td>Novabrom</td>\n",
       "    </tr>\n",
       "    <tr>\n",
       "      <th>604</th>\n",
       "      <td>Gevaert</td>\n",
       "      <td>Novabrom</td>\n",
       "    </tr>\n",
       "    <tr>\n",
       "      <th>605</th>\n",
       "      <td>Gevaert</td>\n",
       "      <td>Novabrom</td>\n",
       "    </tr>\n",
       "  </tbody>\n",
       "</table>\n",
       "</div>"
      ],
      "text/plain": [
       "    Manufacturer     Brand\n",
       "597      Gevaert  Novabrom\n",
       "598      Gevaert  Novabrom\n",
       "599      Gevaert  Novabrom\n",
       "600      Gevaert  Novabrom\n",
       "601      Gevaert  Novabrom\n",
       "602      Gevaert  Novabrom\n",
       "603      Gevaert  Novabrom\n",
       "604      Gevaert  Novabrom\n",
       "605      Gevaert  Novabrom"
      ]
     },
     "execution_count": 30,
     "metadata": {},
     "output_type": "execute_result"
    }
   ],
   "source": [
    "df[['Manufacturer','Brand']][df.catalog=='288b']"
   ]
  },
  {
   "cell_type": "code",
   "execution_count": null,
   "metadata": {},
   "outputs": [],
   "source": []
  }
 ],
 "metadata": {
  "kernelspec": {
   "display_name": "Python 3",
   "language": "python",
   "name": "python3"
  },
  "language_info": {
   "codemirror_mode": {
    "name": "ipython",
    "version": 3
   },
   "file_extension": ".py",
   "mimetype": "text/x-python",
   "name": "python",
   "nbconvert_exporter": "python",
   "pygments_lexer": "ipython3",
   "version": "3.6.5"
  }
 },
 "nbformat": 4,
 "nbformat_minor": 2
}
