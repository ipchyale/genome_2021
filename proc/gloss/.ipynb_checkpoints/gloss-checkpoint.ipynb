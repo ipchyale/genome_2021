{
 "cells": [
  {
   "cell_type": "code",
   "execution_count": 1,
   "id": "66da6b88",
   "metadata": {},
   "outputs": [],
   "source": [
    "import pandas as pd\n",
    "import os,glob\n",
    "import numpy as np\n",
    "import warnings\n",
    "warnings.filterwarnings(\"ignore\")\n",
    "import sys\n",
    "sys.path.append(\"/Users/damoncrockett/collproc/\")\n",
    "from raw import *\n",
    "import matplotlib.pyplot as plt"
   ]
  },
  {
   "cell_type": "code",
   "execution_count": 2,
   "id": "d584f4b9",
   "metadata": {},
   "outputs": [],
   "source": [
    "DIR = \"/Users/damoncrockett/Dropbox/lml/genome_measurements/\""
   ]
  },
  {
   "cell_type": "code",
   "execution_count": 3,
   "id": "f78dd251",
   "metadata": {},
   "outputs": [],
   "source": [
    "allgloss = dirwalk(DIR,require='los',omit=['legacy','flag','Test'])"
   ]
  },
  {
   "cell_type": "code",
   "execution_count": 4,
   "id": "522282d6",
   "metadata": {},
   "outputs": [],
   "source": [
    "df = pd.DataFrame()\n",
    "for f in allgloss:\n",
    "    tmp = fproc(f,dimension='gloss',threshold=0.5)\n",
    "    if tmp is not None:\n",
    "        df = pd.concat([df,tmp])"
   ]
  },
  {
   "cell_type": "code",
   "execution_count": 5,
   "id": "83e5a1bf",
   "metadata": {},
   "outputs": [],
   "source": [
    "df = df.drop_duplicates(subset=df.columns.difference(['gloss','fname']))"
   ]
  },
  {
   "cell_type": "code",
   "execution_count": 6,
   "id": "66a22fa4",
   "metadata": {},
   "outputs": [],
   "source": [
    "df = df.reset_index(drop=True)"
   ]
  },
  {
   "cell_type": "code",
   "execution_count": 7,
   "id": "a51f72d6",
   "metadata": {},
   "outputs": [],
   "source": [
    "df['mera'] = 'mod'"
   ]
  },
  {
   "cell_type": "code",
   "execution_count": 8,
   "id": "aec9eee1",
   "metadata": {},
   "outputs": [],
   "source": [
    "df['g60'] = df.gloss.map(lambda x: x[1])"
   ]
  },
  {
   "cell_type": "markdown",
   "id": "0f70bde7",
   "metadata": {},
   "source": [
    "# Gloss angles"
   ]
  },
  {
   "cell_type": "code",
   "execution_count": 9,
   "id": "3f57a65a",
   "metadata": {
    "scrolled": false
   },
   "outputs": [],
   "source": [
    "# plt.figure(figsize=(10, 10))\n",
    "# for gloss in df.gloss[(df.g60 > 30) & (df.g60 < 35)].sample(30):\n",
    "#     plt.plot([20,60,85],gloss,linewidth=1,color='grey')"
   ]
  },
  {
   "cell_type": "markdown",
   "id": "b13a7105",
   "metadata": {},
   "source": [
    "# Legacy"
   ]
  },
  {
   "cell_type": "code",
   "execution_count": 10,
   "id": "f0541609",
   "metadata": {},
   "outputs": [
    {
     "data": {
      "text/plain": [
       "'/Users/damoncrockett/Dropbox/lml/genome_measurements/genome_legacy/gloss.xlsx'"
      ]
     },
     "execution_count": 10,
     "metadata": {},
     "output_type": "execute_result"
    }
   ],
   "source": [
    "legacygloss = dirwalk(DIR,require=['los','egac'])\n",
    "legacygloss[0]"
   ]
  },
  {
   "cell_type": "markdown",
   "id": "946ca35b",
   "metadata": {},
   "source": [
    "We will use only this file, with measurements from 2015; Genevieve did a bunch of tests on binder papers in 2018, but none are at the 60 degree angle."
   ]
  },
  {
   "cell_type": "code",
   "execution_count": 11,
   "id": "4da800f7",
   "metadata": {},
   "outputs": [],
   "source": [
    "paul = fproc(legacygloss[0],dimension='gloss')"
   ]
  },
  {
   "cell_type": "code",
   "execution_count": 12,
   "id": "7bf4ec4c",
   "metadata": {},
   "outputs": [],
   "source": [
    "paul = paul[paul['gloss'].apply(lambda x: len(x)) != 11] # we don't have a 60 degree mean for this item"
   ]
  },
  {
   "cell_type": "code",
   "execution_count": 13,
   "id": "94fb092c",
   "metadata": {},
   "outputs": [],
   "source": [
    "# If there are 12 measurements, we want the 5th; if there are 3, we want the 2nd\n",
    "\n",
    "paul['g60'] = paul.gloss.map(lambda x: x[4] if len(x)==12 else x[2])"
   ]
  },
  {
   "cell_type": "code",
   "execution_count": 14,
   "id": "29f2eb7f",
   "metadata": {},
   "outputs": [],
   "source": [
    "paul = paul[['catalog','fname','g60']]"
   ]
  },
  {
   "cell_type": "code",
   "execution_count": 15,
   "id": "b2d26174",
   "metadata": {},
   "outputs": [],
   "source": [
    "#paul.catalog.value_counts().loc[lambda x: x > 1]"
   ]
  },
  {
   "cell_type": "markdown",
   "id": "56605111",
   "metadata": {},
   "source": [
    "# STD"
   ]
  },
  {
   "cell_type": "code",
   "execution_count": 16,
   "id": "2fb354e9",
   "metadata": {},
   "outputs": [],
   "source": [
    "allvals = list(df.g60) + list(paul.g60)"
   ]
  },
  {
   "cell_type": "code",
   "execution_count": 17,
   "id": "00c9048e",
   "metadata": {},
   "outputs": [
    {
     "data": {
      "text/plain": [
       "30.08689691795721"
      ]
     },
     "execution_count": 17,
     "metadata": {},
     "output_type": "execute_result"
    }
   ],
   "source": [
    "g60std = np.std(allvals)\n",
    "g60std"
   ]
  },
  {
   "cell_type": "markdown",
   "id": "af5ad44a",
   "metadata": {},
   "source": [
    "# Enumeration of Cases"
   ]
  },
  {
   "cell_type": "markdown",
   "id": "b1872ae4",
   "metadata": {},
   "source": [
    "This will be different from the thickness case, because here, our trials are spread across the rows, not the columns. That actually makes things more difficult, especially since the sample IDs are not 100% consistent."
   ]
  },
  {
   "cell_type": "markdown",
   "id": "32ee42e1",
   "metadata": {},
   "source": [
    "#### Catalog extract"
   ]
  },
  {
   "cell_type": "code",
   "execution_count": 18,
   "id": "cab44d72",
   "metadata": {},
   "outputs": [],
   "source": [
    "df['cat'] = df.catalog.apply(extract_catalog_number)"
   ]
  },
  {
   "cell_type": "code",
   "execution_count": 19,
   "id": "7ac279b2",
   "metadata": {},
   "outputs": [],
   "source": [
    "df['manbran'] = df.catalog.apply(extract_two_letter_code)"
   ]
  },
  {
   "cell_type": "code",
   "execution_count": 20,
   "id": "4f59d093",
   "metadata": {},
   "outputs": [],
   "source": [
    "df['mtrial'] = df.catalog.apply(extract_single_digit)"
   ]
  },
  {
   "cell_type": "markdown",
   "id": "bb02a216",
   "metadata": {},
   "source": [
    "# Mtrial corrections "
   ]
  },
  {
   "cell_type": "markdown",
   "id": "88c018ff",
   "metadata": {},
   "source": [
    "I had meant to do this later in the process, but these corrections are very few and easy to make and will make it easier to assess duplicate cases."
   ]
  },
  {
   "cell_type": "code",
   "execution_count": 21,
   "id": "aaf4a2b5",
   "metadata": {},
   "outputs": [],
   "source": [
    "df.mtrial[df.catalog=='2484_kb_'] = '0'\n",
    "df.mtrial[df.catalog=='2484_kb_001'] = '1'\n",
    "df.mtrial[df.catalog=='2484_kb_002'] = '2'"
   ]
  },
  {
   "cell_type": "code",
   "execution_count": 22,
   "id": "838607fe",
   "metadata": {},
   "outputs": [],
   "source": [
    "df.mtrial[df.catalog=='5515y_al_30'] = '3'"
   ]
  },
  {
   "cell_type": "code",
   "execution_count": 23,
   "id": "82e9a03e",
   "metadata": {},
   "outputs": [],
   "source": [
    "df = df[df.catalog!='Average']"
   ]
  },
  {
   "cell_type": "code",
   "execution_count": 24,
   "id": "9bb3babb",
   "metadata": {},
   "outputs": [],
   "source": [
    "df = df.reset_index(drop=True)"
   ]
  },
  {
   "cell_type": "markdown",
   "id": "a384777f",
   "metadata": {},
   "source": [
    "# Enumeration of Cases"
   ]
  },
  {
   "cell_type": "code",
   "execution_count": 25,
   "id": "a8f56fd1",
   "metadata": {},
   "outputs": [
    {
     "name": "stdout",
     "output_type": "stream",
     "text": [
      "2188\t2194\t2224\t86\t2498\t5150\t5149\t5154\t4945\t4231\t4949\t2063\t2293\t2155\t1856\t1993\t5036\t5155\t2073z\t2162\t5151\t"
     ]
    }
   ],
   "source": [
    "for cat in df.cat.unique():\n",
    "    tmp = df[df.cat==cat]\n",
    "    tmp.mtrial = tmp.mtrial.apply(int)\n",
    "    tmp = tmp.sort_values('mtrial')\n",
    "    \n",
    "    # if all measurements are from same file, have same manbran, and trial indices are consecutive, then ignore\n",
    "    if all([len(tmp.fname.unique())==1,len(tmp.manbran.unique())==1,is_consecutive(tmp.mtrial)]):\n",
    "        continue\n",
    "    else:\n",
    "        print(cat,end='\\t')"
   ]
  },
  {
   "cell_type": "code",
   "execution_count": 26,
   "id": "91f80738",
   "metadata": {},
   "outputs": [
    {
     "data": {
      "text/html": [
       "<div>\n",
       "<style scoped>\n",
       "    .dataframe tbody tr th:only-of-type {\n",
       "        vertical-align: middle;\n",
       "    }\n",
       "\n",
       "    .dataframe tbody tr th {\n",
       "        vertical-align: top;\n",
       "    }\n",
       "\n",
       "    .dataframe thead th {\n",
       "        text-align: right;\n",
       "    }\n",
       "</style>\n",
       "<table border=\"1\" class=\"dataframe\">\n",
       "  <thead>\n",
       "    <tr style=\"text-align: right;\">\n",
       "      <th></th>\n",
       "      <th>catalog</th>\n",
       "      <th>gloss</th>\n",
       "      <th>gloss_str</th>\n",
       "      <th>fname</th>\n",
       "      <th>mera</th>\n",
       "      <th>g60</th>\n",
       "      <th>cat</th>\n",
       "      <th>manbran</th>\n",
       "      <th>mtrial</th>\n",
       "    </tr>\n",
       "  </thead>\n",
       "  <tbody>\n",
       "    <tr>\n",
       "      <th>16908</th>\n",
       "      <td>5151_ea_0</td>\n",
       "      <td>[1.810456, 14.41048, 33.3155]</td>\n",
       "      <td>[1.810456, 14.41048, 33.3155]</td>\n",
       "      <td>gloss_dc_binder1_2.xlsx</td>\n",
       "      <td>mod</td>\n",
       "      <td>14.41048</td>\n",
       "      <td>5151</td>\n",
       "      <td>ea</td>\n",
       "      <td>0</td>\n",
       "    </tr>\n",
       "    <tr>\n",
       "      <th>16909</th>\n",
       "      <td>5151_ea_1</td>\n",
       "      <td>[1.72503, 14.9551, 31.71835]</td>\n",
       "      <td>[1.72503, 14.9551, 31.71835]</td>\n",
       "      <td>gloss_dc_binder1_2.xlsx</td>\n",
       "      <td>mod</td>\n",
       "      <td>14.95510</td>\n",
       "      <td>5151</td>\n",
       "      <td>ea</td>\n",
       "      <td>1</td>\n",
       "    </tr>\n",
       "    <tr>\n",
       "      <th>16910</th>\n",
       "      <td>5151_ea_2</td>\n",
       "      <td>[6.573687, 37.79194, 40.5625]</td>\n",
       "      <td>[6.573687, 37.79194, 40.5625]</td>\n",
       "      <td>gloss_dc_binder1_2.xlsx</td>\n",
       "      <td>mod</td>\n",
       "      <td>37.79194</td>\n",
       "      <td>5151</td>\n",
       "      <td>ea</td>\n",
       "      <td>2</td>\n",
       "    </tr>\n",
       "    <tr>\n",
       "      <th>16911</th>\n",
       "      <td>5151_fa_0</td>\n",
       "      <td>[7.588936, 41.31086, 44.73447]</td>\n",
       "      <td>[7.588936, 41.31086, 44.73447]</td>\n",
       "      <td>gloss_dc_binder1_2.xlsx</td>\n",
       "      <td>mod</td>\n",
       "      <td>41.31086</td>\n",
       "      <td>5151</td>\n",
       "      <td>fa</td>\n",
       "      <td>0</td>\n",
       "    </tr>\n",
       "    <tr>\n",
       "      <th>16912</th>\n",
       "      <td>5151_fa_1</td>\n",
       "      <td>[6.081286, 34.32474, 40.02418]</td>\n",
       "      <td>[6.081286, 34.32474, 40.02418]</td>\n",
       "      <td>gloss_dc_binder1_2.xlsx</td>\n",
       "      <td>mod</td>\n",
       "      <td>34.32474</td>\n",
       "      <td>5151</td>\n",
       "      <td>fa</td>\n",
       "      <td>1</td>\n",
       "    </tr>\n",
       "    <tr>\n",
       "      <th>16913</th>\n",
       "      <td>5151_fa_2</td>\n",
       "      <td>[6.168184, 35.18324, 41.16901]</td>\n",
       "      <td>[6.168184, 35.18324, 41.16901]</td>\n",
       "      <td>gloss_dc_binder1_2.xlsx</td>\n",
       "      <td>mod</td>\n",
       "      <td>35.18324</td>\n",
       "      <td>5151</td>\n",
       "      <td>fa</td>\n",
       "      <td>2</td>\n",
       "    </tr>\n",
       "  </tbody>\n",
       "</table>\n",
       "</div>"
      ],
      "text/plain": [
       "         catalog                           gloss  \\\n",
       "16908  5151_ea_0   [1.810456, 14.41048, 33.3155]   \n",
       "16909  5151_ea_1    [1.72503, 14.9551, 31.71835]   \n",
       "16910  5151_ea_2   [6.573687, 37.79194, 40.5625]   \n",
       "16911  5151_fa_0  [7.588936, 41.31086, 44.73447]   \n",
       "16912  5151_fa_1  [6.081286, 34.32474, 40.02418]   \n",
       "16913  5151_fa_2  [6.168184, 35.18324, 41.16901]   \n",
       "\n",
       "                            gloss_str                    fname mera       g60  \\\n",
       "16908   [1.810456, 14.41048, 33.3155]  gloss_dc_binder1_2.xlsx  mod  14.41048   \n",
       "16909    [1.72503, 14.9551, 31.71835]  gloss_dc_binder1_2.xlsx  mod  14.95510   \n",
       "16910   [6.573687, 37.79194, 40.5625]  gloss_dc_binder1_2.xlsx  mod  37.79194   \n",
       "16911  [7.588936, 41.31086, 44.73447]  gloss_dc_binder1_2.xlsx  mod  41.31086   \n",
       "16912  [6.081286, 34.32474, 40.02418]  gloss_dc_binder1_2.xlsx  mod  34.32474   \n",
       "16913  [6.168184, 35.18324, 41.16901]  gloss_dc_binder1_2.xlsx  mod  35.18324   \n",
       "\n",
       "        cat manbran mtrial  \n",
       "16908  5151      ea      0  \n",
       "16909  5151      ea      1  \n",
       "16910  5151      ea      2  \n",
       "16911  5151      fa      0  \n",
       "16912  5151      fa      1  \n",
       "16913  5151      fa      2  "
      ]
     },
     "execution_count": 26,
     "metadata": {},
     "output_type": "execute_result"
    }
   ],
   "source": [
    "df[df.cat=='5151']"
   ]
  },
  {
   "cell_type": "code",
   "execution_count": null,
   "id": "e069f445",
   "metadata": {},
   "outputs": [],
   "source": []
  }
 ],
 "metadata": {
  "kernelspec": {
   "display_name": "Python 3 (ipykernel)",
   "language": "python",
   "name": "python3"
  },
  "language_info": {
   "codemirror_mode": {
    "name": "ipython",
    "version": 3
   },
   "file_extension": ".py",
   "mimetype": "text/x-python",
   "name": "python",
   "nbconvert_exporter": "python",
   "pygments_lexer": "ipython3",
   "version": "3.10.4"
  }
 },
 "nbformat": 4,
 "nbformat_minor": 5
}
