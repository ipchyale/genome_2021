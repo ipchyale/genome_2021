{
 "cells": [
  {
   "cell_type": "code",
   "execution_count": 1,
   "id": "66da6b88",
   "metadata": {},
   "outputs": [],
   "source": [
    "import pandas as pd\n",
    "import os,glob\n",
    "import numpy as np\n",
    "import warnings\n",
    "warnings.filterwarnings(\"ignore\")\n",
    "import sys\n",
    "sys.path.append(\"/Users/damoncrockett/collproc/\")\n",
    "from raw import *"
   ]
  },
  {
   "cell_type": "code",
   "execution_count": 2,
   "id": "d584f4b9",
   "metadata": {},
   "outputs": [],
   "source": [
    "DIR = \"/Users/damoncrockett/Dropbox/lml/genome_measurements/\""
   ]
  },
  {
   "cell_type": "code",
   "execution_count": 3,
   "id": "f78dd251",
   "metadata": {},
   "outputs": [],
   "source": [
    "allgloss = dirwalk(DIR,require='los',omit=['legacy','flag','Test'])"
   ]
  },
  {
   "cell_type": "code",
   "execution_count": 4,
   "id": "522282d6",
   "metadata": {},
   "outputs": [],
   "source": [
    "df = pd.DataFrame()\n",
    "for f in allgloss:\n",
    "    tmp = fproc(f,dimension='gloss',threshold=0.5)\n",
    "    if tmp is not None:\n",
    "        df = pd.concat([df,tmp])"
   ]
  },
  {
   "cell_type": "code",
   "execution_count": 10,
   "id": "66a22fa4",
   "metadata": {},
   "outputs": [],
   "source": [
    "df = df.reset_index(drop=True)"
   ]
  },
  {
   "cell_type": "code",
   "execution_count": 11,
   "id": "a51f72d6",
   "metadata": {},
   "outputs": [],
   "source": [
    "df['mera'] = 'mod'"
   ]
  },
  {
   "cell_type": "code",
   "execution_count": 65,
   "id": "aec9eee1",
   "metadata": {},
   "outputs": [],
   "source": [
    "df['g60'] = df.gloss.map(lambda x: x[1])"
   ]
  },
  {
   "cell_type": "markdown",
   "id": "b13a7105",
   "metadata": {},
   "source": [
    "# Legacy"
   ]
  },
  {
   "cell_type": "code",
   "execution_count": 62,
   "id": "f0541609",
   "metadata": {},
   "outputs": [
    {
     "data": {
      "text/plain": [
       "'/Users/damoncrockett/Dropbox/lml/genome_measurements/genome_legacy/gloss.xlsx'"
      ]
     },
     "execution_count": 62,
     "metadata": {},
     "output_type": "execute_result"
    }
   ],
   "source": [
    "legacygloss = dirwalk(DIR,require=['los','egac'])\n",
    "legacygloss[0]"
   ]
  },
  {
   "cell_type": "markdown",
   "id": "946ca35b",
   "metadata": {},
   "source": [
    "We will use only this file, with measurements from 2015; Genevieve did a bunch of tests on binder papers in 2018, but none are at the 60 degree angle."
   ]
  },
  {
   "cell_type": "code",
   "execution_count": 45,
   "id": "4da800f7",
   "metadata": {},
   "outputs": [],
   "source": [
    "paul = fproc(legacygloss[0],dimension='gloss')"
   ]
  },
  {
   "cell_type": "code",
   "execution_count": 46,
   "id": "7bf4ec4c",
   "metadata": {},
   "outputs": [],
   "source": [
    "paul = paul[paul['gloss'].apply(lambda x: len(x)) != 11] # we don't have a 60 degree mean for this item"
   ]
  },
  {
   "cell_type": "code",
   "execution_count": 47,
   "id": "94fb092c",
   "metadata": {},
   "outputs": [],
   "source": [
    "# If there are 12 measurements, we want the 5th; if there are 3, we want the 2nd\n",
    "\n",
    "paul['g60'] = paul.gloss.map(lambda x: x[4] if len(x)==12 else x[2])"
   ]
  },
  {
   "cell_type": "code",
   "execution_count": 51,
   "id": "29f2eb7f",
   "metadata": {},
   "outputs": [],
   "source": [
    "paul = paul[['catalog','fname','g60']]"
   ]
  },
  {
   "cell_type": "code",
   "execution_count": 69,
   "id": "b2d26174",
   "metadata": {},
   "outputs": [],
   "source": [
    "#paul.catalog.value_counts().loc[lambda x: x > 1]"
   ]
  },
  {
   "cell_type": "markdown",
   "id": "56605111",
   "metadata": {},
   "source": [
    "# STD"
   ]
  },
  {
   "cell_type": "code",
   "execution_count": 71,
   "id": "2fb354e9",
   "metadata": {},
   "outputs": [],
   "source": [
    "allvals = list(df.g60) + list(paul.g60)"
   ]
  },
  {
   "cell_type": "code",
   "execution_count": 73,
   "id": "00c9048e",
   "metadata": {},
   "outputs": [
    {
     "data": {
      "text/plain": [
       "29.978124258790643"
      ]
     },
     "execution_count": 73,
     "metadata": {},
     "output_type": "execute_result"
    }
   ],
   "source": [
    "g60std = np.std(allvals)\n",
    "g60std"
   ]
  },
  {
   "cell_type": "code",
   "execution_count": 76,
   "id": "871a6edd",
   "metadata": {},
   "outputs": [
    {
     "data": {
      "text/plain": [
       "271.3495"
      ]
     },
     "execution_count": 76,
     "metadata": {},
     "output_type": "execute_result"
    }
   ],
   "source": [
    "max(allvals)"
   ]
  },
  {
   "cell_type": "code",
   "execution_count": 80,
   "id": "806e9fd8",
   "metadata": {},
   "outputs": [
    {
     "data": {
      "text/plain": [
       "<AxesSubplot:>"
      ]
     },
     "execution_count": 80,
     "metadata": {},
     "output_type": "execute_result"
    },
    {
     "data": {
      "image/png": "[encoded data removed]",
      "text/plain": [
       "<Figure size 432x288 with 1 Axes>"
      ]
     },
     "metadata": {
      "needs_background": "light"
     },
     "output_type": "display_data"
    }
   ],
   "source": [
    "df.g60.hist(bins=300)"
   ]
  },
  {
   "cell_type": "code",
   "execution_count": 81,
   "id": "bc37bd1f",
   "metadata": {},
   "outputs": [
    {
     "data": {
      "text/plain": [
       "<AxesSubplot:>"
      ]
     },
     "execution_count": 81,
     "metadata": {},
     "output_type": "execute_result"
    },
    {
     "data": {
      "image/png": "[encoded data removed]",
      "text/plain": [
       "<Figure size 432x288 with 1 Axes>"
      ]
     },
     "metadata": {
      "needs_background": "light"
     },
     "output_type": "display_data"
    }
   ],
   "source": [
    "paul.g60.hist(bins=300)"
   ]
  },
  {
   "cell_type": "code",
   "execution_count": 82,
   "id": "0255eea6",
   "metadata": {},
   "outputs": [
    {
     "data": {
      "text/html": [
       "<div>\n",
       "<style scoped>\n",
       "    .dataframe tbody tr th:only-of-type {\n",
       "        vertical-align: middle;\n",
       "    }\n",
       "\n",
       "    .dataframe tbody tr th {\n",
       "        vertical-align: top;\n",
       "    }\n",
       "\n",
       "    .dataframe thead th {\n",
       "        text-align: right;\n",
       "    }\n",
       "</style>\n",
       "<table border=\"1\" class=\"dataframe\">\n",
       "  <thead>\n",
       "    <tr style=\"text-align: right;\">\n",
       "      <th></th>\n",
       "      <th>catalog</th>\n",
       "      <th>fname</th>\n",
       "      <th>g60</th>\n",
       "    </tr>\n",
       "  </thead>\n",
       "  <tbody>\n",
       "    <tr>\n",
       "      <th>565</th>\n",
       "      <td>1880d_Kodak_GlossyVelox_dmax</td>\n",
       "      <td>gloss.xlsx</td>\n",
       "      <td>207.705124</td>\n",
       "    </tr>\n",
       "    <tr>\n",
       "      <th>566</th>\n",
       "      <td>1880d_Kodak_GlossyVelox_dmid</td>\n",
       "      <td>gloss.xlsx</td>\n",
       "      <td>110.272163</td>\n",
       "    </tr>\n",
       "    <tr>\n",
       "      <th>567</th>\n",
       "      <td>1880d_Kodak_GlossyVelox_dmin</td>\n",
       "      <td>gloss.xlsx</td>\n",
       "      <td>141.711975</td>\n",
       "    </tr>\n",
       "    <tr>\n",
       "      <th>604</th>\n",
       "      <td>1880q_Kodak_GlossyVelox_dmax</td>\n",
       "      <td>gloss.xlsx</td>\n",
       "      <td>105.831322</td>\n",
       "    </tr>\n",
       "    <tr>\n",
       "      <th>2222</th>\n",
       "      <td>296k_Kodak_PolyLure_dmin</td>\n",
       "      <td>gloss.xlsx</td>\n",
       "      <td>109.691933</td>\n",
       "    </tr>\n",
       "    <tr>\n",
       "      <th>2223</th>\n",
       "      <td>298a_Kodak_Polycontrast_dmax</td>\n",
       "      <td>gloss.xlsx</td>\n",
       "      <td>106.036293</td>\n",
       "    </tr>\n",
       "    <tr>\n",
       "      <th>3630</th>\n",
       "      <td>5021i_Kodak_Velox_dmid</td>\n",
       "      <td>gloss.xlsx</td>\n",
       "      <td>101.863159</td>\n",
       "    </tr>\n",
       "    <tr>\n",
       "      <th>3631</th>\n",
       "      <td>5021i_Kodak_Velox_dmin</td>\n",
       "      <td>gloss.xlsx</td>\n",
       "      <td>114.327911</td>\n",
       "    </tr>\n",
       "    <tr>\n",
       "      <th>3700</th>\n",
       "      <td>5165qq_Defender_VelourBlack_dmax</td>\n",
       "      <td>gloss.xlsx</td>\n",
       "      <td>112.763313</td>\n",
       "    </tr>\n",
       "    <tr>\n",
       "      <th>3701</th>\n",
       "      <td>5165r_Defender_Varigam_dmax</td>\n",
       "      <td>gloss.xlsx</td>\n",
       "      <td>107.659790</td>\n",
       "    </tr>\n",
       "    <tr>\n",
       "      <th>4396</th>\n",
       "      <td>904ee_KodakNegatives_VelvetVelox_dmid</td>\n",
       "      <td>gloss.xlsx</td>\n",
       "      <td>105.205009</td>\n",
       "    </tr>\n",
       "  </tbody>\n",
       "</table>\n",
       "</div>"
      ],
      "text/plain": [
       "                                    catalog       fname         g60\n",
       "565            1880d_Kodak_GlossyVelox_dmax  gloss.xlsx  207.705124\n",
       "566            1880d_Kodak_GlossyVelox_dmid  gloss.xlsx  110.272163\n",
       "567            1880d_Kodak_GlossyVelox_dmin  gloss.xlsx  141.711975\n",
       "604            1880q_Kodak_GlossyVelox_dmax  gloss.xlsx  105.831322\n",
       "2222               296k_Kodak_PolyLure_dmin  gloss.xlsx  109.691933\n",
       "2223           298a_Kodak_Polycontrast_dmax  gloss.xlsx  106.036293\n",
       "3630                 5021i_Kodak_Velox_dmid  gloss.xlsx  101.863159\n",
       "3631                 5021i_Kodak_Velox_dmin  gloss.xlsx  114.327911\n",
       "3700       5165qq_Defender_VelourBlack_dmax  gloss.xlsx  112.763313\n",
       "3701            5165r_Defender_Varigam_dmax  gloss.xlsx  107.659790\n",
       "4396  904ee_KodakNegatives_VelvetVelox_dmid  gloss.xlsx  105.205009"
      ]
     },
     "execution_count": 82,
     "metadata": {},
     "output_type": "execute_result"
    }
   ],
   "source": [
    "paul[paul.g60 > 100]"
   ]
  },
  {
   "cell_type": "code",
   "execution_count": 83,
   "id": "edf98a71",
   "metadata": {},
   "outputs": [
    {
     "data": {
      "text/html": [
       "<div>\n",
       "<style scoped>\n",
       "    .dataframe tbody tr th:only-of-type {\n",
       "        vertical-align: middle;\n",
       "    }\n",
       "\n",
       "    .dataframe tbody tr th {\n",
       "        vertical-align: top;\n",
       "    }\n",
       "\n",
       "    .dataframe thead th {\n",
       "        text-align: right;\n",
       "    }\n",
       "</style>\n",
       "<table border=\"1\" class=\"dataframe\">\n",
       "  <thead>\n",
       "    <tr style=\"text-align: right;\">\n",
       "      <th></th>\n",
       "      <th>catalog</th>\n",
       "      <th>gloss</th>\n",
       "      <th>gloss_str</th>\n",
       "      <th>fname</th>\n",
       "      <th>mera</th>\n",
       "      <th>g60</th>\n",
       "    </tr>\n",
       "  </thead>\n",
       "  <tbody>\n",
       "    <tr>\n",
       "      <th>9825</th>\n",
       "      <td>1880d_kg_0</td>\n",
       "      <td>[207.7647, 211.7605, 94.04149]</td>\n",
       "      <td>[207.7647, 211.7605, 94.04149]</td>\n",
       "      <td>gloss_dc_box1_1_1.xlsx</td>\n",
       "      <td>mod</td>\n",
       "      <td>211.7605</td>\n",
       "    </tr>\n",
       "    <tr>\n",
       "      <th>10668</th>\n",
       "      <td>4790j_kg_0</td>\n",
       "      <td>[219.5898, 209.7835, 90.07972]</td>\n",
       "      <td>[219.5898, 209.7835, 90.07972]</td>\n",
       "      <td>gloss_dc_box1_1_0.xlsx</td>\n",
       "      <td>mod</td>\n",
       "      <td>209.7835</td>\n",
       "    </tr>\n",
       "    <tr>\n",
       "      <th>10669</th>\n",
       "      <td>4790j_kg_1</td>\n",
       "      <td>[293.1937, 271.3495, 90.41533]</td>\n",
       "      <td>[293.1937, 271.3495, 90.41533]</td>\n",
       "      <td>gloss_dc_box1_1_0.xlsx</td>\n",
       "      <td>mod</td>\n",
       "      <td>271.3495</td>\n",
       "    </tr>\n",
       "  </tbody>\n",
       "</table>\n",
       "</div>"
      ],
      "text/plain": [
       "          catalog                           gloss  \\\n",
       "9825   1880d_kg_0  [207.7647, 211.7605, 94.04149]   \n",
       "10668  4790j_kg_0  [219.5898, 209.7835, 90.07972]   \n",
       "10669  4790j_kg_1  [293.1937, 271.3495, 90.41533]   \n",
       "\n",
       "                            gloss_str                   fname mera       g60  \n",
       "9825   [207.7647, 211.7605, 94.04149]  gloss_dc_box1_1_1.xlsx  mod  211.7605  \n",
       "10668  [219.5898, 209.7835, 90.07972]  gloss_dc_box1_1_0.xlsx  mod  209.7835  \n",
       "10669  [293.1937, 271.3495, 90.41533]  gloss_dc_box1_1_0.xlsx  mod  271.3495  "
      ]
     },
     "execution_count": 83,
     "metadata": {},
     "output_type": "execute_result"
    }
   ],
   "source": [
    "df[df.g60 > 200]"
   ]
  },
  {
   "cell_type": "code",
   "execution_count": null,
   "id": "ad01d84c",
   "metadata": {},
   "outputs": [],
   "source": []
  }
 ],
 "metadata": {
  "kernelspec": {
   "display_name": "Python 3 (ipykernel)",
   "language": "python",
   "name": "python3"
  },
  "language_info": {
   "codemirror_mode": {
    "name": "ipython",
    "version": 3
   },
   "file_extension": ".py",
   "mimetype": "text/x-python",
   "name": "python",
   "nbconvert_exporter": "python",
   "pygments_lexer": "ipython3",
   "version": "3.10.4"
  }
 },
 "nbformat": 4,
 "nbformat_minor": 5
}
