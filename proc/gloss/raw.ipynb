{
 "cells": [
  {
   "cell_type": "code",
   "execution_count": 1,
   "id": "bc559c5f",
   "metadata": {},
   "outputs": [],
   "source": [
    "import pandas as pd\n",
    "import os,glob\n",
    "import numpy as np\n",
    "import warnings\n",
    "warnings.filterwarnings(\"ignore\")\n",
    "import sys\n",
    "sys.path.append(os.path.expanduser(\"~\") + \"/collproc/\")\n",
    "from raw import *\n",
    "from coll import *\n",
    "import matplotlib.pyplot as plt"
   ]
  },
  {
   "cell_type": "code",
   "execution_count": 2,
   "id": "6cce6b32",
   "metadata": {},
   "outputs": [],
   "source": [
    "DIR = os.path.expanduser(\"~\") + \"/Dropbox/lml/genome_measurements/\""
   ]
  },
  {
   "cell_type": "code",
   "execution_count": 3,
   "id": "5a599b86",
   "metadata": {},
   "outputs": [],
   "source": [
    "allgloss = dirwalk(DIR,require='los',omit=['legacy','flag','Test'])"
   ]
  },
  {
   "cell_type": "code",
   "execution_count": 4,
   "id": "e1d254b3",
   "metadata": {},
   "outputs": [],
   "source": [
    "df = pd.DataFrame()\n",
    "for f in allgloss:\n",
    "    tmp = fproc(f,dimension='gloss',threshold=0.5)\n",
    "    if tmp is not None:\n",
    "        df = pd.concat([df,tmp])"
   ]
  },
  {
   "cell_type": "code",
   "execution_count": 5,
   "id": "fcde92ad",
   "metadata": {},
   "outputs": [],
   "source": [
    "df = df.drop_duplicates(subset=df.columns.difference(['gloss','fname']))"
   ]
  },
  {
   "cell_type": "code",
   "execution_count": 6,
   "id": "863544ba",
   "metadata": {},
   "outputs": [],
   "source": [
    "df = df.reset_index(drop=True)"
   ]
  },
  {
   "cell_type": "code",
   "execution_count": 7,
   "id": "0eb183fc",
   "metadata": {},
   "outputs": [],
   "source": [
    "df['mera'] = 'mod'"
   ]
  },
  {
   "cell_type": "code",
   "execution_count": 8,
   "id": "74a05b39",
   "metadata": {},
   "outputs": [],
   "source": [
    "df['g60'] = df.gloss.map(lambda x: x[1])"
   ]
  },
  {
   "cell_type": "markdown",
   "id": "2b0968c6",
   "metadata": {},
   "source": [
    "# Legacy"
   ]
  },
  {
   "cell_type": "code",
   "execution_count": 9,
   "id": "45912a40",
   "metadata": {},
   "outputs": [
    {
     "data": {
      "text/plain": [
       "'/Users/damoncrockett/Dropbox/lml/genome_measurements/genome_legacy/gloss.xlsx'"
      ]
     },
     "execution_count": 9,
     "metadata": {},
     "output_type": "execute_result"
    }
   ],
   "source": [
    "legacygloss = dirwalk(DIR,require=['los','egac'])\n",
    "legacygloss[0]"
   ]
  },
  {
   "cell_type": "markdown",
   "id": "41cb6825",
   "metadata": {},
   "source": [
    "We will use only this file, with measurements from 2015; Genevieve did a bunch of tests on binder papers in 2018, but none are at the 60 degree angle."
   ]
  },
  {
   "cell_type": "code",
   "execution_count": 10,
   "id": "31de8b39",
   "metadata": {},
   "outputs": [],
   "source": [
    "paul = fproc(legacygloss[0],dimension='gloss')"
   ]
  },
  {
   "cell_type": "code",
   "execution_count": 11,
   "id": "90a0b137",
   "metadata": {},
   "outputs": [],
   "source": [
    "paul = paul[paul['gloss'].apply(lambda x: len(x)) != 11] # we don't have a 60 degree mean for this item"
   ]
  },
  {
   "cell_type": "code",
   "execution_count": 12,
   "id": "d8abe2c5",
   "metadata": {},
   "outputs": [],
   "source": [
    "# If there are 12 measurements, we want the 5th; if there are 3, we want the 2nd\n",
    "\n",
    "paul['g60'] = paul.gloss.map(lambda x: x[4] if len(x)==12 else x[2])"
   ]
  },
  {
   "cell_type": "code",
   "execution_count": 13,
   "id": "c6f1d0bc",
   "metadata": {},
   "outputs": [],
   "source": [
    "paul = paul[['catalog','fname','g60']]"
   ]
  },
  {
   "cell_type": "code",
   "execution_count": 14,
   "id": "d97041a4",
   "metadata": {},
   "outputs": [],
   "source": [
    "#paul.catalog.value_counts().loc[lambda x: x > 1]"
   ]
  },
  {
   "cell_type": "markdown",
   "id": "8c796566",
   "metadata": {},
   "source": [
    "# STD"
   ]
  },
  {
   "cell_type": "code",
   "execution_count": 15,
   "id": "3bea5b42",
   "metadata": {},
   "outputs": [],
   "source": [
    "allvals = list(df.g60) + list(paul.g60)"
   ]
  },
  {
   "cell_type": "code",
   "execution_count": 16,
   "id": "b4630996",
   "metadata": {},
   "outputs": [
    {
     "data": {
      "text/plain": [
       "30.15660308539135"
      ]
     },
     "execution_count": 16,
     "metadata": {},
     "output_type": "execute_result"
    }
   ],
   "source": [
    "g60std = np.std(allvals)\n",
    "g60std"
   ]
  },
  {
   "cell_type": "markdown",
   "id": "306d1d80",
   "metadata": {},
   "source": [
    "# Enumeration of Cases"
   ]
  },
  {
   "cell_type": "markdown",
   "id": "cbb2ce78",
   "metadata": {},
   "source": [
    "This will be different from the thickness case, because here, our trials are spread across the rows, not the columns. That actually makes things more difficult, especially since the sample IDs are not 100% consistent."
   ]
  },
  {
   "cell_type": "markdown",
   "id": "9dafa4fa",
   "metadata": {},
   "source": [
    "#### Catalog extract"
   ]
  },
  {
   "cell_type": "code",
   "execution_count": 17,
   "id": "78060902",
   "metadata": {},
   "outputs": [],
   "source": [
    "df['cat'] = df.catalog.apply(lambda x: parse_sample_id(x)['catalog'])\n",
    "df['manbran'] = df.catalog.apply(lambda x: parse_sample_id(x)['manbran'])\n",
    "df['mtrial'] = df.catalog.apply(lambda x: parse_sample_id(x)['mtrial'])"
   ]
  },
  {
   "cell_type": "markdown",
   "id": "6b2bf277",
   "metadata": {},
   "source": [
    "# Mtrial corrections "
   ]
  },
  {
   "cell_type": "markdown",
   "id": "bc52cc07",
   "metadata": {},
   "source": [
    "I had meant to do this later in the process, but these corrections are very few and easy to make and will make it easier to assess duplicate cases."
   ]
  },
  {
   "cell_type": "code",
   "execution_count": 18,
   "id": "183067ce",
   "metadata": {},
   "outputs": [],
   "source": [
    "df.mtrial[df.catalog=='2484_kb_'] = '0'\n",
    "df.mtrial[df.catalog=='2484_kb_001'] = '1'\n",
    "df.mtrial[df.catalog=='2484_kb_002'] = '2'"
   ]
  },
  {
   "cell_type": "code",
   "execution_count": 19,
   "id": "1130cd55",
   "metadata": {},
   "outputs": [],
   "source": [
    "df.mtrial[df.catalog=='5515y_al_30'] = '3'"
   ]
  },
  {
   "cell_type": "code",
   "execution_count": 20,
   "id": "a9a778ad",
   "metadata": {},
   "outputs": [],
   "source": [
    "df = df[df.catalog!='Average']"
   ]
  },
  {
   "cell_type": "code",
   "execution_count": 21,
   "id": "8cbbc8ac",
   "metadata": {},
   "outputs": [],
   "source": [
    "df = df.reset_index(drop=True)"
   ]
  },
  {
   "cell_type": "code",
   "execution_count": 22,
   "id": "0e831afa",
   "metadata": {},
   "outputs": [],
   "source": [
    "pkl(df,'raw.pkl')\n",
    "pkl(paul,'lraw.pkl')"
   ]
  }
 ],
 "metadata": {
  "kernelspec": {
   "display_name": "Python 3 (ipykernel)",
   "language": "python",
   "name": "python3"
  },
  "language_info": {
   "codemirror_mode": {
    "name": "ipython",
    "version": 3
   },
   "file_extension": ".py",
   "mimetype": "text/x-python",
   "name": "python",
   "nbconvert_exporter": "python",
   "pygments_lexer": "ipython3",
   "version": "3.10.4"
  }
 },
 "nbformat": 4,
 "nbformat_minor": 5
}
