{
 "cells": [
  {
   "cell_type": "code",
   "execution_count": 1,
   "id": "bc559c5f",
   "metadata": {},
   "outputs": [],
   "source": [
    "import pandas as pd\n",
    "import os,glob\n",
    "import numpy as np\n",
    "import warnings\n",
    "warnings.filterwarnings(\"ignore\")\n",
    "import sys\n",
    "sys.path.append(os.path.expanduser(\"~\") + \"/collproc/\")\n",
    "from raw import *\n",
    "from coll import *\n",
    "import matplotlib.pyplot as plt"
   ]
  },
  {
   "cell_type": "code",
   "execution_count": 2,
   "id": "c61f6cbe",
   "metadata": {},
   "outputs": [],
   "source": [
    "df = unpkl('raw.pkl')\n",
    "paul = unpkl('lraw.pkl')"
   ]
  },
  {
   "cell_type": "markdown",
   "id": "8c796566",
   "metadata": {},
   "source": [
    "# STD"
   ]
  },
  {
   "cell_type": "code",
   "execution_count": 3,
   "id": "3bea5b42",
   "metadata": {},
   "outputs": [],
   "source": [
    "allvals = list(df.g60) + list(paul.g60)"
   ]
  },
  {
   "cell_type": "code",
   "execution_count": 4,
   "id": "b4630996",
   "metadata": {},
   "outputs": [
    {
     "data": {
      "text/plain": [
       "30.179949713173084"
      ]
     },
     "execution_count": 4,
     "metadata": {},
     "output_type": "execute_result"
    }
   ],
   "source": [
    "g60std = np.std(allvals)\n",
    "g60std"
   ]
  },
  {
   "cell_type": "markdown",
   "id": "8e7b0b25",
   "metadata": {},
   "source": [
    "# corrections"
   ]
  },
  {
   "cell_type": "code",
   "execution_count": 5,
   "id": "0ffa6045",
   "metadata": {},
   "outputs": [],
   "source": [
    "df.cat.loc[df.cat=='5447'] = '5447n'"
   ]
  },
  {
   "cell_type": "code",
   "execution_count": 6,
   "id": "54b0ba8f",
   "metadata": {},
   "outputs": [],
   "source": [
    "df = df.loc[df.cat!='5149']"
   ]
  },
  {
   "cell_type": "code",
   "execution_count": 7,
   "id": "57853049",
   "metadata": {},
   "outputs": [],
   "source": [
    "idxs = df.loc[(df.cat=='1856')&(df.g60 < 30)].index\n",
    "df = df.drop(idxs)"
   ]
  },
  {
   "cell_type": "code",
   "execution_count": 8,
   "id": "2a848505",
   "metadata": {},
   "outputs": [],
   "source": [
    "idxs = df.loc[(df.cat=='86')&(df.fname.str.contains('binder5_0'))].index\n",
    "df = df.drop(idxs)"
   ]
  },
  {
   "cell_type": "code",
   "execution_count": 9,
   "id": "b307f168",
   "metadata": {},
   "outputs": [],
   "source": [
    "idxs = df.loc[(df.cat=='2498')&(df.fname.str.contains('binder5_6'))].index\n",
    "df = df.drop(idxs)"
   ]
  },
  {
   "cell_type": "code",
   "execution_count": 10,
   "id": "1e47d482",
   "metadata": {},
   "outputs": [],
   "source": [
    "df = df.loc[df.cat!='5151']"
   ]
  },
  {
   "cell_type": "code",
   "execution_count": 11,
   "id": "6a7b0db6",
   "metadata": {},
   "outputs": [],
   "source": [
    "df.cat.loc[(df.cat=='4945')&(df.fname.str.contains('binder7'))] = '5554'"
   ]
  },
  {
   "cell_type": "code",
   "execution_count": 12,
   "id": "aa3f8905",
   "metadata": {},
   "outputs": [],
   "source": [
    "idxs = df.cat.loc[(df.cat=='2073z')&(df.manbran.str.contains('kp'))].index\n",
    "df = df.drop(idxs)"
   ]
  },
  {
   "cell_type": "code",
   "execution_count": 13,
   "id": "5f8e23dc",
   "metadata": {},
   "outputs": [],
   "source": [
    "idxs = df.loc[(df.cat.str.contains('284'))&(df.fname.str.contains('sn_'))&(df.cat!='5284')].index\n",
    "df = df.drop(idxs)"
   ]
  },
  {
   "cell_type": "code",
   "execution_count": 14,
   "id": "a1a71d67",
   "metadata": {},
   "outputs": [],
   "source": [
    "idx = df.loc[(df.cat.str.contains('1880t'))&(df.fname.str.contains('sn_'))].index\n",
    "df = df.drop(idx)"
   ]
  },
  {
   "cell_type": "code",
   "execution_count": 15,
   "id": "ca0b07be",
   "metadata": {},
   "outputs": [],
   "source": [
    "idx = df.loc[(df.cat.str.contains('2088'))&(df.fname.str.contains('sn_'))].index\n",
    "df = df.drop(idx)"
   ]
  },
  {
   "cell_type": "code",
   "execution_count": 16,
   "id": "95bf939b",
   "metadata": {},
   "outputs": [],
   "source": [
    "idxs = df.loc[(df.cat.isin(['2075ee','2075gg','2075kk']))&(df.fname.str.contains('sn_'))&(~df.fname.str.contains('fix'))].index\n",
    "df = df.drop(idxs)"
   ]
  },
  {
   "cell_type": "markdown",
   "id": "881eae44",
   "metadata": {},
   "source": [
    "# Enumeration of Cases"
   ]
  },
  {
   "cell_type": "code",
   "execution_count": 17,
   "id": "ec7e41e5",
   "metadata": {},
   "outputs": [],
   "source": [
    "df.mtrial = df.mtrial.fillna(100)"
   ]
  },
  {
   "cell_type": "code",
   "execution_count": 18,
   "id": "f1791dd4",
   "metadata": {},
   "outputs": [],
   "source": [
    "exact_whitelist = [\n",
    "    '2293','2188','2194','2224','2063','1993','2162','2155','4231','5150','5155','5154','4949','5494j','5036'\n",
    "]"
   ]
  },
  {
   "cell_type": "code",
   "execution_count": 19,
   "id": "2837ee43",
   "metadata": {},
   "outputs": [],
   "source": [
    "from itertools import combinations"
   ]
  },
  {
   "cell_type": "code",
   "execution_count": 20,
   "id": "9be882cc",
   "metadata": {},
   "outputs": [],
   "source": [
    "badcats = []\n",
    "for cat in df.cat.unique():\n",
    "    tmp = df[df.cat==cat]\n",
    "    tmp.mtrial = tmp.mtrial.apply(int)\n",
    "    tmp = tmp.sort_values('mtrial')\n",
    "    \n",
    "    # if all measurements are from same file, have same manbran, and trial indices are consecutive, then ignore\n",
    "    if all([len(tmp.fname.unique())==1,len(tmp.manbran.unique())==1,is_consecutive(tmp.mtrial)]):\n",
    "        continue\n",
    "    elif all([len(tmp.manbran.unique())==1,tmp.g60.max()-tmp.g60.min() < g60std]):\n",
    "        continue\n",
    "    elif cat in exact_whitelist:\n",
    "        continue\n",
    "    else:\n",
    "        print(cat,end='\\t')\n",
    "        badcats.append(cat)"
   ]
  },
  {
   "cell_type": "code",
   "execution_count": 29,
   "id": "a83747f0",
   "metadata": {
    "scrolled": false
   },
   "outputs": [],
   "source": [
    "legacy_cats = set([item.split(\"_\")[0] for item in paul.catalog]) - set(df.cat)"
   ]
  },
  {
   "cell_type": "code",
   "execution_count": 30,
   "id": "6c885206",
   "metadata": {},
   "outputs": [],
   "source": [
    "paul['cat'] = [item.split(\"_\")[0] for item in paul.catalog]"
   ]
  },
  {
   "cell_type": "code",
   "execution_count": 33,
   "id": "36bca3a4",
   "metadata": {},
   "outputs": [],
   "source": [
    "paul = paul.loc[paul.cat.isin(legacy_cats)]"
   ]
  },
  {
   "cell_type": "code",
   "execution_count": 43,
   "id": "c4f1c2b8",
   "metadata": {},
   "outputs": [],
   "source": [
    "paul.to_pickle('raw_dedupe_paul.pkl')"
   ]
  },
  {
   "cell_type": "code",
   "execution_count": 44,
   "id": "43c40111",
   "metadata": {},
   "outputs": [],
   "source": [
    "df.to_pickle('raw_dedupe.pkl')"
   ]
  },
  {
   "cell_type": "code",
   "execution_count": null,
   "id": "d6d82ad6",
   "metadata": {},
   "outputs": [],
   "source": []
  }
 ],
 "metadata": {
  "kernelspec": {
   "display_name": "Python 3 (ipykernel)",
   "language": "python",
   "name": "python3"
  },
  "language_info": {
   "codemirror_mode": {
    "name": "ipython",
    "version": 3
   },
   "file_extension": ".py",
   "mimetype": "text/x-python",
   "name": "python",
   "nbconvert_exporter": "python",
   "pygments_lexer": "ipython3",
   "version": "3.10.4"
  }
 },
 "nbformat": 4,
 "nbformat_minor": 5
}
