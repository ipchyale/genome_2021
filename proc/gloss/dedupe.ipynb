{
 "cells": [
  {
   "cell_type": "code",
   "execution_count": 1,
   "id": "bc559c5f",
   "metadata": {},
   "outputs": [],
   "source": [
    "import pandas as pd\n",
    "import os,glob\n",
    "import numpy as np\n",
    "import warnings\n",
    "warnings.filterwarnings(\"ignore\")\n",
    "import sys\n",
    "sys.path.append(os.path.expanduser(\"~\") + \"/collproc/\")\n",
    "from raw import *\n",
    "from coll import *\n",
    "import matplotlib.pyplot as plt"
   ]
  },
  {
   "cell_type": "code",
   "execution_count": 2,
   "id": "c61f6cbe",
   "metadata": {},
   "outputs": [],
   "source": [
    "df = unpkl('raw.pkl')\n",
    "paul = unpkl('lraw.pkl')"
   ]
  },
  {
   "cell_type": "markdown",
   "id": "8c796566",
   "metadata": {},
   "source": [
    "# STD"
   ]
  },
  {
   "cell_type": "code",
   "execution_count": 3,
   "id": "3bea5b42",
   "metadata": {},
   "outputs": [],
   "source": [
    "allvals = list(df.g60) + list(paul.g60)"
   ]
  },
  {
   "cell_type": "code",
   "execution_count": 4,
   "id": "b4630996",
   "metadata": {},
   "outputs": [
    {
     "data": {
      "text/plain": [
       "30.112707594993726"
      ]
     },
     "execution_count": 4,
     "metadata": {},
     "output_type": "execute_result"
    }
   ],
   "source": [
    "g60std = np.std(allvals)\n",
    "g60std"
   ]
  },
  {
   "cell_type": "markdown",
   "id": "881eae44",
   "metadata": {},
   "source": [
    "# Enumeration of Cases"
   ]
  },
  {
   "cell_type": "code",
   "execution_count": 26,
   "id": "9be882cc",
   "metadata": {},
   "outputs": [
    {
     "name": "stdout",
     "output_type": "stream",
     "text": [
      "2188\t2194\t2224\t86\t2498\t5150\t5149\t5154\t4945\t4231\t4949\t2063\t2293\t2155\t1856\t1993\t5036\t5155\t2073z\t2162\t5151\t"
     ]
    }
   ],
   "source": [
    "badcats = []\n",
    "for cat in df.cat.unique():\n",
    "    tmp = df[df.cat==cat]\n",
    "    tmp.mtrial = tmp.mtrial.apply(int)\n",
    "    tmp = tmp.sort_values('mtrial')\n",
    "    \n",
    "    # if all measurements are from same file, have same manbran, and trial indices are consecutive, then ignore\n",
    "    if all([len(tmp.fname.unique())==1,len(tmp.manbran.unique())==1,is_consecutive(tmp.mtrial)]):\n",
    "        continue\n",
    "    else:\n",
    "        print(cat,end='\\t')\n",
    "        badcats.append(cat)"
   ]
  }
 ],
 "metadata": {
  "kernelspec": {
   "display_name": "Python 3 (ipykernel)",
   "language": "python",
   "name": "python3"
  },
  "language_info": {
   "codemirror_mode": {
    "name": "ipython",
    "version": 3
   },
   "file_extension": ".py",
   "mimetype": "text/x-python",
   "name": "python",
   "nbconvert_exporter": "python",
   "pygments_lexer": "ipython3",
   "version": "3.10.4"
  }
 },
 "nbformat": 4,
 "nbformat_minor": 5
}
