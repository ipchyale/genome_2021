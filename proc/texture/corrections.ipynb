{
 "cells": [
  {
   "cell_type": "code",
   "execution_count": 1,
   "id": "ac75f5d3",
   "metadata": {},
   "outputs": [],
   "source": [
    "import pandas as pd\n",
    "import os\n",
    "import re\n",
    "import warnings\n",
    "warnings.filterwarnings('ignore')\n",
    "import sys\n",
    "sys.path.append(os.path.expanduser(\"~\") + \"/collproc/\")\n",
    "from raw import *\n",
    "from coll import *"
   ]
  },
  {
   "cell_type": "code",
   "execution_count": 2,
   "id": "54d62ea2",
   "metadata": {},
   "outputs": [],
   "source": [
    "df = unpkl('raw.pkl')"
   ]
  },
  {
   "cell_type": "code",
   "execution_count": 3,
   "id": "473f28d1",
   "metadata": {},
   "outputs": [],
   "source": [
    "def catalog_change(df,pre,post):\n",
    "    df.catalog.loc[df.catalog==pre] = post"
   ]
  },
  {
   "cell_type": "code",
   "execution_count": 4,
   "id": "c4494552",
   "metadata": {},
   "outputs": [],
   "source": [
    "def check_for_letters(s):\n",
    "    for c in s:\n",
    "        if not c.isdigit():\n",
    "            return True"
   ]
  },
  {
   "cell_type": "code",
   "execution_count": 5,
   "id": "6a88b5bc",
   "metadata": {},
   "outputs": [],
   "source": [
    "def sb_catalog_change(df,pre,post):\n",
    "    tmp = df.loc[df.catalog.str.contains(pre)]\n",
    "    tmp['has_letters'] = tmp.catalog.apply(check_for_letters)\n",
    "    idxs = tmp.loc[tmp.has_letters==True].index\n",
    "    \n",
    "    for idx in idxs:\n",
    "        catalog = df.catalog.loc[idx]\n",
    "        suffix = ''.join([c for c in catalog if not c.isdigit()])\n",
    "        df.catalog.loc[idx] = post + suffix"
   ]
  },
  {
   "cell_type": "code",
   "execution_count": 6,
   "id": "e9fab311",
   "metadata": {},
   "outputs": [],
   "source": [
    "catalog_change(df,'5302r','5302q')\n",
    "catalog_change(df,'940e','905e')\n",
    "catalog_change(df,'940i','905i')\n",
    "catalog_change(df,'940k','905k')\n",
    "catalog_change(df,'940m','905m')\n",
    "catalog_change(df,'4038','4308')\n",
    "catalog_change(df,'4780c','4870c')\n",
    "catalog_change(df,'5465p','5465o')\n",
    "catalog_change(df,'5513kl','5513l')\n",
    "catalog_change(df,'5529r','5529q')"
   ]
  },
  {
   "cell_type": "code",
   "execution_count": 7,
   "id": "8a1c609e",
   "metadata": {},
   "outputs": [],
   "source": [
    "df = df.loc[df.roughness.notnull()]"
   ]
  },
  {
   "cell_type": "code",
   "execution_count": 8,
   "id": "40f98c17",
   "metadata": {},
   "outputs": [],
   "source": [
    "df = df.loc[df.catalog.notnull()] # 2073z2 positive and negative versions thing; only keeping first"
   ]
  },
  {
   "cell_type": "code",
   "execution_count": 9,
   "id": "5850f545",
   "metadata": {},
   "outputs": [],
   "source": [
    "df = df.loc[df.catalog!='4911m'] # can't tell which one this is supposed to be; there is no \"m\""
   ]
  },
  {
   "cell_type": "code",
   "execution_count": 10,
   "id": "b0c37578",
   "metadata": {},
   "outputs": [],
   "source": [
    "df.catalog.loc[(df.catalog=='294')|(df.catalog=='249')] = '249'\n",
    "df.mtrial.loc[(df.catalog=='294')|(df.catalog=='249')] = ['0','1','2','3','4','5']"
   ]
  },
  {
   "cell_type": "code",
   "execution_count": 11,
   "id": "18e6eeef",
   "metadata": {},
   "outputs": [],
   "source": [
    "df.to_pickle('raw_corrections.pkl')"
   ]
  }
 ],
 "metadata": {
  "kernelspec": {
   "display_name": "Python 3 (ipykernel)",
   "language": "python",
   "name": "python3"
  },
  "language_info": {
   "codemirror_mode": {
    "name": "ipython",
    "version": 3
   },
   "file_extension": ".py",
   "mimetype": "text/x-python",
   "name": "python",
   "nbconvert_exporter": "python",
   "pygments_lexer": "ipython3",
   "version": "3.10.4"
  }
 },
 "nbformat": 4,
 "nbformat_minor": 5
}
