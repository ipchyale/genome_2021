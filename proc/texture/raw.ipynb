{
 "cells": [
  {
   "cell_type": "code",
   "execution_count": 6,
   "id": "ac75f5d3",
   "metadata": {},
   "outputs": [],
   "source": [
    "import pandas as pd\n",
    "import os\n",
    "import re\n",
    "import warnings\n",
    "warnings.filterwarnings('ignore')\n",
    "import sys\n",
    "sys.path.append(os.path.expanduser(\"~\") + \"/collproc/\")\n",
    "from raw import *\n",
    "from coll import *"
   ]
  },
  {
   "cell_type": "code",
   "execution_count": 7,
   "id": "86bfc0e9",
   "metadata": {},
   "outputs": [],
   "source": [
    "df = pd.read_csv(\"genome_roughness_768_250_501_21_divide.csv\")"
   ]
  },
  {
   "cell_type": "code",
   "execution_count": 8,
   "id": "90d1c0e6",
   "metadata": {},
   "outputs": [],
   "source": [
    "df['fbase'] = [os.path.basename(item)[:-4] for item in df.localpath]"
   ]
  },
  {
   "cell_type": "code",
   "execution_count": 9,
   "id": "b05b5594",
   "metadata": {},
   "outputs": [],
   "source": [
    "df['samploc'] = [item.split(\"/\")[-2] for item in df.localpath]"
   ]
  },
  {
   "cell_type": "code",
   "execution_count": 10,
   "id": "c8a6ab12",
   "metadata": {},
   "outputs": [],
   "source": [
    "df['catalog'] = df.fbase.apply(lambda x: parse_sample_id(x)['catalog'])\n",
    "df['manbran'] = df.fbase.apply(lambda x: parse_sample_id(x)['manbran'])\n",
    "df['mtrial'] = df.fbase.apply(lambda x: parse_sample_id(x)['mtrial'])"
   ]
  },
  {
   "cell_type": "markdown",
   "id": "96c1b3f0",
   "metadata": {},
   "source": [
    "#### Correct manbrans that were skipped because only one letter"
   ]
  },
  {
   "cell_type": "code",
   "execution_count": 11,
   "id": "3b89fa94",
   "metadata": {
    "scrolled": false
   },
   "outputs": [],
   "source": [
    "df.manbran[df.manbran.isnull()] = df.fbase[df.manbran.isnull()].apply(lambda x: x.split(\"_\")[1])"
   ]
  },
  {
   "cell_type": "markdown",
   "id": "cf79a935",
   "metadata": {},
   "source": [
    "#### Correct mtrials"
   ]
  },
  {
   "cell_type": "code",
   "execution_count": 12,
   "id": "adfb9aaf",
   "metadata": {},
   "outputs": [],
   "source": [
    "df.mtrial[df.fbase=='2172_kb_'] = '2'"
   ]
  },
  {
   "cell_type": "code",
   "execution_count": 13,
   "id": "94c5c762",
   "metadata": {},
   "outputs": [],
   "source": [
    "df.mtrial[df.fbase=='97_kv_166'] = '0'\n",
    "df.mtrial[df.fbase=='97_kv_167'] = '1'"
   ]
  },
  {
   "cell_type": "code",
   "execution_count": 14,
   "id": "0a20a22e",
   "metadata": {},
   "outputs": [],
   "source": [
    "df.mtrial[df.fbase=='2982_kp_'] = '2'"
   ]
  },
  {
   "cell_type": "code",
   "execution_count": 15,
   "id": "adb0cf1c",
   "metadata": {},
   "outputs": [],
   "source": [
    "pkl(df,'raw.pkl')"
   ]
  }
 ],
 "metadata": {
  "kernelspec": {
   "display_name": "Python 3 (ipykernel)",
   "language": "python",
   "name": "python3"
  },
  "language_info": {
   "codemirror_mode": {
    "name": "ipython",
    "version": 3
   },
   "file_extension": ".py",
   "mimetype": "text/x-python",
   "name": "python",
   "nbconvert_exporter": "python",
   "pygments_lexer": "ipython3",
   "version": "3.10.4"
  }
 },
 "nbformat": 4,
 "nbformat_minor": 5
}
