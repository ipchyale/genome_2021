{
 "cells": [
  {
   "cell_type": "code",
   "execution_count": 12,
   "id": "ac75f5d3",
   "metadata": {},
   "outputs": [],
   "source": [
    "import pandas as pd\n",
    "import glob,os\n",
    "import re\n",
    "import warnings\n",
    "warnings.filterwarnings('ignore')\n",
    "import sys\n",
    "sys.path.append(os.path.expanduser(\"~\") + \"/collproc/\")\n",
    "from raw import *\n",
    "from coll import *"
   ]
  },
  {
   "cell_type": "code",
   "execution_count": 2,
   "id": "86bfc0e9",
   "metadata": {},
   "outputs": [],
   "source": [
    "df = pd.read_csv(\"genome_roughness_768_250_501_21_divide.csv\")"
   ]
  },
  {
   "cell_type": "code",
   "execution_count": 3,
   "id": "90d1c0e6",
   "metadata": {},
   "outputs": [],
   "source": [
    "df['fbase'] = [os.path.basename(item)[:-4] for item in df.localpath]"
   ]
  },
  {
   "cell_type": "code",
   "execution_count": 4,
   "id": "b05b5594",
   "metadata": {},
   "outputs": [],
   "source": [
    "df['samploc'] = [item.split(\"/\")[-2] for item in df.localpath]"
   ]
  },
  {
   "cell_type": "code",
   "execution_count": 5,
   "id": "c8a6ab12",
   "metadata": {},
   "outputs": [],
   "source": [
    "df['catalog'] = df.fbase.apply(lambda x: parse_sample_id(x)['catalog'])\n",
    "df['manbran'] = df.fbase.apply(lambda x: parse_sample_id(x)['manbran'])\n",
    "df['mtrial'] = df.fbase.apply(lambda x: parse_sample_id(x)['mtrial'])"
   ]
  },
  {
   "cell_type": "markdown",
   "id": "96c1b3f0",
   "metadata": {},
   "source": [
    "#### Correct manbrans that were skipped because only one letter"
   ]
  },
  {
   "cell_type": "code",
   "execution_count": 6,
   "id": "3b89fa94",
   "metadata": {
    "scrolled": false
   },
   "outputs": [],
   "source": [
    "df.manbran[df.manbran.isnull()] = df.fbase[df.manbran.isnull()].apply(lambda x: x.split(\"_\")[1])"
   ]
  },
  {
   "cell_type": "markdown",
   "id": "cf79a935",
   "metadata": {},
   "source": [
    "#### Correct mtrials"
   ]
  },
  {
   "cell_type": "code",
   "execution_count": 7,
   "id": "adfb9aaf",
   "metadata": {},
   "outputs": [],
   "source": [
    "df.mtrial[df.fbase=='2172_kb_'] = '2'"
   ]
  },
  {
   "cell_type": "code",
   "execution_count": 8,
   "id": "94c5c762",
   "metadata": {},
   "outputs": [],
   "source": [
    "df.mtrial[df.fbase=='97_kv_166'] = '0'\n",
    "df.mtrial[df.fbase=='97_kv_167'] = '1'"
   ]
  },
  {
   "cell_type": "code",
   "execution_count": 9,
   "id": "0a20a22e",
   "metadata": {},
   "outputs": [],
   "source": [
    "df.mtrial[df.fbase=='2982_kp_'] = '2'"
   ]
  },
  {
   "cell_type": "markdown",
   "id": "66289fa4",
   "metadata": {},
   "source": [
    "# 2023-24 Campaign"
   ]
  },
  {
   "cell_type": "code",
   "execution_count": 15,
   "id": "83b2221a",
   "metadata": {},
   "outputs": [],
   "source": [
    "sys.path.append(\"/Users/damoncrockett/ivpy/src\")\n",
    "from ivpy import *\n",
    "from ivpy.extract import extract"
   ]
  },
  {
   "cell_type": "code",
   "execution_count": 14,
   "id": "2c03c4e8",
   "metadata": {},
   "outputs": [],
   "source": [
    "allnew = glob.glob(os.path.join(\"/Users/damoncrockett/lmlproc/data/campaign2023-2024/\",\"*.tif\"))"
   ]
  },
  {
   "cell_type": "code",
   "execution_count": 16,
   "id": "4081a480",
   "metadata": {},
   "outputs": [],
   "source": [
    "nf = pd.DataFrame({\"fname\":allnew})"
   ]
  },
  {
   "cell_type": "code",
   "execution_count": 20,
   "id": "b19ff451",
   "metadata": {},
   "outputs": [],
   "source": [
    "nf['fbase'] = [os.path.basename(item)[:-4] for item in nf.fname]"
   ]
  },
  {
   "cell_type": "code",
   "execution_count": 21,
   "id": "43ff2803",
   "metadata": {},
   "outputs": [],
   "source": [
    "nf['catalog'] = nf.fbase.apply(lambda x: parse_sample_id(x)['catalog'])\n",
    "nf['manbran'] = nf.fbase.apply(lambda x: parse_sample_id(x)['manbran'])\n",
    "nf['mtrial'] = nf.fbase.apply(lambda x: parse_sample_id(x)['mtrial'])"
   ]
  },
  {
   "cell_type": "code",
   "execution_count": 25,
   "id": "16b41151",
   "metadata": {},
   "outputs": [],
   "source": [
    "attach(nf,'fname')"
   ]
  },
  {
   "cell_type": "code",
   "execution_count": 27,
   "id": "ab6872c8",
   "metadata": {},
   "outputs": [
    {
     "name": "stdout",
     "output_type": "stream",
     "text": [
      "5% 10% 15% 20% 25% 30% 35% 40% Image too small to process: /Users/damoncrockett/lmlproc/data/campaign2023-2024/5615a_lb_0.tif\n",
      "unsupported operand type(s) for /: 'NoneType' and 'int'\n",
      "45% 50% 55% 60% 65% 70% Image too small to process: /Users/damoncrockett/lmlproc/data/campaign2023-2024/5615b_lb_1.tif\n",
      "unsupported operand type(s) for /: 'NoneType' and 'int'\n",
      "75% 80% 85% 90% 95% "
     ]
    }
   ],
   "source": [
    "nf['roughness'] = extract(\"roughness\")"
   ]
  },
  {
   "cell_type": "code",
   "execution_count": 41,
   "id": "27abb0e0",
   "metadata": {},
   "outputs": [],
   "source": [
    "nf = nf.loc[~nf.roughness.apply(lambda x: isinstance(x,list))]"
   ]
  },
  {
   "cell_type": "code",
   "execution_count": 44,
   "id": "0cce1342",
   "metadata": {},
   "outputs": [],
   "source": [
    "nf.roughness = nf.roughness.apply(float)"
   ]
  },
  {
   "cell_type": "markdown",
   "id": "9bb05e0f",
   "metadata": {},
   "source": [
    "# Join"
   ]
  },
  {
   "cell_type": "code",
   "execution_count": 47,
   "id": "dc976dc2",
   "metadata": {},
   "outputs": [],
   "source": [
    "nf.rename(columns={\"fname\":\"localpath\"},inplace=True)"
   ]
  },
  {
   "cell_type": "code",
   "execution_count": 69,
   "id": "69ec7a70",
   "metadata": {},
   "outputs": [],
   "source": [
    "nf['samploc'] = 'camp24'"
   ]
  },
  {
   "cell_type": "code",
   "execution_count": 74,
   "id": "47966f59",
   "metadata": {},
   "outputs": [],
   "source": [
    "nf.mtrial = nf.mtrial.fillna('0')"
   ]
  },
  {
   "cell_type": "code",
   "execution_count": 75,
   "id": "4390d04d",
   "metadata": {},
   "outputs": [],
   "source": [
    "#show(nf.localpath.loc[nf.roughness < 0.01])"
   ]
  },
  {
   "cell_type": "code",
   "execution_count": 76,
   "id": "1da2108f",
   "metadata": {},
   "outputs": [],
   "source": [
    "af = pd.concat([df,nf])"
   ]
  },
  {
   "cell_type": "code",
   "execution_count": 77,
   "id": "421fe079",
   "metadata": {},
   "outputs": [],
   "source": [
    "af.to_pickle('raw.pkl')"
   ]
  }
 ],
 "metadata": {
  "kernelspec": {
   "display_name": "Python 3 (ipykernel)",
   "language": "python",
   "name": "python3"
  },
  "language_info": {
   "codemirror_mode": {
    "name": "ipython",
    "version": 3
   },
   "file_extension": ".py",
   "mimetype": "text/x-python",
   "name": "python",
   "nbconvert_exporter": "python",
   "pygments_lexer": "ipython3",
   "version": "3.10.4"
  }
 },
 "nbformat": 4,
 "nbformat_minor": 5
}
