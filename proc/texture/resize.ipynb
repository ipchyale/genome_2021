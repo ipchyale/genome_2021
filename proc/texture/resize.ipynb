{
 "cells": [
  {
   "cell_type": "code",
   "execution_count": 5,
   "id": "ca4d1852",
   "metadata": {},
   "outputs": [],
   "source": [
    "import sys\n",
    "import os,glob\n",
    "sys.path.append(os.path.expanduser(\"~\")+\"/ivpy/src\")\n",
    "from ivpy import *\n",
    "import pandas as pd"
   ]
  },
  {
   "cell_type": "code",
   "execution_count": 6,
   "id": "4fd43339",
   "metadata": {},
   "outputs": [],
   "source": [
    "from ivpy.utils import resize"
   ]
  },
  {
   "cell_type": "code",
   "execution_count": 10,
   "id": "87e026e7",
   "metadata": {},
   "outputs": [],
   "source": [
    "allfiles = glob.glob(os.path.join(\"./texture\",\"*.jpg\"))"
   ]
  },
  {
   "cell_type": "code",
   "execution_count": 11,
   "id": "4c67f34e",
   "metadata": {},
   "outputs": [
    {
     "data": {
      "text/plain": [
       "<function ivpy.utils.resize(savedir=None, pathcol=None, thumb=256, verbose=False, include_dir=False)>"
      ]
     },
     "execution_count": 11,
     "metadata": {},
     "output_type": "execute_result"
    }
   ],
   "source": [
    "resize"
   ]
  },
  {
   "cell_type": "code",
   "execution_count": 12,
   "id": "22391d86",
   "metadata": {},
   "outputs": [],
   "source": [
    "df = pd.DataFrame({\"localpath\":allfiles})"
   ]
  },
  {
   "cell_type": "code",
   "execution_count": 14,
   "id": "f9690b98",
   "metadata": {},
   "outputs": [],
   "source": [
    "attach(df,\"localpath\")"
   ]
  },
  {
   "cell_type": "code",
   "execution_count": 17,
   "id": "afb15214",
   "metadata": {},
   "outputs": [],
   "source": [
    "SAVEDIR = \"/Users/damoncrockett/genome_2021/processing/texture/texture_512\""
   ]
  },
  {
   "cell_type": "code",
   "execution_count": 18,
   "id": "14adb961",
   "metadata": {},
   "outputs": [
    {
     "name": "stderr",
     "output_type": "stream",
     "text": [
      "/Users/damoncrockett/ivpy/src/ivpy/utils.py:38: FutureWarning: The default dtype for empty Series will be 'object' instead of 'float64' in a future version. Specify a dtype explicitly to silence this warning.\n",
      "  pathcol_resized = pd.Series(index=pathcol.index)\n"
     ]
    }
   ],
   "source": [
    "df['localpath_512'] = resize(savedir=SAVEDIR,thumb=512)"
   ]
  },
  {
   "cell_type": "code",
   "execution_count": 19,
   "id": "2f68ee8a",
   "metadata": {},
   "outputs": [],
   "source": [
    "SAVEDIR = \"/Users/damoncrockett/genome_2021/processing/texture/texture_256\""
   ]
  },
  {
   "cell_type": "code",
   "execution_count": 20,
   "id": "a09d9641",
   "metadata": {},
   "outputs": [
    {
     "name": "stderr",
     "output_type": "stream",
     "text": [
      "/Users/damoncrockett/ivpy/src/ivpy/utils.py:38: FutureWarning: The default dtype for empty Series will be 'object' instead of 'float64' in a future version. Specify a dtype explicitly to silence this warning.\n",
      "  pathcol_resized = pd.Series(index=pathcol.index)\n"
     ]
    }
   ],
   "source": [
    "df['localpath_256'] = resize(savedir=SAVEDIR,thumb=256)"
   ]
  }
 ],
 "metadata": {
  "kernelspec": {
   "display_name": "Python 3 (ipykernel)",
   "language": "python",
   "name": "python3"
  },
  "language_info": {
   "codemirror_mode": {
    "name": "ipython",
    "version": 3
   },
   "file_extension": ".py",
   "mimetype": "text/x-python",
   "name": "python",
   "nbconvert_exporter": "python",
   "pygments_lexer": "ipython3",
   "version": "3.10.4"
  }
 },
 "nbformat": 4,
 "nbformat_minor": 5
}
