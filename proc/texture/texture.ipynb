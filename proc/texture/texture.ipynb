{
 "cells": [
  {
   "cell_type": "code",
   "execution_count": 16,
   "metadata": {},
   "outputs": [],
   "source": [
    "import pandas as pd\n",
    "import os\n",
    "import re\n",
    "import warnings\n",
    "warnings.filterwarnings('ignore')\n",
    "import sys\n",
    "sys.path.append(os.path.expanduser(\"~\") + \"/collproc/\")\n",
    "from raw import *\n",
    "from coll import *"
   ]
  },
  {
   "cell_type": "code",
   "execution_count": 2,
   "metadata": {},
   "outputs": [],
   "source": [
    "df = pd.read_csv(\"genome_roughness_768_250_501_21_divide.csv\")"
   ]
  },
  {
   "cell_type": "code",
   "execution_count": 3,
   "metadata": {},
   "outputs": [],
   "source": [
    "df['fbase'] = [os.path.basename(item)[:-4] for item in df.localpath]"
   ]
  },
  {
   "cell_type": "code",
   "execution_count": 4,
   "metadata": {},
   "outputs": [],
   "source": [
    "df['samploc'] = [item.split(\"/\")[-2] for item in df.localpath]"
   ]
  },
  {
   "cell_type": "code",
   "execution_count": 5,
   "metadata": {},
   "outputs": [],
   "source": [
    "df['catalog'] = df.fbase.apply(extract_catalog_number)"
   ]
  },
  {
   "cell_type": "code",
   "execution_count": 6,
   "metadata": {},
   "outputs": [],
   "source": [
    "df['manbran'] = df.fbase.apply(extract_two_letter_code)"
   ]
  },
  {
   "cell_type": "code",
   "execution_count": 7,
   "metadata": {},
   "outputs": [],
   "source": [
    "df['mtrial'] = df.fbase.apply(extract_single_digit)"
   ]
  },
  {
   "cell_type": "markdown",
   "metadata": {},
   "source": [
    "#### Correct manbrans that were skipped because only one letter"
   ]
  },
  {
   "cell_type": "code",
   "execution_count": 8,
   "metadata": {
    "scrolled": false
   },
   "outputs": [],
   "source": [
    "df.manbran[df.manbran.isnull()] = df.fbase[df.manbran.isnull()].apply(lambda x: x.split(\"_\")[1])"
   ]
  },
  {
   "cell_type": "markdown",
   "metadata": {},
   "source": [
    "#### Correct mtrials"
   ]
  },
  {
   "cell_type": "code",
   "execution_count": 9,
   "metadata": {},
   "outputs": [],
   "source": [
    "df.mtrial[df.fbase=='2172_kb_'] = '2'"
   ]
  },
  {
   "cell_type": "code",
   "execution_count": 10,
   "metadata": {},
   "outputs": [],
   "source": [
    "df.mtrial[df.fbase=='97_kv_166'] = '0'\n",
    "df.mtrial[df.fbase=='97_kv_167'] = '1'"
   ]
  },
  {
   "cell_type": "code",
   "execution_count": 11,
   "metadata": {},
   "outputs": [],
   "source": [
    "df.mtrial[df.fbase=='2982_kp_'] = '2'"
   ]
  },
  {
   "cell_type": "markdown",
   "metadata": {},
   "source": [
    "# Enumeration of Cases"
   ]
  },
  {
   "cell_type": "markdown",
   "metadata": {},
   "source": [
    "**<font color='red'>NOTE: I have not processed the new texture captures that Joitree took. I'll have to do that.</font>**"
   ]
  },
  {
   "cell_type": "code",
   "execution_count": 13,
   "metadata": {},
   "outputs": [
    {
     "name": "stdout",
     "output_type": "stream",
     "text": [
      "5149\t5150\t5151\t5154\t97\t1963\t82\t4213\t5198\t2198\t4231\t4945\t4949\t4783s\t1882c\t289c\t289d\t289e\t289f\t2073z\t3202a\t"
     ]
    }
   ],
   "source": [
    "badcats = []\n",
    "for catalog in df.catalog.unique():\n",
    "    tmp = df[df.catalog==catalog]\n",
    "    tmp.mtrial = tmp.mtrial.apply(int)\n",
    "    tmp = tmp.sort_values('mtrial')\n",
    "    \n",
    "    # if all measurements are from same dir, have same manbran, and trial indices are consecutive, then ignore\n",
    "    if all([len(tmp.samploc.unique())==1,len(tmp.manbran.unique())==1,is_consecutive(tmp.mtrial)]):\n",
    "        continue\n",
    "    else:\n",
    "        print(catalog,end='\\t')\n",
    "        badcats.append(catalog)"
   ]
  },
  {
   "cell_type": "code",
   "execution_count": 14,
   "metadata": {},
   "outputs": [],
   "source": [
    "df = df[~df.catalog.isin(badcats)]"
   ]
  },
  {
   "cell_type": "code",
   "execution_count": 18,
   "metadata": {},
   "outputs": [],
   "source": [
    "pkl(df,'x.pkl')"
   ]
  },
  {
   "cell_type": "code",
   "execution_count": null,
   "metadata": {},
   "outputs": [],
   "source": []
  }
 ],
 "metadata": {
  "kernelspec": {
   "display_name": "Python 3",
   "language": "python",
   "name": "python3"
  },
  "language_info": {
   "codemirror_mode": {
    "name": "ipython",
    "version": 3
   },
   "file_extension": ".py",
   "mimetype": "text/x-python",
   "name": "python",
   "nbconvert_exporter": "python",
   "pygments_lexer": "ipython3",
   "version": "3.6.5"
  }
 },
 "nbformat": 4,
 "nbformat_minor": 5
}
