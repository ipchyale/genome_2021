{
 "cells": [
  {
   "cell_type": "code",
   "execution_count": 1,
   "id": "0f088a21",
   "metadata": {},
   "outputs": [],
   "source": [
    "import pandas as pd\n",
    "import os\n",
    "import re\n",
    "import warnings\n",
    "warnings.filterwarnings('ignore')\n",
    "import sys\n",
    "sys.path.append(\"/Users/damoncrockett/collproc/\")\n",
    "from raw import *"
   ]
  },
  {
   "cell_type": "code",
   "execution_count": 2,
   "id": "7225a50e",
   "metadata": {},
   "outputs": [],
   "source": [
    "df = pd.read_csv(\"genome_roughness_768_250_501_21_divide.csv\")"
   ]
  },
  {
   "cell_type": "code",
   "execution_count": 3,
   "id": "99ebbde0",
   "metadata": {},
   "outputs": [],
   "source": [
    "df['fbase'] = [os.path.basename(item)[:-4] for item in df.localpath]"
   ]
  },
  {
   "cell_type": "code",
   "execution_count": 4,
   "id": "f12175ae",
   "metadata": {},
   "outputs": [],
   "source": [
    "df['samploc'] = [item.split(\"/\")[-2] for item in df.localpath]"
   ]
  },
  {
   "cell_type": "code",
   "execution_count": 5,
   "id": "fceda2a8",
   "metadata": {},
   "outputs": [],
   "source": [
    "df['catalog'] = df.fbase.apply(extract_catalog_number)"
   ]
  },
  {
   "cell_type": "code",
   "execution_count": 6,
   "id": "458e9f86",
   "metadata": {},
   "outputs": [],
   "source": [
    "df['manbran'] = df.fbase.apply(extract_two_letter_code)"
   ]
  },
  {
   "cell_type": "code",
   "execution_count": 7,
   "id": "adc8a81d",
   "metadata": {},
   "outputs": [],
   "source": [
    "df['mtrial'] = df.fbase.apply(extract_single_digit)"
   ]
  },
  {
   "cell_type": "markdown",
   "id": "13984a35",
   "metadata": {},
   "source": [
    "#### Correct manbrans that were skipped because only one letter"
   ]
  },
  {
   "cell_type": "code",
   "execution_count": 8,
   "id": "6058e336",
   "metadata": {
    "scrolled": false
   },
   "outputs": [],
   "source": [
    "df.manbran[df.manbran.isnull()] = df.fbase[df.manbran.isnull()].apply(lambda x: x.split(\"_\")[1])"
   ]
  },
  {
   "cell_type": "markdown",
   "id": "b5689800",
   "metadata": {},
   "source": [
    "#### Correct mtrials"
   ]
  },
  {
   "cell_type": "code",
   "execution_count": 9,
   "id": "a534fe65",
   "metadata": {},
   "outputs": [],
   "source": [
    "df.mtrial[df.fbase=='2172_kb_'] = '2'"
   ]
  },
  {
   "cell_type": "code",
   "execution_count": 10,
   "id": "fddb406a",
   "metadata": {},
   "outputs": [],
   "source": [
    "df.mtrial[df.fbase=='97_kv_166'] = '0'\n",
    "df.mtrial[df.fbase=='97_kv_167'] = '1'"
   ]
  },
  {
   "cell_type": "code",
   "execution_count": 11,
   "id": "409f23f5",
   "metadata": {},
   "outputs": [],
   "source": [
    "df.mtrial[df.fbase=='2982_kp_'] = '2'"
   ]
  },
  {
   "cell_type": "markdown",
   "id": "651eb971",
   "metadata": {},
   "source": [
    "# Enumeration of Cases"
   ]
  },
  {
   "cell_type": "markdown",
   "id": "953694eb",
   "metadata": {},
   "source": [
    "**<font color='red'>NOTE: I have not processed the new texture captures that Joitree took. I'll have to do that.</font>**"
   ]
  },
  {
   "cell_type": "code",
   "execution_count": 12,
   "id": "cfd2efa3",
   "metadata": {},
   "outputs": [
    {
     "name": "stdout",
     "output_type": "stream",
     "text": [
      "5149\t5150\t5151\t5154\t97\t1963\t82\t4213\t5198\t2198\t4231\t4945\t4949\t4783s\t1882c\t289c\t289d\t289e\t289f\t2073z\t3202a\t"
     ]
    }
   ],
   "source": [
    "for catalog in df.catalog.unique():\n",
    "    tmp = df[df.catalog==catalog]\n",
    "    tmp.mtrial = tmp.mtrial.apply(int)\n",
    "    tmp = tmp.sort_values('mtrial')\n",
    "    \n",
    "    # if all measurements are from same dir, have same manbran, and trial indices are consecutive, then ignore\n",
    "    if all([len(tmp.samploc.unique())==1,len(tmp.manbran.unique())==1,is_consecutive(tmp.mtrial)]):\n",
    "        continue\n",
    "    else:\n",
    "        print(catalog,end='\\t')"
   ]
  },
  {
   "cell_type": "code",
   "execution_count": 13,
   "id": "add0d282",
   "metadata": {},
   "outputs": [
    {
     "data": {
      "text/html": [
       "<div>\n",
       "<style scoped>\n",
       "    .dataframe tbody tr th:only-of-type {\n",
       "        vertical-align: middle;\n",
       "    }\n",
       "\n",
       "    .dataframe tbody tr th {\n",
       "        vertical-align: top;\n",
       "    }\n",
       "\n",
       "    .dataframe thead th {\n",
       "        text-align: right;\n",
       "    }\n",
       "</style>\n",
       "<table border=\"1\" class=\"dataframe\">\n",
       "  <thead>\n",
       "    <tr style=\"text-align: right;\">\n",
       "      <th></th>\n",
       "      <th>localpath</th>\n",
       "      <th>roughness</th>\n",
       "      <th>fbase</th>\n",
       "      <th>samploc</th>\n",
       "      <th>catalog</th>\n",
       "      <th>manbran</th>\n",
       "      <th>mtrial</th>\n",
       "    </tr>\n",
       "  </thead>\n",
       "  <tbody>\n",
       "    <tr>\n",
       "      <th>11340</th>\n",
       "      <td>/Volumes/G-DRIVE Thunderbolt 3/genome_texture/...</td>\n",
       "      <td>0.054552</td>\n",
       "      <td>3202a_ka_0</td>\n",
       "      <td>texture_box3.4_jd</td>\n",
       "      <td>3202a</td>\n",
       "      <td>ka</td>\n",
       "      <td>0</td>\n",
       "    </tr>\n",
       "    <tr>\n",
       "      <th>11341</th>\n",
       "      <td>/Volumes/G-DRIVE Thunderbolt 3/genome_texture/...</td>\n",
       "      <td>0.050861</td>\n",
       "      <td>3202a_ka_1</td>\n",
       "      <td>texture_box3.4_jd</td>\n",
       "      <td>3202a</td>\n",
       "      <td>ka</td>\n",
       "      <td>1</td>\n",
       "    </tr>\n",
       "    <tr>\n",
       "      <th>11342</th>\n",
       "      <td>/Volumes/G-DRIVE Thunderbolt 3/genome_texture/...</td>\n",
       "      <td>0.050579</td>\n",
       "      <td>3202a_ka_2</td>\n",
       "      <td>texture_box3.4_jd</td>\n",
       "      <td>3202a</td>\n",
       "      <td>ka</td>\n",
       "      <td>2</td>\n",
       "    </tr>\n",
       "    <tr>\n",
       "      <th>11343</th>\n",
       "      <td>/Volumes/G-DRIVE Thunderbolt 3/genome_texture/...</td>\n",
       "      <td>0.028498</td>\n",
       "      <td>3202a_ka_4</td>\n",
       "      <td>texture_box3.4_jd</td>\n",
       "      <td>3202a</td>\n",
       "      <td>ka</td>\n",
       "      <td>4</td>\n",
       "    </tr>\n",
       "  </tbody>\n",
       "</table>\n",
       "</div>"
      ],
      "text/plain": [
       "                                               localpath  roughness  \\\n",
       "11340  /Volumes/G-DRIVE Thunderbolt 3/genome_texture/...   0.054552   \n",
       "11341  /Volumes/G-DRIVE Thunderbolt 3/genome_texture/...   0.050861   \n",
       "11342  /Volumes/G-DRIVE Thunderbolt 3/genome_texture/...   0.050579   \n",
       "11343  /Volumes/G-DRIVE Thunderbolt 3/genome_texture/...   0.028498   \n",
       "\n",
       "            fbase            samploc catalog manbran mtrial  \n",
       "11340  3202a_ka_0  texture_box3.4_jd   3202a      ka      0  \n",
       "11341  3202a_ka_1  texture_box3.4_jd   3202a      ka      1  \n",
       "11342  3202a_ka_2  texture_box3.4_jd   3202a      ka      2  \n",
       "11343  3202a_ka_4  texture_box3.4_jd   3202a      ka      4  "
      ]
     },
     "execution_count": 13,
     "metadata": {},
     "output_type": "execute_result"
    }
   ],
   "source": [
    "df[df.catalog=='3202a']"
   ]
  },
  {
   "cell_type": "code",
   "execution_count": null,
   "id": "d639cf2d",
   "metadata": {},
   "outputs": [],
   "source": []
  }
 ],
 "metadata": {
  "kernelspec": {
   "display_name": "Python 3 (ipykernel)",
   "language": "python",
   "name": "python3"
  },
  "language_info": {
   "codemirror_mode": {
    "name": "ipython",
    "version": 3
   },
   "file_extension": ".py",
   "mimetype": "text/x-python",
   "name": "python",
   "nbconvert_exporter": "python",
   "pygments_lexer": "ipython3",
   "version": "3.10.4"
  }
 },
 "nbformat": 4,
 "nbformat_minor": 5
}
