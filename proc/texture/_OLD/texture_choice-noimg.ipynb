{
 "cells": [
  {
   "cell_type": "code",
   "execution_count": 1,
   "id": "7d2e2341",
   "metadata": {},
   "outputs": [],
   "source": [
    "import pandas as pd\n",
    "import os\n",
    "import numpy as np\n",
    "import warnings\n",
    "warnings.filterwarnings(\"ignore\")"
   ]
  },
  {
   "cell_type": "code",
   "execution_count": 2,
   "id": "ed10186a",
   "metadata": {},
   "outputs": [],
   "source": [
    "HOME = os.path.expanduser(\"~\") + \"/\""
   ]
  },
  {
   "cell_type": "code",
   "execution_count": 4,
   "id": "4bd2d73b",
   "metadata": {},
   "outputs": [],
   "source": [
    "df = pd.read_csv(HOME + \"lmlproc/proc/texture/genome_roughness_768_250_501_21_divide.csv\")"
   ]
  },
  {
   "cell_type": "code",
   "execution_count": 47,
   "id": "2fa8a302",
   "metadata": {},
   "outputs": [
    {
     "data": {
      "text/plain": [
       "{3, 4}"
      ]
     },
     "execution_count": 47,
     "metadata": {},
     "output_type": "execute_result"
    }
   ],
   "source": [
    "set([len(os.path.basename(item).split(\"_\")) for item in df.localpath])"
   ]
  },
  {
   "cell_type": "code",
   "execution_count": 48,
   "id": "fde15789",
   "metadata": {},
   "outputs": [
    {
     "data": {
      "text/plain": [
       "['/Volumes/G-DRIVE Thunderbolt 3/genome_texture/LML Collection/texture_binder4_jd/4213_mt_b_0.tif',\n",
       " '/Volumes/G-DRIVE Thunderbolt 3/genome_texture/LML Collection/texture_binder4_jd/4213_mt_b_1.tif',\n",
       " '/Volumes/G-DRIVE Thunderbolt 3/genome_texture/LML Collection/texture_binder4_jd/4213_mt_b_2.tif',\n",
       " '/Volumes/G-DRIVE Thunderbolt 3/genome_texture/LML Collection/texture_binder4_jd/4213_mt_r_0.tif',\n",
       " '/Volumes/G-DRIVE Thunderbolt 3/genome_texture/LML Collection/texture_binder4_jd/4213_mt_r_1.tif',\n",
       " '/Volumes/G-DRIVE Thunderbolt 3/genome_texture/LML Collection/texture_binder4_jd/4213_mt_r_2.tif',\n",
       " '/Volumes/G-DRIVE Thunderbolt 3/genome_texture/LML Collection/texture_binder4_jd/4213_mt_y_0.tif',\n",
       " '/Volumes/G-DRIVE Thunderbolt 3/genome_texture/LML Collection/texture_binder4_jd/4213_mt_y_1.tif',\n",
       " '/Volumes/G-DRIVE Thunderbolt 3/genome_texture/LML Collection/texture_binder4_jd/4213_mt_y_2.tif',\n",
       " '/Volumes/G-DRIVE Thunderbolt 3/genome_texture/LML Collection/texture_binder7_jd/1844__im_0.tif',\n",
       " '/Volumes/G-DRIVE Thunderbolt 3/genome_texture/LML Collection/texture_binder7_jd/1844__im_1.tif',\n",
       " '/Volumes/G-DRIVE Thunderbolt 3/genome_texture/LML Collection/texture_binder7_jd/1844__im_2.tif',\n",
       " '/Volumes/G-DRIVE Thunderbolt 3/genome_texture/LML Collection/texture_box1.1_jd/904x_kc_c_0.tif',\n",
       " '/Volumes/G-DRIVE Thunderbolt 3/genome_texture/LML Collection/texture_box1.1_jd/904x_kc_c_1.tif',\n",
       " '/Volumes/G-DRIVE Thunderbolt 3/genome_texture/LML Collection/texture_box1.1_jd/904x_kc_c_2.tif',\n",
       " '/Volumes/G-DRIVE Thunderbolt 3/genome_texture/LML Collection/texture_box1.1_jd/904z_kv_c_0.tif',\n",
       " '/Volumes/G-DRIVE Thunderbolt 3/genome_texture/LML Collection/texture_box1.1_jd/904z_kv_c_1.tif',\n",
       " '/Volumes/G-DRIVE Thunderbolt 3/genome_texture/LML Collection/texture_box1.1_jd/904z_kv_c_2.tif',\n",
       " '/Volumes/G-DRIVE Thunderbolt 3/genome_texture/LML Collection/texture_box1.1_jd/940k_kc_c_1.tif',\n",
       " '/Volumes/G-DRIVE Thunderbolt 3/genome_texture/LML Collection/texture_box1.1_jd/940k_kc_c_2.tif']"
      ]
     },
     "execution_count": 48,
     "metadata": {},
     "output_type": "execute_result"
    }
   ],
   "source": [
    "[item for item in df.localpath if len(os.path.basename(item).split(\"_\"))==4]"
   ]
  },
  {
   "cell_type": "code",
   "execution_count": 49,
   "id": "ab1c58f7",
   "metadata": {},
   "outputs": [],
   "source": [
    "df['catalog'] = [os.path.basename(item).split(\"_\")[0] for item in df.localpath]"
   ]
  },
  {
   "cell_type": "code",
   "execution_count": 50,
   "id": "c59eeef2",
   "metadata": {},
   "outputs": [],
   "source": [
    "badlist = ['_r_','_y_','_c_','_b_']"
   ]
  },
  {
   "cell_type": "code",
   "execution_count": 51,
   "id": "c0ca09cc",
   "metadata": {},
   "outputs": [],
   "source": [
    "for item in badlist:\n",
    "    df = df[~df.localpath.str.contains(item)]"
   ]
  },
  {
   "cell_type": "code",
   "execution_count": 52,
   "id": "31e84187",
   "metadata": {},
   "outputs": [
    {
     "data": {
      "text/plain": [
       "5586"
      ]
     },
     "execution_count": 52,
     "metadata": {},
     "output_type": "execute_result"
    }
   ],
   "source": [
    "len(df.catalog.unique())"
   ]
  },
  {
   "cell_type": "markdown",
   "id": "e027cc11",
   "metadata": {},
   "source": [
    "#### Have to remove nulls below; didn't last time, not sure why"
   ]
  },
  {
   "cell_type": "code",
   "execution_count": 53,
   "id": "a1eb4d28",
   "metadata": {},
   "outputs": [],
   "source": [
    "df = df[df.roughness.notnull()]\n",
    "df = df.reset_index(drop=True)"
   ]
  },
  {
   "cell_type": "code",
   "execution_count": 54,
   "id": "f8970a60",
   "metadata": {},
   "outputs": [],
   "source": [
    "rows = []\n",
    "for catalog in df.catalog.unique():\n",
    "    tmp = df[df.catalog==catalog]\n",
    "    median_roughness = np.median(tmp.roughness)\n",
    "    tmp['difference_from_median'] = tmp.roughness.apply(lambda x: abs(median_roughness - x))\n",
    "    tmp = tmp[tmp.difference_from_median == tmp.difference_from_median.min()].iloc[0]\n",
    "    rows.append(tmp)"
   ]
  },
  {
   "cell_type": "code",
   "execution_count": 55,
   "id": "49e430c4",
   "metadata": {},
   "outputs": [],
   "source": [
    "df = pd.DataFrame(rows)"
   ]
  },
  {
   "cell_type": "code",
   "execution_count": 56,
   "id": "88662f09",
   "metadata": {},
   "outputs": [
    {
     "data": {
      "text/plain": [
       "1002      1\n",
       "2968ee    1\n",
       "2968ii    1\n",
       "2968i     1\n",
       "2968hh    1\n",
       "Name: catalog, dtype: int64"
      ]
     },
     "execution_count": 56,
     "metadata": {},
     "output_type": "execute_result"
    }
   ],
   "source": [
    "df.catalog.value_counts().head()"
   ]
  },
  {
   "cell_type": "code",
   "execution_count": 58,
   "id": "842d845d",
   "metadata": {},
   "outputs": [
    {
     "data": {
      "text/html": [
       "<div>\n",
       "<style scoped>\n",
       "    .dataframe tbody tr th:only-of-type {\n",
       "        vertical-align: middle;\n",
       "    }\n",
       "\n",
       "    .dataframe tbody tr th {\n",
       "        vertical-align: top;\n",
       "    }\n",
       "\n",
       "    .dataframe thead th {\n",
       "        text-align: right;\n",
       "    }\n",
       "</style>\n",
       "<table border=\"1\" class=\"dataframe\">\n",
       "  <thead>\n",
       "    <tr style=\"text-align: right;\">\n",
       "      <th></th>\n",
       "      <th>localpath</th>\n",
       "      <th>roughness</th>\n",
       "      <th>catalog</th>\n",
       "      <th>difference_from_median</th>\n",
       "    </tr>\n",
       "  </thead>\n",
       "  <tbody>\n",
       "    <tr>\n",
       "      <th>1</th>\n",
       "      <td>/Volumes/G-DRIVE Thunderbolt 3/genome_texture/...</td>\n",
       "      <td>0.032677</td>\n",
       "      <td>1002</td>\n",
       "      <td>0.0</td>\n",
       "    </tr>\n",
       "    <tr>\n",
       "      <th>3</th>\n",
       "      <td>/Volumes/G-DRIVE Thunderbolt 3/genome_texture/...</td>\n",
       "      <td>0.029359</td>\n",
       "      <td>1003</td>\n",
       "      <td>0.0</td>\n",
       "    </tr>\n",
       "    <tr>\n",
       "      <th>8</th>\n",
       "      <td>/Volumes/G-DRIVE Thunderbolt 3/genome_texture/...</td>\n",
       "      <td>0.043097</td>\n",
       "      <td>100</td>\n",
       "      <td>0.0</td>\n",
       "    </tr>\n",
       "    <tr>\n",
       "      <th>9</th>\n",
       "      <td>/Volumes/G-DRIVE Thunderbolt 3/genome_texture/...</td>\n",
       "      <td>0.042753</td>\n",
       "      <td>1021</td>\n",
       "      <td>0.0</td>\n",
       "    </tr>\n",
       "    <tr>\n",
       "      <th>13</th>\n",
       "      <td>/Volumes/G-DRIVE Thunderbolt 3/genome_texture/...</td>\n",
       "      <td>0.027134</td>\n",
       "      <td>1223</td>\n",
       "      <td>0.0</td>\n",
       "    </tr>\n",
       "  </tbody>\n",
       "</table>\n",
       "</div>"
      ],
      "text/plain": [
       "                                            localpath  roughness catalog  \\\n",
       "1   /Volumes/G-DRIVE Thunderbolt 3/genome_texture/...   0.032677    1002   \n",
       "3   /Volumes/G-DRIVE Thunderbolt 3/genome_texture/...   0.029359    1003   \n",
       "8   /Volumes/G-DRIVE Thunderbolt 3/genome_texture/...   0.043097     100   \n",
       "9   /Volumes/G-DRIVE Thunderbolt 3/genome_texture/...   0.042753    1021   \n",
       "13  /Volumes/G-DRIVE Thunderbolt 3/genome_texture/...   0.027134    1223   \n",
       "\n",
       "    difference_from_median  \n",
       "1                      0.0  \n",
       "3                      0.0  \n",
       "8                      0.0  \n",
       "9                      0.0  \n",
       "13                     0.0  "
      ]
     },
     "execution_count": 58,
     "metadata": {},
     "output_type": "execute_result"
    }
   ],
   "source": [
    "df.head()"
   ]
  },
  {
   "cell_type": "code",
   "execution_count": 59,
   "id": "7ef13831",
   "metadata": {},
   "outputs": [],
   "source": [
    "df = df[['localpath','catalog','roughness']]"
   ]
  },
  {
   "cell_type": "code",
   "execution_count": 60,
   "id": "6a31c6eb",
   "metadata": {},
   "outputs": [],
   "source": [
    "df.to_csv(\"texture.csv\",index=False)"
   ]
  },
  {
   "cell_type": "code",
   "execution_count": 61,
   "id": "37687125",
   "metadata": {},
   "outputs": [
    {
     "data": {
      "text/plain": [
       "5586"
      ]
     },
     "execution_count": 61,
     "metadata": {},
     "output_type": "execute_result"
    }
   ],
   "source": [
    "len(df)"
   ]
  },
  {
   "cell_type": "code",
   "execution_count": null,
   "id": "616f9b1d",
   "metadata": {},
   "outputs": [],
   "source": []
  }
 ],
 "metadata": {
  "kernelspec": {
   "display_name": "Python 3 (ipykernel)",
   "language": "python",
   "name": "python3"
  },
  "language_info": {
   "codemirror_mode": {
    "name": "ipython",
    "version": 3
   },
   "file_extension": ".py",
   "mimetype": "text/x-python",
   "name": "python",
   "nbconvert_exporter": "python",
   "pygments_lexer": "ipython3",
   "version": "3.10.4"
  }
 },
 "nbformat": 4,
 "nbformat_minor": 5
}
