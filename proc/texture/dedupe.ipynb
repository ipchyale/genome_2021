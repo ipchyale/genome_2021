{
 "cells": [
  {
   "cell_type": "code",
   "execution_count": 1,
   "id": "ac75f5d3",
   "metadata": {},
   "outputs": [],
   "source": [
    "import pandas as pd\n",
    "import os\n",
    "import re\n",
    "import warnings\n",
    "warnings.filterwarnings('ignore')\n",
    "import sys\n",
    "sys.path.append(os.path.expanduser(\"~\") + \"/collproc/\")\n",
    "from raw import *\n",
    "from coll import *"
   ]
  },
  {
   "cell_type": "code",
   "execution_count": 2,
   "id": "54d62ea2",
   "metadata": {},
   "outputs": [],
   "source": [
    "df = unpkl('raw_corrections.pkl')"
   ]
  },
  {
   "cell_type": "markdown",
   "id": "c33141ff",
   "metadata": {},
   "source": [
    "# Known corrections"
   ]
  },
  {
   "cell_type": "code",
   "execution_count": 3,
   "id": "3092af72",
   "metadata": {},
   "outputs": [],
   "source": [
    "idxs = df.loc[(df.catalog=='97')&(df.samploc=='texture_binder5_jd')].index # unresolvable typo\n",
    "df = df.drop(idxs)"
   ]
  },
  {
   "cell_type": "code",
   "execution_count": 4,
   "id": "768373fb",
   "metadata": {},
   "outputs": [],
   "source": [
    "df = df.loc[~df.fbase.str.contains('82_nn')] # unresolvable typo\n",
    "df = df.loc[~df.fbase.str.contains('2078f_gb')]"
   ]
  },
  {
   "cell_type": "code",
   "execution_count": 5,
   "id": "0629f8db",
   "metadata": {},
   "outputs": [],
   "source": [
    "df = df.loc[~df.catalog.str.contains('4213')] # yellow, blue, and red strips"
   ]
  },
  {
   "cell_type": "code",
   "execution_count": 6,
   "id": "f0545d7d",
   "metadata": {},
   "outputs": [],
   "source": [
    "df.catalog.loc[(df.catalog.str.contains('289'))&(df.samploc=='texture_box6.1_jd')] = df.catalog.loc[(df.catalog.str.contains('289'))&(df.samploc=='texture_box6.1_jd')].apply(lambda x: x.replace('9','7'))"
   ]
  },
  {
   "cell_type": "code",
   "execution_count": 7,
   "id": "959fbe75",
   "metadata": {},
   "outputs": [],
   "source": [
    "df = df.loc[df.fbase!='3202a_ka_4']"
   ]
  },
  {
   "cell_type": "code",
   "execution_count": 8,
   "id": "d90b2867",
   "metadata": {},
   "outputs": [],
   "source": [
    "def binder_correction(df,catalog,binder,repl):\n",
    "    df.catalog.loc[(df.catalog==catalog)&(df.samploc.str.contains(binder))] = repl"
   ]
  },
  {
   "cell_type": "code",
   "execution_count": 9,
   "id": "1b75936c",
   "metadata": {},
   "outputs": [],
   "source": [
    "def manbran_correction(df,catalog,manbran,repl):\n",
    "    df.catalog.loc[(df.catalog==catalog)&(df.manbran==manbran)] = repl"
   ]
  },
  {
   "cell_type": "code",
   "execution_count": 10,
   "id": "bbf53cd5",
   "metadata": {},
   "outputs": [],
   "source": [
    "binder_correction(df,'1963','binder3','1693')\n",
    "manbran_correction(df,'5198','ke','5189')"
   ]
  },
  {
   "cell_type": "code",
   "execution_count": 11,
   "id": "f62f2da1",
   "metadata": {},
   "outputs": [],
   "source": [
    "#db = pd.read_pickle(\"../../db.pkl\")"
   ]
  },
  {
   "cell_type": "markdown",
   "id": "23930354",
   "metadata": {},
   "source": [
    "# Enumeration of Cases"
   ]
  },
  {
   "cell_type": "code",
   "execution_count": 12,
   "id": "43299175",
   "metadata": {},
   "outputs": [],
   "source": [
    "df = df.loc[~df.catalog.isin(['5149','5151'])]"
   ]
  },
  {
   "cell_type": "code",
   "execution_count": 13,
   "id": "0366037d",
   "metadata": {},
   "outputs": [],
   "source": [
    "df.catalog.loc[(df.catalog=='4945')&(df.samploc=='texture_binder7_jd')] = '5554'"
   ]
  },
  {
   "cell_type": "code",
   "execution_count": 14,
   "id": "621ef5ae",
   "metadata": {},
   "outputs": [],
   "source": [
    "# legit re-measures or manbran typos\n",
    "\n",
    "exact_whitelist = [\n",
    "    '2198','4783s','1882c','5150','5154','4231','4949','2234','2639g','1023k','2075z','294u','5513l',\n",
    "    '5528a','5529q','5612c','5494i','5490d','5615b','5618'\n",
    "] \n",
    "sb_whitelist = ['5207','902','4783','4793','4885']"
   ]
  },
  {
   "cell_type": "code",
   "execution_count": 15,
   "id": "0b619482",
   "metadata": {},
   "outputs": [],
   "source": [
    "for catalog in df.catalog.unique():\n",
    "    tmp = df[df.catalog==catalog]\n",
    "    tmp.mtrial = tmp.mtrial.apply(int)\n",
    "    tmp = tmp.sort_values('mtrial')\n",
    "    \n",
    "    # if all measurements are from same dir, have same manbran, and trial indices are consecutive, then ignore\n",
    "    if all([len(tmp.samploc.unique())==1,len(tmp.manbran.unique())==1,is_consecutive(tmp.mtrial)]):\n",
    "        continue\n",
    "    if catalog in exact_whitelist: \n",
    "        continue\n",
    "    barecat = ''.join([s for s in catalog if s.isdigit()])\n",
    "    if barecat in sb_whitelist:\n",
    "        continue\n",
    "    else:\n",
    "        print(catalog,end='\\t')"
   ]
  },
  {
   "cell_type": "markdown",
   "id": "a6beb60b",
   "metadata": {},
   "source": [
    "# 5515, 5516 issue"
   ]
  },
  {
   "cell_type": "markdown",
   "id": "882781a3",
   "metadata": {},
   "source": [
    "Some cataloger made an error lettering these samples, and it has caused a lot of trouble, because many folks just ignore the letters and write what they think should come next. There is no 5515x or 5516x."
   ]
  },
  {
   "cell_type": "code",
   "execution_count": 26,
   "id": "a930b495",
   "metadata": {},
   "outputs": [],
   "source": [
    "df = df.loc[~df.catalog.isin(['5515x','5516x'])]"
   ]
  },
  {
   "cell_type": "code",
   "execution_count": 27,
   "id": "0660455b",
   "metadata": {},
   "outputs": [],
   "source": [
    "df = df.reset_index(drop=True)"
   ]
  },
  {
   "cell_type": "code",
   "execution_count": 28,
   "id": "baa36c26",
   "metadata": {},
   "outputs": [],
   "source": [
    "df.to_pickle('raw_corrections_dedupe.pkl')"
   ]
  }
 ],
 "metadata": {
  "kernelspec": {
   "display_name": "Python 3 (ipykernel)",
   "language": "python",
   "name": "python3"
  },
  "language_info": {
   "codemirror_mode": {
    "name": "ipython",
    "version": 3
   },
   "file_extension": ".py",
   "mimetype": "text/x-python",
   "name": "python",
   "nbconvert_exporter": "python",
   "pygments_lexer": "ipython3",
   "version": "3.10.4"
  }
 },
 "nbformat": 4,
 "nbformat_minor": 5
}
