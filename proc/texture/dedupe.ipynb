{
 "cells": [
  {
   "cell_type": "code",
   "execution_count": 2,
   "id": "ac75f5d3",
   "metadata": {},
   "outputs": [],
   "source": [
    "import pandas as pd\n",
    "import os\n",
    "import re\n",
    "import warnings\n",
    "warnings.filterwarnings('ignore')\n",
    "import sys\n",
    "sys.path.append(os.path.expanduser(\"~\") + \"/collproc/\")\n",
    "from raw import *\n",
    "from coll import *"
   ]
  },
  {
   "cell_type": "code",
   "execution_count": 3,
   "id": "54d62ea2",
   "metadata": {},
   "outputs": [],
   "source": [
    "df = unpkl('raw.pkl')"
   ]
  },
  {
   "cell_type": "markdown",
   "id": "23930354",
   "metadata": {},
   "source": [
    "# Enumeration of Cases"
   ]
  },
  {
   "cell_type": "markdown",
   "id": "c21513ba",
   "metadata": {},
   "source": [
    "**<font color='red'>NOTE: I have not processed the new texture captures that Joitree took. I'll have to do that.</font>**"
   ]
  },
  {
   "cell_type": "code",
   "execution_count": 13,
   "id": "0b619482",
   "metadata": {},
   "outputs": [
    {
     "name": "stdout",
     "output_type": "stream",
     "text": [
      "5149\t5150\t5151\t5154\t97\t1963\t82\t4213\t5198\t2198\t4231\t4945\t4949\t4783s\t1882c\t289c\t289d\t289e\t289f\t2073z\t3202a\t"
     ]
    }
   ],
   "source": [
    "for catalog in df.catalog.unique():\n",
    "    tmp = df[df.catalog==catalog]\n",
    "    tmp.mtrial = tmp.mtrial.apply(int)\n",
    "    tmp = tmp.sort_values('mtrial')\n",
    "    \n",
    "    # if all measurements are from same dir, have same manbran, and trial indices are consecutive, then ignore\n",
    "    if all([len(tmp.samploc.unique())==1,len(tmp.manbran.unique())==1,is_consecutive(tmp.mtrial)]):\n",
    "        continue\n",
    "    else:\n",
    "        print(catalog,end='\\t')"
   ]
  },
  {
   "cell_type": "code",
   "execution_count": null,
   "id": "5850f545",
   "metadata": {},
   "outputs": [],
   "source": []
  }
 ],
 "metadata": {
  "kernelspec": {
   "display_name": "Python 3 (ipykernel)",
   "language": "python",
   "name": "python3"
  },
  "language_info": {
   "codemirror_mode": {
    "name": "ipython",
    "version": 3
   },
   "file_extension": ".py",
   "mimetype": "text/x-python",
   "name": "python",
   "nbconvert_exporter": "python",
   "pygments_lexer": "ipython3",
   "version": "3.10.4"
  }
 },
 "nbformat": 4,
 "nbformat_minor": 5
}
