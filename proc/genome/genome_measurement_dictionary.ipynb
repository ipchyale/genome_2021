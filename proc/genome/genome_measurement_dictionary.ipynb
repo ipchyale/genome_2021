{
 "cells": [
  {
   "cell_type": "code",
   "execution_count": 1,
   "id": "05714ead",
   "metadata": {},
   "outputs": [],
   "source": [
    "d = {}"
   ]
  },
  {
   "cell_type": "code",
   "execution_count": 2,
   "id": "0b036285",
   "metadata": {},
   "outputs": [],
   "source": [
    "import pandas as pd"
   ]
  },
  {
   "cell_type": "markdown",
   "id": "1f0517ef",
   "metadata": {},
   "source": [
    "# thickness"
   ]
  },
  {
   "cell_type": "code",
   "execution_count": 3,
   "id": "58796bec",
   "metadata": {},
   "outputs": [],
   "source": [
    "tf = pd.read_csv(\"../thickness/thickness_disagg.csv\")"
   ]
  },
  {
   "cell_type": "code",
   "execution_count": 4,
   "id": "4a46c216",
   "metadata": {},
   "outputs": [],
   "source": [
    "tf = tf.drop_duplicates()"
   ]
  },
  {
   "cell_type": "code",
   "execution_count": 5,
   "id": "60f4915e",
   "metadata": {},
   "outputs": [],
   "source": [
    "tf = tf.reset_index(drop=True)"
   ]
  },
  {
   "cell_type": "code",
   "execution_count": 6,
   "id": "9b5e605c",
   "metadata": {},
   "outputs": [],
   "source": [
    "def checkval(v):\n",
    "    try:\n",
    "        return float(v)\n",
    "    except:\n",
    "        return None"
   ]
  },
  {
   "cell_type": "code",
   "execution_count": 7,
   "id": "a2ec8a00",
   "metadata": {},
   "outputs": [],
   "source": [
    "tf.iloc[:,1:] = tf.iloc[:,1:].applymap(checkval)"
   ]
  },
  {
   "cell_type": "code",
   "execution_count": 8,
   "id": "232f4184",
   "metadata": {},
   "outputs": [],
   "source": [
    "tf['m'] = [list(tf.iloc[i,1:][tf.iloc[i,1:].notnull()]) for i in tf.index]"
   ]
  },
  {
   "cell_type": "code",
   "execution_count": 9,
   "id": "e27c98e7",
   "metadata": {},
   "outputs": [],
   "source": [
    "tf['mlen'] = [len(item) for item in tf.m]"
   ]
  },
  {
   "cell_type": "code",
   "execution_count": 10,
   "id": "a5e58b6a",
   "metadata": {},
   "outputs": [],
   "source": [
    "tf = tf[tf.mlen > 0]"
   ]
  },
  {
   "cell_type": "code",
   "execution_count": 11,
   "id": "b4207018",
   "metadata": {},
   "outputs": [],
   "source": [
    "tf.m = tf.m.apply(lambda x: [float(i) for i in x])"
   ]
  },
  {
   "cell_type": "code",
   "execution_count": 12,
   "id": "b1e1c5c8",
   "metadata": {},
   "outputs": [],
   "source": [
    "tf = tf[['m']]"
   ]
  },
  {
   "cell_type": "code",
   "execution_count": 13,
   "id": "99623202",
   "metadata": {},
   "outputs": [],
   "source": [
    "allt = [i for sublist in [item for item in tf.m] for i in sublist]"
   ]
  },
  {
   "cell_type": "code",
   "execution_count": 14,
   "id": "f4708ce6",
   "metadata": {},
   "outputs": [
    {
     "data": {
      "text/plain": [
       "15788"
      ]
     },
     "execution_count": 14,
     "metadata": {},
     "output_type": "execute_result"
    }
   ],
   "source": [
    "len(allt)"
   ]
  },
  {
   "cell_type": "code",
   "execution_count": 15,
   "id": "3b220bb2",
   "metadata": {},
   "outputs": [],
   "source": [
    "d['thickness'] = [abs(item) for item in allt]"
   ]
  },
  {
   "cell_type": "markdown",
   "id": "1a4423b8",
   "metadata": {},
   "source": [
    "# gloss"
   ]
  },
  {
   "cell_type": "code",
   "execution_count": 16,
   "id": "be1fe38b",
   "metadata": {},
   "outputs": [],
   "source": [
    "gf = pd.read_csv(\"../gloss/gloss_disagg.csv\")"
   ]
  },
  {
   "cell_type": "code",
   "execution_count": 17,
   "id": "58875aa9",
   "metadata": {},
   "outputs": [],
   "source": [
    "d['gloss'] = list(gf.g60)"
   ]
  },
  {
   "cell_type": "markdown",
   "id": "8c617a59",
   "metadata": {},
   "source": [
    "# roughness"
   ]
  },
  {
   "cell_type": "code",
   "execution_count": 18,
   "id": "cd391345",
   "metadata": {},
   "outputs": [],
   "source": [
    "rf = pd.read_csv(\"../texture/genome_roughness_768_250_501_21_divide.csv\")"
   ]
  },
  {
   "cell_type": "code",
   "execution_count": 19,
   "id": "e85dd557",
   "metadata": {},
   "outputs": [],
   "source": [
    "d['roughness'] = list(rf.roughness[rf.roughness.notnull()])"
   ]
  },
  {
   "cell_type": "markdown",
   "id": "94f99579",
   "metadata": {},
   "source": [
    "# color"
   ]
  },
  {
   "cell_type": "code",
   "execution_count": 20,
   "id": "1e4cd4f0",
   "metadata": {},
   "outputs": [],
   "source": [
    "cf = pd.read_csv(\"../color/valid.csv\")"
   ]
  },
  {
   "cell_type": "markdown",
   "id": "2c679af2",
   "metadata": {},
   "source": [
    "We need all the b* values at dmin and dmax. We don't need the hex values -- those get used in Paperbase, but they are attached to particular catalog numbers, unlike here, where we are only interested in the distribution. We do not need any lightness or tint information. In general, we only need M0. However, we do want to preserve something like \"UV intensity\". For this, we now use AUC of the difference vector between the M0 and M2 curves."
   ]
  },
  {
   "cell_type": "code",
   "execution_count": 21,
   "id": "b4c8bd03",
   "metadata": {},
   "outputs": [
    {
     "data": {
      "text/plain": [
       "dict_keys(['thickness', 'gloss', 'roughness'])"
      ]
     },
     "execution_count": 21,
     "metadata": {},
     "output_type": "execute_result"
    }
   ],
   "source": [
    "d.keys()"
   ]
  },
  {
   "cell_type": "code",
   "execution_count": 22,
   "id": "80c56e13",
   "metadata": {},
   "outputs": [],
   "source": [
    "bases = list(cf.LAB_B[cf.mloc=='dmin'])\n",
    "tones = list(cf.LAB_B[cf.mloc=='dmax'])"
   ]
  },
  {
   "cell_type": "code",
   "execution_count": 23,
   "id": "49b5d134",
   "metadata": {},
   "outputs": [],
   "source": [
    "d['bstar_base'] = bases\n",
    "d['bstar_image'] = tones"
   ]
  },
  {
   "cell_type": "code",
   "execution_count": 24,
   "id": "38c07b96",
   "metadata": {},
   "outputs": [
    {
     "data": {
      "text/plain": [
       "dict_keys(['thickness', 'gloss', 'roughness', 'bstar_base', 'bstar_image'])"
      ]
     },
     "execution_count": 24,
     "metadata": {},
     "output_type": "execute_result"
    }
   ],
   "source": [
    "d.keys()"
   ]
  },
  {
   "cell_type": "markdown",
   "id": "395484b6",
   "metadata": {},
   "source": [
    "# uv"
   ]
  },
  {
   "cell_type": "code",
   "execution_count": 25,
   "id": "117a689b",
   "metadata": {},
   "outputs": [],
   "source": [
    "import pickle\n",
    "\n",
    "with open('uv.pkl', 'rb') as f:\n",
    "    uv = pickle.load(f)"
   ]
  },
  {
   "cell_type": "code",
   "execution_count": 26,
   "id": "87b081cc",
   "metadata": {},
   "outputs": [],
   "source": [
    "d['fluorescence'] = uv"
   ]
  },
  {
   "cell_type": "markdown",
   "id": "38da816f",
   "metadata": {},
   "source": [
    "# outlier removal"
   ]
  },
  {
   "cell_type": "code",
   "execution_count": 27,
   "id": "378ed9c9",
   "metadata": {},
   "outputs": [],
   "source": [
    "d['thickness'] = [item for item in d['thickness'] if item <= 0.63]"
   ]
  },
  {
   "cell_type": "code",
   "execution_count": 28,
   "id": "470c82cb",
   "metadata": {},
   "outputs": [],
   "source": [
    "d['roughness'] = [item for item in d['roughness'] if item < 0.47]"
   ]
  },
  {
   "cell_type": "code",
   "execution_count": 29,
   "id": "9ae7fb52",
   "metadata": {},
   "outputs": [],
   "source": [
    "d['gloss'] = [item for item in d['gloss'] if item < 114]"
   ]
  },
  {
   "cell_type": "code",
   "execution_count": 30,
   "id": "3141a270",
   "metadata": {},
   "outputs": [],
   "source": [
    "d['bstar_base'] = [item for item in d['bstar_base'] if item < 36]"
   ]
  },
  {
   "cell_type": "markdown",
   "id": "f453c01d",
   "metadata": {},
   "source": [
    "# pickle"
   ]
  },
  {
   "cell_type": "code",
   "execution_count": 31,
   "id": "daf5ed85",
   "metadata": {},
   "outputs": [],
   "source": [
    "with open('lml.pkl', 'wb') as f:\n",
    "    pickle.dump(d, f)"
   ]
  }
 ],
 "metadata": {
  "kernelspec": {
   "display_name": "Python 3 (ipykernel)",
   "language": "python",
   "name": "python3"
  },
  "language_info": {
   "codemirror_mode": {
    "name": "ipython",
    "version": 3
   },
   "file_extension": ".py",
   "mimetype": "text/x-python",
   "name": "python",
   "nbconvert_exporter": "python",
   "pygments_lexer": "ipython3",
   "version": "3.10.4"
  }
 },
 "nbformat": 4,
 "nbformat_minor": 5
}
