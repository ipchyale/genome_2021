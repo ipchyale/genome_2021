{
 "cells": [
  {
   "cell_type": "code",
   "execution_count": 7,
   "id": "fd17e9a7",
   "metadata": {},
   "outputs": [],
   "source": [
    "import pandas as pd\n",
    "import numpy as np\n",
    "import sys,os\n",
    "sys.path.append(os.path.expanduser(\"~\")+\"/ivpy/src\")\n",
    "from ivpy import *\n",
    "from ivpy.extract import norm\n",
    "import warnings\n",
    "warnings.filterwarnings('ignore')"
   ]
  },
  {
   "cell_type": "code",
   "execution_count": 8,
   "id": "5fa9a373",
   "metadata": {},
   "outputs": [],
   "source": [
    "sys.path.append(os.path.expanduser(\"~\")+\"/collproc\")\n",
    "from coll import *"
   ]
  },
  {
   "cell_type": "code",
   "execution_count": 9,
   "id": "28c461e6",
   "metadata": {},
   "outputs": [],
   "source": [
    "rd = unpkl(\"lml_measurement_ranges.pkl\")"
   ]
  },
  {
   "cell_type": "code",
   "execution_count": 17,
   "id": "3d636001",
   "metadata": {},
   "outputs": [
    {
     "data": {
      "text/plain": [
       "0.0133"
      ]
     },
     "execution_count": 17,
     "metadata": {},
     "output_type": "execute_result"
    }
   ],
   "source": [
    "np.percentile(rd['roughness'],95)"
   ]
  }
 ],
 "metadata": {
  "kernelspec": {
   "display_name": "Python 3 (ipykernel)",
   "language": "python",
   "name": "python3"
  },
  "language_info": {
   "codemirror_mode": {
    "name": "ipython",
    "version": 3
   },
   "file_extension": ".py",
   "mimetype": "text/x-python",
   "name": "python",
   "nbconvert_exporter": "python",
   "pygments_lexer": "ipython3",
   "version": "3.10.4"
  }
 },
 "nbformat": 4,
 "nbformat_minor": 5
}
