{
 "cells": [
  {
   "cell_type": "code",
   "execution_count": 1,
   "id": "7bb7b6cb",
   "metadata": {},
   "outputs": [],
   "source": [
    "import pandas as pd\n",
    "import warnings\n",
    "warnings.filterwarnings('ignore')\n",
    "import numpy as np\n",
    "%matplotlib inline"
   ]
  },
  {
   "cell_type": "code",
   "execution_count": 2,
   "id": "f37e0499",
   "metadata": {},
   "outputs": [],
   "source": [
    "df = pd.read_csv('radar.csv')"
   ]
  },
  {
   "cell_type": "code",
   "execution_count": 3,
   "id": "104ad3a5",
   "metadata": {},
   "outputs": [],
   "source": [
    "df['logroughness'] = df.roughness.apply(np.log)"
   ]
  },
  {
   "cell_type": "code",
   "execution_count": 4,
   "id": "f475b6df",
   "metadata": {},
   "outputs": [],
   "source": [
    "X = df[['thickness','LAB_B_dmin','g60','logroughness']]"
   ]
  },
  {
   "cell_type": "code",
   "execution_count": 5,
   "id": "2568fdc3",
   "metadata": {},
   "outputs": [],
   "source": [
    "X = X.dropna()"
   ]
  },
  {
   "cell_type": "markdown",
   "id": "7bb23f2a",
   "metadata": {},
   "source": [
    "# LR"
   ]
  },
  {
   "cell_type": "code",
   "execution_count": 6,
   "id": "56aff67a",
   "metadata": {},
   "outputs": [],
   "source": [
    "from sklearn.linear_model import LinearRegression\n",
    "from sklearn.model_selection import cross_validate"
   ]
  },
  {
   "cell_type": "code",
   "execution_count": 7,
   "id": "bbfb9ce5",
   "metadata": {},
   "outputs": [
    {
     "name": "stdout",
     "output_type": "stream",
     "text": [
      "thickness 0.09257277319652489\n",
      "LAB_B_dmin 0.26462136552951054\n",
      "g60 0.5253532234532357\n",
      "logroughness 0.5484630293594072\n"
     ]
    }
   ],
   "source": [
    "for ycol in X.columns:\n",
    "    y = X[ycol]\n",
    "    xcols = X[[item for item in X.columns if item!=ycol]]\n",
    "    unfitted_model = LinearRegression(fit_intercept=True)\n",
    "    cv = cross_validate(unfitted_model, xcols, y, cv=10, scoring='r2')\n",
    "    print(ycol,cv['test_score'].mean())"
   ]
  },
  {
   "cell_type": "code",
   "execution_count": 8,
   "id": "fdf608a5",
   "metadata": {},
   "outputs": [],
   "source": [
    "modeld = {}\n",
    "for ycol in X.columns:\n",
    "    y = X[ycol]\n",
    "    xcols = X[[item for item in X.columns if item!=ycol]]\n",
    "    unfitted_model = LinearRegression(fit_intercept=True)\n",
    "    fitted_model = unfitted_model.fit(xcols, y)\n",
    "    modeld[ycol] = fitted_model"
   ]
  },
  {
   "cell_type": "code",
   "execution_count": 9,
   "id": "adcc23d4",
   "metadata": {},
   "outputs": [],
   "source": [
    "for ycol in X.columns:\n",
    "    xcols = [item for item in X.columns if item!=ycol]\n",
    "    df[ycol][df[ycol].isnull()] = modeld[ycol].predict(df[xcols][df[ycol].isnull()])"
   ]
  },
  {
   "cell_type": "code",
   "execution_count": 10,
   "id": "775b43e5",
   "metadata": {},
   "outputs": [
    {
     "data": {
      "text/plain": [
       "<AxesSubplot:>"
      ]
     },
     "execution_count": 10,
     "metadata": {},
     "output_type": "execute_result"
    },
    {
     "data": {
      "image/png": "[encoded data removed]",
      "text/plain": [
       "<Figure size 432x288 with 1 Axes>"
      ]
     },
     "metadata": {
      "needs_background": "light"
     },
     "output_type": "display_data"
    }
   ],
   "source": [
    "df.logroughness.hist()"
   ]
  },
  {
   "cell_type": "code",
   "execution_count": 11,
   "id": "a75f1140",
   "metadata": {},
   "outputs": [
    {
     "data": {
      "text/plain": [
       "<AxesSubplot:>"
      ]
     },
     "execution_count": 11,
     "metadata": {},
     "output_type": "execute_result"
    },
    {
     "data": {
      "image/png": "[encoded data removed]",
      "text/plain": [
       "<Figure size 432x288 with 1 Axes>"
      ]
     },
     "metadata": {
      "needs_background": "light"
     },
     "output_type": "display_data"
    }
   ],
   "source": [
    "df.g60.hist()"
   ]
  },
  {
   "cell_type": "code",
   "execution_count": 12,
   "id": "5b167b1f",
   "metadata": {},
   "outputs": [
    {
     "data": {
      "text/html": [
       "<div>\n",
       "<style scoped>\n",
       "    .dataframe tbody tr th:only-of-type {\n",
       "        vertical-align: middle;\n",
       "    }\n",
       "\n",
       "    .dataframe tbody tr th {\n",
       "        vertical-align: top;\n",
       "    }\n",
       "\n",
       "    .dataframe thead th {\n",
       "        text-align: right;\n",
       "    }\n",
       "</style>\n",
       "<table border=\"1\" class=\"dataframe\">\n",
       "  <thead>\n",
       "    <tr style=\"text-align: right;\">\n",
       "      <th></th>\n",
       "      <th>catalog</th>\n",
       "      <th>roughness</th>\n",
       "      <th>thickness</th>\n",
       "      <th>g60</th>\n",
       "      <th>LAB_L_dmin</th>\n",
       "      <th>LAB_A_dmin</th>\n",
       "      <th>LAB_B_dmin</th>\n",
       "      <th>LAB_L_dmax</th>\n",
       "      <th>LAB_A_dmax</th>\n",
       "      <th>LAB_B_dmax</th>\n",
       "      <th>logroughness</th>\n",
       "    </tr>\n",
       "  </thead>\n",
       "  <tbody>\n",
       "    <tr>\n",
       "      <th>14</th>\n",
       "      <td>1006h</td>\n",
       "      <td>20.025758</td>\n",
       "      <td>0.270</td>\n",
       "      <td>-3.203506</td>\n",
       "      <td>90.30</td>\n",
       "      <td>-0.23</td>\n",
       "      <td>20.09</td>\n",
       "      <td>43.47</td>\n",
       "      <td>-1.87</td>\n",
       "      <td>-5.17</td>\n",
       "      <td>2.997019</td>\n",
       "    </tr>\n",
       "    <tr>\n",
       "      <th>15</th>\n",
       "      <td>1006i</td>\n",
       "      <td>20.892911</td>\n",
       "      <td>0.290</td>\n",
       "      <td>-3.646127</td>\n",
       "      <td>90.65</td>\n",
       "      <td>-0.74</td>\n",
       "      <td>15.85</td>\n",
       "      <td>43.31</td>\n",
       "      <td>-2.12</td>\n",
       "      <td>-2.92</td>\n",
       "      <td>3.039410</td>\n",
       "    </tr>\n",
       "    <tr>\n",
       "      <th>16</th>\n",
       "      <td>1006j</td>\n",
       "      <td>22.594678</td>\n",
       "      <td>0.350</td>\n",
       "      <td>-12.512841</td>\n",
       "      <td>87.81</td>\n",
       "      <td>0.41</td>\n",
       "      <td>23.84</td>\n",
       "      <td>54.59</td>\n",
       "      <td>-3.21</td>\n",
       "      <td>1.08</td>\n",
       "      <td>3.117714</td>\n",
       "    </tr>\n",
       "    <tr>\n",
       "      <th>17</th>\n",
       "      <td>1006k</td>\n",
       "      <td>23.191945</td>\n",
       "      <td>0.390</td>\n",
       "      <td>-12.275988</td>\n",
       "      <td>90.71</td>\n",
       "      <td>-0.74</td>\n",
       "      <td>16.49</td>\n",
       "      <td>49.97</td>\n",
       "      <td>-3.11</td>\n",
       "      <td>0.89</td>\n",
       "      <td>3.143805</td>\n",
       "    </tr>\n",
       "    <tr>\n",
       "      <th>20</th>\n",
       "      <td>1006n</td>\n",
       "      <td>26.273540</td>\n",
       "      <td>0.150</td>\n",
       "      <td>-0.827878</td>\n",
       "      <td>90.86</td>\n",
       "      <td>-0.97</td>\n",
       "      <td>12.60</td>\n",
       "      <td>52.54</td>\n",
       "      <td>-2.96</td>\n",
       "      <td>-1.01</td>\n",
       "      <td>3.268562</td>\n",
       "    </tr>\n",
       "    <tr>\n",
       "      <th>22</th>\n",
       "      <td>1006p</td>\n",
       "      <td>32.940005</td>\n",
       "      <td>0.270</td>\n",
       "      <td>-16.105139</td>\n",
       "      <td>89.09</td>\n",
       "      <td>-1.22</td>\n",
       "      <td>18.41</td>\n",
       "      <td>42.85</td>\n",
       "      <td>-1.03</td>\n",
       "      <td>-8.10</td>\n",
       "      <td>3.494688</td>\n",
       "    </tr>\n",
       "    <tr>\n",
       "      <th>88</th>\n",
       "      <td>1023f</td>\n",
       "      <td>17.900958</td>\n",
       "      <td>0.373</td>\n",
       "      <td>-3.327773</td>\n",
       "      <td>83.34</td>\n",
       "      <td>-0.90</td>\n",
       "      <td>14.33</td>\n",
       "      <td>32.31</td>\n",
       "      <td>1.73</td>\n",
       "      <td>7.32</td>\n",
       "      <td>2.884854</td>\n",
       "    </tr>\n",
       "    <tr>\n",
       "      <th>89</th>\n",
       "      <td>1023g</td>\n",
       "      <td>20.239079</td>\n",
       "      <td>0.382</td>\n",
       "      <td>-7.041262</td>\n",
       "      <td>83.90</td>\n",
       "      <td>-1.27</td>\n",
       "      <td>14.00</td>\n",
       "      <td>36.98</td>\n",
       "      <td>0.24</td>\n",
       "      <td>-0.02</td>\n",
       "      <td>3.007615</td>\n",
       "    </tr>\n",
       "    <tr>\n",
       "      <th>92</th>\n",
       "      <td>1023j</td>\n",
       "      <td>20.291547</td>\n",
       "      <td>0.353</td>\n",
       "      <td>-6.970631</td>\n",
       "      <td>86.06</td>\n",
       "      <td>-0.47</td>\n",
       "      <td>17.39</td>\n",
       "      <td>29.48</td>\n",
       "      <td>0.75</td>\n",
       "      <td>3.57</td>\n",
       "      <td>3.010204</td>\n",
       "    </tr>\n",
       "    <tr>\n",
       "      <th>94</th>\n",
       "      <td>1023m</td>\n",
       "      <td>18.210372</td>\n",
       "      <td>0.357</td>\n",
       "      <td>-5.141584</td>\n",
       "      <td>86.33</td>\n",
       "      <td>-0.02</td>\n",
       "      <td>19.52</td>\n",
       "      <td>37.02</td>\n",
       "      <td>0.04</td>\n",
       "      <td>-2.99</td>\n",
       "      <td>2.901991</td>\n",
       "    </tr>\n",
       "    <tr>\n",
       "      <th>96</th>\n",
       "      <td>1023o</td>\n",
       "      <td>22.929354</td>\n",
       "      <td>0.242</td>\n",
       "      <td>-2.674096</td>\n",
       "      <td>85.39</td>\n",
       "      <td>-1.16</td>\n",
       "      <td>13.80</td>\n",
       "      <td>31.47</td>\n",
       "      <td>0.43</td>\n",
       "      <td>-0.08</td>\n",
       "      <td>3.132418</td>\n",
       "    </tr>\n",
       "    <tr>\n",
       "      <th>99</th>\n",
       "      <td>1023r</td>\n",
       "      <td>22.086400</td>\n",
       "      <td>0.364</td>\n",
       "      <td>-11.125425</td>\n",
       "      <td>87.65</td>\n",
       "      <td>0.18</td>\n",
       "      <td>20.26</td>\n",
       "      <td>38.79</td>\n",
       "      <td>-0.45</td>\n",
       "      <td>0.33</td>\n",
       "      <td>3.094962</td>\n",
       "    </tr>\n",
       "    <tr>\n",
       "      <th>104</th>\n",
       "      <td>1023w</td>\n",
       "      <td>44.923109</td>\n",
       "      <td>0.406</td>\n",
       "      <td>-37.432435</td>\n",
       "      <td>80.69</td>\n",
       "      <td>1.36</td>\n",
       "      <td>30.91</td>\n",
       "      <td>37.48</td>\n",
       "      <td>-0.03</td>\n",
       "      <td>-2.40</td>\n",
       "      <td>3.804952</td>\n",
       "    </tr>\n",
       "    <tr>\n",
       "      <th>130</th>\n",
       "      <td>114</td>\n",
       "      <td>22.007925</td>\n",
       "      <td>0.321</td>\n",
       "      <td>-4.107729</td>\n",
       "      <td>93.05</td>\n",
       "      <td>-0.89</td>\n",
       "      <td>9.63</td>\n",
       "      <td>NaN</td>\n",
       "      <td>NaN</td>\n",
       "      <td>NaN</td>\n",
       "      <td>3.091403</td>\n",
       "    </tr>\n",
       "    <tr>\n",
       "      <th>868</th>\n",
       "      <td>2073z</td>\n",
       "      <td>154.115092</td>\n",
       "      <td>0.106</td>\n",
       "      <td>-44.560154</td>\n",
       "      <td>91.23</td>\n",
       "      <td>-1.01</td>\n",
       "      <td>7.30</td>\n",
       "      <td>59.02</td>\n",
       "      <td>-0.74</td>\n",
       "      <td>3.73</td>\n",
       "      <td>5.037700</td>\n",
       "    </tr>\n",
       "    <tr>\n",
       "      <th>890</th>\n",
       "      <td>2075z</td>\n",
       "      <td>63.066789</td>\n",
       "      <td>0.527</td>\n",
       "      <td>-49.886043</td>\n",
       "      <td>86.68</td>\n",
       "      <td>-1.48</td>\n",
       "      <td>22.78</td>\n",
       "      <td>37.70</td>\n",
       "      <td>-0.20</td>\n",
       "      <td>4.29</td>\n",
       "      <td>4.144194</td>\n",
       "    </tr>\n",
       "    <tr>\n",
       "      <th>1016</th>\n",
       "      <td>2087x</td>\n",
       "      <td>53.721697</td>\n",
       "      <td>0.502</td>\n",
       "      <td>-42.553122</td>\n",
       "      <td>88.55</td>\n",
       "      <td>-0.89</td>\n",
       "      <td>19.12</td>\n",
       "      <td>32.76</td>\n",
       "      <td>0.30</td>\n",
       "      <td>1.10</td>\n",
       "      <td>3.983817</td>\n",
       "    </tr>\n",
       "    <tr>\n",
       "      <th>3099</th>\n",
       "      <td>4783k</td>\n",
       "      <td>25.525119</td>\n",
       "      <td>0.328</td>\n",
       "      <td>-12.262350</td>\n",
       "      <td>90.97</td>\n",
       "      <td>-0.61</td>\n",
       "      <td>18.29</td>\n",
       "      <td>12.71</td>\n",
       "      <td>0.31</td>\n",
       "      <td>2.47</td>\n",
       "      <td>3.239663</td>\n",
       "    </tr>\n",
       "    <tr>\n",
       "      <th>3285</th>\n",
       "      <td>4793f</td>\n",
       "      <td>22.006798</td>\n",
       "      <td>0.318</td>\n",
       "      <td>-10.293299</td>\n",
       "      <td>88.02</td>\n",
       "      <td>1.64</td>\n",
       "      <td>24.45</td>\n",
       "      <td>28.79</td>\n",
       "      <td>0.02</td>\n",
       "      <td>3.93</td>\n",
       "      <td>3.091351</td>\n",
       "    </tr>\n",
       "    <tr>\n",
       "      <th>3287</th>\n",
       "      <td>4793h</td>\n",
       "      <td>22.282893</td>\n",
       "      <td>0.289</td>\n",
       "      <td>-5.105504</td>\n",
       "      <td>89.87</td>\n",
       "      <td>-1.00</td>\n",
       "      <td>15.27</td>\n",
       "      <td>41.16</td>\n",
       "      <td>-0.34</td>\n",
       "      <td>3.33</td>\n",
       "      <td>3.103819</td>\n",
       "    </tr>\n",
       "    <tr>\n",
       "      <th>4080</th>\n",
       "      <td>5412f</td>\n",
       "      <td>34.085583</td>\n",
       "      <td>0.336</td>\n",
       "      <td>-19.006659</td>\n",
       "      <td>90.22</td>\n",
       "      <td>2.62</td>\n",
       "      <td>14.53</td>\n",
       "      <td>32.56</td>\n",
       "      <td>1.77</td>\n",
       "      <td>5.23</td>\n",
       "      <td>3.528875</td>\n",
       "    </tr>\n",
       "    <tr>\n",
       "      <th>4092</th>\n",
       "      <td>5412r</td>\n",
       "      <td>17.085097</td>\n",
       "      <td>0.311</td>\n",
       "      <td>-1.655212</td>\n",
       "      <td>88.53</td>\n",
       "      <td>1.71</td>\n",
       "      <td>21.36</td>\n",
       "      <td>21.83</td>\n",
       "      <td>0.59</td>\n",
       "      <td>3.03</td>\n",
       "      <td>2.838207</td>\n",
       "    </tr>\n",
       "    <tr>\n",
       "      <th>4097</th>\n",
       "      <td>5412w</td>\n",
       "      <td>31.376094</td>\n",
       "      <td>0.458</td>\n",
       "      <td>-25.526047</td>\n",
       "      <td>89.71</td>\n",
       "      <td>1.31</td>\n",
       "      <td>19.38</td>\n",
       "      <td>22.04</td>\n",
       "      <td>0.62</td>\n",
       "      <td>3.28</td>\n",
       "      <td>3.446046</td>\n",
       "    </tr>\n",
       "    <tr>\n",
       "      <th>5018</th>\n",
       "      <td>5529r</td>\n",
       "      <td>20.712171</td>\n",
       "      <td>0.471</td>\n",
       "      <td>-8.658187</td>\n",
       "      <td>93.80</td>\n",
       "      <td>1.19</td>\n",
       "      <td>4.88</td>\n",
       "      <td>24.89</td>\n",
       "      <td>-0.19</td>\n",
       "      <td>3.07</td>\n",
       "      <td>3.030721</td>\n",
       "    </tr>\n",
       "    <tr>\n",
       "      <th>5409</th>\n",
       "      <td>883</td>\n",
       "      <td>39.857834</td>\n",
       "      <td>0.336</td>\n",
       "      <td>-16.229587</td>\n",
       "      <td>93.04</td>\n",
       "      <td>1.21</td>\n",
       "      <td>-1.94</td>\n",
       "      <td>NaN</td>\n",
       "      <td>NaN</td>\n",
       "      <td>NaN</td>\n",
       "      <td>3.685319</td>\n",
       "    </tr>\n",
       "  </tbody>\n",
       "</table>\n",
       "</div>"
      ],
      "text/plain": [
       "     catalog   roughness  thickness        g60  LAB_L_dmin  LAB_A_dmin  \\\n",
       "14     1006h   20.025758      0.270  -3.203506       90.30       -0.23   \n",
       "15     1006i   20.892911      0.290  -3.646127       90.65       -0.74   \n",
       "16     1006j   22.594678      0.350 -12.512841       87.81        0.41   \n",
       "17     1006k   23.191945      0.390 -12.275988       90.71       -0.74   \n",
       "20     1006n   26.273540      0.150  -0.827878       90.86       -0.97   \n",
       "22     1006p   32.940005      0.270 -16.105139       89.09       -1.22   \n",
       "88     1023f   17.900958      0.373  -3.327773       83.34       -0.90   \n",
       "89     1023g   20.239079      0.382  -7.041262       83.90       -1.27   \n",
       "92     1023j   20.291547      0.353  -6.970631       86.06       -0.47   \n",
       "94     1023m   18.210372      0.357  -5.141584       86.33       -0.02   \n",
       "96     1023o   22.929354      0.242  -2.674096       85.39       -1.16   \n",
       "99     1023r   22.086400      0.364 -11.125425       87.65        0.18   \n",
       "104    1023w   44.923109      0.406 -37.432435       80.69        1.36   \n",
       "130      114   22.007925      0.321  -4.107729       93.05       -0.89   \n",
       "868    2073z  154.115092      0.106 -44.560154       91.23       -1.01   \n",
       "890    2075z   63.066789      0.527 -49.886043       86.68       -1.48   \n",
       "1016   2087x   53.721697      0.502 -42.553122       88.55       -0.89   \n",
       "3099   4783k   25.525119      0.328 -12.262350       90.97       -0.61   \n",
       "3285   4793f   22.006798      0.318 -10.293299       88.02        1.64   \n",
       "3287   4793h   22.282893      0.289  -5.105504       89.87       -1.00   \n",
       "4080   5412f   34.085583      0.336 -19.006659       90.22        2.62   \n",
       "4092   5412r   17.085097      0.311  -1.655212       88.53        1.71   \n",
       "4097   5412w   31.376094      0.458 -25.526047       89.71        1.31   \n",
       "5018   5529r   20.712171      0.471  -8.658187       93.80        1.19   \n",
       "5409     883   39.857834      0.336 -16.229587       93.04        1.21   \n",
       "\n",
       "      LAB_B_dmin  LAB_L_dmax  LAB_A_dmax  LAB_B_dmax  logroughness  \n",
       "14         20.09       43.47       -1.87       -5.17      2.997019  \n",
       "15         15.85       43.31       -2.12       -2.92      3.039410  \n",
       "16         23.84       54.59       -3.21        1.08      3.117714  \n",
       "17         16.49       49.97       -3.11        0.89      3.143805  \n",
       "20         12.60       52.54       -2.96       -1.01      3.268562  \n",
       "22         18.41       42.85       -1.03       -8.10      3.494688  \n",
       "88         14.33       32.31        1.73        7.32      2.884854  \n",
       "89         14.00       36.98        0.24       -0.02      3.007615  \n",
       "92         17.39       29.48        0.75        3.57      3.010204  \n",
       "94         19.52       37.02        0.04       -2.99      2.901991  \n",
       "96         13.80       31.47        0.43       -0.08      3.132418  \n",
       "99         20.26       38.79       -0.45        0.33      3.094962  \n",
       "104        30.91       37.48       -0.03       -2.40      3.804952  \n",
       "130         9.63         NaN         NaN         NaN      3.091403  \n",
       "868         7.30       59.02       -0.74        3.73      5.037700  \n",
       "890        22.78       37.70       -0.20        4.29      4.144194  \n",
       "1016       19.12       32.76        0.30        1.10      3.983817  \n",
       "3099       18.29       12.71        0.31        2.47      3.239663  \n",
       "3285       24.45       28.79        0.02        3.93      3.091351  \n",
       "3287       15.27       41.16       -0.34        3.33      3.103819  \n",
       "4080       14.53       32.56        1.77        5.23      3.528875  \n",
       "4092       21.36       21.83        0.59        3.03      2.838207  \n",
       "4097       19.38       22.04        0.62        3.28      3.446046  \n",
       "5018        4.88       24.89       -0.19        3.07      3.030721  \n",
       "5409       -1.94         NaN         NaN         NaN      3.685319  "
      ]
     },
     "execution_count": 12,
     "metadata": {},
     "output_type": "execute_result"
    }
   ],
   "source": [
    "df[df.g60 < 0]"
   ]
  },
  {
   "cell_type": "code",
   "execution_count": 13,
   "id": "41d92897",
   "metadata": {},
   "outputs": [
    {
     "data": {
      "text/plain": [
       "<AxesSubplot:>"
      ]
     },
     "execution_count": 13,
     "metadata": {},
     "output_type": "execute_result"
    },
    {
     "data": {
      "image/png": "[encoded data removed]",
      "text/plain": [
       "<Figure size 432x288 with 1 Axes>"
      ]
     },
     "metadata": {
      "needs_background": "light"
     },
     "output_type": "display_data"
    }
   ],
   "source": [
    "df.thickness.hist()"
   ]
  },
  {
   "cell_type": "code",
   "execution_count": 14,
   "id": "8f164014",
   "metadata": {},
   "outputs": [
    {
     "data": {
      "text/plain": [
       "<AxesSubplot:>"
      ]
     },
     "execution_count": 14,
     "metadata": {},
     "output_type": "execute_result"
    },
    {
     "data": {
      "image/png": "[encoded data removed]",
      "text/plain": [
       "<Figure size 432x288 with 1 Axes>"
      ]
     },
     "metadata": {
      "needs_background": "light"
     },
     "output_type": "display_data"
    }
   ],
   "source": [
    "df.LAB_B_dmin.hist()"
   ]
  },
  {
   "cell_type": "code",
   "execution_count": 15,
   "id": "39a6c96d",
   "metadata": {},
   "outputs": [
    {
     "name": "stdout",
     "output_type": "stream",
     "text": [
      "<class 'pandas.core.frame.DataFrame'>\n",
      "RangeIndex: 5624 entries, 0 to 5623\n",
      "Data columns (total 11 columns):\n",
      " #   Column        Non-Null Count  Dtype  \n",
      "---  ------        --------------  -----  \n",
      " 0   catalog       5624 non-null   object \n",
      " 1   roughness     5275 non-null   float64\n",
      " 2   thickness     5624 non-null   float64\n",
      " 3   g60           5624 non-null   float64\n",
      " 4   LAB_L_dmin    5487 non-null   float64\n",
      " 5   LAB_A_dmin    5487 non-null   float64\n",
      " 6   LAB_B_dmin    5624 non-null   float64\n",
      " 7   LAB_L_dmax    3265 non-null   float64\n",
      " 8   LAB_A_dmax    3265 non-null   float64\n",
      " 9   LAB_B_dmax    3265 non-null   float64\n",
      " 10  logroughness  5624 non-null   float64\n",
      "dtypes: float64(10), object(1)\n",
      "memory usage: 483.4+ KB\n"
     ]
    }
   ],
   "source": [
    "df.info()"
   ]
  },
  {
   "cell_type": "code",
   "execution_count": 16,
   "id": "340ae616",
   "metadata": {},
   "outputs": [],
   "source": [
    "df = df[['catalog','thickness','g60','LAB_L_dmin','LAB_L_dmax',\n",
    "         'LAB_A_dmin','LAB_A_dmax','LAB_B_dmin','LAB_B_dmax','logroughness']]"
   ]
  },
  {
   "cell_type": "code",
   "execution_count": 17,
   "id": "9e9fec1e",
   "metadata": {},
   "outputs": [],
   "source": [
    "df.to_csv(\"radar_impute.csv\",index=False)"
   ]
  }
 ],
 "metadata": {
  "kernelspec": {
   "display_name": "Python 3 (ipykernel)",
   "language": "python",
   "name": "python3"
  },
  "language_info": {
   "codemirror_mode": {
    "name": "ipython",
    "version": 3
   },
   "file_extension": ".py",
   "mimetype": "text/x-python",
   "name": "python",
   "nbconvert_exporter": "python",
   "pygments_lexer": "ipython3",
   "version": "3.10.4"
  }
 },
 "nbformat": 4,
 "nbformat_minor": 5
}
