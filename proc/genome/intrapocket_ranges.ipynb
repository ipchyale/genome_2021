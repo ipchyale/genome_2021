{
 "cells": [
  {
   "cell_type": "code",
   "execution_count": 1,
   "id": "fd17e9a7",
   "metadata": {},
   "outputs": [],
   "source": [
    "import pandas as pd\n",
    "import numpy as np\n",
    "import sys,os\n",
    "sys.path.append(os.path.expanduser(\"~\")+\"/ivpy/src\")\n",
    "from ivpy import *\n",
    "from ivpy.extract import norm\n",
    "import warnings\n",
    "warnings.filterwarnings('ignore')"
   ]
  },
  {
   "cell_type": "code",
   "execution_count": 2,
   "id": "5fa9a373",
   "metadata": {},
   "outputs": [],
   "source": [
    "sys.path.append(os.path.expanduser(\"~\")+\"/collproc\")\n",
    "from coll import *"
   ]
  },
  {
   "cell_type": "markdown",
   "id": "c675f8f2",
   "metadata": {},
   "source": [
    "#### roughness"
   ]
  },
  {
   "cell_type": "code",
   "execution_count": 3,
   "id": "416e0c4a",
   "metadata": {},
   "outputs": [],
   "source": [
    "rf = pd.read_csv(\"/Users/damoncrockett/lmlproc/proc/texture/genome_roughness_768_250_501_21_divide.csv\")"
   ]
  },
  {
   "cell_type": "code",
   "execution_count": 4,
   "id": "225b8a27",
   "metadata": {},
   "outputs": [],
   "source": [
    "rf['catalog'] = [os.path.basename(item)[:-4].split(\"_\")[0] for item in rf.localpath]"
   ]
  },
  {
   "cell_type": "code",
   "execution_count": 5,
   "id": "a6afc543",
   "metadata": {},
   "outputs": [],
   "source": [
    "def rng(col, return_bounds=False):\n",
    "    \n",
    "    colmin = min(col)\n",
    "    colmax = max(col)\n",
    "    \n",
    "    if return_bounds:\n",
    "        return colmax-colmin, colmin, colmax\n",
    "    \n",
    "    return colmax - colmin"
   ]
  },
  {
   "cell_type": "code",
   "execution_count": 6,
   "id": "3ff01a42",
   "metadata": {},
   "outputs": [],
   "source": [
    "roughness_ranges = rf.groupby('catalog').agg(rng).reset_index().roughness"
   ]
  },
  {
   "cell_type": "markdown",
   "id": "6bcc53a7",
   "metadata": {},
   "source": [
    "#### dmin"
   ]
  },
  {
   "cell_type": "code",
   "execution_count": 7,
   "id": "cfb38d34",
   "metadata": {},
   "outputs": [],
   "source": [
    "cf = pd.read_csv(\"/Users/damoncrockett/lmlproc/proc/color/_OLD/colors.csv\")"
   ]
  },
  {
   "cell_type": "code",
   "execution_count": 8,
   "id": "39b40b98",
   "metadata": {},
   "outputs": [],
   "source": [
    "cf = cf[['cat','mloc','LAB_B','LAB_L']][cf.mloc!='dmax']"
   ]
  },
  {
   "cell_type": "code",
   "execution_count": 9,
   "id": "96829903",
   "metadata": {},
   "outputs": [],
   "source": [
    "cf = cf[cf.LAB_L>=75]"
   ]
  },
  {
   "cell_type": "code",
   "execution_count": 10,
   "id": "710a13e0",
   "metadata": {},
   "outputs": [],
   "source": [
    "dmin_ranges = cf[['cat','LAB_B']].groupby('cat').agg(rng).reset_index().LAB_B"
   ]
  },
  {
   "cell_type": "markdown",
   "id": "7ff24118",
   "metadata": {},
   "source": [
    "#### dmax"
   ]
  },
  {
   "cell_type": "code",
   "execution_count": 11,
   "id": "9d560aca",
   "metadata": {},
   "outputs": [],
   "source": [
    "cf = pd.read_csv(\"/Users/damoncrockett/lmlproc/proc/color/_OLD/colors.csv\")"
   ]
  },
  {
   "cell_type": "code",
   "execution_count": 12,
   "id": "9c08050a",
   "metadata": {},
   "outputs": [],
   "source": [
    "cf = cf[['cat','mloc','LAB_B','LAB_L']][cf.mloc=='dmax']"
   ]
  },
  {
   "cell_type": "code",
   "execution_count": 13,
   "id": "b16cf661",
   "metadata": {},
   "outputs": [],
   "source": [
    "cf = cf[cf.LAB_L<=48]"
   ]
  },
  {
   "cell_type": "code",
   "execution_count": 14,
   "id": "618581bd",
   "metadata": {},
   "outputs": [],
   "source": [
    "dmax_ranges = cf[['cat','LAB_B']].groupby('cat').agg(rng).reset_index().LAB_B"
   ]
  },
  {
   "cell_type": "markdown",
   "id": "e3cc1854",
   "metadata": {},
   "source": [
    "#### gloss"
   ]
  },
  {
   "cell_type": "code",
   "execution_count": 15,
   "id": "6899aa76",
   "metadata": {},
   "outputs": [],
   "source": [
    "gf = pd.read_csv(\"/Users/damoncrockett/lmlproc/proc/gloss/_OLD/gloss_disagg.csv\")"
   ]
  },
  {
   "cell_type": "code",
   "execution_count": 16,
   "id": "b8960883",
   "metadata": {},
   "outputs": [],
   "source": [
    "gf = gf[gf.g60 < 114]"
   ]
  },
  {
   "cell_type": "code",
   "execution_count": 17,
   "id": "23dc8991",
   "metadata": {},
   "outputs": [],
   "source": [
    "gloss_ranges = gf[['catalog','g60']].groupby('catalog').agg(rng).reset_index().g60"
   ]
  },
  {
   "cell_type": "markdown",
   "id": "cd38fe42",
   "metadata": {},
   "source": [
    "#### thickness"
   ]
  },
  {
   "cell_type": "code",
   "execution_count": 18,
   "id": "fcb8cdc7",
   "metadata": {},
   "outputs": [],
   "source": [
    "tf = pd.read_csv(\"/Users/damoncrockett/lmlproc/proc/thickness/_OLD/thickness_disagg.csv\")"
   ]
  },
  {
   "cell_type": "code",
   "execution_count": 19,
   "id": "788b86e9",
   "metadata": {},
   "outputs": [],
   "source": [
    "from ast import literal_eval"
   ]
  },
  {
   "cell_type": "code",
   "execution_count": 20,
   "id": "5cbc31d4",
   "metadata": {},
   "outputs": [],
   "source": [
    "tf.measurements = tf.measurements.apply(literal_eval)"
   ]
  },
  {
   "cell_type": "code",
   "execution_count": 21,
   "id": "1096a77e",
   "metadata": {},
   "outputs": [],
   "source": [
    "tf.measurements = tf.measurements.apply(lambda x: [abs(item) for item in x if abs(item) < 1])"
   ]
  },
  {
   "cell_type": "code",
   "execution_count": 22,
   "id": "52d07854",
   "metadata": {},
   "outputs": [],
   "source": [
    "tf['tlen'] = tf.measurements.apply(len)"
   ]
  },
  {
   "cell_type": "code",
   "execution_count": 23,
   "id": "5f6d2be9",
   "metadata": {},
   "outputs": [],
   "source": [
    "tf = tf[tf.tlen > 0]"
   ]
  },
  {
   "cell_type": "code",
   "execution_count": 24,
   "id": "d1b33f2b",
   "metadata": {},
   "outputs": [],
   "source": [
    "tf['mrange'] = tf.measurements.apply(rng)"
   ]
  },
  {
   "cell_type": "code",
   "execution_count": 25,
   "id": "a3633fd9",
   "metadata": {},
   "outputs": [],
   "source": [
    "thickness_ranges = tf.mrange"
   ]
  },
  {
   "cell_type": "markdown",
   "id": "4e34932e",
   "metadata": {},
   "source": [
    "# Range dict"
   ]
  },
  {
   "cell_type": "code",
   "execution_count": 26,
   "id": "df854d87",
   "metadata": {},
   "outputs": [],
   "source": [
    "rd = {}"
   ]
  },
  {
   "cell_type": "code",
   "execution_count": 27,
   "id": "a6c791a7",
   "metadata": {},
   "outputs": [],
   "source": [
    "rd['thickness'] = [round(item,4) for item in list(thickness_ranges)]\n",
    "rd['gloss'] = [round(item,4) for item in list(gloss_ranges)]\n",
    "rd['roughness'] = [round(item,4) for item in list(roughness_ranges)]\n",
    "rd['bstar_base'] = [round(item,4) for item in list(dmin_ranges)]\n",
    "rd['bstar_image'] = [round(item,4) for item in list(dmax_ranges)]"
   ]
  },
  {
   "cell_type": "code",
   "execution_count": 29,
   "id": "2d10fee7",
   "metadata": {
    "scrolled": true
   },
   "outputs": [],
   "source": [
    "pkl(rd,'lml_measurement_ranges.pkl')"
   ]
  },
  {
   "cell_type": "code",
   "execution_count": null,
   "id": "abef6184",
   "metadata": {},
   "outputs": [],
   "source": []
  }
 ],
 "metadata": {
  "kernelspec": {
   "display_name": "Python 3 (ipykernel)",
   "language": "python",
   "name": "python3"
  },
  "language_info": {
   "codemirror_mode": {
    "name": "ipython",
    "version": 3
   },
   "file_extension": ".py",
   "mimetype": "text/x-python",
   "name": "python",
   "nbconvert_exporter": "python",
   "pygments_lexer": "ipython3",
   "version": "3.10.4"
  }
 },
 "nbformat": 4,
 "nbformat_minor": 5
}
