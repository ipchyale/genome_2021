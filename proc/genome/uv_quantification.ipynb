{
 "cells": [
  {
   "cell_type": "markdown",
   "id": "9cd73b41",
   "metadata": {},
   "source": [
    "1. Can only use nm400 onward, because many spectrophotometers won't measure below 400.\n",
    "2. Need a way to do \"validation\" on the color measurements, because we are getting a bunch of cases where there are more than 2 items with the same catalog-trial, which should be impossible. \n",
    "3. The quantification needs a measure of shape and a measure of intensity, but it'd be nice if this could become a single value."
   ]
  },
  {
   "cell_type": "code",
   "execution_count": 47,
   "id": "44454cb5",
   "metadata": {},
   "outputs": [],
   "source": [
    "import pandas as pd"
   ]
  },
  {
   "cell_type": "code",
   "execution_count": 48,
   "id": "e7ac5987",
   "metadata": {},
   "outputs": [],
   "source": [
    "df = pd.read_csv(\"/Users/damoncrockett/Desktop/uv/uv.csv\")"
   ]
  },
  {
   "cell_type": "code",
   "execution_count": 49,
   "id": "362fd967",
   "metadata": {},
   "outputs": [],
   "source": [
    "df.xtrial = df.xtrial.apply(str)"
   ]
  },
  {
   "cell_type": "code",
   "execution_count": 50,
   "id": "7866a250",
   "metadata": {},
   "outputs": [],
   "source": [
    "df['ctrial'] = df.cat + \"_\" +  df.xtrial"
   ]
  },
  {
   "cell_type": "code",
   "execution_count": 51,
   "id": "723e786d",
   "metadata": {},
   "outputs": [
    {
     "data": {
      "text/plain": [
       "False"
      ]
     },
     "execution_count": 51,
     "metadata": {},
     "output_type": "execute_result"
    }
   ],
   "source": [
    "len(df.ctrial.unique()) == len(df) / 2"
   ]
  },
  {
   "cell_type": "code",
   "execution_count": 52,
   "id": "0cc81ce1",
   "metadata": {},
   "outputs": [],
   "source": [
    "df = df[df.l > 70]"
   ]
  },
  {
   "cell_type": "code",
   "execution_count": 53,
   "id": "0c6d6cab",
   "metadata": {},
   "outputs": [
    {
     "data": {
      "text/plain": [
       "<AxesSubplot:>"
      ]
     },
     "execution_count": 53,
     "metadata": {},
     "output_type": "execute_result"
    },
    {
     "data": {
      "image/png": "[encoded data removed]",
      "text/plain": [
       "<Figure size 432x288 with 1 Axes>"
      ]
     },
     "metadata": {
      "needs_background": "light"
     },
     "output_type": "display_data"
    }
   ],
   "source": [
    "df.l.hist(bins=50)"
   ]
  },
  {
   "cell_type": "code",
   "execution_count": 58,
   "id": "be399542",
   "metadata": {},
   "outputs": [
    {
     "data": {
      "text/plain": [
       "30702"
      ]
     },
     "execution_count": 58,
     "metadata": {},
     "output_type": "execute_result"
    }
   ],
   "source": [
    "len(df)"
   ]
  },
  {
   "cell_type": "code",
   "execution_count": 59,
   "id": "34aa417a",
   "metadata": {},
   "outputs": [
    {
     "data": {
      "text/plain": [
       "29618"
      ]
     },
     "execution_count": 59,
     "metadata": {},
     "output_type": "execute_result"
    }
   ],
   "source": [
    "len(df.drop_duplicates())"
   ]
  },
  {
   "cell_type": "code",
   "execution_count": 60,
   "id": "b7467732",
   "metadata": {},
   "outputs": [],
   "source": [
    "df = df.drop_duplicates()"
   ]
  },
  {
   "cell_type": "code",
   "execution_count": 61,
   "id": "ff5d31fc",
   "metadata": {},
   "outputs": [
    {
     "data": {
      "text/plain": [
       "2293_3    6\n",
       "4171_2    4\n",
       "4231_2    4\n",
       "2355_3    4\n",
       "1508_2    4\n",
       "         ..\n",
       "4186_3    4\n",
       "1523_1    4\n",
       "1523_2    4\n",
       "1523_3    4\n",
       "1856_1    4\n",
       "Name: ctrial, Length: 140, dtype: int64"
      ]
     },
     "execution_count": 61,
     "metadata": {},
     "output_type": "execute_result"
    }
   ],
   "source": [
    "df.ctrial.value_counts()[df.ctrial.value_counts() > 2]"
   ]
  },
  {
   "cell_type": "markdown",
   "id": "5185d733",
   "metadata": {},
   "source": [
    "Okay, so there are still some problematic catalog numbers here. I really have no idea why we'd see these. But whatever. We've kept only those cases where LAB_L is greater than 70, so these aren't going to be dmax measurements, and we've eliminated true dupes. Whatever is left should truly be _some_ UV measure, so we'll keep it, since we don't need to attach these to catalog numbers here anyway. This is just to get a distribution."
   ]
  },
  {
   "cell_type": "code",
   "execution_count": 62,
   "id": "c58601c1",
   "metadata": {},
   "outputs": [
    {
     "data": {
      "text/plain": [
       "M0    14809\n",
       "M2    14809\n",
       "Name: mmode, dtype: int64"
      ]
     },
     "execution_count": 62,
     "metadata": {},
     "output_type": "execute_result"
    }
   ],
   "source": [
    "df.mmode.value_counts()"
   ]
  },
  {
   "cell_type": "code",
   "execution_count": 64,
   "id": "5f434794",
   "metadata": {},
   "outputs": [],
   "source": [
    "df = df.reset_index(drop=True)"
   ]
  },
  {
   "cell_type": "code",
   "execution_count": 75,
   "id": "ddb8a7af",
   "metadata": {},
   "outputs": [],
   "source": [
    "spcols = [item for item in df.columns if 'w' in item][2:]"
   ]
  },
  {
   "cell_type": "code",
   "execution_count": 84,
   "id": "055257e7",
   "metadata": {},
   "outputs": [],
   "source": [
    "import sys\n",
    "sys.path.append(\"/Users/damoncrockett/ivpy/src/\")\n",
    "from ivpy import *"
   ]
  },
  {
   "cell_type": "code",
   "execution_count": 110,
   "id": "872940d2",
   "metadata": {},
   "outputs": [],
   "source": [
    "# iterate through pairs\n",
    "delts = []\n",
    "ims = []\n",
    "for i in range(0,len(df),2):\n",
    "    tmp = df.loc[[i,i+1]]\n",
    "    \n",
    "    assert len(tmp.ctrial.unique())==1\n",
    "    assert '_'.join(list(tmp.mmode))=='M0_M2'\n",
    "    \n",
    "    # this is guaranteed by the above assertion\n",
    "    m0 = tmp[spcols].iloc[0]\n",
    "    m2 = tmp[spcols].iloc[1]\n",
    "    \n",
    "    delt = list(m0-m2)\n",
    "    \n",
    "    im = line(m0,m2,width=4,side=64,bg='gainsboro',fill='dimgrey')\n",
    "    ims.append(im)\n",
    "    \n",
    "    delts.append(delt)"
   ]
  },
  {
   "cell_type": "code",
   "execution_count": 111,
   "id": "6acee115",
   "metadata": {},
   "outputs": [
    {
     "data": {
      "text/plain": [
       "14809"
      ]
     },
     "execution_count": 111,
     "metadata": {},
     "output_type": "execute_result"
    }
   ],
   "source": [
    "len(delts)"
   ]
  },
  {
   "cell_type": "markdown",
   "id": "a6de7de4",
   "metadata": {},
   "source": [
    "# kurtosis"
   ]
  },
  {
   "cell_type": "code",
   "execution_count": 112,
   "id": "b465dac3",
   "metadata": {},
   "outputs": [],
   "source": [
    "from scipy.stats import kurtosis"
   ]
  },
  {
   "cell_type": "code",
   "execution_count": 113,
   "id": "2fccb8f7",
   "metadata": {},
   "outputs": [],
   "source": [
    "k = [kurtosis(item) for item in delts]"
   ]
  },
  {
   "cell_type": "code",
   "execution_count": 114,
   "id": "84abe4b8",
   "metadata": {},
   "outputs": [],
   "source": [
    "kf = pd.DataFrame({\"im\":ims,\"k\":k})"
   ]
  },
  {
   "cell_type": "code",
   "execution_count": 115,
   "id": "3c5aeb8a",
   "metadata": {},
   "outputs": [],
   "source": [
    "kf = kf.sort_values(by='k')"
   ]
  },
  {
   "cell_type": "markdown",
   "id": "ad97bee9",
   "metadata": {},
   "source": [
    "# AUC"
   ]
  },
  {
   "cell_type": "code",
   "execution_count": 120,
   "id": "a744bd7a",
   "metadata": {},
   "outputs": [],
   "source": [
    "from scipy.integrate import simps\n",
    "import numpy as np"
   ]
  },
  {
   "cell_type": "code",
   "execution_count": 121,
   "id": "bf75af18",
   "metadata": {},
   "outputs": [],
   "source": [
    "def auc(delt):\n",
    "    x = np.array(range(len(delt)))  # Create an array for x-axis points\n",
    "    y = np.array(delt)  # Create an array for y-axis points (your vector)\n",
    "    intensity = simps(y, x)\n",
    "    \n",
    "    return intensity"
   ]
  },
  {
   "cell_type": "code",
   "execution_count": 122,
   "id": "dfb72db9",
   "metadata": {},
   "outputs": [],
   "source": [
    "i = [auc(delt) for delt in delts]"
   ]
  },
  {
   "cell_type": "code",
   "execution_count": 123,
   "id": "84d2e393",
   "metadata": {},
   "outputs": [],
   "source": [
    "aucf = pd.DataFrame({\"im\":ims,\"auc\":i})\n",
    "aucf = aucf.sort_values(by='auc')"
   ]
  },
  {
   "cell_type": "code",
   "execution_count": 125,
   "id": "a11aeb05",
   "metadata": {
    "scrolled": false
   },
   "outputs": [],
   "source": [
    "#compose(*list(aucf.im),ncols=40)"
   ]
  },
  {
   "cell_type": "code",
   "execution_count": 128,
   "id": "0d8365c5",
   "metadata": {},
   "outputs": [],
   "source": [
    "import pickle"
   ]
  },
  {
   "cell_type": "code",
   "execution_count": 130,
   "id": "faadadf9",
   "metadata": {},
   "outputs": [],
   "source": [
    "with open('uv.pkl', 'wb') as f:\n",
    "    pickle.dump(i, f)"
   ]
  },
  {
   "cell_type": "code",
   "execution_count": null,
   "id": "f5741378",
   "metadata": {},
   "outputs": [],
   "source": []
  }
 ],
 "metadata": {
  "kernelspec": {
   "display_name": "Python 3 (ipykernel)",
   "language": "python",
   "name": "python3"
  },
  "language_info": {
   "codemirror_mode": {
    "name": "ipython",
    "version": 3
   },
   "file_extension": ".py",
   "mimetype": "text/x-python",
   "name": "python",
   "nbconvert_exporter": "python",
   "pygments_lexer": "ipython3",
   "version": "3.10.4"
  }
 },
 "nbformat": 4,
 "nbformat_minor": 5
}
