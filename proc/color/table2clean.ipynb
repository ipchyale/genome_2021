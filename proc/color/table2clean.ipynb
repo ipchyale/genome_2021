{
 "cells": [
  {
   "cell_type": "code",
   "execution_count": 1,
   "id": "a6ef8744",
   "metadata": {},
   "outputs": [],
   "source": [
    "import pandas as pd\n",
    "import warnings\n",
    "warnings.filterwarnings('ignore')"
   ]
  },
  {
   "cell_type": "code",
   "execution_count": 2,
   "id": "68dd085a",
   "metadata": {},
   "outputs": [],
   "source": [
    "df = pd.read_csv(\"table.csv\")"
   ]
  },
  {
   "cell_type": "code",
   "execution_count": 3,
   "id": "d9d50f48",
   "metadata": {},
   "outputs": [],
   "source": [
    "df['SAMPLE_ID1'] = [item.rstrip('\"').lstrip('\"') for item in df.SAMPLE_ID1]"
   ]
  },
  {
   "cell_type": "markdown",
   "id": "d0ec291f",
   "metadata": {},
   "source": [
    "# delimiter patterns"
   ]
  },
  {
   "cell_type": "code",
   "execution_count": 4,
   "id": "bcfffc07",
   "metadata": {},
   "outputs": [],
   "source": [
    "delims = [\"_\",\"-\",\" \"]"
   ]
  },
  {
   "cell_type": "code",
   "execution_count": 5,
   "id": "e8cfbe77",
   "metadata": {},
   "outputs": [],
   "source": [
    "def delimpattern(s,delims):\n",
    "    d = ''\n",
    "    for i in s:\n",
    "        for delim in delims:\n",
    "            if i==delim:\n",
    "                d += delim\n",
    "                \n",
    "    return d"
   ]
  },
  {
   "cell_type": "code",
   "execution_count": 6,
   "id": "9a71a90a",
   "metadata": {},
   "outputs": [],
   "source": [
    "df['spattern'] = [delimpattern(item,delims) for item in df.SAMPLE_ID1]"
   ]
  },
  {
   "cell_type": "code",
   "execution_count": 7,
   "id": "1eff3d51",
   "metadata": {},
   "outputs": [
    {
     "data": {
      "text/plain": [
       "__-      65806\n",
       "_-       19965\n",
       "___        612\n",
       "-           45\n",
       "_-          42\n",
       "__ -        12\n",
       "--           9\n",
       "Name: spattern, dtype: int64"
      ]
     },
     "execution_count": 7,
     "metadata": {},
     "output_type": "execute_result"
    }
   ],
   "source": [
    "df.spattern.value_counts()"
   ]
  },
  {
   "cell_type": "markdown",
   "id": "025031af",
   "metadata": {},
   "source": [
    "There should only be two delimiter patterns (binder and sample book), but there are 7. Now let's deal with each individually."
   ]
  },
  {
   "cell_type": "code",
   "execution_count": 8,
   "id": "18e51e49",
   "metadata": {},
   "outputs": [],
   "source": [
    "dpatterns = list(df.spattern.value_counts().index)"
   ]
  },
  {
   "cell_type": "code",
   "execution_count": 9,
   "id": "3c83091f",
   "metadata": {},
   "outputs": [],
   "source": [
    "def elementcheck(d):\n",
    "    mf = d['mf']\n",
    "    mloc = d['mloc']\n",
    "    mtrial = d['mtrial']\n",
    "    mmode = d['mmode']\n",
    "    \n",
    "    fails = 0\n",
    "    \n",
    "    if mf is not None:\n",
    "        if len(mf) > 3:\n",
    "            fails+=1\n",
    "        try:\n",
    "            int(mf[0])\n",
    "            fails+=1\n",
    "        except:\n",
    "            pass\n",
    "    \n",
    "    if mloc is not None:\n",
    "        if mloc not in ['dmax','dmin','dmix','din','dmim']:\n",
    "            fails+=1\n",
    "            \n",
    "    try:\n",
    "        int(mtrial)\n",
    "    except:\n",
    "        fail+=1\n",
    "        \n",
    "    if mmode is not None:\n",
    "        if mmode not in ['M0','M1','M2']:\n",
    "            fails+=1\n",
    "            \n",
    "    if fails > 0:\n",
    "        return False\n",
    "    else:\n",
    "        return d"
   ]
  },
  {
   "cell_type": "code",
   "execution_count": 10,
   "id": "01302069",
   "metadata": {},
   "outputs": [],
   "source": [
    "def mlocfixer(mloc):\n",
    "    if mloc in ['dmax','dmix']:\n",
    "        mloc = 'dmax'\n",
    "    elif mloc in ['dmin','din','dmim']:\n",
    "        mloc = 'dmin'\n",
    "    else:\n",
    "        pass\n",
    "    \n",
    "    return mloc"
   ]
  },
  {
   "cell_type": "code",
   "execution_count": 11,
   "id": "4725d684",
   "metadata": {},
   "outputs": [],
   "source": [
    "def dpattern0(s):\n",
    "    cat = s.split('_')[0]\n",
    "    mf = s.split('_')[1]\n",
    "    mloc = mlocfixer(s.split('_')[2].split('-')[0])\n",
    "    mtrial = s.split('-')[1].split(' ')[0]\n",
    "    mmode = s.split(' ')[1]\n",
    "    \n",
    "    return {\"cat\":cat,\"mf\":mf,\"mloc\":mloc,\"mtrial\":mtrial,\"mmode\":mmode}"
   ]
  },
  {
   "cell_type": "code",
   "execution_count": 12,
   "id": "d7405fe5",
   "metadata": {},
   "outputs": [],
   "source": [
    "def dpattern1(s):\n",
    "    cat = s.split('_')[0]\n",
    "    mf = s.split('_')[1].split('-')[0]\n",
    "    mloc = None\n",
    "    mtrial = s.split('-')[1].split(' ')[0]\n",
    "    mmode = s.split(' ')[1]\n",
    "    \n",
    "    return {\"cat\":cat,\"mf\":mf,\"mloc\":mloc,\"mtrial\":mtrial,\"mmode\":mmode}"
   ]
  },
  {
   "cell_type": "code",
   "execution_count": 13,
   "id": "a981c2e5",
   "metadata": {},
   "outputs": [],
   "source": [
    "def dpattern2(s):\n",
    "    cat = s.split('_')[0]\n",
    "    mf = s.split('_')[1]\n",
    "    mloc = mlocfixer(s.split('_')[2])\n",
    "    mtrial = s.split('_')[3].split(' ')[0]\n",
    "    mmode = s.split(' ')[1]\n",
    "    \n",
    "    return {\"cat\":cat,\"mf\":mf,\"mloc\":mloc,\"mtrial\":mtrial,\"mmode\":mmode}"
   ]
  },
  {
   "cell_type": "code",
   "execution_count": 14,
   "id": "4ec11cc0",
   "metadata": {},
   "outputs": [],
   "source": [
    "def dpattern3(s):\n",
    "    cat = s.split('-')[0]\n",
    "    mf = None\n",
    "    mloc = None\n",
    "    mtrial = s.split('-')[1].split(' ')[0]\n",
    "    mmode = s.split(' ')[1]\n",
    "    \n",
    "    return {\"cat\":cat,\"mf\":mf,\"mloc\":mloc,\"mtrial\":mtrial,\"mmode\":mmode}"
   ]
  },
  {
   "cell_type": "code",
   "execution_count": 15,
   "id": "d0d5ea0d",
   "metadata": {},
   "outputs": [],
   "source": [
    "def dpattern4(s):\n",
    "    cat = s.split('_')[0]\n",
    "    mf = s.split('_')[1].split('-')[0]\n",
    "    mloc = None\n",
    "    mtrial = s.split('-')[1]\n",
    "    mmode = None\n",
    "    \n",
    "    return {\"cat\":cat,\"mf\":mf,\"mloc\":mloc,\"mtrial\":mtrial,\"mmode\":mmode}"
   ]
  },
  {
   "cell_type": "code",
   "execution_count": 16,
   "id": "29c783f7",
   "metadata": {},
   "outputs": [],
   "source": [
    "def dpattern5(s):\n",
    "    cat = s.split('_')[0]\n",
    "    mf = s.split('_')[1]\n",
    "    mloc = mlocfixer(s.split('_')[2].split(' ')[0])\n",
    "    mtrial = s.split('-')[1].split(' ')[0]\n",
    "    mmode = s.split(' ')[2]\n",
    "    \n",
    "    return {\"cat\":cat,\"mf\":mf,\"mloc\":mloc,\"mtrial\":mtrial,\"mmode\":mmode}"
   ]
  },
  {
   "cell_type": "code",
   "execution_count": 17,
   "id": "a329d62d",
   "metadata": {},
   "outputs": [],
   "source": [
    "def dpattern6(s):\n",
    "    cat = s.split('-')[0]\n",
    "    mf = s.split('-')[1]\n",
    "    mloc = None\n",
    "    mtrial = s.split('-')[2].split(' ')[0]\n",
    "    mmode = s.split(' ')[1]\n",
    "    \n",
    "    return {\"cat\":cat,\"mf\":mf,\"mloc\":mloc,\"mtrial\":mtrial,\"mmode\":mmode}"
   ]
  },
  {
   "cell_type": "code",
   "execution_count": 18,
   "id": "867f341b",
   "metadata": {},
   "outputs": [],
   "source": [
    "pdict = {\n",
    "    dpatterns[0]:dpattern0,\n",
    "    dpatterns[1]:dpattern1,\n",
    "    dpatterns[2]:dpattern2,\n",
    "    dpatterns[3]:dpattern3,\n",
    "    dpatterns[4]:dpattern4,\n",
    "    dpatterns[5]:dpattern5,\n",
    "    dpatterns[6]:dpattern6,\n",
    "}"
   ]
  },
  {
   "cell_type": "code",
   "execution_count": 19,
   "id": "7f1d8e0d",
   "metadata": {},
   "outputs": [],
   "source": [
    "df['idxparse'] = [elementcheck(pdict[df.spattern.loc[i]](df.SAMPLE_ID1.loc[i])) for i in df.index]"
   ]
  },
  {
   "cell_type": "markdown",
   "id": "b59c97b4",
   "metadata": {},
   "source": [
    "We are eliminating the below IDs because they are not unique in the binders. They probably appear in the flag files, but just in case they don't..."
   ]
  },
  {
   "cell_type": "code",
   "execution_count": 20,
   "id": "76fb7451",
   "metadata": {},
   "outputs": [],
   "source": [
    "badsampleids = list(set([item.split('_')[0] for item in df.SAMPLE_ID1[df.idxparse==False]]))"
   ]
  },
  {
   "cell_type": "code",
   "execution_count": 21,
   "id": "5065429c",
   "metadata": {},
   "outputs": [],
   "source": [
    "df = df[df.idxparse!=False]"
   ]
  },
  {
   "cell_type": "code",
   "execution_count": 22,
   "id": "8522109a",
   "metadata": {},
   "outputs": [],
   "source": [
    "parsedcols = pd.DataFrame(list(df.idxparse))"
   ]
  },
  {
   "cell_type": "code",
   "execution_count": 23,
   "id": "656fcf04",
   "metadata": {},
   "outputs": [],
   "source": [
    "df = df.reset_index(drop=True)"
   ]
  },
  {
   "cell_type": "code",
   "execution_count": 24,
   "id": "93a5e130",
   "metadata": {},
   "outputs": [],
   "source": [
    "df = pd.concat([parsedcols,df],axis=1)"
   ]
  },
  {
   "cell_type": "code",
   "execution_count": 25,
   "id": "1c2183ac",
   "metadata": {},
   "outputs": [],
   "source": [
    "del df['SAMPLE_ID2']\n",
    "del df['SAMPLE_ID3']\n",
    "del df['idxparse']\n",
    "del df['spattern']"
   ]
  },
  {
   "cell_type": "code",
   "execution_count": 26,
   "id": "bf45c117",
   "metadata": {},
   "outputs": [],
   "source": [
    "df = df[~df.cat.isin(badsampleids)]"
   ]
  },
  {
   "cell_type": "markdown",
   "id": "44b7d0f3",
   "metadata": {},
   "source": [
    "# select mode"
   ]
  },
  {
   "cell_type": "code",
   "execution_count": 27,
   "id": "bd183f59",
   "metadata": {},
   "outputs": [],
   "source": [
    "df = df[df.mmode=='M0']"
   ]
  },
  {
   "cell_type": "code",
   "execution_count": 28,
   "id": "eaf405b2",
   "metadata": {},
   "outputs": [],
   "source": [
    "df = df.reset_index(drop=True)"
   ]
  },
  {
   "cell_type": "markdown",
   "id": "15e38334",
   "metadata": {},
   "source": [
    "# repeat catalog numbers"
   ]
  },
  {
   "cell_type": "markdown",
   "id": "d1f83538",
   "metadata": {},
   "source": [
    "Repeats are expected, of course, since there are generally 3 trials per paper. Sometimes, there are more, for whatever reason. However, what we need to find are cases where there are non-sequential repeats. If there is an error in entering a catalog number, it should produce nonsequential repeats. There is an outside chance that the operator could enter a correct catalog number, and then on the very next sample, enter that same number again, erroneously, but this seems so improbable as to be dismissed. "
   ]
  },
  {
   "cell_type": "code",
   "execution_count": 29,
   "id": "322c9f1c",
   "metadata": {},
   "outputs": [],
   "source": [
    "import numpy as np"
   ]
  },
  {
   "cell_type": "code",
   "execution_count": 30,
   "id": "e85fbf01",
   "metadata": {},
   "outputs": [],
   "source": [
    "badcats = []\n",
    "for cat in df.cat.unique():\n",
    "    tmp = df[df.cat==cat]\n",
    "    s = sorted(list(tmp.index))\n",
    "    expected_list = list(np.arange(s[0],s[-1]+1,1))\n",
    "    if s != expected_list:\n",
    "        badcats.append(cat)"
   ]
  },
  {
   "cell_type": "code",
   "execution_count": 31,
   "id": "ae69f6f0",
   "metadata": {
    "scrolled": false
   },
   "outputs": [],
   "source": [
    "badcats_checked = []\n",
    "for badcat in badcats:\n",
    "    tmp = df[df.cat==badcat]\n",
    "    try:\n",
    "        fullidxs = [item.split('_')[0]+'_'+item.split('_')[1][:2] for item in tmp.SAMPLE_ID1]\n",
    "        if len(list(set(fullidxs)))!=1:\n",
    "            badcats_checked.append(badcat)\n",
    "    except Exception as e:\n",
    "        print(e)\n",
    "        badcats_checked.append(badcat)"
   ]
  },
  {
   "cell_type": "code",
   "execution_count": 32,
   "id": "55fbb3bb",
   "metadata": {},
   "outputs": [],
   "source": [
    "i = 0"
   ]
  },
  {
   "cell_type": "code",
   "execution_count": 33,
   "id": "86d708a2",
   "metadata": {},
   "outputs": [
    {
     "name": "stdout",
     "output_type": "stream",
     "text": [
      "1 of 11\n",
      "7914     2569_ps-1 M0\n",
      "7915     2569_ps-2 M0\n",
      "7916     2569_ps-3 M0\n",
      "17068    2569_kp-1 M0\n",
      "17069    2569_kp-2 M0\n",
      "17070    2569_kp-3 M0\n",
      "Name: SAMPLE_ID1, dtype: object\n"
     ]
    }
   ],
   "source": [
    "print(i+1,'of',len(badcats_checked))\n",
    "print(df.SAMPLE_ID1[df.cat==badcats_checked[i]])\n",
    "i+=1"
   ]
  },
  {
   "cell_type": "code",
   "execution_count": 34,
   "id": "fb8002a8",
   "metadata": {},
   "outputs": [],
   "source": [
    "badidxs = [\"2569_kp-\",\"2240_kp-\",\"2173_kk-\",\"4945_kk-\",\"2372nn_kt_\",\"2372nn_kt_\",\n",
    "           \"5154_ll-\",\"2355_km-\",\"369_dd-\",\"2883_bp-\",\"2092_kp-\"]"
   ]
  },
  {
   "cell_type": "code",
   "execution_count": 35,
   "id": "24583f41",
   "metadata": {},
   "outputs": [],
   "source": [
    "todrop = []\n",
    "for i in df.index:\n",
    "    sampleid = df.SAMPLE_ID1.loc[i]\n",
    "    for badidx in badidxs:\n",
    "        if badidx in sampleid:\n",
    "            todrop.append(i)"
   ]
  },
  {
   "cell_type": "code",
   "execution_count": 36,
   "id": "307e7902",
   "metadata": {},
   "outputs": [],
   "source": [
    "df = df.drop(todrop)"
   ]
  },
  {
   "cell_type": "markdown",
   "id": "8a1b8cf8",
   "metadata": {},
   "source": [
    "# flags"
   ]
  },
  {
   "cell_type": "markdown",
   "id": "7271a36f",
   "metadata": {},
   "source": [
    "Dropping measurements can be important for color, so we'll be as liberal as possible in dropping here."
   ]
  },
  {
   "cell_type": "code",
   "execution_count": 37,
   "id": "367339c9",
   "metadata": {},
   "outputs": [],
   "source": [
    "flagfiles = [\n",
    "    '/Users/damoncrockett/Dropbox/lml/genome_2021/_flags/IgnoreList.xlsx',\n",
    "    '/Users/damoncrockett/Dropbox/lml/genome_2021/_flags/20220125 Collection Measurement Issues and Notes.xlsx',\n",
    "    '/Users/damoncrockett/Dropbox/lml/genome_2021/_flags/binder_flags_Crockett.xlsx',\n",
    "    '/Users/damoncrockett/Dropbox/lml/genome_2021/_flags/ColorMeasuerementIssues_SampleBooks.xlsx'\n",
    "]"
   ]
  },
  {
   "cell_type": "code",
   "execution_count": 38,
   "id": "d3f3d379",
   "metadata": {},
   "outputs": [],
   "source": [
    "ff = pd.read_excel(flagfiles[0])"
   ]
  },
  {
   "cell_type": "code",
   "execution_count": 39,
   "id": "0471e1c5",
   "metadata": {},
   "outputs": [],
   "source": [
    "df = df[~df.cat.isin(ff.catalog[ff.dim=='a'])]"
   ]
  },
  {
   "cell_type": "code",
   "execution_count": 40,
   "id": "37ef9da3",
   "metadata": {},
   "outputs": [],
   "source": [
    "ff = pd.read_excel(flagfiles[1])"
   ]
  },
  {
   "cell_type": "code",
   "execution_count": 41,
   "id": "3d4608db",
   "metadata": {},
   "outputs": [],
   "source": [
    "ff = ff.fillna('')"
   ]
  },
  {
   "cell_type": "code",
   "execution_count": 42,
   "id": "9e83e078",
   "metadata": {},
   "outputs": [
    {
     "data": {
      "text/html": [
       "<div>\n",
       "<style scoped>\n",
       "    .dataframe tbody tr th:only-of-type {\n",
       "        vertical-align: middle;\n",
       "    }\n",
       "\n",
       "    .dataframe tbody tr th {\n",
       "        vertical-align: top;\n",
       "    }\n",
       "\n",
       "    .dataframe thead th {\n",
       "        text-align: right;\n",
       "    }\n",
       "</style>\n",
       "<table border=\"1\" class=\"dataframe\">\n",
       "  <thead>\n",
       "    <tr style=\"text-align: right;\">\n",
       "      <th></th>\n",
       "      <th>cat</th>\n",
       "      <th>mf</th>\n",
       "      <th>mloc</th>\n",
       "      <th>mtrial</th>\n",
       "      <th>mmode</th>\n",
       "      <th>SAMPLE_ID1</th>\n",
       "      <th>LAB_L</th>\n",
       "      <th>LAB_A</th>\n",
       "      <th>LAB_B</th>\n",
       "      <th>nm380</th>\n",
       "      <th>...</th>\n",
       "      <th>nm670</th>\n",
       "      <th>nm680</th>\n",
       "      <th>nm690</th>\n",
       "      <th>nm700</th>\n",
       "      <th>nm710</th>\n",
       "      <th>nm720</th>\n",
       "      <th>nm730</th>\n",
       "      <th>LUV_L</th>\n",
       "      <th>LUV_U</th>\n",
       "      <th>LUV_V</th>\n",
       "    </tr>\n",
       "  </thead>\n",
       "  <tbody>\n",
       "  </tbody>\n",
       "</table>\n",
       "<p>0 rows × 48 columns</p>\n",
       "</div>"
      ],
      "text/plain": [
       "Empty DataFrame\n",
       "Columns: [cat, mf, mloc, mtrial, mmode, SAMPLE_ID1, LAB_L, LAB_A, LAB_B, nm380, nm390, nm400, nm410, nm420, nm430, nm440, nm450, nm460, nm470, nm480, nm490, nm500, nm510, nm520, nm530, nm540, nm550, nm560, nm570, nm580, nm590, nm600, nm610, nm620, nm630, nm640, nm650, nm660, nm670, nm680, nm690, nm700, nm710, nm720, nm730, LUV_L, LUV_U, LUV_V]\n",
       "Index: []\n",
       "\n",
       "[0 rows x 48 columns]"
      ]
     },
     "execution_count": 42,
     "metadata": {},
     "output_type": "execute_result"
    }
   ],
   "source": [
    "df[df.cat.isin(ff['Sample:'][ff['Binder/Box:'].str.contains('Binder')])]"
   ]
  },
  {
   "cell_type": "code",
   "execution_count": 43,
   "id": "4c9b2057",
   "metadata": {},
   "outputs": [],
   "source": [
    "ff = pd.read_excel(flagfiles[2])"
   ]
  },
  {
   "cell_type": "code",
   "execution_count": 44,
   "id": "88e52f13",
   "metadata": {},
   "outputs": [],
   "source": [
    "df = df[~df.cat.isin(ff.catalog)]"
   ]
  },
  {
   "cell_type": "code",
   "execution_count": 45,
   "id": "fb16dd7d",
   "metadata": {},
   "outputs": [],
   "source": [
    "ff = pd.read_excel(flagfiles[3])"
   ]
  },
  {
   "cell_type": "code",
   "execution_count": 46,
   "id": "d9798718",
   "metadata": {},
   "outputs": [],
   "source": [
    "ff = ff.fillna('')"
   ]
  },
  {
   "cell_type": "code",
   "execution_count": 47,
   "id": "9c55bc44",
   "metadata": {},
   "outputs": [],
   "source": [
    "todrop = list(df.index[(df.cat.isin(ff['Cat #'][ff.Issue.str.contains('min')]))&(df.mloc=='dmin')])"
   ]
  },
  {
   "cell_type": "code",
   "execution_count": 48,
   "id": "f45b2443",
   "metadata": {},
   "outputs": [],
   "source": [
    "df = df.drop(todrop)"
   ]
  },
  {
   "cell_type": "code",
   "execution_count": 49,
   "id": "14daf95a",
   "metadata": {},
   "outputs": [],
   "source": [
    "todrop = list(df.index[(df.cat.isin(ff['Cat #'][ff.Issue.str.contains('max')]))&(df.mloc=='dmax')])"
   ]
  },
  {
   "cell_type": "code",
   "execution_count": 50,
   "id": "7c43944f",
   "metadata": {},
   "outputs": [],
   "source": [
    "df = df.drop(todrop)"
   ]
  },
  {
   "cell_type": "code",
   "execution_count": 51,
   "id": "6a979b39",
   "metadata": {},
   "outputs": [],
   "source": [
    "df = df.reset_index(drop=True)"
   ]
  },
  {
   "cell_type": "markdown",
   "id": "0c459623",
   "metadata": {},
   "source": [
    "# LUV issue"
   ]
  },
  {
   "cell_type": "code",
   "execution_count": 52,
   "id": "4e96a8c2",
   "metadata": {},
   "outputs": [],
   "source": [
    "from colormath.color_objects import LabColor,LuvColor\n",
    "from colormath.color_conversions import convert_color"
   ]
  },
  {
   "cell_type": "code",
   "execution_count": 53,
   "id": "cb47ba42",
   "metadata": {},
   "outputs": [],
   "source": [
    "def luv2lab(i):\n",
    "    l = df.LUV_L.loc[i]\n",
    "    u = df.LUV_U.loc[i]\n",
    "    v = df.LUV_V.loc[i]\n",
    "    luv = LuvColor(l,u,v,observer='2',illuminant='d65')\n",
    "    lab = convert_color(luv,LabColor)\n",
    "    return lab.get_value_tuple()"
   ]
  },
  {
   "cell_type": "code",
   "execution_count": 54,
   "id": "5830ccaa",
   "metadata": {},
   "outputs": [],
   "source": [
    "luvidxs = df.index[df.LUV_L.notnull()]"
   ]
  },
  {
   "cell_type": "code",
   "execution_count": 55,
   "id": "83d7938c",
   "metadata": {},
   "outputs": [],
   "source": [
    "for luvidx in luvidxs:\n",
    "    lab = luv2lab(luvidx)\n",
    "    df.LAB_L.loc[luvidx] = lab[0]\n",
    "    df.LAB_A.loc[luvidx] = lab[1]\n",
    "    df.LAB_B.loc[luvidx] = lab[2]"
   ]
  },
  {
   "cell_type": "code",
   "execution_count": 56,
   "id": "0ead74f4",
   "metadata": {},
   "outputs": [],
   "source": [
    "del df['LUV_L']\n",
    "del df['LUV_U']\n",
    "del df['LUV_V']"
   ]
  },
  {
   "cell_type": "markdown",
   "id": "3b365ea5",
   "metadata": {},
   "source": [
    "# save"
   ]
  },
  {
   "cell_type": "code",
   "execution_count": 57,
   "id": "8beb3153",
   "metadata": {},
   "outputs": [],
   "source": [
    "df.to_csv('clean.csv',index=False)"
   ]
  }
 ],
 "metadata": {
  "kernelspec": {
   "display_name": "Python 3 (ipykernel)",
   "language": "python",
   "name": "python3"
  },
  "language_info": {
   "codemirror_mode": {
    "name": "ipython",
    "version": 3
   },
   "file_extension": ".py",
   "mimetype": "text/x-python",
   "name": "python",
   "nbconvert_exporter": "python",
   "pygments_lexer": "ipython3",
   "version": "3.10.4"
  }
 },
 "nbformat": 4,
 "nbformat_minor": 5
}
