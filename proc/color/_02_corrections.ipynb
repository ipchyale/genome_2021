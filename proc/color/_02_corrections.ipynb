{
 "cells": [
  {
   "cell_type": "code",
   "execution_count": 1,
   "id": "4b5bd807",
   "metadata": {},
   "outputs": [],
   "source": [
    "import os\n",
    "import glob\n",
    "import pandas as pd\n",
    "import numpy as np\n",
    "import warnings\n",
    "warnings.filterwarnings('ignore')"
   ]
  },
  {
   "cell_type": "code",
   "execution_count": 2,
   "id": "83c264c3",
   "metadata": {},
   "outputs": [],
   "source": [
    "df = pd.read_pickle('raw_omissions.pkl')"
   ]
  },
  {
   "cell_type": "code",
   "execution_count": 3,
   "id": "dced821c",
   "metadata": {},
   "outputs": [],
   "source": [
    "df['fbase'] = df.fname.apply(lambda x: os.path.basename(x).lower())"
   ]
  },
  {
   "cell_type": "code",
   "execution_count": 4,
   "id": "af9956c8",
   "metadata": {},
   "outputs": [],
   "source": [
    "spcols = [f'nm{str(item)}' for item in range(400,510,10)]"
   ]
  },
  {
   "cell_type": "code",
   "execution_count": 5,
   "id": "1c53e2ac",
   "metadata": {},
   "outputs": [],
   "source": [
    "df = df[[item for item in df.columns if 'nm' not in item]+spcols]"
   ]
  },
  {
   "cell_type": "code",
   "execution_count": 6,
   "id": "a84144c4",
   "metadata": {},
   "outputs": [],
   "source": [
    "df[spcols] = df[spcols].applymap(float)"
   ]
  },
  {
   "cell_type": "code",
   "execution_count": 7,
   "id": "ab2a344b",
   "metadata": {},
   "outputs": [],
   "source": [
    "labcols = ['LAB_L','LAB_A','LAB_B']"
   ]
  },
  {
   "cell_type": "code",
   "execution_count": 8,
   "id": "00cfb1e1",
   "metadata": {},
   "outputs": [],
   "source": [
    "df[labcols] = df[labcols].applymap(float)"
   ]
  },
  {
   "cell_type": "code",
   "execution_count": 9,
   "id": "553b053c",
   "metadata": {},
   "outputs": [
    {
     "data": {
      "text/plain": [
       "dmin    40402\n",
       "dmax    40049\n",
       "dim         9\n",
       "dmix        9\n",
       "din         9\n",
       "dmim        9\n",
       "Name: mloc, dtype: int64"
      ]
     },
     "execution_count": 9,
     "metadata": {},
     "output_type": "execute_result"
    }
   ],
   "source": [
    "df.mloc.value_counts()"
   ]
  },
  {
   "cell_type": "code",
   "execution_count": 10,
   "id": "b5d676c8",
   "metadata": {},
   "outputs": [],
   "source": [
    "df.mloc[df.mloc.isin(['dmix','din','dmim','dim'])] = 'dmin'"
   ]
  },
  {
   "cell_type": "markdown",
   "id": "f9215f6f",
   "metadata": {},
   "source": [
    "# typos, etc."
   ]
  },
  {
   "cell_type": "code",
   "execution_count": 11,
   "id": "d2c026e8",
   "metadata": {},
   "outputs": [],
   "source": [
    "df.catalog = df.catalog.apply(str)"
   ]
  },
  {
   "cell_type": "code",
   "execution_count": 12,
   "id": "484b68a4",
   "metadata": {},
   "outputs": [],
   "source": [
    "def catalog_change(df,pre,post):\n",
    "    df.catalog.loc[df.catalog==pre] = post"
   ]
  },
  {
   "cell_type": "code",
   "execution_count": 13,
   "id": "daa5bb22",
   "metadata": {},
   "outputs": [],
   "source": [
    "catalog_change(df,'2654','2645')\n",
    "catalog_change(df,'4547','2547')\n",
    "catalog_change(df,'5302r','5302q')\n",
    "catalog_change(df,'5529r','5529q')\n",
    "catalog_change(df,'5932','4932')\n",
    "catalog_change(df,'2639','2639e')\n",
    "catalog_change(df,'1649','1694')"
   ]
  },
  {
   "cell_type": "code",
   "execution_count": 14,
   "id": "d1b2d86c",
   "metadata": {},
   "outputs": [],
   "source": [
    "def check_for_letters(s):\n",
    "    for c in s:\n",
    "        if not c.isdigit():\n",
    "            return True"
   ]
  },
  {
   "cell_type": "code",
   "execution_count": 15,
   "id": "fa346155",
   "metadata": {},
   "outputs": [],
   "source": [
    "def sb_catalog_change(df,pre,post):\n",
    "    tmp = df.loc[df.catalog.str.contains(pre)]\n",
    "    tmp['has_letters'] = tmp.catalog.apply(check_for_letters)\n",
    "    idxs = tmp.loc[tmp.has_letters==True].index\n",
    "    \n",
    "    for idx in idxs:\n",
    "        catalog = df.catalog.loc[idx]\n",
    "        suffix = ''.join([c for c in catalog if not c.isdigit()])\n",
    "        df.catalog.loc[idx] = post + suffix"
   ]
  },
  {
   "cell_type": "code",
   "execution_count": 16,
   "id": "8044e219",
   "metadata": {},
   "outputs": [],
   "source": [
    "sb_catalog_change(df,'984','948')\n",
    "sb_catalog_change(df,'310','301')\n",
    "sb_catalog_change(df,'5156','5165')"
   ]
  },
  {
   "cell_type": "code",
   "execution_count": 17,
   "id": "7c931f33",
   "metadata": {},
   "outputs": [],
   "source": [
    "df = df.loc[df.mmode.isin(['M0','M2'])]"
   ]
  },
  {
   "cell_type": "code",
   "execution_count": 18,
   "id": "70bb8429",
   "metadata": {},
   "outputs": [],
   "source": [
    "df = df.reset_index(drop=True)"
   ]
  },
  {
   "cell_type": "code",
   "execution_count": 19,
   "id": "3a015673",
   "metadata": {},
   "outputs": [],
   "source": [
    "todrop = df.loc[(df.catalog=='5209ff')&(df.manbran=='gg')].index"
   ]
  },
  {
   "cell_type": "code",
   "execution_count": 20,
   "id": "c3f6e925",
   "metadata": {},
   "outputs": [],
   "source": [
    "df = df.drop(todrop)"
   ]
  },
  {
   "cell_type": "code",
   "execution_count": 21,
   "id": "9160666d",
   "metadata": {},
   "outputs": [],
   "source": [
    "df.catalog.loc[(df.catalog=='2372nn')&(df.manbran=='kt')] = '2372pp'"
   ]
  },
  {
   "cell_type": "code",
   "execution_count": 22,
   "id": "ba675eae",
   "metadata": {},
   "outputs": [],
   "source": [
    "def binder_correction(df,catalog,binder,repl):\n",
    "    df.catalog.loc[(df.catalog==catalog)&(df.fname.str.contains(binder))] = repl"
   ]
  },
  {
   "cell_type": "code",
   "execution_count": 23,
   "id": "0666f701",
   "metadata": {},
   "outputs": [],
   "source": [
    "binder_correction(df,'2569','binder1','2596')\n",
    "binder_correction(df,'2240','binder6','2440')\n",
    "binder_correction(df,'2173','binder5','2163')\n",
    "binder_correction(df,'5046','binder7','5064')\n",
    "binder_correction(df,'2355','binder4','2335')\n",
    "binder_correction(df,'369','binder1','359')\n",
    "binder_correction(df,'2883','binder7','2383')\n",
    "binder_correction(df,'4945','binder7','5554')"
   ]
  },
  {
   "cell_type": "markdown",
   "id": "87ef397f",
   "metadata": {},
   "source": [
    "## correcting mloc mislabels"
   ]
  },
  {
   "cell_type": "markdown",
   "id": "efda36e4",
   "metadata": {},
   "source": [
    "#### dmin"
   ]
  },
  {
   "cell_type": "code",
   "execution_count": 24,
   "id": "a22986be",
   "metadata": {},
   "outputs": [
    {
     "data": {
      "text/plain": [
       "<AxesSubplot:>"
      ]
     },
     "execution_count": 24,
     "metadata": {},
     "output_type": "execute_result"
    },
    {
     "data": {
      "image/png": "[encoded data removed]",
      "text/plain": [
       "<Figure size 432x288 with 1 Axes>"
      ]
     },
     "metadata": {
      "needs_background": "light"
     },
     "output_type": "display_data"
    }
   ],
   "source": [
    "df.LAB_L.loc[(df.LAB_L < 60)&(df.mloc=='dmin')].hist(bins=50)"
   ]
  },
  {
   "cell_type": "code",
   "execution_count": 25,
   "id": "da0ea003",
   "metadata": {},
   "outputs": [],
   "source": [
    "lowdmincats = df.catalog.loc[(df.LAB_L < 60)&(df.mloc=='dmin')].unique()"
   ]
  },
  {
   "cell_type": "code",
   "execution_count": 26,
   "id": "a1205ae8",
   "metadata": {
    "scrolled": false
   },
   "outputs": [],
   "source": [
    "# for cat in lowdmincats:\n",
    "#     tmp = df.loc[df.catalog==cat]\n",
    "#     print(tmp[['catalog','LAB_L','mloc']],'\\n\\n\\n\\n')"
   ]
  },
  {
   "cell_type": "code",
   "execution_count": 27,
   "id": "4d8b5297",
   "metadata": {},
   "outputs": [],
   "source": [
    "df.mloc.loc[(df.catalog=='5493n')&(df.LAB_L < 30)] = 'dmax'"
   ]
  },
  {
   "cell_type": "code",
   "execution_count": 28,
   "id": "705e1c5d",
   "metadata": {},
   "outputs": [],
   "source": [
    "df.mloc.loc[(df.catalog=='5493n')&(df.LAB_L > 80)] = 'dmin'"
   ]
  },
  {
   "cell_type": "code",
   "execution_count": 29,
   "id": "15fa5173",
   "metadata": {},
   "outputs": [],
   "source": [
    "df.mloc.loc[(df.catalog=='5486v')&(df.LAB_L < 30)] = 'dmax'"
   ]
  },
  {
   "cell_type": "markdown",
   "id": "ae0a90b4",
   "metadata": {},
   "source": [
    "#### dmax"
   ]
  },
  {
   "cell_type": "code",
   "execution_count": 30,
   "id": "bb76a348",
   "metadata": {},
   "outputs": [
    {
     "data": {
      "text/plain": [
       "<AxesSubplot:>"
      ]
     },
     "execution_count": 30,
     "metadata": {},
     "output_type": "execute_result"
    },
    {
     "data": {
      "image/png": "[encoded data removed]",
      "text/plain": [
       "<Figure size 432x288 with 1 Axes>"
      ]
     },
     "metadata": {
      "needs_background": "light"
     },
     "output_type": "display_data"
    }
   ],
   "source": [
    "df.LAB_L.loc[(df.LAB_L > 50)&(df.mloc=='dmax')].hist(bins=50)"
   ]
  },
  {
   "cell_type": "code",
   "execution_count": 31,
   "id": "e69e61ab",
   "metadata": {},
   "outputs": [],
   "source": [
    "highdmaxcats = df.catalog.loc[(df.LAB_L > 40)&(df.mloc=='dmax')].unique()"
   ]
  },
  {
   "cell_type": "code",
   "execution_count": 32,
   "id": "b1aee692",
   "metadata": {
    "scrolled": true
   },
   "outputs": [
    {
     "name": "stdout",
     "output_type": "stream",
     "text": [
      "5532h\n"
     ]
    }
   ],
   "source": [
    "for cat in highdmaxcats:\n",
    "    tmp = df.loc[df.catalog==cat]\n",
    "    \n",
    "    if not all([loca in tmp.mloc.unique() for loca in ['dmax','dmin']]):\n",
    "        print(cat)\n",
    "    \n",
    "    maxdmax = tmp.LAB_L.loc[tmp.mloc=='dmax'].max()\n",
    "    mindmin = tmp.LAB_L.loc[tmp.mloc=='dmin'].min()\n",
    "        \n",
    "    if maxdmax >= mindmin:\n",
    "        print(cat)"
   ]
  },
  {
   "cell_type": "markdown",
   "id": "cd3ba7a5",
   "metadata": {},
   "source": [
    "Ok just one error here: in 5532h, all measurements are labeled dmax, including some that must be dmins. In all other cases of high dmaxes, the dmins are even higher."
   ]
  },
  {
   "cell_type": "code",
   "execution_count": 33,
   "id": "4135fef3",
   "metadata": {},
   "outputs": [],
   "source": [
    "df.mloc.loc[(df.catalog=='5532h')&(df.LAB_L > 90)] = 'dmin'"
   ]
  },
  {
   "cell_type": "code",
   "execution_count": 34,
   "id": "97e6b617",
   "metadata": {},
   "outputs": [
    {
     "data": {
      "text/plain": [
       "dmin    26953\n",
       "dmax    26693\n",
       "Name: mloc, dtype: int64"
      ]
     },
     "execution_count": 34,
     "metadata": {},
     "output_type": "execute_result"
    }
   ],
   "source": [
    "df.mloc.value_counts()"
   ]
  },
  {
   "cell_type": "markdown",
   "id": "d1222348",
   "metadata": {},
   "source": [
    "#### no label vs sb dmins"
   ]
  },
  {
   "cell_type": "markdown",
   "id": "67a2dd2f",
   "metadata": {},
   "source": [
    "So we are not quite done. It looks like there are more dmins than dmaxes. One issue here is that package samples were not labeled 'dmin', because there is no dmax. But I suspect there is another case of mislabeled measurements in here."
   ]
  },
  {
   "cell_type": "code",
   "execution_count": 35,
   "id": "a041c544",
   "metadata": {},
   "outputs": [],
   "source": [
    "df['sample_type'] = None"
   ]
  },
  {
   "cell_type": "code",
   "execution_count": 36,
   "id": "d756c40e",
   "metadata": {},
   "outputs": [],
   "source": [
    "f = \"/Users/damoncrockett/lml2lux/notebooks/lml_w_copies.jsonl\""
   ]
  },
  {
   "cell_type": "code",
   "execution_count": 37,
   "id": "d9188d77",
   "metadata": {},
   "outputs": [],
   "source": [
    "ff = pd.read_json(f, lines=True)"
   ]
  },
  {
   "cell_type": "code",
   "execution_count": 38,
   "id": "1cd3be7f",
   "metadata": {},
   "outputs": [],
   "source": [
    "pkg = ff.loc[ff.Classification=='photographic paper package'].CatalogNumber"
   ]
  },
  {
   "cell_type": "code",
   "execution_count": 39,
   "id": "03b23ac3",
   "metadata": {},
   "outputs": [],
   "source": [
    "sb = ff.loc[ff.Classification=='photographic paper sample'].CatalogNumber"
   ]
  },
  {
   "cell_type": "code",
   "execution_count": 40,
   "id": "af460e45",
   "metadata": {},
   "outputs": [],
   "source": [
    "df.sample_type.loc[df.catalog.isin(sb)] = 'sample_book'\n",
    "df.sample_type.loc[df.catalog.isin(pkg)] = 'package'"
   ]
  },
  {
   "cell_type": "code",
   "execution_count": 41,
   "id": "4b8c830e",
   "metadata": {},
   "outputs": [
    {
     "data": {
      "text/plain": [
       "array(['color_km_fomu.txt', 'color_km_binder1_1.txt',\n",
       "       'color_km_binder3_2.txt', 'color_km_binder5_4.txt',\n",
       "       'color_km_binder7_4.txt', 'color_km_binder3_1.txt',\n",
       "       'color_km_binder7_5.txt', 'color_km_binder6_1.txt',\n",
       "       'color_km_box3_2_5.txt', 'color_km_box3_2_4.txt'], dtype=object)"
      ]
     },
     "execution_count": 41,
     "metadata": {},
     "output_type": "execute_result"
    }
   ],
   "source": [
    "df.loc[df.sample_type.isnull()].fbase.unique()"
   ]
  },
  {
   "cell_type": "markdown",
   "id": "e4fffe6d",
   "metadata": {},
   "source": [
    "Sample book measurements where we left out mloc:"
   ]
  },
  {
   "cell_type": "code",
   "execution_count": 42,
   "id": "e65ff0de",
   "metadata": {},
   "outputs": [
    {
     "data": {
      "text/html": [
       "<div>\n",
       "<style scoped>\n",
       "    .dataframe tbody tr th:only-of-type {\n",
       "        vertical-align: middle;\n",
       "    }\n",
       "\n",
       "    .dataframe tbody tr th {\n",
       "        vertical-align: top;\n",
       "    }\n",
       "\n",
       "    .dataframe thead th {\n",
       "        text-align: right;\n",
       "    }\n",
       "</style>\n",
       "<table border=\"1\" class=\"dataframe\">\n",
       "  <thead>\n",
       "    <tr style=\"text-align: right;\">\n",
       "      <th></th>\n",
       "      <th>LAB_L</th>\n",
       "      <th>fname</th>\n",
       "      <th>LAB_A</th>\n",
       "      <th>LAB_B</th>\n",
       "      <th>rgbhex</th>\n",
       "      <th>mmode</th>\n",
       "      <th>ss</th>\n",
       "      <th>catalog</th>\n",
       "      <th>mtrial</th>\n",
       "      <th>mloc</th>\n",
       "      <th>...</th>\n",
       "      <th>nm420</th>\n",
       "      <th>nm430</th>\n",
       "      <th>nm440</th>\n",
       "      <th>nm450</th>\n",
       "      <th>nm460</th>\n",
       "      <th>nm470</th>\n",
       "      <th>nm480</th>\n",
       "      <th>nm490</th>\n",
       "      <th>nm500</th>\n",
       "      <th>sample_type</th>\n",
       "    </tr>\n",
       "  </thead>\n",
       "  <tbody>\n",
       "  </tbody>\n",
       "</table>\n",
       "<p>0 rows × 25 columns</p>\n",
       "</div>"
      ],
      "text/plain": [
       "Empty DataFrame\n",
       "Columns: [LAB_L, fname, LAB_A, LAB_B, rgbhex, mmode, ss, catalog, mtrial, mloc, manbran, additional, fbase, nm400, nm410, nm420, nm430, nm440, nm450, nm460, nm470, nm480, nm490, nm500, sample_type]\n",
       "Index: []\n",
       "\n",
       "[0 rows x 25 columns]"
      ]
     },
     "execution_count": 42,
     "metadata": {},
     "output_type": "execute_result"
    }
   ],
   "source": [
    "df.loc[(df.sample_type=='sample_book')&(df.mloc.isnull())]"
   ]
  },
  {
   "cell_type": "markdown",
   "id": "b6a77460",
   "metadata": {},
   "source": [
    "So here's what left of the binder papers with secondary catalog numbers (most were eliminated with the \"omit from paperbase\" flag, because they are color papers):"
   ]
  },
  {
   "cell_type": "code",
   "execution_count": 43,
   "id": "e2d81bc2",
   "metadata": {},
   "outputs": [
    {
     "data": {
      "text/plain": [
       "array(['1860a', '1860b', '1860c', '1860e', '1860g', '1860d'], dtype=object)"
      ]
     },
     "execution_count": 43,
     "metadata": {},
     "output_type": "execute_result"
    }
   ],
   "source": [
    "df.loc[(df.catalog.apply(check_for_letters)==True)&(df.sample_type=='package')].catalog.unique()"
   ]
  },
  {
   "cell_type": "code",
   "execution_count": 44,
   "id": "9522d663",
   "metadata": {},
   "outputs": [
    {
     "data": {
      "text/plain": [
       "array([96.6 , 96.54, 96.63, 96.57, 96.32, 96.27, 94.67, 94.58, 94.7 ,\n",
       "       94.62, 94.49, 94.41, 92.49, 92.34, 92.6 , 92.43, 91.83, 91.69,\n",
       "       74.01, 73.93, 74.08, 73.99, 73.31, 73.23, 90.55, 90.51, 90.02,\n",
       "       89.98, 90.6 , 90.56, 91.33, 91.18, 91.65, 91.51, 91.49])"
      ]
     },
     "execution_count": 44,
     "metadata": {},
     "output_type": "execute_result"
    }
   ],
   "source": [
    "df.loc[(df.catalog.apply(check_for_letters)==True)&(df.sample_type=='package')].LAB_L.unique()"
   ]
  },
  {
   "cell_type": "markdown",
   "id": "1433812a",
   "metadata": {},
   "source": [
    "Their LAB_L measurements look legit, so I will trust them (though I won't do anything just yet). And you might ask, but don't you know they are binder measurements because the filename says 'binder'? Yes, but that doesn't mean they are necessarily dmin measurements. There are a couple cases where the binder sample got exposed, and thus is actually dmax. But none of these seem like that."
   ]
  },
  {
   "cell_type": "markdown",
   "id": "42ac9304",
   "metadata": {},
   "source": [
    "Now, there are still three matters to attend to: first, we need to check the binder measurements to find potential exposures that create dmaxes. Then, we need to look at the sample book measurement to check whether there is parity between dmin and dmax in all cases. Finally, we need to look at cases where there is no sample_type (like the FOMU papers)."
   ]
  },
  {
   "cell_type": "markdown",
   "id": "969e2019",
   "metadata": {},
   "source": [
    "#### low binder measurements"
   ]
  },
  {
   "cell_type": "code",
   "execution_count": 45,
   "id": "952ab76e",
   "metadata": {},
   "outputs": [
    {
     "data": {
      "text/plain": [
       "package    12476\n",
       "Name: sample_type, dtype: int64"
      ]
     },
     "execution_count": 45,
     "metadata": {},
     "output_type": "execute_result"
    }
   ],
   "source": [
    "df.sample_type.loc[df.mloc.isnull()].value_counts()"
   ]
  },
  {
   "cell_type": "markdown",
   "id": "b3231f5d",
   "metadata": {},
   "source": [
    "Ok so in every case of null mloc, the sample type is package. Good. We sort of knew that from above, by testing from the other direction."
   ]
  },
  {
   "cell_type": "code",
   "execution_count": 46,
   "id": "9a1d9f85",
   "metadata": {},
   "outputs": [
    {
     "data": {
      "text/plain": [
       "dmin    240\n",
       "dmax     12\n",
       "Name: mloc, dtype: int64"
      ]
     },
     "execution_count": 46,
     "metadata": {},
     "output_type": "execute_result"
    }
   ],
   "source": [
    "df.mloc.loc[df.sample_type=='package'].value_counts()"
   ]
  },
  {
   "cell_type": "code",
   "execution_count": 47,
   "id": "8774824a",
   "metadata": {},
   "outputs": [],
   "source": [
    "df.sample_type.loc[(df.mloc=='dmax')&(df.sample_type=='package')] = \"sample_book\" # this mistake went to LUX"
   ]
  },
  {
   "cell_type": "code",
   "execution_count": 48,
   "id": "5dd4c3a8",
   "metadata": {},
   "outputs": [
    {
     "data": {
      "text/plain": [
       "<AxesSubplot:>"
      ]
     },
     "execution_count": 48,
     "metadata": {},
     "output_type": "execute_result"
    },
    {
     "data": {
      "image/png": "[encoded data removed]",
      "text/plain": [
       "<Figure size 432x288 with 1 Axes>"
      ]
     },
     "metadata": {
      "needs_background": "light"
     },
     "output_type": "display_data"
    }
   ],
   "source": [
    "df.LAB_L.loc[df.sample_type=='package'].hist(bins=1000)"
   ]
  },
  {
   "cell_type": "code",
   "execution_count": 49,
   "id": "9c0eff09",
   "metadata": {},
   "outputs": [
    {
     "data": {
      "text/plain": [
       "<AxesSubplot:>"
      ]
     },
     "execution_count": 49,
     "metadata": {},
     "output_type": "execute_result"
    },
    {
     "data": {
      "image/png": "[encoded data removed]",
      "text/plain": [
       "<Figure size 432x288 with 1 Axes>"
      ]
     },
     "metadata": {
      "needs_background": "light"
     },
     "output_type": "display_data"
    }
   ],
   "source": [
    "df.LAB_L[(df.sample_type=='package')&(df.LAB_L < 80)].hist(bins=50)"
   ]
  },
  {
   "cell_type": "markdown",
   "id": "06cbb6d7",
   "metadata": {},
   "source": [
    "So, this is tough. There is no clear boundary here, and there are LOTS of samples with low LAB_L values. But these are all supposed to be dmin measurements. Clearly, some of these cannot be. Not sure how to handle this, except by checking the samples directly."
   ]
  },
  {
   "cell_type": "markdown",
   "id": "204341e5",
   "metadata": {},
   "source": [
    "We could look to the sample book measurements as validation, since we KNOW when we have dmin:"
   ]
  },
  {
   "cell_type": "code",
   "execution_count": 50,
   "id": "3274ab8f",
   "metadata": {},
   "outputs": [
    {
     "data": {
      "text/plain": [
       "<AxesSubplot:>"
      ]
     },
     "execution_count": 50,
     "metadata": {},
     "output_type": "execute_result"
    },
    {
     "data": {
      "image/png": "[encoded data removed]",
      "text/plain": [
       "<Figure size 432x288 with 1 Axes>"
      ]
     },
     "metadata": {
      "needs_background": "light"
     },
     "output_type": "display_data"
    }
   ],
   "source": [
    "df.LAB_L[(df.sample_type=='sample_book')&(df.LAB_L < 80)&(df.mloc=='dmin')].hist(bins=50)"
   ]
  },
  {
   "cell_type": "markdown",
   "id": "000ec51a",
   "metadata": {},
   "source": [
    "So there are certified dmin measurements as low as ~45, although that's an outlier, and above that is above 50. So maybe to be safe, we just check anything under 50."
   ]
  },
  {
   "cell_type": "code",
   "execution_count": 51,
   "id": "8c3bea3e",
   "metadata": {},
   "outputs": [
    {
     "data": {
      "text/plain": [
       "44.66"
      ]
     },
     "execution_count": 51,
     "metadata": {},
     "output_type": "execute_result"
    }
   ],
   "source": [
    "df.LAB_L[(df.sample_type=='sample_book')&(df.LAB_L < 55)&(df.mloc=='dmin')].min()"
   ]
  },
  {
   "cell_type": "code",
   "execution_count": 52,
   "id": "6f0d1bca",
   "metadata": {},
   "outputs": [
    {
     "data": {
      "text/plain": [
       "<AxesSubplot:>"
      ]
     },
     "execution_count": 52,
     "metadata": {},
     "output_type": "execute_result"
    },
    {
     "data": {
      "image/png": "[encoded data removed]",
      "text/plain": [
       "<Figure size 432x288 with 1 Axes>"
      ]
     },
     "metadata": {
      "needs_background": "light"
     },
     "output_type": "display_data"
    }
   ],
   "source": [
    "df.LAB_L[(df.sample_type=='package')&(df.LAB_L < 50)].hist(bins=50)"
   ]
  },
  {
   "cell_type": "code",
   "execution_count": 53,
   "id": "28d06ec4",
   "metadata": {},
   "outputs": [],
   "source": [
    "tmp = df.loc[(df.sample_type=='package')&(df.LAB_L < 50)].sort_values('fbase')"
   ]
  },
  {
   "cell_type": "code",
   "execution_count": 54,
   "id": "96c35d92",
   "metadata": {},
   "outputs": [
    {
     "data": {
      "text/html": [
       "<div>\n",
       "<style scoped>\n",
       "    .dataframe tbody tr th:only-of-type {\n",
       "        vertical-align: middle;\n",
       "    }\n",
       "\n",
       "    .dataframe tbody tr th {\n",
       "        vertical-align: top;\n",
       "    }\n",
       "\n",
       "    .dataframe thead th {\n",
       "        text-align: right;\n",
       "    }\n",
       "</style>\n",
       "<table border=\"1\" class=\"dataframe\">\n",
       "  <thead>\n",
       "    <tr style=\"text-align: right;\">\n",
       "      <th></th>\n",
       "      <th>catalog</th>\n",
       "      <th>fname</th>\n",
       "      <th>LAB_L</th>\n",
       "    </tr>\n",
       "  </thead>\n",
       "  <tbody>\n",
       "    <tr>\n",
       "      <th>0</th>\n",
       "      <td>3122</td>\n",
       "      <td>/Users/damoncrockett/Dropbox/lml/genome_measur...</td>\n",
       "      <td>5.700</td>\n",
       "    </tr>\n",
       "    <tr>\n",
       "      <th>1</th>\n",
       "      <td>2523</td>\n",
       "      <td>/Users/damoncrockett/Dropbox/lml/genome_measur...</td>\n",
       "      <td>25.290</td>\n",
       "    </tr>\n",
       "    <tr>\n",
       "      <th>2</th>\n",
       "      <td>5191</td>\n",
       "      <td>/Users/damoncrockett/Dropbox/lml/genome_measur...</td>\n",
       "      <td>38.755</td>\n",
       "    </tr>\n",
       "    <tr>\n",
       "      <th>3</th>\n",
       "      <td>5166</td>\n",
       "      <td>/Users/damoncrockett/Dropbox/lml/genome_measur...</td>\n",
       "      <td>45.345</td>\n",
       "    </tr>\n",
       "    <tr>\n",
       "      <th>4</th>\n",
       "      <td>1786</td>\n",
       "      <td>/Users/damoncrockett/Dropbox/lml/genome_measur...</td>\n",
       "      <td>48.920</td>\n",
       "    </tr>\n",
       "  </tbody>\n",
       "</table>\n",
       "</div>"
      ],
      "text/plain": [
       "  catalog                                              fname   LAB_L\n",
       "0    3122  /Users/damoncrockett/Dropbox/lml/genome_measur...   5.700\n",
       "1    2523  /Users/damoncrockett/Dropbox/lml/genome_measur...  25.290\n",
       "2    5191  /Users/damoncrockett/Dropbox/lml/genome_measur...  38.755\n",
       "3    5166  /Users/damoncrockett/Dropbox/lml/genome_measur...  45.345\n",
       "4    1786  /Users/damoncrockett/Dropbox/lml/genome_measur...  48.920"
      ]
     },
     "execution_count": 54,
     "metadata": {},
     "output_type": "execute_result"
    }
   ],
   "source": [
    "tmp[['catalog','fname','LAB_L']].groupby(['catalog','fname']).agg(np.median).sort_values('LAB_L').reset_index()"
   ]
  },
  {
   "cell_type": "code",
   "execution_count": 55,
   "id": "b105d3f9",
   "metadata": {},
   "outputs": [],
   "source": [
    "dropcats = tmp[['catalog','fname','LAB_L']].groupby(['catalog','fname']).agg(np.median).sort_values('LAB_L').reset_index().catalog"
   ]
  },
  {
   "cell_type": "code",
   "execution_count": 56,
   "id": "98d5c04e",
   "metadata": {},
   "outputs": [],
   "source": [
    "df = df.loc[~df.catalog.isin(dropcats)]"
   ]
  },
  {
   "cell_type": "code",
   "execution_count": 57,
   "id": "58a2a258",
   "metadata": {},
   "outputs": [],
   "source": [
    "df = df.reset_index(drop=True)"
   ]
  },
  {
   "cell_type": "markdown",
   "id": "946d6ed4",
   "metadata": {},
   "source": [
    "Ok so we just dropped anything below LAB_L=50 in the binders. But probably we need a better approach. So here's an accounting:\n",
    "\n",
    "0. 3122: jet black. This is Kodak Polycontrast Rapid II RC (1983)\n",
    "1. 2576: Pigment paper, should be omitted from Paperbase\n",
    "2. 2572: same\n",
    "3. 2581: same\n",
    "4. 2582: same\n",
    "5. 2571: same\n",
    "6. 2573: same\n",
    "7. 2523: Illingworth Enitone from 1928. Looks very bad.\n",
    "8. 183: Ektachrome (1979). Straight brown. Others like it, so probably just got missed in the omits.\n",
    "9. 5191: Studio Proof (1964). Bad. Has reprint note.\n",
    "10. 5166: Paget self-toning postcards from 1918. Bad.\n",
    "11. 1786: Kodak Velvet Solio 1922. Bad.\n",
    "12. 1424: Printon (1947) Straight burnt siena."
   ]
  },
  {
   "cell_type": "markdown",
   "id": "abfe77af",
   "metadata": {},
   "source": [
    "Ok none of these are legit. And leafing though the binders, I think there are lots of problematic cases, especially early. I think maybe the cutoff needs to be even higher, since the brightest of these is straight up brown."
   ]
  },
  {
   "cell_type": "markdown",
   "id": "2b0af711",
   "metadata": {},
   "source": [
    "#### sample book parity"
   ]
  },
  {
   "cell_type": "code",
   "execution_count": 58,
   "id": "927736d6",
   "metadata": {},
   "outputs": [],
   "source": [
    "sb = df.loc[df.sample_type=='sample_book']"
   ]
  },
  {
   "cell_type": "code",
   "execution_count": 59,
   "id": "06470a70",
   "metadata": {},
   "outputs": [
    {
     "data": {
      "text/plain": [
       "dmax    26675\n",
       "dmin    26671\n",
       "Name: mloc, dtype: int64"
      ]
     },
     "execution_count": 59,
     "metadata": {},
     "output_type": "execute_result"
    }
   ],
   "source": [
    "sb.mloc.value_counts()"
   ]
  },
  {
   "cell_type": "code",
   "execution_count": 60,
   "id": "a032806a",
   "metadata": {},
   "outputs": [
    {
     "data": {
      "text/html": [
       "<div>\n",
       "<style scoped>\n",
       "    .dataframe tbody tr th:only-of-type {\n",
       "        vertical-align: middle;\n",
       "    }\n",
       "\n",
       "    .dataframe tbody tr th {\n",
       "        vertical-align: top;\n",
       "    }\n",
       "\n",
       "    .dataframe thead th {\n",
       "        text-align: right;\n",
       "    }\n",
       "</style>\n",
       "<table border=\"1\" class=\"dataframe\">\n",
       "  <thead>\n",
       "    <tr style=\"text-align: right;\">\n",
       "      <th></th>\n",
       "      <th>LAB_L</th>\n",
       "      <th>fname</th>\n",
       "      <th>LAB_A</th>\n",
       "      <th>LAB_B</th>\n",
       "      <th>rgbhex</th>\n",
       "      <th>mmode</th>\n",
       "      <th>ss</th>\n",
       "      <th>catalog</th>\n",
       "      <th>mtrial</th>\n",
       "      <th>mloc</th>\n",
       "      <th>...</th>\n",
       "      <th>nm420</th>\n",
       "      <th>nm430</th>\n",
       "      <th>nm440</th>\n",
       "      <th>nm450</th>\n",
       "      <th>nm460</th>\n",
       "      <th>nm470</th>\n",
       "      <th>nm480</th>\n",
       "      <th>nm490</th>\n",
       "      <th>nm500</th>\n",
       "      <th>sample_type</th>\n",
       "    </tr>\n",
       "  </thead>\n",
       "  <tbody>\n",
       "  </tbody>\n",
       "</table>\n",
       "<p>0 rows × 25 columns</p>\n",
       "</div>"
      ],
      "text/plain": [
       "Empty DataFrame\n",
       "Columns: [LAB_L, fname, LAB_A, LAB_B, rgbhex, mmode, ss, catalog, mtrial, mloc, manbran, additional, fbase, nm400, nm410, nm420, nm430, nm440, nm450, nm460, nm470, nm480, nm490, nm500, sample_type]\n",
       "Index: []\n",
       "\n",
       "[0 rows x 25 columns]"
      ]
     },
     "execution_count": 60,
     "metadata": {},
     "output_type": "execute_result"
    }
   ],
   "source": [
    "sb.loc[sb.catalog.isnull()]"
   ]
  },
  {
   "cell_type": "code",
   "execution_count": 61,
   "id": "9df8dfa5",
   "metadata": {},
   "outputs": [
    {
     "name": "stdout",
     "output_type": "stream",
     "text": [
      "3194 {'dmax'}\n",
      "1023l {'dmin'}\n",
      "5513y {'dmin'}\n",
      "5444a {'dmin'}\n",
      "5464oo {'dmax'}\n",
      "5514y {'dmin'}\n",
      "5440 {'dmax'}\n"
     ]
    }
   ],
   "source": [
    "solocats = []\n",
    "for cat in sb.catalog.unique():\n",
    "    tmp = sb.loc[sb.catalog==cat]\n",
    "    if set(tmp.mloc.unique())!={'dmax','dmin'}:\n",
    "        print(cat,set(tmp.mloc.unique()))\n",
    "        solocats.append(cat)"
   ]
  },
  {
   "cell_type": "markdown",
   "id": "ea0a70f9",
   "metadata": {},
   "source": [
    "Ah interesting. So there are a bunch of cases with only one mloc."
   ]
  },
  {
   "cell_type": "code",
   "execution_count": 62,
   "id": "e88e1298",
   "metadata": {},
   "outputs": [],
   "source": [
    "# for cat in solocats:\n",
    "#     tmp = sb.loc[sb.catalog==cat]\n",
    "#     print(tmp[['catalog','mloc','LAB_L']],'\\n\\n\\n\\n')"
   ]
  },
  {
   "cell_type": "markdown",
   "id": "b7479324",
   "metadata": {},
   "source": [
    "Ok these look legit, but this imbalance works against the overall imbalance, so this can't explain it."
   ]
  },
  {
   "cell_type": "code",
   "execution_count": 63,
   "id": "369908d0",
   "metadata": {},
   "outputs": [
    {
     "name": "stdout",
     "output_type": "stream",
     "text": [
      "902t\n",
      "294u\n",
      "5528a\n",
      "1023k\n",
      "5486e\n",
      "285b\n"
     ]
    }
   ],
   "source": [
    "solos = []\n",
    "for cat in sb.catalog.unique():\n",
    "    tmp = sb.loc[sb.catalog==cat]\n",
    "    if set(tmp.mloc.unique())=={'dmax','dmin'}:\n",
    "        counts = tmp.mloc.value_counts()\n",
    "        if len(set(counts))!=1:\n",
    "            print(cat)\n",
    "            solos.append(cat)"
   ]
  },
  {
   "cell_type": "code",
   "execution_count": 64,
   "id": "ec81c3d9",
   "metadata": {},
   "outputs": [],
   "source": [
    "df[['catalog',\n",
    "    'LAB_L',\n",
    "    'mloc',\n",
    "    'mtrial',\n",
    "    'mmode']].loc[(df.catalog.isin(solos))].sort_values(['catalog',\n",
    "                                                         'mloc',\n",
    "                                                         'mtrial',\n",
    "                                                         'mmode',\n",
    "                                                         'LAB_L']).to_csv('solos.csv')"
   ]
  },
  {
   "cell_type": "markdown",
   "id": "6ce2150a",
   "metadata": {},
   "source": [
    "Ok there are only two real issues here, where we don't have both M0 and M2 for a given trial. When this happens, we can't measure UV, so we will eliminate these cases:"
   ]
  },
  {
   "cell_type": "code",
   "execution_count": 65,
   "id": "c2422417",
   "metadata": {},
   "outputs": [],
   "source": [
    "idx = df.index[(df.catalog=='285b')&(df.mloc=='dmin')&(df.mmode=='M0')&(df.mtrial=='3')][0]"
   ]
  },
  {
   "cell_type": "code",
   "execution_count": 66,
   "id": "2a73bb45",
   "metadata": {},
   "outputs": [],
   "source": [
    "df = df.drop(idx)"
   ]
  },
  {
   "cell_type": "code",
   "execution_count": 67,
   "id": "4037e9f7",
   "metadata": {},
   "outputs": [],
   "source": [
    "idx = df.index[(df.catalog=='5486e')&(df.mloc=='dmax')&(df.mmode=='M0')&(df.mtrial=='1')][0]"
   ]
  },
  {
   "cell_type": "code",
   "execution_count": 68,
   "id": "8ce9d3cb",
   "metadata": {},
   "outputs": [],
   "source": [
    "df = df.drop(idx)"
   ]
  },
  {
   "cell_type": "code",
   "execution_count": 69,
   "id": "64d5b34d",
   "metadata": {},
   "outputs": [],
   "source": [
    "df = df.reset_index(drop=True)"
   ]
  },
  {
   "cell_type": "markdown",
   "id": "a8818c30",
   "metadata": {},
   "source": [
    "#### no sample type"
   ]
  },
  {
   "cell_type": "markdown",
   "id": "ba07374e",
   "metadata": {},
   "source": [
    "Ok these are all legit dmins, and they are all the FOMU papers. I do, however, have to get their catalog numbers right."
   ]
  },
  {
   "cell_type": "code",
   "execution_count": 70,
   "id": "2e65bdfe",
   "metadata": {},
   "outputs": [],
   "source": [
    "df.catalog.loc[(df.ss.str.contains('fomu_gb'))] = '5616'"
   ]
  },
  {
   "cell_type": "code",
   "execution_count": 71,
   "id": "0c73a45a",
   "metadata": {},
   "outputs": [],
   "source": [
    "df.catalog.loc[(df.ss.str.contains('fomu_gt'))] = '5617'"
   ]
  },
  {
   "cell_type": "code",
   "execution_count": 72,
   "id": "1055a256",
   "metadata": {},
   "outputs": [],
   "source": [
    "df.catalog.loc[(df.ss.str.contains('fomu_gg_'))] = '5618'"
   ]
  },
  {
   "cell_type": "code",
   "execution_count": 73,
   "id": "237b7122",
   "metadata": {},
   "outputs": [],
   "source": [
    "df.catalog.loc[(df.ss.str.contains('fomu_ggt'))] = '5619'"
   ]
  },
  {
   "cell_type": "markdown",
   "id": "57f6c13e",
   "metadata": {},
   "source": [
    "#### cleaning up"
   ]
  },
  {
   "cell_type": "code",
   "execution_count": 74,
   "id": "b17c4c68",
   "metadata": {},
   "outputs": [
    {
     "data": {
      "text/plain": [
       "array(['5150', '5149', '5151', '5155', '2293'], dtype=object)"
      ]
     },
     "execution_count": 74,
     "metadata": {},
     "output_type": "execute_result"
    }
   ],
   "source": [
    "badcats = df.catalog.loc[df.additional.notnull()].unique()\n",
    "badcats"
   ]
  },
  {
   "cell_type": "code",
   "execution_count": 75,
   "id": "378cd098",
   "metadata": {},
   "outputs": [],
   "source": [
    "okcats = ['5150','5155','2293']"
   ]
  },
  {
   "cell_type": "code",
   "execution_count": 76,
   "id": "40bb6998",
   "metadata": {},
   "outputs": [
    {
     "data": {
      "text/plain": [
       "['5151', '5149']"
      ]
     },
     "execution_count": 76,
     "metadata": {},
     "output_type": "execute_result"
    }
   ],
   "source": [
    "badcats = list(set(badcats) - set(okcats))\n",
    "badcats"
   ]
  },
  {
   "cell_type": "code",
   "execution_count": 77,
   "id": "61642558",
   "metadata": {},
   "outputs": [],
   "source": [
    "df = df.loc[~df.catalog.isin(badcats)]"
   ]
  },
  {
   "cell_type": "code",
   "execution_count": 78,
   "id": "da8852d5",
   "metadata": {},
   "outputs": [
    {
     "data": {
      "text/plain": [
       "Int64Index([ 1584,  1585,  1586,  1587,  1588,  1589,  1590,  1591,  1592,\n",
       "             1593,\n",
       "            ...\n",
       "            62900, 62901, 62902, 62903, 62904, 62905, 62906, 62907, 62908,\n",
       "            62909],\n",
       "           dtype='int64', length=336)"
      ]
     },
     "execution_count": 78,
     "metadata": {},
     "output_type": "execute_result"
    }
   ],
   "source": [
    "todrop = df.loc[(df.catalog.str.contains('2088'))&(df.fname!='color_km_box1_1_1.txt')].index\n",
    "todrop"
   ]
  },
  {
   "cell_type": "code",
   "execution_count": 79,
   "id": "602a40ac",
   "metadata": {},
   "outputs": [],
   "source": [
    "df = df.drop(todrop)"
   ]
  },
  {
   "cell_type": "code",
   "execution_count": 80,
   "id": "fc03199c",
   "metadata": {},
   "outputs": [],
   "source": [
    "df.mloc = df.mloc.fillna('dmin')"
   ]
  },
  {
   "cell_type": "code",
   "execution_count": 81,
   "id": "eb78b87e",
   "metadata": {},
   "outputs": [],
   "source": [
    "df = df.drop_duplicates(subset=['ss','LAB_L','LAB_A','LAB_B'])"
   ]
  },
  {
   "cell_type": "code",
   "execution_count": 82,
   "id": "b11aa357",
   "metadata": {},
   "outputs": [],
   "source": [
    "df.manbran = df.manbran.fillna('::')"
   ]
  },
  {
   "cell_type": "code",
   "execution_count": 83,
   "id": "f49fb30e",
   "metadata": {},
   "outputs": [],
   "source": [
    "df.sample_type = df.sample_type.fillna('::')"
   ]
  },
  {
   "cell_type": "code",
   "execution_count": 84,
   "id": "57e36718",
   "metadata": {},
   "outputs": [],
   "source": [
    "df['cat'] = [f'{df.catalog.loc[i]}_{df.manbran.loc[i]}_{df.mloc.loc[i]}_{df.mtrial.loc[i]}_{df.mmode.loc[i]}' for i in df.index]"
   ]
  },
  {
   "cell_type": "code",
   "execution_count": 85,
   "id": "551c4192",
   "metadata": {},
   "outputs": [],
   "source": [
    "dupecats = df.cat.value_counts()[df.cat.value_counts()>1].index"
   ]
  },
  {
   "cell_type": "code",
   "execution_count": 86,
   "id": "bce5d03e",
   "metadata": {},
   "outputs": [],
   "source": [
    "def strip_letters(s):\n",
    "    return ''.join([item for item in s if item.isdigit()])"
   ]
  },
  {
   "cell_type": "code",
   "execution_count": 87,
   "id": "4062a9e5",
   "metadata": {},
   "outputs": [],
   "source": [
    "dupecatalogs = set([strip_letters(item.split('_')[0]) for item in dupecats])"
   ]
  },
  {
   "cell_type": "code",
   "execution_count": 88,
   "id": "04769f1f",
   "metadata": {},
   "outputs": [
    {
     "data": {
      "text/plain": [
       "46"
      ]
     },
     "execution_count": 88,
     "metadata": {},
     "output_type": "execute_result"
    }
   ],
   "source": [
    "len(dupecatalogs)"
   ]
  },
  {
   "cell_type": "code",
   "execution_count": 89,
   "id": "570817e1",
   "metadata": {},
   "outputs": [],
   "source": [
    "df['catbase'] = df.catalog.apply(strip_letters)"
   ]
  },
  {
   "cell_type": "code",
   "execution_count": 90,
   "id": "88961c41",
   "metadata": {},
   "outputs": [],
   "source": [
    "misses = []\n",
    "for d in dupecats:\n",
    "    tmp = df.loc[df.cat==d]\n",
    "    fnames = tmp.fname.unique()\n",
    "    if all([any(['genome_2023' in item for item in fnames]),any(['genome_2021' in item for item in fnames])]):\n",
    "        misses.append(d)"
   ]
  },
  {
   "cell_type": "code",
   "execution_count": 91,
   "id": "19263ab2",
   "metadata": {},
   "outputs": [
    {
     "data": {
      "text/plain": [
       "676"
      ]
     },
     "execution_count": 91,
     "metadata": {},
     "output_type": "execute_result"
    }
   ],
   "source": [
    "len(misses)"
   ]
  },
  {
   "cell_type": "code",
   "execution_count": 92,
   "id": "90a71718",
   "metadata": {},
   "outputs": [],
   "source": [
    "#f = \"/Users/damoncrockett/Dropbox/lml/genome_measurements/genome_2023/_flags/Missed_Measurements_Master_List.xlsx\""
   ]
  },
  {
   "cell_type": "code",
   "execution_count": 93,
   "id": "865673da",
   "metadata": {},
   "outputs": [],
   "source": [
    "#misscats = pd.read_excel(f)['Catalog #']"
   ]
  },
  {
   "cell_type": "markdown",
   "id": "1ee03be1",
   "metadata": {},
   "source": [
    "`dupecats` are any duplicates of `cat`, which is `catalog_manbran_mloc_mtrial_mmode`. Really, there should be no such duplicates (and really, trial dupes aren't genuinely duplicating anything; e.g., there is little chance the specific patch of paper was re-measured on that specific trial). But there are many of these --- across 47 catalog numbers, where a sample book has a single catalog number). If there are both old and new measurements, it is because we felt the item should be re-measured, so I will just try to find the mewest measurement and discard the rest (sometimes there are multiple 'old' measurements; sometimes even from 2023). `misses` are the cases where there are 2021 and 2023 measurements --- the easiest to consider, since we know they were re-measured for a reason. In these cases, we just take the newest measurements. When there are dupes but they all appear in either the 2021 or 2023 batches, we take a closer look, provided the diffs find a delta bigger than 5 units."
   ]
  },
  {
   "cell_type": "code",
   "execution_count": 94,
   "id": "3ca2cd10",
   "metadata": {
    "scrolled": false
   },
   "outputs": [],
   "source": [
    "todrop = []\n",
    "nondupes = []\n",
    "\n",
    "for dupecat in dupecats:\n",
    "    \n",
    "    if dupecat in misses:\n",
    "        tmp = df.loc[df.cat==dupecat]\n",
    "        newest = tmp.loc[tmp.fname.str.contains('genome_2023')]\n",
    "        \n",
    "        if len(newest) > 1:\n",
    "            newest = newest.loc[newest.fname.str.contains('_miss')]\n",
    "            assert len(newest)==1\n",
    "        \n",
    "        newest_idx = newest.index[0]\n",
    "        old_idxs = list(set(tmp.index) - set([newest_idx]))\n",
    "        for old_idx in old_idxs:\n",
    "            todrop.append(old_idx)\n",
    "        continue\n",
    "        \n",
    "    tmp = df.loc[df.cat==dupecat]\n",
    "    fbases = tmp.fbase.unique()\n",
    "    if all([any(['_km_' in item for item in fbases]),any(['_sn_' in item for item in fbases])]):\n",
    "        newest = tmp.loc[tmp.fbase.str.contains('_sn_')]\n",
    "        assert len(newest)==1\n",
    "        \n",
    "        newest_idx = newest.index[0]\n",
    "        old_idxs = list(set(tmp.index) - set([newest_idx]))\n",
    "        for old_idx in old_idxs:\n",
    "            todrop.append(old_idx)\n",
    "        continue\n",
    "        \n",
    "    tmp = tmp[['cat']+labcols]\n",
    "    if len(tmp) == 2:\n",
    "        a = tmp.iloc[0,1:]\n",
    "        b = tmp.iloc[1,1:]\n",
    "        diff = list(a-b)\n",
    "    elif len(tmp) == 3:\n",
    "        a = tmp.iloc[0,1:]\n",
    "        b = tmp.iloc[1,1:]\n",
    "        c = tmp.iloc[2,1:]\n",
    "        diff = list(a-b) + list(b-c)\n",
    "    \n",
    "    if any([abs(item) > 5 for item in diff]):\n",
    "        nondupes.append(dupecat)"
   ]
  },
  {
   "cell_type": "code",
   "execution_count": 95,
   "id": "3674ce97",
   "metadata": {},
   "outputs": [
    {
     "data": {
      "text/plain": [
       "18"
      ]
     },
     "execution_count": 95,
     "metadata": {},
     "output_type": "execute_result"
    }
   ],
   "source": [
    "len(nondupes)"
   ]
  },
  {
   "cell_type": "code",
   "execution_count": 96,
   "id": "07a8a762",
   "metadata": {},
   "outputs": [],
   "source": [
    "df = df.drop(todrop)"
   ]
  },
  {
   "cell_type": "code",
   "execution_count": 97,
   "id": "ab93b04c",
   "metadata": {},
   "outputs": [],
   "source": [
    "# import sys\n",
    "# sys.path.append(os.path.expanduser(\"~\"))\n",
    "# from ss2csv.ss2csv import file2table,cleancols"
   ]
  },
  {
   "cell_type": "code",
   "execution_count": 98,
   "id": "7e9b1b12",
   "metadata": {},
   "outputs": [],
   "source": [
    "# PRE = \"/Users/damoncrockett/Dropbox/lml/genome_measurements/\""
   ]
  },
  {
   "cell_type": "code",
   "execution_count": 99,
   "id": "0e858e45",
   "metadata": {},
   "outputs": [],
   "source": [
    "# tmp = cleancols(file2table(PRE+\"genome_2023/color_sn_missing_05292024_1.txt\")).SAMPLE_ID1\n",
    "# set([item.strip('\"').split('_')[0] for item in tmp])"
   ]
  },
  {
   "cell_type": "code",
   "execution_count": 100,
   "id": "5c505415",
   "metadata": {},
   "outputs": [],
   "source": [
    "#df[['LAB_L','mloc']].loc[df.catalog=='2078c']"
   ]
  },
  {
   "cell_type": "code",
   "execution_count": 101,
   "id": "fd70f78b",
   "metadata": {
    "scrolled": false
   },
   "outputs": [
    {
     "name": "stdout",
     "output_type": "stream",
     "text": [
      "2631j_ke_dmax_2_M0 \n",
      "                     fbase  LAB_L  LAB_A  LAB_B\n",
      "598  color_km_nobox_9.txt  20.82  -0.23   3.28\n",
      "610  color_km_nobox_9.txt  31.10   0.11   7.95 \n",
      "\n",
      "\n",
      "2631j_ke_dmax_2_M2 \n",
      "                     fbase  LAB_L  LAB_A  LAB_B\n",
      "599  color_km_nobox_9.txt  20.82  -0.24   3.30\n",
      "611  color_km_nobox_9.txt  31.10   0.09   7.97 \n",
      "\n",
      "\n"
     ]
    }
   ],
   "source": [
    "for nondupe in sorted(nondupes):\n",
    "    tmp = df[['fbase']+labcols][df.cat==nondupe]\n",
    "    assert len(tmp)==2\n",
    "    \n",
    "    diff = abs(tmp.iloc[0,1:] - tmp.iloc[1,1:])\n",
    "    \n",
    "    if any([diff.LAB_A > 5, diff.LAB_B > 5]):\n",
    "        print(nondupe,\"\\n\",tmp,\"\\n\\n\")\n",
    "        \n",
    "    if diff.LAB_L > 10:\n",
    "        print(nondupe,\"\\n\",tmp,\"\\n\\n\")"
   ]
  },
  {
   "cell_type": "markdown",
   "id": "30cb4abd",
   "metadata": {},
   "source": [
    "These are fine."
   ]
  },
  {
   "cell_type": "markdown",
   "id": "d128e586",
   "metadata": {},
   "source": [
    "## Inconsistent manbrans"
   ]
  },
  {
   "cell_type": "markdown",
   "id": "e1eac2d4",
   "metadata": {},
   "source": [
    "These do occur. Worth looking at."
   ]
  },
  {
   "cell_type": "code",
   "execution_count": 102,
   "id": "32082d3c",
   "metadata": {},
   "outputs": [],
   "source": [
    "dropones = ['5150','5154']\n",
    "pick_newers = ['5475a',\n",
    "               '5475b',\n",
    "               '5475c',\n",
    "               '5475d',\n",
    "               '5475e',\n",
    "               '5475f',\n",
    "               '5475g',\n",
    "               '5475h',\n",
    "               '5475i',\n",
    "               '5475j',\n",
    "               '5475k',\n",
    "               '5475l',\n",
    "               '5475m',\n",
    "               '5475n',\n",
    "               '5475o',\n",
    "               '5475p',\n",
    "               '5475q',\n",
    "               '902a',\n",
    "               '4790a',\n",
    "               '5124',\n",
    "               '5207v',\n",
    "               '5207w',\n",
    "               '5207x',\n",
    "               '5493j',\n",
    "               '5493k',\n",
    "               '5493l',\n",
    "               '5493m'\n",
    "              ]\n",
    "choose_manbrans = {\n",
    "    \"4793k\":\"kp\",\n",
    "    \"2078i\":\"ip\",\n",
    "    \"2078j\":\"ip\",\n",
    "    \"2078n\":\"im\",\n",
    "    \"2078o\":\"im\",\n",
    "    \"2078p\":\"im\",\n",
    "    \"2078q\":\"im\",\n",
    "    \"2078r\":\"ic\",\n",
    "    \"2078s\":\"ik\",\n",
    "    \"2078t\":\"ik\",\n",
    "    \"2092\":\"kb\",\n",
    "    \"4885f\":\"de\",\n",
    "    \"4885h\":\"dv\",\n",
    "    \"4885j\":\"dv\",\n",
    "    \"5493n\":\"ib\",\n",
    "    \n",
    "}"
   ]
  },
  {
   "cell_type": "code",
   "execution_count": 103,
   "id": "b7f958eb",
   "metadata": {
    "scrolled": false
   },
   "outputs": [],
   "source": [
    "for cat in sorted(df.catalog.unique()):\n",
    "    tmp = df.loc[df.catalog==cat]\n",
    "    manbrans = tmp.manbran.unique()\n",
    "    if len(manbrans) > 1:\n",
    "        if cat not in dropones and cat not in pick_newers and cat not in choose_manbrans.keys():\n",
    "            tmp = tmp.drop_duplicates(['manbran','fbase'])\n",
    "            print(cat,'\\n',tmp[['manbran','fbase']],'\\n\\n')"
   ]
  },
  {
   "cell_type": "code",
   "execution_count": 104,
   "id": "47a155b5",
   "metadata": {},
   "outputs": [],
   "source": [
    "todrop = []\n",
    "for catalog in pick_newers:\n",
    "    tmp = df.loc[df.catalog==catalog]\n",
    "    fbases = tmp.fbase.unique()\n",
    "    assert len(fbases)==2\n",
    "    newer = tmp.loc[tmp.fbase.str.contains('_miss')]\n",
    "    older = tmp.loc[tmp.fbase.str.contains('_km_')]\n",
    "    if len(older)==0 or len(newer)==0:\n",
    "        print(catalog)\n",
    "    else:\n",
    "        old_idxs = list(older.index)\n",
    "        for oi in old_idxs:\n",
    "            todrop.append(oi)"
   ]
  },
  {
   "cell_type": "code",
   "execution_count": 105,
   "id": "f7aed173",
   "metadata": {},
   "outputs": [],
   "source": [
    "df = df.drop(todrop)"
   ]
  },
  {
   "cell_type": "code",
   "execution_count": 106,
   "id": "3967fc2e",
   "metadata": {},
   "outputs": [],
   "source": [
    "todrop = []\n",
    "for catalog in choose_manbrans.keys():\n",
    "    tmp = df.loc[df.catalog==catalog]\n",
    "    manbrans = tmp.manbran.unique()\n",
    "    assert len(manbrans)==2\n",
    "    bad = tmp.loc[tmp.manbran!=choose_manbrans[catalog]]\n",
    "    bad_idxs = list(bad.index)\n",
    "    for bi in bad_idxs:\n",
    "        todrop.append(bi)"
   ]
  },
  {
   "cell_type": "code",
   "execution_count": 107,
   "id": "a4234977",
   "metadata": {},
   "outputs": [],
   "source": [
    "df = df.drop(todrop)"
   ]
  },
  {
   "cell_type": "code",
   "execution_count": 108,
   "id": "f2e45cbd",
   "metadata": {},
   "outputs": [
    {
     "data": {
      "text/plain": [
       "62364"
      ]
     },
     "execution_count": 108,
     "metadata": {},
     "output_type": "execute_result"
    }
   ],
   "source": [
    "len(df)"
   ]
  },
  {
   "cell_type": "code",
   "execution_count": 109,
   "id": "a57c71df",
   "metadata": {},
   "outputs": [
    {
     "data": {
      "text/plain": [
       "62038"
      ]
     },
     "execution_count": 109,
     "metadata": {},
     "output_type": "execute_result"
    }
   ],
   "source": [
    "len(df.drop_duplicates('cat'))"
   ]
  },
  {
   "cell_type": "code",
   "execution_count": 110,
   "id": "cbcd2989",
   "metadata": {},
   "outputs": [],
   "source": [
    "df['catnomb'] = [f'{df.catalog.loc[i]}_{df.mloc.loc[i]}_{df.mtrial.loc[i]}_{df.mmode.loc[i]}' for i in df.index]"
   ]
  },
  {
   "cell_type": "code",
   "execution_count": 111,
   "id": "0e8c7540",
   "metadata": {},
   "outputs": [
    {
     "data": {
      "text/plain": [
       "62028"
      ]
     },
     "execution_count": 111,
     "metadata": {},
     "output_type": "execute_result"
    }
   ],
   "source": [
    "len(df.drop_duplicates('catnomb'))"
   ]
  },
  {
   "cell_type": "code",
   "execution_count": 112,
   "id": "4bfbd0dc",
   "metadata": {},
   "outputs": [],
   "source": [
    "df = df.drop_duplicates('catnomb')"
   ]
  },
  {
   "cell_type": "code",
   "execution_count": 113,
   "id": "3d654780",
   "metadata": {},
   "outputs": [],
   "source": [
    "df = df.reset_index(drop=True)"
   ]
  },
  {
   "cell_type": "code",
   "execution_count": 114,
   "id": "6554f9c7",
   "metadata": {},
   "outputs": [],
   "source": [
    "df['catminus'] = ['_'.join(item.split('_')[:-1]) for item in df.cat]"
   ]
  },
  {
   "cell_type": "code",
   "execution_count": 115,
   "id": "acf798ad",
   "metadata": {},
   "outputs": [],
   "source": [
    "solocats = df.catminus.value_counts()[df.catminus.value_counts()==1].index"
   ]
  },
  {
   "cell_type": "code",
   "execution_count": 116,
   "id": "9d3e5988",
   "metadata": {},
   "outputs": [
    {
     "data": {
      "text/plain": [
       "Index(['5511k_dn_dmax_0', '5495n_ai_dmax_0', '5533m_dn_dmax_1',\n",
       "       '4885g_db_dmax_1', '3199h_kp_dmax_1', '2077f_ip_dmax_0',\n",
       "       '5508f_ke_dmax_2', '4786p_gg_dmax_0'],\n",
       "      dtype='object')"
      ]
     },
     "execution_count": 116,
     "metadata": {},
     "output_type": "execute_result"
    }
   ],
   "source": [
    "solocats # only have a single mode"
   ]
  },
  {
   "cell_type": "code",
   "execution_count": 117,
   "id": "a937b795",
   "metadata": {},
   "outputs": [],
   "source": [
    "df = df.loc[~df.catminus.isin(solocats)]"
   ]
  },
  {
   "cell_type": "code",
   "execution_count": 118,
   "id": "a9e9d1fa",
   "metadata": {},
   "outputs": [],
   "source": [
    "df = df.reset_index(drop=True)"
   ]
  },
  {
   "cell_type": "code",
   "execution_count": 119,
   "id": "bc75dfdb",
   "metadata": {},
   "outputs": [],
   "source": [
    "for catminus in df.catminus.unique():\n",
    "    tmp = df.loc[df.catminus==catminus]\n",
    "    assert len(tmp)==2\n",
    "    assert set(tmp.mmode.unique())=={'M0','M2'}"
   ]
  },
  {
   "cell_type": "code",
   "execution_count": 120,
   "id": "ed93f428",
   "metadata": {},
   "outputs": [],
   "source": [
    "df.to_pickle('raw_omissions_corrections.pkl')"
   ]
  }
 ],
 "metadata": {
  "kernelspec": {
   "display_name": "Python 3 (ipykernel)",
   "language": "python",
   "name": "python3"
  },
  "language_info": {
   "codemirror_mode": {
    "name": "ipython",
    "version": 3
   },
   "file_extension": ".py",
   "mimetype": "text/x-python",
   "name": "python",
   "nbconvert_exporter": "python",
   "pygments_lexer": "ipython3",
   "version": "3.10.4"
  }
 },
 "nbformat": 4,
 "nbformat_minor": 5
}
