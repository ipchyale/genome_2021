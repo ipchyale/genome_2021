{
 "cells": [
  {
   "cell_type": "code",
   "execution_count": 1,
   "id": "a6ef8744",
   "metadata": {},
   "outputs": [],
   "source": [
    "import pandas as pd\n",
    "import os,glob\n",
    "import numpy as np"
   ]
  },
  {
   "cell_type": "code",
   "execution_count": 2,
   "id": "60681bfb",
   "metadata": {},
   "outputs": [],
   "source": [
    "df = pd.read_pickle('raw.pkl')"
   ]
  },
  {
   "cell_type": "code",
   "execution_count": 3,
   "id": "7bc069c9",
   "metadata": {},
   "outputs": [],
   "source": [
    "db = pd.read_csv('/Users/damoncrockett/Dropbox/lml/export_07_31_24.csv', encoding='latin-1')"
   ]
  },
  {
   "cell_type": "code",
   "execution_count": 4,
   "id": "781abd64",
   "metadata": {},
   "outputs": [],
   "source": [
    "db = db.fillna('')"
   ]
  },
  {
   "cell_type": "code",
   "execution_count": 5,
   "id": "9f486261",
   "metadata": {},
   "outputs": [],
   "source": [
    "db['catalog'] = db['Catalog Number'].apply(str) + db['Secondary Catalog Number']"
   ]
  },
  {
   "cell_type": "markdown",
   "id": "9099a946",
   "metadata": {},
   "source": [
    "# Omit from Paperbase"
   ]
  },
  {
   "cell_type": "markdown",
   "id": "5d2810e1",
   "metadata": {},
   "source": [
    "These are typically unusual papers, like pigment papers."
   ]
  },
  {
   "cell_type": "code",
   "execution_count": 6,
   "id": "76219ecf",
   "metadata": {},
   "outputs": [],
   "source": [
    "omits = db.catalog.loc[db.Omit_from_Paperbase == 1].apply(lambda x:x.lower()).values"
   ]
  },
  {
   "cell_type": "code",
   "execution_count": 7,
   "id": "5d0bfa53",
   "metadata": {},
   "outputs": [],
   "source": [
    "df = df.loc[~df.catalog.isin(omits)]"
   ]
  },
  {
   "cell_type": "code",
   "execution_count": 8,
   "id": "c8ba7c74",
   "metadata": {},
   "outputs": [],
   "source": [
    "df = df.reset_index(drop=True)"
   ]
  },
  {
   "cell_type": "code",
   "execution_count": 9,
   "id": "ab687ff9",
   "metadata": {},
   "outputs": [],
   "source": [
    "df.to_pickle('raw_omissions.pkl')"
   ]
  }
 ],
 "metadata": {
  "kernelspec": {
   "display_name": "Python 3 (ipykernel)",
   "language": "python",
   "name": "python3"
  },
  "language_info": {
   "codemirror_mode": {
    "name": "ipython",
    "version": 3
   },
   "file_extension": ".py",
   "mimetype": "text/x-python",
   "name": "python",
   "nbconvert_exporter": "python",
   "pygments_lexer": "ipython3",
   "version": "3.10.4"
  }
 },
 "nbformat": 4,
 "nbformat_minor": 5
}
