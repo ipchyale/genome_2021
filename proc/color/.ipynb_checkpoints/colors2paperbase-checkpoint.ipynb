{
 "cells": [
  {
   "cell_type": "code",
   "execution_count": 1,
   "id": "7dc5c58e",
   "metadata": {},
   "outputs": [],
   "source": [
    "import pandas as pd\n",
    "import numpy as np\n",
    "import warnings\n",
    "warnings.filterwarnings('ignore')"
   ]
  },
  {
   "cell_type": "code",
   "execution_count": 2,
   "id": "6469d25a",
   "metadata": {},
   "outputs": [],
   "source": [
    "df = pd.read_csv(\"colors.csv\")"
   ]
  },
  {
   "cell_type": "code",
   "execution_count": 3,
   "id": "44116873",
   "metadata": {},
   "outputs": [],
   "source": [
    "df = df[[item for item in df.columns if 'nm' not in item]]"
   ]
  },
  {
   "cell_type": "code",
   "execution_count": 4,
   "id": "eddfb089",
   "metadata": {},
   "outputs": [],
   "source": [
    "del df['mmode']\n",
    "del df['SAMPLE_ID1']\n",
    "del df['mf']"
   ]
  },
  {
   "cell_type": "code",
   "execution_count": 5,
   "id": "4b280456",
   "metadata": {},
   "outputs": [],
   "source": [
    "df = df.fillna('')"
   ]
  },
  {
   "cell_type": "code",
   "execution_count": 6,
   "id": "b1eb34d1",
   "metadata": {},
   "outputs": [],
   "source": [
    "df['catloc'] = [df.cat.loc[i] + \"_\" + df.mloc.loc[i] for i in df.index]"
   ]
  },
  {
   "cell_type": "code",
   "execution_count": 7,
   "id": "358db0d3",
   "metadata": {},
   "outputs": [],
   "source": [
    "rows = []\n",
    "for catloc in df.catloc.unique():\n",
    "    tmp = df[df.catloc==catloc]\n",
    "    med = np.median(tmp.LAB_B)\n",
    "    tmp['mediff'] = tmp.LAB_B.apply(lambda x: abs(med-x))\n",
    "    rows.append(tmp[tmp.mediff == tmp.mediff.min()].iloc[0])"
   ]
  },
  {
   "cell_type": "code",
   "execution_count": 8,
   "id": "03b23531",
   "metadata": {},
   "outputs": [],
   "source": [
    "df = pd.DataFrame(rows)"
   ]
  },
  {
   "cell_type": "code",
   "execution_count": 9,
   "id": "63976126",
   "metadata": {},
   "outputs": [],
   "source": [
    "df = df.reset_index(drop=True)"
   ]
  },
  {
   "cell_type": "code",
   "execution_count": 10,
   "id": "01e9047f",
   "metadata": {},
   "outputs": [],
   "source": [
    "df = df[['cat','mloc','LAB_L','LAB_A','LAB_B','hue','saturation','lightness']]"
   ]
  },
  {
   "cell_type": "code",
   "execution_count": 11,
   "id": "0216a849",
   "metadata": {},
   "outputs": [],
   "source": [
    "df.to_csv('color.csv',index=False)"
   ]
  }
 ],
 "metadata": {
  "kernelspec": {
   "display_name": "Python 3 (ipykernel)",
   "language": "python",
   "name": "python3"
  },
  "language_info": {
   "codemirror_mode": {
    "name": "ipython",
    "version": 3
   },
   "file_extension": ".py",
   "mimetype": "text/x-python",
   "name": "python",
   "nbconvert_exporter": "python",
   "pygments_lexer": "ipython3",
   "version": "3.10.4"
  }
 },
 "nbformat": 4,
 "nbformat_minor": 5
}
