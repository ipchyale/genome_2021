{
 "cells": [
  {
   "cell_type": "code",
   "execution_count": 1,
   "id": "397bcb54",
   "metadata": {},
   "outputs": [],
   "source": [
    "import pandas as pd\n",
    "import numpy as np\n",
    "%matplotlib inline\n",
    "import warnings\n",
    "warnings.filterwarnings('ignore')"
   ]
  },
  {
   "cell_type": "code",
   "execution_count": 2,
   "id": "fa1bec68",
   "metadata": {},
   "outputs": [],
   "source": [
    "df = pd.read_csv('clean.csv')"
   ]
  },
  {
   "cell_type": "markdown",
   "id": "5d58ba66",
   "metadata": {},
   "source": [
    "# Validation"
   ]
  },
  {
   "cell_type": "markdown",
   "id": "9ed4638b",
   "metadata": {},
   "source": [
    "Some ``mloc`` labels are not valid. Let's try to correct that."
   ]
  },
  {
   "cell_type": "code",
   "execution_count": 3,
   "id": "9a21f205",
   "metadata": {},
   "outputs": [
    {
     "data": {
      "text/plain": [
       "<AxesSubplot:>"
      ]
     },
     "execution_count": 3,
     "metadata": {},
     "output_type": "execute_result"
    },
    {
     "data": {
      "image/png": "[encoded data removed]",
      "text/plain": [
       "<Figure size 432x288 with 1 Axes>"
      ]
     },
     "metadata": {
      "needs_background": "light"
     },
     "output_type": "display_data"
    }
   ],
   "source": [
    "df.LAB_L[df.mloc=='dmin'].hist(bins=100)"
   ]
  },
  {
   "cell_type": "code",
   "execution_count": 4,
   "id": "1e195cbe",
   "metadata": {},
   "outputs": [
    {
     "data": {
      "text/plain": [
       "<AxesSubplot:>"
      ]
     },
     "execution_count": 4,
     "metadata": {},
     "output_type": "execute_result"
    },
    {
     "data": {
      "image/png": "[encoded data removed]",
      "text/plain": [
       "<Figure size 432x288 with 1 Axes>"
      ]
     },
     "metadata": {
      "needs_background": "light"
     },
     "output_type": "display_data"
    }
   ],
   "source": [
    "df.LAB_L[df.mloc=='dmax'].hist(bins=100)"
   ]
  },
  {
   "cell_type": "code",
   "execution_count": 5,
   "id": "c46c65cc",
   "metadata": {},
   "outputs": [
    {
     "data": {
      "text/html": [
       "<div>\n",
       "<style scoped>\n",
       "    .dataframe tbody tr th:only-of-type {\n",
       "        vertical-align: middle;\n",
       "    }\n",
       "\n",
       "    .dataframe tbody tr th {\n",
       "        vertical-align: top;\n",
       "    }\n",
       "\n",
       "    .dataframe thead th {\n",
       "        text-align: right;\n",
       "    }\n",
       "</style>\n",
       "<table border=\"1\" class=\"dataframe\">\n",
       "  <thead>\n",
       "    <tr style=\"text-align: right;\">\n",
       "      <th></th>\n",
       "      <th>LAB_L</th>\n",
       "    </tr>\n",
       "    <tr>\n",
       "      <th>mloc</th>\n",
       "      <th></th>\n",
       "    </tr>\n",
       "  </thead>\n",
       "  <tbody>\n",
       "    <tr>\n",
       "      <th>dmax</th>\n",
       "      <td>0.291033</td>\n",
       "    </tr>\n",
       "    <tr>\n",
       "      <th>dmin</th>\n",
       "      <td>0.065567</td>\n",
       "    </tr>\n",
       "  </tbody>\n",
       "</table>\n",
       "</div>"
      ],
      "text/plain": [
       "         LAB_L\n",
       "mloc          \n",
       "dmax  0.291033\n",
       "dmin  0.065567"
      ]
     },
     "execution_count": 5,
     "metadata": {},
     "output_type": "execute_result"
    }
   ],
   "source": [
    "df[['cat','LAB_L','mloc']].groupby(['cat','mloc']).agg(np.var).groupby('mloc').agg(np.median)"
   ]
  },
  {
   "cell_type": "markdown",
   "id": "cb91c1e4",
   "metadata": {},
   "source": [
    "Okay, so now we have some estimates for where the variance _should_ be within a ``catloc``. Let's find violations of that."
   ]
  },
  {
   "cell_type": "code",
   "execution_count": 6,
   "id": "3c9202f7",
   "metadata": {},
   "outputs": [],
   "source": [
    "tmp = df[['cat','LAB_L','mloc']].groupby(['cat','mloc']).agg(np.var).reset_index()"
   ]
  },
  {
   "cell_type": "code",
   "execution_count": 7,
   "id": "5f906e7c",
   "metadata": {},
   "outputs": [],
   "source": [
    "tmp = tmp[tmp.mloc=='dmax'].sort_values('LAB_L',ascending=False)"
   ]
  },
  {
   "cell_type": "code",
   "execution_count": 8,
   "id": "955eabae",
   "metadata": {},
   "outputs": [],
   "source": [
    "unevencats = []\n",
    "for cat in tmp.cat:\n",
    "    t = df[df.cat==cat]\n",
    "    mlocs = list(t.mloc.unique())\n",
    "    if len(mlocs)==1:\n",
    "        unevencats.append(cat)"
   ]
  },
  {
   "cell_type": "code",
   "execution_count": 9,
   "id": "5a1756e1",
   "metadata": {},
   "outputs": [
    {
     "name": "stdout",
     "output_type": "stream",
     "text": [
      "dmax\n",
      "5532h [23.83, 24.49, 24.03, 92.15, 91.78, 91.68]\n",
      "dmax\n",
      "4790s [20.86, 21.45, 22.22, 87.87, 86.58, 87.12]\n",
      "dmax\n",
      "1880g [39.17, 41.92, 38.94]\n",
      "dmax\n",
      "1880d [22.52, 19.96, 20.85]\n",
      "dmax\n",
      "1880t [30.07, 32.11, 30.06]\n",
      "dmax\n",
      "904b [18.94, 16.78, 17.07]\n",
      "dmax\n",
      "4790g [35.91, 38.13, 36.42]\n",
      "dmax\n",
      "4790j [21.65, 23.62, 21.65]\n",
      "dmax\n",
      "4789l [32.83, 32.73, 34.61]\n",
      "dmax\n",
      "2088q [26.29, 25.27, 25.17]\n",
      "dmax\n",
      "1023k [27.31, 26.79, 27.55]\n",
      "dmax\n",
      "5464oo [14.12, 14.34, 14.2]\n",
      "dmax\n",
      "4789d [26.69, 26.5, 26.51]\n",
      "dmax\n",
      "294u [17.28, 17.29, 17.39]\n",
      "dmax\n",
      "4790e [22.8, 22.83, 22.76]\n",
      "dmax\n",
      "904y [17.77, 17.76, 17.76]\n"
     ]
    }
   ],
   "source": [
    "for cat in unevencats:\n",
    "    tmp = df[df.cat==cat]\n",
    "    mlocs = tmp.mloc.unique()\n",
    "    assert len(mlocs)==1\n",
    "    mloc = mlocs[0]\n",
    "    print(mloc)\n",
    "    if mloc=='dmax':\n",
    "        print(cat,list(tmp.LAB_L))"
   ]
  },
  {
   "cell_type": "code",
   "execution_count": 10,
   "id": "5e178ecf",
   "metadata": {},
   "outputs": [],
   "source": [
    "df.mloc[(df.cat=='5532h')&(df.LAB_L > 30)] = 'dmin'"
   ]
  },
  {
   "cell_type": "code",
   "execution_count": 11,
   "id": "a03db629",
   "metadata": {},
   "outputs": [],
   "source": [
    "df.mloc[(df.cat=='4790s')&(df.LAB_L > 30)] = 'dmin'"
   ]
  },
  {
   "cell_type": "code",
   "execution_count": 12,
   "id": "fc4387b5",
   "metadata": {},
   "outputs": [],
   "source": [
    "unevencats.remove('5532h')\n",
    "unevencats.remove('4790s')"
   ]
  },
  {
   "cell_type": "code",
   "execution_count": 13,
   "id": "f45a0a3b",
   "metadata": {},
   "outputs": [],
   "source": [
    "for cat in unevencats:\n",
    "    tmp = df[df.cat==cat]\n",
    "    mlocs = tmp.mloc.unique()\n",
    "    assert len(mlocs)==1\n",
    "    mloc = mlocs[0]\n",
    "    if mloc=='dmin':\n",
    "        print(cat,list(tmp.LAB_L))"
   ]
  },
  {
   "cell_type": "code",
   "execution_count": 14,
   "id": "3c4039de",
   "metadata": {},
   "outputs": [],
   "source": [
    "tmp = df[['cat','LAB_L','mloc']].groupby(['cat','mloc']).agg(np.var).reset_index()\n",
    "tmp = tmp[tmp.mloc=='dmin'].sort_values('LAB_L',ascending=False)"
   ]
  },
  {
   "cell_type": "code",
   "execution_count": 15,
   "id": "a04008c4",
   "metadata": {},
   "outputs": [
    {
     "name": "stdout",
     "output_type": "stream",
     "text": [
      "904hh ['dmin'] 3\n",
      "4789n ['dmin'] 3\n",
      "1880f ['dmin'] 3\n",
      "905b ['dmin'] 3\n",
      "1880y ['dmin'] 3\n",
      "904j ['dmin'] 3\n",
      "4789a ['dmin'] 3\n",
      "4790p ['dmin'] 3\n",
      "4790k ['dmin'] 3\n",
      "3189k ['dmin'] 3\n",
      "1880h ['dmin'] 3\n",
      "3189l ['dmin'] 3\n",
      "5444l ['dmin'] 3\n",
      "904p ['dmin'] 3\n",
      "4789k ['dmin'] 3\n",
      "2088o ['dmin'] 3\n",
      "4789c ['dmin'] 3\n",
      "4789b ['dmin'] 3\n",
      "4789h ['dmin'] 3\n",
      "3189d ['dmin'] 3\n",
      "904n ['dmin'] 3\n",
      "3189h ['dmin'] 3\n",
      "1880x ['dmin'] 3\n",
      "904u ['dmin'] 3\n",
      "4790m ['dmin'] 3\n",
      "1023l ['dmin'] 3\n",
      "4790h ['dmin'] 3\n",
      "1880k ['dmin'] 3\n",
      "4789i ['dmin'] 3\n",
      "904g ['dmin'] 3\n",
      "905n ['dmin'] 3\n",
      "5444a ['dmin'] 3\n",
      "905h ['dmin'] 3\n",
      "904o ['dmin'] 3\n",
      "905a ['dmin'] 3\n",
      "5444c ['dmin'] 3\n",
      "905j ['dmin'] 3\n",
      "1880c ['dmin'] 3\n",
      "5444d ['dmin'] 3\n",
      "905e ['dmin'] 3\n",
      "4789f ['dmin'] 3\n",
      "904e ['dmin'] 3\n",
      "3189b ['dmin'] 3\n",
      "5514y ['dmin'] 3\n",
      "905f ['dmin'] 3\n",
      "904t ['dmin'] 3\n",
      "905m ['dmin'] 3\n",
      "5513y ['dmin'] 3\n",
      "904i ['dmin'] 3\n"
     ]
    }
   ],
   "source": [
    "for cat in tmp.cat:\n",
    "    t = df[df.cat==cat]\n",
    "    mlocs = list(t.mloc.unique())\n",
    "    if len(mlocs)==1:\n",
    "        print(cat,mlocs,len(t))"
   ]
  },
  {
   "cell_type": "markdown",
   "id": "ef01120a",
   "metadata": {},
   "source": [
    "### mtrial issue"
   ]
  },
  {
   "cell_type": "code",
   "execution_count": 16,
   "id": "0279cd6f",
   "metadata": {},
   "outputs": [],
   "source": [
    "df['catrial'] = [df.cat.loc[i] + \"_\" + str(df.mtrial.loc[i]) for i in df.index]"
   ]
  },
  {
   "cell_type": "code",
   "execution_count": 17,
   "id": "8ea2ab7b",
   "metadata": {},
   "outputs": [],
   "source": [
    "df.mtrial[(df.catrial=='2372p_2')&(df.mloc=='dmax')] = '1'\n",
    "df.mtrial[(df.catrial=='2372p_3')&(df.mloc=='dmax')] = '2'"
   ]
  },
  {
   "cell_type": "code",
   "execution_count": 18,
   "id": "e011c29c",
   "metadata": {},
   "outputs": [],
   "source": [
    "df['catrial'] = [df.cat.loc[i] + \"_\" + str(df.mtrial.loc[i]) for i in df.index]"
   ]
  },
  {
   "cell_type": "markdown",
   "id": "482982fb",
   "metadata": {},
   "source": [
    "### save"
   ]
  },
  {
   "cell_type": "code",
   "execution_count": 19,
   "id": "089d998e",
   "metadata": {},
   "outputs": [],
   "source": [
    "df.to_csv('valid.csv',index=False)"
   ]
  }
 ],
 "metadata": {
  "kernelspec": {
   "display_name": "Python 3 (ipykernel)",
   "language": "python",
   "name": "python3"
  },
  "language_info": {
   "codemirror_mode": {
    "name": "ipython",
    "version": 3
   },
   "file_extension": ".py",
   "mimetype": "text/x-python",
   "name": "python",
   "nbconvert_exporter": "python",
   "pygments_lexer": "ipython3",
   "version": "3.10.4"
  }
 },
 "nbformat": 4,
 "nbformat_minor": 5
}
