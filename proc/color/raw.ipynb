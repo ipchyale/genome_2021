{
 "cells": [
  {
   "cell_type": "code",
   "execution_count": 1,
   "id": "da5dd57e",
   "metadata": {},
   "outputs": [],
   "source": [
    "import glob,os\n",
    "import pandas as pd\n",
    "import numpy as np\n",
    "import pandas as pd\n",
    "import os,glob\n",
    "import numpy as np\n",
    "import warnings\n",
    "warnings.filterwarnings(\"ignore\")\n",
    "import sys\n",
    "sys.path.append(os.path.expanduser(\"~\") + \"/collproc/\")\n",
    "from raw import *\n",
    "from coll import *\n",
    "sys.path.append(os.path.expanduser(\"~\"))\n",
    "from ss2csv.ss2csv import file2table,cleancols\n",
    "import matplotlib.pyplot as plt"
   ]
  },
  {
   "cell_type": "code",
   "execution_count": 2,
   "id": "d60d153e",
   "metadata": {},
   "outputs": [],
   "source": [
    "DIR = os.path.expanduser(\"~\") + \"/Dropbox/lml/genome_measurements/\""
   ]
  },
  {
   "cell_type": "code",
   "execution_count": 3,
   "id": "39150135",
   "metadata": {},
   "outputs": [],
   "source": [
    "allcolor = dirwalk(DIR,require='lor',omit=['Tests','flags','Issues'])"
   ]
  },
  {
   "cell_type": "code",
   "execution_count": 4,
   "id": "b157b8fd",
   "metadata": {
    "scrolled": false
   },
   "outputs": [],
   "source": [
    "df = pd.DataFrame()\n",
    "\n",
    "for f in allcolor:\n",
    "    tmp = cleancols(file2table(f))\n",
    "    tmp['fname'] = os.path.basename(f)\n",
    "    df = pd.concat([df,tmp])"
   ]
  },
  {
   "cell_type": "code",
   "execution_count": 5,
   "id": "f04eb1a8",
   "metadata": {},
   "outputs": [],
   "source": [
    "df = df.reset_index(drop=True)"
   ]
  },
  {
   "cell_type": "code",
   "execution_count": 6,
   "id": "b721e30a",
   "metadata": {},
   "outputs": [],
   "source": [
    "# occasionally, there is something in these columns, but not here\n",
    "\n",
    "del df['SAMPLE_ID2']\n",
    "del df['SAMPLE_ID3']"
   ]
  },
  {
   "cell_type": "markdown",
   "id": "55ea0c50",
   "metadata": {},
   "source": [
    "# LUV conversion"
   ]
  },
  {
   "cell_type": "markdown",
   "id": "1a09e6e7",
   "metadata": {},
   "source": [
    "For some reason, we occasionally have LUV measurements instead of LAB. But we can convert easily:"
   ]
  },
  {
   "cell_type": "code",
   "execution_count": 7,
   "id": "6d7b2061",
   "metadata": {},
   "outputs": [],
   "source": [
    "from colormath.color_objects import LabColor,LuvColor\n",
    "from colormath.color_conversions import convert_color"
   ]
  },
  {
   "cell_type": "code",
   "execution_count": 8,
   "id": "b6b645d1",
   "metadata": {},
   "outputs": [],
   "source": [
    "def luv2lab(i):\n",
    "    l = df.LUV_L.loc[i]\n",
    "    u = df.LUV_U.loc[i]\n",
    "    v = df.LUV_V.loc[i]\n",
    "    luv = LuvColor(l,u,v,observer='2',illuminant='d65')\n",
    "    lab = convert_color(luv,LabColor)\n",
    "    return lab.get_value_tuple()"
   ]
  },
  {
   "cell_type": "code",
   "execution_count": 9,
   "id": "785f9d1e",
   "metadata": {},
   "outputs": [],
   "source": [
    "luvidxs = df.index[df.LUV_L.notnull()]"
   ]
  },
  {
   "cell_type": "code",
   "execution_count": 10,
   "id": "fd2018ea",
   "metadata": {},
   "outputs": [],
   "source": [
    "for luvidx in luvidxs:\n",
    "    lab = luv2lab(luvidx)\n",
    "    df.LAB_L.loc[luvidx] = lab[0]\n",
    "    df.LAB_A.loc[luvidx] = lab[1]\n",
    "    df.LAB_B.loc[luvidx] = lab[2]"
   ]
  },
  {
   "cell_type": "code",
   "execution_count": 11,
   "id": "47c063fd",
   "metadata": {},
   "outputs": [],
   "source": [
    "del df['LUV_L']\n",
    "del df['LUV_U']\n",
    "del df['LUV_V']"
   ]
  },
  {
   "cell_type": "markdown",
   "id": "0476d035",
   "metadata": {},
   "source": [
    "# Parse Sample ID"
   ]
  },
  {
   "cell_type": "code",
   "execution_count": 12,
   "id": "cef0173f",
   "metadata": {},
   "outputs": [],
   "source": [
    "df = pd.concat([df,pd.DataFrame(list(df.SAMPLE_ID1.apply(parse_sample_id)))],axis=1)"
   ]
  },
  {
   "cell_type": "code",
   "execution_count": 13,
   "id": "02992913",
   "metadata": {},
   "outputs": [],
   "source": [
    "df = df.drop_duplicates()"
   ]
  },
  {
   "cell_type": "code",
   "execution_count": 14,
   "id": "d6a98235",
   "metadata": {},
   "outputs": [],
   "source": [
    "df = df.reset_index(drop=True)"
   ]
  },
  {
   "cell_type": "code",
   "execution_count": 15,
   "id": "7d93e25b",
   "metadata": {},
   "outputs": [],
   "source": [
    "pkl(df,'raw.pkl')"
   ]
  }
 ],
 "metadata": {
  "kernelspec": {
   "display_name": "Python 3 (ipykernel)",
   "language": "python",
   "name": "python3"
  },
  "language_info": {
   "codemirror_mode": {
    "name": "ipython",
    "version": 3
   },
   "file_extension": ".py",
   "mimetype": "text/x-python",
   "name": "python",
   "nbconvert_exporter": "python",
   "pygments_lexer": "ipython3",
   "version": "3.10.4"
  }
 },
 "nbformat": 4,
 "nbformat_minor": 5
}
