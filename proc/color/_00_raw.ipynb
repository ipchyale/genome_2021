{
 "cells": [
  {
   "cell_type": "code",
   "execution_count": 1,
   "id": "da5dd57e",
   "metadata": {},
   "outputs": [],
   "source": [
    "import pandas as pd\n",
    "import os,glob\n",
    "import numpy as np\n",
    "import warnings\n",
    "warnings.filterwarnings(\"ignore\")\n",
    "import sys\n",
    "sys.path.append(os.path.expanduser(\"~\") + \"/collproc/\")\n",
    "from raw import *\n",
    "from coll import *\n",
    "sys.path.append(os.path.expanduser(\"~\"))\n",
    "from ss2csv.ss2csv import file2table,cleancols"
   ]
  },
  {
   "cell_type": "code",
   "execution_count": 2,
   "id": "d60d153e",
   "metadata": {},
   "outputs": [],
   "source": [
    "DIR = os.path.expanduser(\"~\") + \"/Dropbox/lml/genome_measurements/\""
   ]
  },
  {
   "cell_type": "code",
   "execution_count": 3,
   "id": "39150135",
   "metadata": {},
   "outputs": [],
   "source": [
    "allcolor = dirwalk(DIR,require='lor',omit=['Tests','flags','Issues'])"
   ]
  },
  {
   "cell_type": "code",
   "execution_count": 4,
   "id": "b157b8fd",
   "metadata": {
    "scrolled": false
   },
   "outputs": [],
   "source": [
    "df = pd.DataFrame()\n",
    "\n",
    "for f in allcolor:\n",
    "    tmp = cleancols(file2table(f))\n",
    "    tmp['fname'] = f\n",
    "    df = pd.concat([df,tmp])"
   ]
  },
  {
   "cell_type": "code",
   "execution_count": 5,
   "id": "f04eb1a8",
   "metadata": {},
   "outputs": [],
   "source": [
    "df = df.reset_index(drop=True)"
   ]
  },
  {
   "cell_type": "code",
   "execution_count": 6,
   "id": "b721e30a",
   "metadata": {},
   "outputs": [],
   "source": [
    "# occasionally, there is something in these columns, but not here\n",
    "\n",
    "del df['SAMPLE_ID2']\n",
    "del df['SAMPLE_ID3']"
   ]
  },
  {
   "cell_type": "markdown",
   "id": "55ea0c50",
   "metadata": {},
   "source": [
    "# Color conversion"
   ]
  },
  {
   "cell_type": "markdown",
   "id": "1a09e6e7",
   "metadata": {},
   "source": [
    "For some reason, we occasionally have LUV or LCH measurements instead of LAB. But we can convert easily:"
   ]
  },
  {
   "cell_type": "code",
   "execution_count": 7,
   "id": "6d7b2061",
   "metadata": {},
   "outputs": [],
   "source": [
    "from colormath.color_objects import LabColor,LuvColor,LCHabColor,sRGBColor\n",
    "from colormath.color_conversions import convert_color"
   ]
  },
  {
   "cell_type": "code",
   "execution_count": 8,
   "id": "b6b645d1",
   "metadata": {},
   "outputs": [],
   "source": [
    "def luv2lab(i):\n",
    "    l = df.LUV_L.loc[i]\n",
    "    u = df.LUV_U.loc[i]\n",
    "    v = df.LUV_V.loc[i]\n",
    "    luv = LuvColor(l,u,v,observer='2',illuminant='d65')\n",
    "    lab = convert_color(luv,LabColor)\n",
    "    return lab.get_value_tuple()"
   ]
  },
  {
   "cell_type": "code",
   "execution_count": 9,
   "id": "97aba2e9",
   "metadata": {},
   "outputs": [],
   "source": [
    "def lch2lab(i):\n",
    "    l = df.LAB_L.loc[i]\n",
    "    c = df.LAB_C.loc[i]\n",
    "    h = df.LAB_H.loc[i]\n",
    "    lch = LCHabColor(l,c,h,observer='2',illuminant='d65')\n",
    "    lab = convert_color(lch,LabColor)\n",
    "    return lab.get_value_tuple()"
   ]
  },
  {
   "cell_type": "code",
   "execution_count": 10,
   "id": "c946edae",
   "metadata": {},
   "outputs": [],
   "source": [
    "def lab2rgb(i):\n",
    "    l = df.LAB_L.loc[i]\n",
    "    a = df.LAB_A.loc[i]\n",
    "    b = df.LAB_B.loc[i]\n",
    "    lab = LabColor(l,a,b,observer='2',illuminant='d65')\n",
    "    rgb = convert_color(lab,sRGBColor)\n",
    "    return rgb.get_rgb_hex()"
   ]
  },
  {
   "cell_type": "code",
   "execution_count": 11,
   "id": "785f9d1e",
   "metadata": {},
   "outputs": [],
   "source": [
    "luvidxs = df.index[df.LUV_L.notnull()]\n",
    "lchidxs = df.index[df.LAB_C.notnull()]"
   ]
  },
  {
   "cell_type": "code",
   "execution_count": 12,
   "id": "fd2018ea",
   "metadata": {},
   "outputs": [],
   "source": [
    "for luvidx in luvidxs:\n",
    "    lab = luv2lab(luvidx)\n",
    "    df.LAB_L.loc[luvidx] = lab[0]\n",
    "    df.LAB_A.loc[luvidx] = lab[1]\n",
    "    df.LAB_B.loc[luvidx] = lab[2]"
   ]
  },
  {
   "cell_type": "code",
   "execution_count": 13,
   "id": "d4bf559c",
   "metadata": {},
   "outputs": [],
   "source": [
    "for lchidx in lchidxs:\n",
    "    lab = lch2lab(lchidx)\n",
    "    df.LAB_L.loc[lchidx] = lab[0]\n",
    "    df.LAB_A.loc[lchidx] = lab[1]\n",
    "    df.LAB_B.loc[lchidx] = lab[2]"
   ]
  },
  {
   "cell_type": "code",
   "execution_count": 14,
   "id": "47c063fd",
   "metadata": {},
   "outputs": [],
   "source": [
    "del df['LUV_L']\n",
    "del df['LUV_U']\n",
    "del df['LUV_V']\n",
    "del df['LAB_C']\n",
    "del df['LAB_H']"
   ]
  },
  {
   "cell_type": "code",
   "execution_count": 15,
   "id": "89b69ebe",
   "metadata": {},
   "outputs": [],
   "source": [
    "df['rgbhex'] = [lab2rgb(i) for i in df.index]"
   ]
  },
  {
   "cell_type": "markdown",
   "id": "0476d035",
   "metadata": {},
   "source": [
    "# Parse Sample ID"
   ]
  },
  {
   "cell_type": "code",
   "execution_count": 16,
   "id": "b18e5605",
   "metadata": {},
   "outputs": [],
   "source": [
    "df.SAMPLE_ID1 = [item.strip('\"') for item in df.SAMPLE_ID1]"
   ]
  },
  {
   "cell_type": "code",
   "execution_count": 17,
   "id": "cf83707d",
   "metadata": {},
   "outputs": [],
   "source": [
    "df['mmode'] = [item.split(\" \")[-1] for item in df.SAMPLE_ID1]"
   ]
  },
  {
   "cell_type": "code",
   "execution_count": 18,
   "id": "0b9315c9",
   "metadata": {},
   "outputs": [],
   "source": [
    "#df = df.loc[df.mmode.isin(['M0','M2'])]"
   ]
  },
  {
   "cell_type": "code",
   "execution_count": 19,
   "id": "5fe64c70",
   "metadata": {},
   "outputs": [],
   "source": [
    "#df = df.reset_index(drop=True)"
   ]
  },
  {
   "cell_type": "code",
   "execution_count": 20,
   "id": "15eeb0b3",
   "metadata": {},
   "outputs": [],
   "source": [
    "df['ss'] =  [' '.join(item.split(\" \")[:-1]).strip() for item in df.SAMPLE_ID1]"
   ]
  },
  {
   "cell_type": "code",
   "execution_count": 21,
   "id": "144395ec",
   "metadata": {},
   "outputs": [],
   "source": [
    "del df['SAMPLE_ID1']"
   ]
  },
  {
   "cell_type": "code",
   "execution_count": 22,
   "id": "5cf856b1",
   "metadata": {},
   "outputs": [],
   "source": [
    "df.ss = df.ss.apply(lambda x:x.lower())"
   ]
  },
  {
   "cell_type": "code",
   "execution_count": 23,
   "id": "cef0173f",
   "metadata": {},
   "outputs": [],
   "source": [
    "df = pd.concat([df,pd.DataFrame(list(df.ss.apply(parse_sample_id)))],axis=1)"
   ]
  },
  {
   "cell_type": "code",
   "execution_count": 24,
   "id": "7d93e25b",
   "metadata": {},
   "outputs": [],
   "source": [
    "pkl(df,'raw.pkl')"
   ]
  }
 ],
 "metadata": {
  "kernelspec": {
   "display_name": "Python 3 (ipykernel)",
   "language": "python",
   "name": "python3"
  },
  "language_info": {
   "codemirror_mode": {
    "name": "ipython",
    "version": 3
   },
   "file_extension": ".py",
   "mimetype": "text/x-python",
   "name": "python",
   "nbconvert_exporter": "python",
   "pygments_lexer": "ipython3",
   "version": "3.10.4"
  }
 },
 "nbformat": 4,
 "nbformat_minor": 5
}
