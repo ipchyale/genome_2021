{
 "cells": [
  {
   "cell_type": "code",
   "execution_count": 1,
   "id": "a6ef8744",
   "metadata": {},
   "outputs": [],
   "source": [
    "import pandas as pd\n",
    "import os,glob\n",
    "import numpy as np"
   ]
  },
  {
   "cell_type": "code",
   "execution_count": 2,
   "id": "60681bfb",
   "metadata": {},
   "outputs": [],
   "source": [
    "#df = pd.read_pickle('raw_omissions_corrections.pkl')\n",
    "df = pd.read_pickle('raw_omissions_corrections-mmode.pkl')"
   ]
  },
  {
   "cell_type": "markdown",
   "id": "e601704f",
   "metadata": {},
   "source": [
    "### corrections"
   ]
  },
  {
   "cell_type": "code",
   "execution_count": 3,
   "id": "737d6d2b",
   "metadata": {},
   "outputs": [],
   "source": [
    "todrop = df.loc[(df.catalog=='5286')&(df.mtrial=='3')].index\n",
    "df = df.drop(todrop)\n",
    "df = df.reset_index(drop=True)"
   ]
  },
  {
   "cell_type": "code",
   "execution_count": 4,
   "id": "ab7f2b91",
   "metadata": {},
   "outputs": [],
   "source": [
    "todrop = df.loc[(df.catalog=='5207h')&(df.mtrial.isin(['3','4','5']))].index\n",
    "df = df.drop(todrop)\n",
    "df = df.reset_index(drop=True)"
   ]
  },
  {
   "cell_type": "markdown",
   "id": "053ab12d",
   "metadata": {},
   "source": [
    "# Enumeration of cases"
   ]
  },
  {
   "cell_type": "code",
   "execution_count": 5,
   "id": "87719a77",
   "metadata": {},
   "outputs": [],
   "source": [
    "def fspread(list1, list2):\n",
    "    return list1[:-1] == list2[:-1] and list1[-1] != list2[-1]"
   ]
  },
  {
   "cell_type": "code",
   "execution_count": 12,
   "id": "c152b0c3",
   "metadata": {
    "scrolled": true
   },
   "outputs": [
    {
     "name": "stdout",
     "output_type": "stream",
     "text": [
      "5513l 902c 902d 902e 902g 902h 902i 902j 902k 902o 902p 902q 902r 902s 902t 2075z 4793c 4793i 4793j 4791b 4885m 4783a 4783b 4783c 4783d 4783e 4783f 4783g 4783h 4783l 4783m 4783n 4783o 4783p 4783q 4783r 4783s 4783t 4783u 4783v 294u 5528a 5529q 1880t 1022i 5447n 5493o 5493p 5493q 5493r 5493s 5493t 5496f 5496k 5494j 4793a 4793d 4793e 4793f 4793g 4793h "
     ]
    }
   ],
   "source": [
    "badcats = [] # just removing for now; resolution later\n",
    "for catalog in df.catalog.unique():\n",
    "    tmp = df[df.catalog==catalog]\n",
    "    \n",
    "    fnames = tmp.fbase.unique()\n",
    "    fnames = [item[:-4] for item in fnames]\n",
    "    fname_list = [item.split(\"_\") for item in fnames]\n",
    "    \n",
    "    if all([\n",
    "        len(tmp.fname.unique())==1,\n",
    "        #len(tmp.mmode.value_counts().unique())==1,\n",
    "        #len(tmp.mmode.unique())==2,\n",
    "    ]):\n",
    "        continue\n",
    "    elif len(fname_list)==2 and fspread(fname_list[0],fname_list[1]):\n",
    "        continue\n",
    "    else:\n",
    "        print(catalog, end=' ')\n",
    "        badcats.append(catalog)"
   ]
  },
  {
   "cell_type": "markdown",
   "id": "bf845d59",
   "metadata": {},
   "source": [
    "non-mmode: This one, `5528a`, is fine. The dmins are from one file, and the dmaxes are from another."
   ]
  },
  {
   "cell_type": "markdown",
   "id": "9cbfea66",
   "metadata": {},
   "source": [
    "mmode: There are a bunch here that were re-measured. It's fine."
   ]
  },
  {
   "cell_type": "code",
   "execution_count": 15,
   "id": "1763abf0",
   "metadata": {},
   "outputs": [],
   "source": [
    "df.to_pickle('raw_omissions_corrections-mmode_deduped.pkl')"
   ]
  }
 ],
 "metadata": {
  "kernelspec": {
   "display_name": "Python 3 (ipykernel)",
   "language": "python",
   "name": "python3"
  },
  "language_info": {
   "codemirror_mode": {
    "name": "ipython",
    "version": 3
   },
   "file_extension": ".py",
   "mimetype": "text/x-python",
   "name": "python",
   "nbconvert_exporter": "python",
   "pygments_lexer": "ipython3",
   "version": "3.10.4"
  }
 },
 "nbformat": 4,
 "nbformat_minor": 5
}
