{
 "cells": [
  {
   "cell_type": "code",
   "execution_count": 1,
   "id": "a6ef8744",
   "metadata": {},
   "outputs": [],
   "source": [
    "import pandas as pd\n",
    "import os,glob\n",
    "import numpy as np\n",
    "import re\n",
    "import warnings\n",
    "warnings.filterwarnings('ignore')"
   ]
  },
  {
   "cell_type": "code",
   "execution_count": 9,
   "id": "60681bfb",
   "metadata": {},
   "outputs": [],
   "source": [
    "#df = pd.read_pickle('raw_omissions_corrections_deduped.pkl')\n",
    "df = pd.read_pickle('raw_omissions_corrections-mmode_deduped.pkl')"
   ]
  },
  {
   "cell_type": "code",
   "execution_count": 10,
   "id": "679d2549",
   "metadata": {},
   "outputs": [
    {
     "data": {
      "text/plain": [
       "Index(['LAB_L', 'fname', 'LAB_A', 'LAB_B', 'rgbhex', 'mmode', 'ss', 'catalog',\n",
       "       'mtrial', 'mloc', 'manbran', 'additional', 'fbase', 'nm400', 'nm410',\n",
       "       'nm420', 'nm430', 'nm440', 'nm450', 'nm460', 'nm470', 'nm480', 'nm490',\n",
       "       'nm500', 'sample_type', 'cat', 'catbase', 'catnomb', 'catminus'],\n",
       "      dtype='object')"
      ]
     },
     "execution_count": 10,
     "metadata": {},
     "output_type": "execute_result"
    }
   ],
   "source": [
    "df.columns"
   ]
  },
  {
   "cell_type": "code",
   "execution_count": 11,
   "id": "c42ea314",
   "metadata": {},
   "outputs": [],
   "source": [
    "df = df[['sample_type','fname','catalog','additional','manbran','mloc','mtrial','mmode',\n",
    "         'LAB_L', 'LAB_A', 'LAB_B','rgbhex','nm400', 'nm410', 'nm420', 'nm430',\n",
    "       'nm440', 'nm450', 'nm460', 'nm470', 'nm480', 'nm490', 'nm500']]"
   ]
  },
  {
   "cell_type": "code",
   "execution_count": 12,
   "id": "8d0bd734",
   "metadata": {},
   "outputs": [],
   "source": [
    "df = df.sort_values(['sample_type','catalog','additional','manbran','mloc','mtrial','mmode'])"
   ]
  },
  {
   "cell_type": "code",
   "execution_count": 13,
   "id": "300e3094",
   "metadata": {},
   "outputs": [],
   "source": [
    "df = df.reset_index(drop=True)"
   ]
  },
  {
   "cell_type": "code",
   "execution_count": 14,
   "id": "34eeaa6d",
   "metadata": {},
   "outputs": [
    {
     "data": {
      "text/plain": [
       "array(['114', '1747', '214', '2392a', '2392b', '2392c', '2392d', '2392e',\n",
       "       '2392f', '2392g', '2639a', '2639b', '2639c', '2639d', '2639e',\n",
       "       '2639f', '2639g', '286z', '294', '4870a', '4870b', '4870c',\n",
       "       '4901a', '4901b', '4901c', '5515x', '5516x', '5616', '5617',\n",
       "       '5618', '5619', 'None'], dtype=object)"
      ]
     },
     "execution_count": 14,
     "metadata": {},
     "output_type": "execute_result"
    }
   ],
   "source": [
    "df.loc[df.sample_type==\"::\"].catalog.unique()"
   ]
  },
  {
   "cell_type": "code",
   "execution_count": 15,
   "id": "05daee98",
   "metadata": {},
   "outputs": [],
   "source": [
    "df.to_pickle('raw_omissions_corrections-mmode_deduped_catalog.pkl')"
   ]
  }
 ],
 "metadata": {
  "kernelspec": {
   "display_name": "Python 3 (ipykernel)",
   "language": "python",
   "name": "python3"
  },
  "language_info": {
   "codemirror_mode": {
    "name": "ipython",
    "version": 3
   },
   "file_extension": ".py",
   "mimetype": "text/x-python",
   "name": "python",
   "nbconvert_exporter": "python",
   "pygments_lexer": "ipython3",
   "version": "3.10.4"
  }
 },
 "nbformat": 4,
 "nbformat_minor": 5
}
