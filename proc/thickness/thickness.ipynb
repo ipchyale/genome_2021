{
 "cells": [
  {
   "cell_type": "code",
   "execution_count": 1,
   "id": "a2d015a3",
   "metadata": {},
   "outputs": [],
   "source": [
    "import pandas as pd\n",
    "import os,glob\n",
    "import numpy as np\n",
    "import warnings\n",
    "warnings.filterwarnings(\"ignore\")\n",
    "import sys\n",
    "sys.path.append(\"/Users/damoncrockett/collproc/\")\n",
    "from raw import *\n",
    "import re"
   ]
  },
  {
   "cell_type": "code",
   "execution_count": 2,
   "id": "b40ca8f9",
   "metadata": {},
   "outputs": [],
   "source": [
    "DIR = \"/Users/damoncrockett/Dropbox/lml/genome_measurements/\""
   ]
  },
  {
   "cell_type": "code",
   "execution_count": 3,
   "id": "98afc8a9",
   "metadata": {},
   "outputs": [],
   "source": [
    "allthick = dirwalk(DIR,require='hic',omit=['_flag','thickness_charts.xls'])"
   ]
  },
  {
   "cell_type": "code",
   "execution_count": 4,
   "id": "12a4f9f5",
   "metadata": {
    "scrolled": false
   },
   "outputs": [],
   "source": [
    "df = pd.DataFrame()\n",
    "for f in allthick:\n",
    "    tmp = fproc(f)\n",
    "    if tmp is not None:\n",
    "        df = pd.concat([df,tmp])"
   ]
  },
  {
   "cell_type": "code",
   "execution_count": 5,
   "id": "e4a59c91",
   "metadata": {},
   "outputs": [],
   "source": [
    "df = df.reset_index(drop=True)"
   ]
  },
  {
   "cell_type": "code",
   "execution_count": 6,
   "id": "4f298304",
   "metadata": {},
   "outputs": [],
   "source": [
    "df['mera'] = 'mod'"
   ]
  },
  {
   "cell_type": "markdown",
   "id": "5294e87b",
   "metadata": {},
   "source": [
    "### Legacy"
   ]
  },
  {
   "cell_type": "code",
   "execution_count": 7,
   "id": "f63a0347",
   "metadata": {},
   "outputs": [],
   "source": [
    "legacy_file = \"/Users/damoncrockett/Dropbox/lml/genome_measurements/genome_legacy/thickness_charts.xls\""
   ]
  },
  {
   "cell_type": "code",
   "execution_count": 8,
   "id": "de4d2b8c",
   "metadata": {},
   "outputs": [],
   "source": [
    "lf = fproc(legacy_file)"
   ]
  },
  {
   "cell_type": "code",
   "execution_count": 9,
   "id": "01e48f09",
   "metadata": {},
   "outputs": [],
   "source": [
    "lf = lf.reset_index(drop=True)"
   ]
  },
  {
   "cell_type": "code",
   "execution_count": 10,
   "id": "5827457e",
   "metadata": {},
   "outputs": [],
   "source": [
    "lf.catalog = lf.catalog.apply(str)\n",
    "df.catalog = df.catalog.apply(str)"
   ]
  },
  {
   "cell_type": "code",
   "execution_count": 11,
   "id": "7448d694",
   "metadata": {},
   "outputs": [],
   "source": [
    "df['catalog_manbran'] = [item for item in df.catalog]"
   ]
  },
  {
   "cell_type": "code",
   "execution_count": 12,
   "id": "af24ad5b",
   "metadata": {},
   "outputs": [],
   "source": [
    "df.catalog = df.catalog.apply(extract_catalog_number)"
   ]
  },
  {
   "cell_type": "code",
   "execution_count": 13,
   "id": "fb165faa",
   "metadata": {},
   "outputs": [],
   "source": [
    "lf['mera'] = 'trad'"
   ]
  },
  {
   "cell_type": "markdown",
   "id": "2c463fdf",
   "metadata": {},
   "source": [
    "# Legacy measurements never repeated"
   ]
  },
  {
   "cell_type": "code",
   "execution_count": 14,
   "id": "2b851d9d",
   "metadata": {},
   "outputs": [],
   "source": [
    "unique_trads = list(set(lf.catalog) - set(df.catalog))"
   ]
  },
  {
   "cell_type": "code",
   "execution_count": 15,
   "id": "d01c913a",
   "metadata": {
    "scrolled": false
   },
   "outputs": [],
   "source": [
    "# This is a check\n",
    "# for unique_trad in unique_trads:\n",
    "#     tmp = df[df.catalog.str.contains(unique_trad)]\n",
    "#     if len(tmp) > 0:\n",
    "#         print(unique_trad,\"\\n\",sorted(list(tmp['catalog']),key=len),\"\\n\\n\\n\\n\")"
   ]
  },
  {
   "cell_type": "code",
   "execution_count": 16,
   "id": "2362b98c",
   "metadata": {},
   "outputs": [
    {
     "data": {
      "text/plain": [
       "30"
      ]
     },
     "execution_count": 16,
     "metadata": {},
     "output_type": "execute_result"
    }
   ],
   "source": [
    "len(unique_trads)"
   ]
  },
  {
   "cell_type": "markdown",
   "id": "a7a75631",
   "metadata": {},
   "source": [
    "# Overall standard deviation"
   ]
  },
  {
   "cell_type": "code",
   "execution_count": 17,
   "id": "42b37a0d",
   "metadata": {},
   "outputs": [],
   "source": [
    "allmods = [item for sublist in df.thickness for item in sublist]\n",
    "alltrads = [item for sublist in lf.thickness for item in sublist]\n",
    "allthicknesses = allmods + alltrads"
   ]
  },
  {
   "cell_type": "code",
   "execution_count": 18,
   "id": "e2b9627d",
   "metadata": {},
   "outputs": [],
   "source": [
    "import numpy as np"
   ]
  },
  {
   "cell_type": "code",
   "execution_count": 19,
   "id": "0885a0d8",
   "metadata": {},
   "outputs": [
    {
     "data": {
      "text/plain": [
       "0.08280782637407"
      ]
     },
     "execution_count": 19,
     "metadata": {},
     "output_type": "execute_result"
    }
   ],
   "source": [
    "thickstd = np.std(allthicknesses)\n",
    "thickstd"
   ]
  },
  {
   "cell_type": "markdown",
   "id": "1008fe5a",
   "metadata": {},
   "source": [
    "# Modern dupes"
   ]
  },
  {
   "cell_type": "markdown",
   "id": "9afa9d0f",
   "metadata": {},
   "source": [
    "#### dedupe"
   ]
  },
  {
   "cell_type": "markdown",
   "id": "e5820561",
   "metadata": {},
   "source": [
    "This is done for each measurement file individually, in the `raw` module, but we need to do it again here, to remove dupes that cross over files. There won't be tons of these, but I've already found one."
   ]
  },
  {
   "cell_type": "code",
   "execution_count": 20,
   "id": "4df4eda8",
   "metadata": {},
   "outputs": [
    {
     "data": {
      "text/plain": [
       "195"
      ]
     },
     "execution_count": 20,
     "metadata": {},
     "output_type": "execute_result"
    }
   ],
   "source": [
    "len(df) - len(df.drop_duplicates(subset=df.columns.difference(['thickness','fname','catalog_manbran'])))"
   ]
  },
  {
   "cell_type": "code",
   "execution_count": 21,
   "id": "3a7b89e9",
   "metadata": {},
   "outputs": [],
   "source": [
    "df = df.drop_duplicates(subset=df.columns.difference(['thickness','fname','catalog_manbran']))\n",
    "df = df.reset_index(drop=True)"
   ]
  },
  {
   "cell_type": "markdown",
   "id": "db48ae4f",
   "metadata": {},
   "source": [
    "### Enumeration of Cases"
   ]
  },
  {
   "cell_type": "code",
   "execution_count": 22,
   "id": "ef8dfa54",
   "metadata": {},
   "outputs": [],
   "source": [
    "from itertools import combinations"
   ]
  },
  {
   "cell_type": "code",
   "execution_count": 23,
   "id": "b373d16b",
   "metadata": {
    "scrolled": false
   },
   "outputs": [
    {
     "name": "stdout",
     "output_type": "stream",
     "text": [
      "5606kk\t2559\t2523\t5150\t3131\t4792e\t4792n\t27\t2166\t5408f\t5408g\t5408h\t5408i\t5408j\t1433\t5408c\t5408d\t5408b\t5154\t40\t72\t0016\t2304\t2077h\t2077j\t2512\t5408a\t2372dd\t5036\t5155\t5408e\t"
     ]
    }
   ],
   "source": [
    "moddupes = df.catalog.value_counts().loc[lambda x: x > 1]\n",
    "for moddupe in moddupes.index:\n",
    "    tmp = df[df.catalog==moddupe]\n",
    "    \n",
    "    # we exclude case where both Leah and I measured binder 4\n",
    "    tmp = tmp.sort_values('fname')\n",
    "    fname_string = '|'.join(list(tmp.fname))\n",
    "    \n",
    "    # we exclude case where `catalog_manbran` is the same and the medians are within 1SD\n",
    "    l = list(tmp.thickness.apply(np.median))\n",
    "    medpairs = list(combinations(l, 2))\n",
    "    meddiffs = [abs(item[0]-item[1]) for item in medpairs]\n",
    "    \n",
    "    if 'thickness_dc_binder4.xlsx|thickness_ll_binder4' in fname_string: # hers are spread across multiple files\n",
    "        continue\n",
    "    elif all([diff < thickstd for diff in meddiffs]) and len(tmp.catalog_manbran.unique())==1:\n",
    "        continue\n",
    "    else:\n",
    "        print(moddupe,end='\\t')"
   ]
  },
  {
   "cell_type": "code",
   "execution_count": 24,
   "id": "749d7636",
   "metadata": {},
   "outputs": [
    {
     "data": {
      "text/html": [
       "<div>\n",
       "<style scoped>\n",
       "    .dataframe tbody tr th:only-of-type {\n",
       "        vertical-align: middle;\n",
       "    }\n",
       "\n",
       "    .dataframe tbody tr th {\n",
       "        vertical-align: top;\n",
       "    }\n",
       "\n",
       "    .dataframe thead th {\n",
       "        text-align: right;\n",
       "    }\n",
       "</style>\n",
       "<table border=\"1\" class=\"dataframe\">\n",
       "  <thead>\n",
       "    <tr style=\"text-align: right;\">\n",
       "      <th></th>\n",
       "      <th>catalog</th>\n",
       "      <th>thickness</th>\n",
       "      <th>thickness_str</th>\n",
       "      <th>fname</th>\n",
       "      <th>mera</th>\n",
       "      <th>catalog_manbran</th>\n",
       "    </tr>\n",
       "  </thead>\n",
       "  <tbody>\n",
       "    <tr>\n",
       "      <th>669</th>\n",
       "      <td>5155</td>\n",
       "      <td>[0.163, 0.165, 0.165]</td>\n",
       "      <td>[0.163, 0.165, 0.165]</td>\n",
       "      <td>thickness_ac_binder2_6.xlsx</td>\n",
       "      <td>mod</td>\n",
       "      <td>5155_ek</td>\n",
       "    </tr>\n",
       "    <tr>\n",
       "      <th>670</th>\n",
       "      <td>5155</td>\n",
       "      <td>[0.166, 0.171, 0.168]</td>\n",
       "      <td>[0.166, 0.171, 0.168]</td>\n",
       "      <td>thickness_ac_binder2_6.xlsx</td>\n",
       "      <td>mod</td>\n",
       "      <td>5155_eg</td>\n",
       "    </tr>\n",
       "  </tbody>\n",
       "</table>\n",
       "</div>"
      ],
      "text/plain": [
       "    catalog              thickness          thickness_str  \\\n",
       "669    5155  [0.163, 0.165, 0.165]  [0.163, 0.165, 0.165]   \n",
       "670    5155  [0.166, 0.171, 0.168]  [0.166, 0.171, 0.168]   \n",
       "\n",
       "                           fname mera catalog_manbran  \n",
       "669  thickness_ac_binder2_6.xlsx  mod         5155_ek  \n",
       "670  thickness_ac_binder2_6.xlsx  mod         5155_eg  "
      ]
     },
     "execution_count": 24,
     "metadata": {},
     "output_type": "execute_result"
    }
   ],
   "source": [
    "df[df.catalog=='5155']"
   ]
  },
  {
   "cell_type": "code",
   "execution_count": 25,
   "id": "aded5846",
   "metadata": {},
   "outputs": [
    {
     "data": {
      "text/html": [
       "<div>\n",
       "<style scoped>\n",
       "    .dataframe tbody tr th:only-of-type {\n",
       "        vertical-align: middle;\n",
       "    }\n",
       "\n",
       "    .dataframe tbody tr th {\n",
       "        vertical-align: top;\n",
       "    }\n",
       "\n",
       "    .dataframe thead th {\n",
       "        text-align: right;\n",
       "    }\n",
       "</style>\n",
       "<table border=\"1\" class=\"dataframe\">\n",
       "  <thead>\n",
       "    <tr style=\"text-align: right;\">\n",
       "      <th></th>\n",
       "      <th>catalog</th>\n",
       "      <th>thickness</th>\n",
       "      <th>thickness_str</th>\n",
       "      <th>fname</th>\n",
       "      <th>mera</th>\n",
       "    </tr>\n",
       "  </thead>\n",
       "  <tbody>\n",
       "  </tbody>\n",
       "</table>\n",
       "</div>"
      ],
      "text/plain": [
       "Empty DataFrame\n",
       "Columns: [catalog, thickness, thickness_str, fname, mera]\n",
       "Index: []"
      ]
     },
     "execution_count": 25,
     "metadata": {},
     "output_type": "execute_result"
    }
   ],
   "source": [
    "lf[lf.catalog=='5155']"
   ]
  },
  {
   "cell_type": "code",
   "execution_count": null,
   "id": "9b4b6e6d",
   "metadata": {},
   "outputs": [],
   "source": []
  }
 ],
 "metadata": {
  "kernelspec": {
   "display_name": "Python 3 (ipykernel)",
   "language": "python",
   "name": "python3"
  },
  "language_info": {
   "codemirror_mode": {
    "name": "ipython",
    "version": 3
   },
   "file_extension": ".py",
   "mimetype": "text/x-python",
   "name": "python",
   "nbconvert_exporter": "python",
   "pygments_lexer": "ipython3",
   "version": "3.10.4"
  }
 },
 "nbformat": 4,
 "nbformat_minor": 5
}
