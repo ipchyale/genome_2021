{
 "cells": [
  {
   "cell_type": "code",
   "execution_count": 55,
   "id": "a2d015a3",
   "metadata": {},
   "outputs": [],
   "source": [
    "import pandas as pd\n",
    "import os,glob\n",
    "import numpy as np\n",
    "import warnings\n",
    "warnings.filterwarnings(\"ignore\")\n",
    "import sys\n",
    "sys.path.append(os.path.expanduser(\"~\") + \"/collproc/\")\n",
    "from raw import *\n",
    "from coll import *\n",
    "import re"
   ]
  },
  {
   "cell_type": "code",
   "execution_count": 56,
   "id": "b40ca8f9",
   "metadata": {},
   "outputs": [],
   "source": [
    "DIR = os.path.expanduser(\"~\") + \"/Dropbox/lml/genome_measurements/\""
   ]
  },
  {
   "cell_type": "code",
   "execution_count": 57,
   "id": "98afc8a9",
   "metadata": {},
   "outputs": [],
   "source": [
    "allthick = dirwalk(DIR,require='hic',omit=['_flag','thickness_charts.xls'])"
   ]
  },
  {
   "cell_type": "code",
   "execution_count": 58,
   "id": "12a4f9f5",
   "metadata": {
    "scrolled": false
   },
   "outputs": [],
   "source": [
    "df = pd.DataFrame()\n",
    "for f in allthick:\n",
    "    tmp = fproc(f)\n",
    "    if tmp is not None:\n",
    "        df = pd.concat([df,tmp])"
   ]
  },
  {
   "cell_type": "code",
   "execution_count": 59,
   "id": "e4a59c91",
   "metadata": {},
   "outputs": [],
   "source": [
    "df = df.reset_index(drop=True)"
   ]
  },
  {
   "cell_type": "code",
   "execution_count": 60,
   "id": "7e8b0be6",
   "metadata": {},
   "outputs": [],
   "source": [
    "df.catalog.loc[df.fname.str.contains('ac_binder2_1')] = df.catalog.loc[df.fname.str.contains('ac_binder2_1')].apply(lambda x: f'{x.split(\"_\")[1]}_{x.split(\"_\")[0]}')"
   ]
  },
  {
   "cell_type": "code",
   "execution_count": 61,
   "id": "e1640906",
   "metadata": {},
   "outputs": [],
   "source": [
    "df['catalog_manbran'] = [item for item in df.catalog]"
   ]
  },
  {
   "cell_type": "code",
   "execution_count": 62,
   "id": "a07567e1",
   "metadata": {},
   "outputs": [],
   "source": [
    "df['catalog'] = df.catalog.apply(str).apply(lambda x: x.split(\"_\")[0])"
   ]
  },
  {
   "cell_type": "markdown",
   "id": "5294e87b",
   "metadata": {},
   "source": [
    "### Legacy"
   ]
  },
  {
   "cell_type": "code",
   "execution_count": 75,
   "id": "f63a0347",
   "metadata": {},
   "outputs": [],
   "source": [
    "legacy_file = \"/Users/damoncrockett/Dropbox/lml/genome_measurements/genome_legacy/thickness_charts.xls\""
   ]
  },
  {
   "cell_type": "code",
   "execution_count": 76,
   "id": "de4d2b8c",
   "metadata": {},
   "outputs": [],
   "source": [
    "lf = fproc(legacy_file)"
   ]
  },
  {
   "cell_type": "code",
   "execution_count": 77,
   "id": "01e48f09",
   "metadata": {},
   "outputs": [],
   "source": [
    "lf = lf.reset_index(drop=True)"
   ]
  },
  {
   "cell_type": "code",
   "execution_count": 78,
   "id": "5827457e",
   "metadata": {},
   "outputs": [],
   "source": [
    "lf.catalog = lf.catalog.apply(str)\n",
    "df.catalog = df.catalog.apply(str)"
   ]
  },
  {
   "cell_type": "code",
   "execution_count": 21,
   "id": "7448d694",
   "metadata": {},
   "outputs": [],
   "source": [
    "lf['catalog_manbran'] = [item for item in lf.catalog]"
   ]
  },
  {
   "cell_type": "code",
   "execution_count": 79,
   "id": "af24ad5b",
   "metadata": {},
   "outputs": [],
   "source": [
    "lf.catalog = lf.catalog.apply(lambda x: parse_sample_id(x)['catalog'])"
   ]
  },
  {
   "cell_type": "markdown",
   "id": "2c463fdf",
   "metadata": {},
   "source": [
    "# Legacy measurements never repeated"
   ]
  },
  {
   "cell_type": "code",
   "execution_count": 80,
   "id": "2b851d9d",
   "metadata": {},
   "outputs": [],
   "source": [
    "unique_trads = list(set(lf.catalog) - set(df.catalog))"
   ]
  },
  {
   "cell_type": "code",
   "execution_count": 81,
   "id": "d01c913a",
   "metadata": {
    "scrolled": false
   },
   "outputs": [],
   "source": [
    "# This is a check\n",
    "# for unique_trad in unique_trads:\n",
    "#     tmp = df[df.catalog.str.contains(unique_trad)]\n",
    "#     if len(tmp) > 0:\n",
    "#         print(unique_trad,\"\\n\",sorted(list(tmp['catalog']),key=len),\"\\n\\n\\n\\n\")"
   ]
  },
  {
   "cell_type": "code",
   "execution_count": 82,
   "id": "2362b98c",
   "metadata": {},
   "outputs": [
    {
     "data": {
      "text/plain": [
       "30"
      ]
     },
     "execution_count": 82,
     "metadata": {},
     "output_type": "execute_result"
    }
   ],
   "source": [
    "len(unique_trads)"
   ]
  },
  {
   "cell_type": "code",
   "execution_count": 83,
   "id": "e48f5ca3",
   "metadata": {},
   "outputs": [],
   "source": [
    "tf = pd.concat([df,lf])"
   ]
  },
  {
   "cell_type": "markdown",
   "id": "a7a75631",
   "metadata": {},
   "source": [
    "# Overall standard deviation"
   ]
  },
  {
   "cell_type": "code",
   "execution_count": 84,
   "id": "42b37a0d",
   "metadata": {},
   "outputs": [],
   "source": [
    "# allmods = [item for sublist in df.thickness for item in sublist]\n",
    "# alltrads = [item for sublist in lf.thickness for item in sublist]\n",
    "# allthicknesses = allmods + alltrads"
   ]
  },
  {
   "cell_type": "code",
   "execution_count": 85,
   "id": "e2b9627d",
   "metadata": {},
   "outputs": [],
   "source": [
    "import numpy as np"
   ]
  },
  {
   "cell_type": "code",
   "execution_count": 86,
   "id": "0885a0d8",
   "metadata": {},
   "outputs": [],
   "source": [
    "# thickstd = np.std(allthicknesses)\n",
    "# thickstd"
   ]
  },
  {
   "cell_type": "markdown",
   "id": "1008fe5a",
   "metadata": {},
   "source": [
    "# Modern dupes"
   ]
  },
  {
   "cell_type": "markdown",
   "id": "9afa9d0f",
   "metadata": {},
   "source": [
    "#### preliminary dedupe"
   ]
  },
  {
   "cell_type": "markdown",
   "id": "e5820561",
   "metadata": {},
   "source": [
    "This is done for each measurement file individually, in the `raw` module, but we need to do it again here, to remove dupes that cross over files. There won't be tons of these, but I've already found one."
   ]
  },
  {
   "cell_type": "code",
   "execution_count": 87,
   "id": "4df4eda8",
   "metadata": {},
   "outputs": [
    {
     "data": {
      "text/plain": [
       "567"
      ]
     },
     "execution_count": 87,
     "metadata": {},
     "output_type": "execute_result"
    }
   ],
   "source": [
    "len(tf) - len(tf.drop_duplicates(subset=df.columns.difference(['thickness','fname','catalog_manbran','mera'])))"
   ]
  },
  {
   "cell_type": "code",
   "execution_count": 88,
   "id": "3a7b89e9",
   "metadata": {},
   "outputs": [],
   "source": [
    "tf = tf.drop_duplicates(subset=df.columns.difference(['thickness','fname','catalog_manbran','mera']))\n",
    "tf = tf.reset_index(drop=True)"
   ]
  },
  {
   "cell_type": "code",
   "execution_count": 89,
   "id": "a45d5a38",
   "metadata": {},
   "outputs": [],
   "source": [
    "tf.to_pickle('raw.pkl')"
   ]
  }
 ],
 "metadata": {
  "kernelspec": {
   "display_name": "Python 3 (ipykernel)",
   "language": "python",
   "name": "python3"
  },
  "language_info": {
   "codemirror_mode": {
    "name": "ipython",
    "version": 3
   },
   "file_extension": ".py",
   "mimetype": "text/x-python",
   "name": "python",
   "nbconvert_exporter": "python",
   "pygments_lexer": "ipython3",
   "version": "3.10.4"
  }
 },
 "nbformat": 4,
 "nbformat_minor": 5
}
