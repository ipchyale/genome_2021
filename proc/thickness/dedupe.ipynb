{
 "cells": [
  {
   "cell_type": "code",
   "execution_count": 1,
   "id": "a2d015a3",
   "metadata": {},
   "outputs": [],
   "source": [
    "import pandas as pd\n",
    "import os,glob\n",
    "import numpy as np\n",
    "import warnings\n",
    "warnings.filterwarnings(\"ignore\")\n",
    "import sys\n",
    "sys.path.append(os.path.expanduser(\"~\") + \"/collproc/\")\n",
    "from raw import *\n",
    "from coll import *\n",
    "import re"
   ]
  },
  {
   "cell_type": "code",
   "execution_count": 2,
   "id": "332ad488",
   "metadata": {},
   "outputs": [],
   "source": [
    "df = unpkl('raw.pkl')"
   ]
  },
  {
   "cell_type": "markdown",
   "id": "a7a75631",
   "metadata": {},
   "source": [
    "# Overall standard deviation"
   ]
  },
  {
   "cell_type": "code",
   "execution_count": 3,
   "id": "42b37a0d",
   "metadata": {},
   "outputs": [],
   "source": [
    "allthicknesses = [item for sublist in df.thickness for item in sublist]"
   ]
  },
  {
   "cell_type": "code",
   "execution_count": 4,
   "id": "0885a0d8",
   "metadata": {},
   "outputs": [
    {
     "data": {
      "text/plain": [
       "0.08511185236696667"
      ]
     },
     "execution_count": 4,
     "metadata": {},
     "output_type": "execute_result"
    }
   ],
   "source": [
    "thickstd = np.std(allthicknesses)\n",
    "thickstd"
   ]
  },
  {
   "cell_type": "markdown",
   "id": "c7a47845",
   "metadata": {},
   "source": [
    "# Corrections"
   ]
  },
  {
   "cell_type": "code",
   "execution_count": 5,
   "id": "3f444514",
   "metadata": {},
   "outputs": [],
   "source": [
    "df = df.loc[~df.fname.str.contains('FOMU_Thickness_LML_7-26-23.xlsx')]"
   ]
  },
  {
   "cell_type": "code",
   "execution_count": 6,
   "id": "6a7f97fc",
   "metadata": {},
   "outputs": [],
   "source": [
    "df.catalog.loc[df.catalog_manbran==' 1881c'] = \"1881c\""
   ]
  },
  {
   "cell_type": "code",
   "execution_count": 7,
   "id": "33382651",
   "metadata": {},
   "outputs": [],
   "source": [
    "idxs = df.loc[(df.catalog.str.contains('1984'))&(df.fname=='thickness_ll_box6_1_18.xlsx')].index\n",
    "df = df.drop(idxs)"
   ]
  },
  {
   "cell_type": "code",
   "execution_count": 8,
   "id": "035aade5",
   "metadata": {},
   "outputs": [],
   "source": [
    "def catalog_change(df,pre,post):\n",
    "    df.catalog.loc[df.catalog==pre] = post"
   ]
  },
  {
   "cell_type": "code",
   "execution_count": 9,
   "id": "2cf6370a",
   "metadata": {},
   "outputs": [],
   "source": [
    "catalog_change(df,'2856','2586')"
   ]
  },
  {
   "cell_type": "code",
   "execution_count": 10,
   "id": "61fd38c7",
   "metadata": {},
   "outputs": [],
   "source": [
    "catalog_change(df,'4179b','4791b')"
   ]
  },
  {
   "cell_type": "code",
   "execution_count": 11,
   "id": "790e23a8",
   "metadata": {},
   "outputs": [],
   "source": [
    "catalog_change(df,'4199k','4911k')\n",
    "catalog_change(df,'4199l','4911l')"
   ]
  },
  {
   "cell_type": "code",
   "execution_count": 12,
   "id": "bb1627ff",
   "metadata": {},
   "outputs": [],
   "source": [
    "catalog_change(df,'4973c','4793c')"
   ]
  },
  {
   "cell_type": "code",
   "execution_count": 13,
   "id": "8ecfd59c",
   "metadata": {},
   "outputs": [],
   "source": [
    "catalog_change(df,'520q','5209q')"
   ]
  },
  {
   "cell_type": "code",
   "execution_count": 14,
   "id": "236cb773",
   "metadata": {},
   "outputs": [],
   "source": [
    "catalog_change(df,'5440a','5440')"
   ]
  },
  {
   "cell_type": "code",
   "execution_count": 15,
   "id": "92d436bc",
   "metadata": {},
   "outputs": [],
   "source": [
    "df.catalog.loc[df.catalog_manbran=='2559_aa'] = '2259'"
   ]
  },
  {
   "cell_type": "code",
   "execution_count": 16,
   "id": "a53f6c14",
   "metadata": {},
   "outputs": [],
   "source": [
    "df.catalog.loc[df.catalog.str.contains(\"5606kk\")] = [\n",
    "    '5606kk',\n",
    "    '5606ll',\n",
    "    '5606mm',\n",
    "    '5606nn'\n",
    "]"
   ]
  },
  {
   "cell_type": "code",
   "execution_count": 17,
   "id": "dca88e92",
   "metadata": {},
   "outputs": [],
   "source": [
    "df.catalog_manbran = df.catalog_manbran.apply(str) # unclear why I need to do this, avoids NaN mask error"
   ]
  },
  {
   "cell_type": "code",
   "execution_count": 18,
   "id": "e821832a",
   "metadata": {},
   "outputs": [],
   "source": [
    "df.catalog_manbran = df.catalog_manbran.fillna('')"
   ]
  },
  {
   "cell_type": "code",
   "execution_count": 19,
   "id": "f2fd4aff",
   "metadata": {},
   "outputs": [],
   "source": [
    "df.catalog.loc[df.catalog_manbran.str.contains(\"2372dd_kt\")] = '2372pp'"
   ]
  },
  {
   "cell_type": "code",
   "execution_count": 20,
   "id": "9a1a4a02",
   "metadata": {},
   "outputs": [],
   "source": [
    "df.catalog.loc[df.catalog.str.contains(\"2523\")&(df.fname.str.contains('binder5'))] = '2553'"
   ]
  },
  {
   "cell_type": "code",
   "execution_count": 21,
   "id": "c0bcf9e5",
   "metadata": {},
   "outputs": [],
   "source": [
    "df.catalog.loc[df.catalog.str.contains(\"3131\")&(df.fname.str.contains('binder5'))] = '3113'"
   ]
  },
  {
   "cell_type": "code",
   "execution_count": 22,
   "id": "d1e4f175",
   "metadata": {},
   "outputs": [],
   "source": [
    "df.catalog.loc[(df.catalog==\"27\")&(df.fname.str.contains('binder5'))] = '2404'"
   ]
  },
  {
   "cell_type": "code",
   "execution_count": 23,
   "id": "04a2aa40",
   "metadata": {},
   "outputs": [],
   "source": [
    "df.catalog.loc[(df.catalog==\"2166\")&(df.fname.str.contains('binder5'))] = '2168'"
   ]
  },
  {
   "cell_type": "code",
   "execution_count": 24,
   "id": "354bc0a9",
   "metadata": {},
   "outputs": [],
   "source": [
    "df.catalog.loc[(df.catalog==\"2512\")&(df.fname.str.contains('binder5'))] = '2521'"
   ]
  },
  {
   "cell_type": "code",
   "execution_count": 25,
   "id": "0667658f",
   "metadata": {},
   "outputs": [],
   "source": [
    "df.catalog.loc[(df.catalog==\"2304\")&(df.fname.str.contains('binder2_7'))] = '2504'"
   ]
  },
  {
   "cell_type": "code",
   "execution_count": 26,
   "id": "3afbdf3c",
   "metadata": {},
   "outputs": [],
   "source": [
    "df.catalog.loc[(df.catalog.str.contains(\"5408\"))&(df.fname.str.contains('ll'))] = df.catalog.loc[(df.catalog.str.contains(\"5408\"))&(df.fname.str.contains('ll'))].apply(lambda x: x.replace('5408','5409'))"
   ]
  },
  {
   "cell_type": "code",
   "execution_count": 27,
   "id": "27c67ac9",
   "metadata": {},
   "outputs": [],
   "source": [
    "df.catalog.loc[(df.catalog=='1433')&(df.fname.str.contains('ac'))] = '1443'"
   ]
  },
  {
   "cell_type": "code",
   "execution_count": 28,
   "id": "9151a433",
   "metadata": {},
   "outputs": [],
   "source": [
    "idxs = df.catalog.loc[(df.catalog.str.contains('2077'))&(df.fname=='thickness_ll_box2_1_7 (#2372).xlsx')].index\n",
    "df = df.drop(idxs)"
   ]
  },
  {
   "cell_type": "code",
   "execution_count": 29,
   "id": "399b1d16",
   "metadata": {},
   "outputs": [],
   "source": [
    "df.catalog.loc[(df.catalog.str.contains('5474'))&(df.fname=='thickness_ja_missingsample (version 1).xlsx')&(df.catalog_manbran.str.contains('_ib'))] = df.catalog.loc[(df.catalog.str.contains('5474'))&(df.fname=='thickness_ja_missingsample (version 1).xlsx')&(df.catalog_manbran.str.contains('_ib'))].apply(lambda x: x.replace('5474','5476'))"
   ]
  },
  {
   "cell_type": "code",
   "execution_count": 30,
   "id": "d6309c86",
   "metadata": {},
   "outputs": [],
   "source": [
    "idxs = df.loc[df.catalog.str.contains('1880')&(df.fname=='Thicknes Measurement sheet_alam.xlsx')].index\n",
    "df = df.drop(idxs)"
   ]
  },
  {
   "cell_type": "code",
   "execution_count": 31,
   "id": "dd07ab65",
   "metadata": {},
   "outputs": [],
   "source": [
    "bad_legacies = [\n",
    "    '394','86','1875','334','4127','4125','2446','1021','402','2132','227','148','2557','191','1523','1474'\n",
    "]"
   ]
  },
  {
   "cell_type": "code",
   "execution_count": 32,
   "id": "335e24ac",
   "metadata": {},
   "outputs": [],
   "source": [
    "idxs = df.loc[(df.fname=='thickness_charts.xls')&(df.catalog.isin(bad_legacies))].index\n",
    "df = df.drop(idxs)"
   ]
  },
  {
   "cell_type": "markdown",
   "id": "1008fe5a",
   "metadata": {},
   "source": [
    "# Modern dupes"
   ]
  },
  {
   "cell_type": "markdown",
   "id": "db48ae4f",
   "metadata": {},
   "source": [
    "### Enumeration of Cases"
   ]
  },
  {
   "cell_type": "code",
   "execution_count": 33,
   "id": "ef8dfa54",
   "metadata": {},
   "outputs": [],
   "source": [
    "from itertools import combinations"
   ]
  },
  {
   "cell_type": "code",
   "execution_count": 34,
   "id": "8daa6c40",
   "metadata": {},
   "outputs": [],
   "source": [
    "exact_whitelist = ['5150','5155','4792e','4792n','5154','5036']\n",
    "sb_whitelist = []"
   ]
  },
  {
   "cell_type": "code",
   "execution_count": 39,
   "id": "9fbdd07f",
   "metadata": {},
   "outputs": [],
   "source": [
    "moddupes = df.catalog.value_counts().loc[lambda x: x > 1].index"
   ]
  },
  {
   "cell_type": "code",
   "execution_count": 40,
   "id": "b373d16b",
   "metadata": {
    "scrolled": false
   },
   "outputs": [],
   "source": [
    "for moddupe in moddupes:\n",
    "    tmp = df[df.catalog==moddupe]\n",
    "    \n",
    "    # we exclude case where both Leah and I measured binder 4\n",
    "    fnames = list(tmp.fname)\n",
    "    duped_files = ['thickness_dc_binder4.xlsx','thickness_ll_binder4']\n",
    "    \n",
    "    # we exclude cases where the medians are within 1SD\n",
    "    l = list(tmp.thickness.apply(np.median))\n",
    "    medpairs = list(combinations(l, 2))\n",
    "    meddiffs = [abs(item[0]-item[1]) for item in medpairs]\n",
    "    \n",
    "    if all([duped_file in fnames for duped_file in duped_files]):\n",
    "        continue\n",
    "    elif all([diff < thickstd for diff in meddiffs]):\n",
    "        continue\n",
    "    elif moddupe in exact_whitelist:\n",
    "        continue\n",
    "    else:\n",
    "        print(moddupe)"
   ]
  },
  {
   "cell_type": "code",
   "execution_count": 43,
   "id": "1b9c11dd",
   "metadata": {},
   "outputs": [],
   "source": [
    "df[['catalog','thickness','fname','catalog_manbran']].to_pickle('raw_dedupe.pkl')"
   ]
  },
  {
   "cell_type": "code",
   "execution_count": null,
   "id": "5bc389c6",
   "metadata": {},
   "outputs": [],
   "source": []
  }
 ],
 "metadata": {
  "kernelspec": {
   "display_name": "Python 3 (ipykernel)",
   "language": "python",
   "name": "python3"
  },
  "language_info": {
   "codemirror_mode": {
    "name": "ipython",
    "version": 3
   },
   "file_extension": ".py",
   "mimetype": "text/x-python",
   "name": "python",
   "nbconvert_exporter": "python",
   "pygments_lexer": "ipython3",
   "version": "3.10.4"
  }
 },
 "nbformat": 4,
 "nbformat_minor": 5
}
