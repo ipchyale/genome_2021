{
 "cells": [
  {
   "cell_type": "code",
   "execution_count": 2,
   "id": "a2d015a3",
   "metadata": {},
   "outputs": [],
   "source": [
    "import pandas as pd\n",
    "import os,glob\n",
    "import numpy as np\n",
    "import warnings\n",
    "warnings.filterwarnings(\"ignore\")\n",
    "import sys\n",
    "sys.path.append(os.path.expanduser(\"~\") + \"/collproc/\")\n",
    "from raw import *\n",
    "from coll import *\n",
    "import re"
   ]
  },
  {
   "cell_type": "code",
   "execution_count": 3,
   "id": "332ad488",
   "metadata": {},
   "outputs": [],
   "source": [
    "df = unpkl('raw.pkl')\n",
    "lf = unpkl('lraw.pkl')"
   ]
  },
  {
   "cell_type": "markdown",
   "id": "a7a75631",
   "metadata": {},
   "source": [
    "# Overall standard deviation"
   ]
  },
  {
   "cell_type": "code",
   "execution_count": 17,
   "id": "42b37a0d",
   "metadata": {},
   "outputs": [],
   "source": [
    "allmods = [item for sublist in df.thickness for item in sublist]\n",
    "alltrads = [item for sublist in lf.thickness for item in sublist]\n",
    "allthicknesses = allmods + alltrads"
   ]
  },
  {
   "cell_type": "code",
   "execution_count": 18,
   "id": "e2b9627d",
   "metadata": {},
   "outputs": [],
   "source": [
    "import numpy as np"
   ]
  },
  {
   "cell_type": "code",
   "execution_count": 19,
   "id": "0885a0d8",
   "metadata": {},
   "outputs": [
    {
     "data": {
      "text/plain": [
       "0.08280782637407"
      ]
     },
     "execution_count": 19,
     "metadata": {},
     "output_type": "execute_result"
    }
   ],
   "source": [
    "thickstd = np.std(allthicknesses)\n",
    "thickstd"
   ]
  },
  {
   "cell_type": "markdown",
   "id": "1008fe5a",
   "metadata": {},
   "source": [
    "# Modern dupes"
   ]
  },
  {
   "cell_type": "markdown",
   "id": "db48ae4f",
   "metadata": {},
   "source": [
    "### Enumeration of Cases"
   ]
  },
  {
   "cell_type": "code",
   "execution_count": 22,
   "id": "ef8dfa54",
   "metadata": {},
   "outputs": [],
   "source": [
    "from itertools import combinations"
   ]
  },
  {
   "cell_type": "code",
   "execution_count": 23,
   "id": "b373d16b",
   "metadata": {
    "scrolled": false
   },
   "outputs": [
    {
     "name": "stdout",
     "output_type": "stream",
     "text": [
      "5606kk\t2559\t2523\t5150\t3131\t4792e\t4792n\t27\t2166\t5408f\t5408g\t5408h\t5408i\t5408j\t1433\t5408c\t5408d\t5408b\t5154\t40\t72\t0016\t2304\t2077h\t2077j\t2512\t5408a\t2372dd\t5036\t5155\t5408e\t"
     ]
    }
   ],
   "source": [
    "moddupes = df.catalog.value_counts().loc[lambda x: x > 1]\n",
    "for moddupe in moddupes.index:\n",
    "    tmp = df[df.catalog==moddupe]\n",
    "    \n",
    "    # we exclude case where both Leah and I measured binder 4\n",
    "    tmp = tmp.sort_values('fname')\n",
    "    fname_string = '|'.join(list(tmp.fname))\n",
    "    \n",
    "    # we exclude case where `catalog_manbran` is the same and the medians are within 1SD\n",
    "    l = list(tmp.thickness.apply(np.median))\n",
    "    medpairs = list(combinations(l, 2))\n",
    "    meddiffs = [abs(item[0]-item[1]) for item in medpairs]\n",
    "    \n",
    "    if 'thickness_dc_binder4.xlsx|thickness_ll_binder4' in fname_string: # hers are spread across multiple files\n",
    "        continue\n",
    "    elif all([diff < thickstd for diff in meddiffs]) and len(tmp.catalog_manbran.unique())==1:\n",
    "        continue\n",
    "    else:\n",
    "        print(moddupe,end='\\t')"
   ]
  },
  {
   "cell_type": "code",
   "execution_count": 24,
   "id": "749d7636",
   "metadata": {},
   "outputs": [
    {
     "data": {
      "text/html": [
       "<div>\n",
       "<style scoped>\n",
       "    .dataframe tbody tr th:only-of-type {\n",
       "        vertical-align: middle;\n",
       "    }\n",
       "\n",
       "    .dataframe tbody tr th {\n",
       "        vertical-align: top;\n",
       "    }\n",
       "\n",
       "    .dataframe thead th {\n",
       "        text-align: right;\n",
       "    }\n",
       "</style>\n",
       "<table border=\"1\" class=\"dataframe\">\n",
       "  <thead>\n",
       "    <tr style=\"text-align: right;\">\n",
       "      <th></th>\n",
       "      <th>catalog</th>\n",
       "      <th>thickness</th>\n",
       "      <th>thickness_str</th>\n",
       "      <th>fname</th>\n",
       "      <th>mera</th>\n",
       "      <th>catalog_manbran</th>\n",
       "    </tr>\n",
       "  </thead>\n",
       "  <tbody>\n",
       "    <tr>\n",
       "      <th>669</th>\n",
       "      <td>5155</td>\n",
       "      <td>[0.163, 0.165, 0.165]</td>\n",
       "      <td>[0.163, 0.165, 0.165]</td>\n",
       "      <td>thickness_ac_binder2_6.xlsx</td>\n",
       "      <td>mod</td>\n",
       "      <td>5155_ek</td>\n",
       "    </tr>\n",
       "    <tr>\n",
       "      <th>670</th>\n",
       "      <td>5155</td>\n",
       "      <td>[0.166, 0.171, 0.168]</td>\n",
       "      <td>[0.166, 0.171, 0.168]</td>\n",
       "      <td>thickness_ac_binder2_6.xlsx</td>\n",
       "      <td>mod</td>\n",
       "      <td>5155_eg</td>\n",
       "    </tr>\n",
       "  </tbody>\n",
       "</table>\n",
       "</div>"
      ],
      "text/plain": [
       "    catalog              thickness          thickness_str  \\\n",
       "669    5155  [0.163, 0.165, 0.165]  [0.163, 0.165, 0.165]   \n",
       "670    5155  [0.166, 0.171, 0.168]  [0.166, 0.171, 0.168]   \n",
       "\n",
       "                           fname mera catalog_manbran  \n",
       "669  thickness_ac_binder2_6.xlsx  mod         5155_ek  \n",
       "670  thickness_ac_binder2_6.xlsx  mod         5155_eg  "
      ]
     },
     "execution_count": 24,
     "metadata": {},
     "output_type": "execute_result"
    }
   ],
   "source": [
    "df[df.catalog=='5155']"
   ]
  },
  {
   "cell_type": "code",
   "execution_count": 25,
   "id": "aded5846",
   "metadata": {},
   "outputs": [
    {
     "data": {
      "text/html": [
       "<div>\n",
       "<style scoped>\n",
       "    .dataframe tbody tr th:only-of-type {\n",
       "        vertical-align: middle;\n",
       "    }\n",
       "\n",
       "    .dataframe tbody tr th {\n",
       "        vertical-align: top;\n",
       "    }\n",
       "\n",
       "    .dataframe thead th {\n",
       "        text-align: right;\n",
       "    }\n",
       "</style>\n",
       "<table border=\"1\" class=\"dataframe\">\n",
       "  <thead>\n",
       "    <tr style=\"text-align: right;\">\n",
       "      <th></th>\n",
       "      <th>catalog</th>\n",
       "      <th>thickness</th>\n",
       "      <th>thickness_str</th>\n",
       "      <th>fname</th>\n",
       "      <th>mera</th>\n",
       "    </tr>\n",
       "  </thead>\n",
       "  <tbody>\n",
       "  </tbody>\n",
       "</table>\n",
       "</div>"
      ],
      "text/plain": [
       "Empty DataFrame\n",
       "Columns: [catalog, thickness, thickness_str, fname, mera]\n",
       "Index: []"
      ]
     },
     "execution_count": 25,
     "metadata": {},
     "output_type": "execute_result"
    }
   ],
   "source": [
    "lf[lf.catalog=='5155']"
   ]
  },
  {
   "cell_type": "code",
   "execution_count": null,
   "id": "9b4b6e6d",
   "metadata": {},
   "outputs": [],
   "source": []
  }
 ],
 "metadata": {
  "kernelspec": {
   "display_name": "Python 3 (ipykernel)",
   "language": "python",
   "name": "python3"
  },
  "language_info": {
   "codemirror_mode": {
    "name": "ipython",
    "version": 3
   },
   "file_extension": ".py",
   "mimetype": "text/x-python",
   "name": "python",
   "nbconvert_exporter": "python",
   "pygments_lexer": "ipython3",
   "version": "3.10.4"
  }
 },
 "nbformat": 4,
 "nbformat_minor": 5
}
