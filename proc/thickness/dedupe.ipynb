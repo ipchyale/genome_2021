{
 "cells": [
  {
   "cell_type": "code",
   "execution_count": 4,
   "id": "a2d015a3",
   "metadata": {},
   "outputs": [],
   "source": [
    "import pandas as pd\n",
    "import os,glob\n",
    "import numpy as np\n",
    "import warnings\n",
    "warnings.filterwarnings(\"ignore\")\n",
    "import sys\n",
    "sys.path.append(os.path.expanduser(\"~\") + \"/collproc/\")\n",
    "from raw import *\n",
    "from coll import *\n",
    "import re"
   ]
  },
  {
   "cell_type": "code",
   "execution_count": 5,
   "id": "332ad488",
   "metadata": {},
   "outputs": [],
   "source": [
    "df = unpkl('raw.pkl')"
   ]
  },
  {
   "cell_type": "markdown",
   "id": "a7a75631",
   "metadata": {},
   "source": [
    "# Overall standard deviation"
   ]
  },
  {
   "cell_type": "code",
   "execution_count": 6,
   "id": "42b37a0d",
   "metadata": {},
   "outputs": [],
   "source": [
    "# allmods = [item for sublist in df.thickness for item in sublist]\n",
    "# alltrads = [item for sublist in lf.thickness for item in sublist]\n",
    "# allthicknesses = allmods + alltrads"
   ]
  },
  {
   "cell_type": "code",
   "execution_count": 3,
   "id": "0885a0d8",
   "metadata": {},
   "outputs": [],
   "source": [
    "# thickstd = np.std(allthicknesses)\n",
    "# thickstd"
   ]
  },
  {
   "cell_type": "markdown",
   "id": "ef7a18e9",
   "metadata": {},
   "source": [
    "# Corrections"
   ]
  },
  {
   "cell_type": "code",
   "execution_count": null,
   "id": "28bbae36",
   "metadata": {},
   "outputs": [],
   "source": []
  },
  {
   "cell_type": "code",
   "execution_count": null,
   "id": "6c293756",
   "metadata": {},
   "outputs": [],
   "source": []
  },
  {
   "cell_type": "code",
   "execution_count": null,
   "id": "a94d5eca",
   "metadata": {},
   "outputs": [],
   "source": []
  },
  {
   "cell_type": "markdown",
   "id": "1008fe5a",
   "metadata": {},
   "source": [
    "# Modern dupes"
   ]
  },
  {
   "cell_type": "markdown",
   "id": "db48ae4f",
   "metadata": {},
   "source": [
    "### Enumeration of Cases"
   ]
  },
  {
   "cell_type": "code",
   "execution_count": null,
   "id": "ef8dfa54",
   "metadata": {},
   "outputs": [],
   "source": [
    "from itertools import combinations"
   ]
  },
  {
   "cell_type": "code",
   "execution_count": null,
   "id": "b373d16b",
   "metadata": {
    "scrolled": false
   },
   "outputs": [],
   "source": [
    "moddupes = df.catalog.value_counts().loc[lambda x: x > 1]\n",
    "for moddupe in moddupes.index:\n",
    "    tmp = df[df.catalog==moddupe]\n",
    "    \n",
    "    # we exclude case where both Leah and I measured binder 4\n",
    "    tmp = tmp.sort_values('fname')\n",
    "    fname_string = '|'.join(list(tmp.fname))\n",
    "    \n",
    "    # we exclude case where `catalog_manbran` is the same and the medians are within 1SD\n",
    "    l = list(tmp.thickness.apply(np.median))\n",
    "    medpairs = list(combinations(l, 2))\n",
    "    meddiffs = [abs(item[0]-item[1]) for item in medpairs]\n",
    "    \n",
    "    if 'thickness_dc_binder4.xlsx|thickness_ll_binder4' in fname_string: # hers are spread across multiple files\n",
    "        continue\n",
    "    elif all([diff < thickstd for diff in meddiffs]) and len(tmp.catalog_manbran.unique())==1:\n",
    "        continue\n",
    "    else:\n",
    "        print(moddupe,end='\\t')"
   ]
  },
  {
   "cell_type": "code",
   "execution_count": null,
   "id": "749d7636",
   "metadata": {},
   "outputs": [],
   "source": [
    "df[df.catalog=='5155']"
   ]
  },
  {
   "cell_type": "code",
   "execution_count": null,
   "id": "aded5846",
   "metadata": {},
   "outputs": [],
   "source": [
    "lf[lf.catalog=='5155']"
   ]
  },
  {
   "cell_type": "code",
   "execution_count": null,
   "id": "9b4b6e6d",
   "metadata": {},
   "outputs": [],
   "source": []
  }
 ],
 "metadata": {
  "kernelspec": {
   "display_name": "Python 3 (ipykernel)",
   "language": "python",
   "name": "python3"
  },
  "language_info": {
   "codemirror_mode": {
    "name": "ipython",
    "version": 3
   },
   "file_extension": ".py",
   "mimetype": "text/x-python",
   "name": "python",
   "nbconvert_exporter": "python",
   "pygments_lexer": "ipython3",
   "version": "3.10.4"
  }
 },
 "nbformat": 4,
 "nbformat_minor": 5
}
