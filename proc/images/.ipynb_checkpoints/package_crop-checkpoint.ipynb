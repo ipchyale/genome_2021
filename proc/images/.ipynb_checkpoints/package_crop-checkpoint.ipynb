{
 "cells": [
  {
   "cell_type": "code",
   "execution_count": 1,
   "id": "bec7a2d8",
   "metadata": {},
   "outputs": [],
   "source": [
    "import glob,os\n",
    "import pandas as pd\n",
    "%matplotlib inline\n",
    "import matplotlib.pyplot as plt"
   ]
  },
  {
   "cell_type": "code",
   "execution_count": 2,
   "id": "15418ffa",
   "metadata": {},
   "outputs": [],
   "source": [
    "DIR = \"/Users/damoncrockett/genome_2021/data/images/genome_packages_2048/\""
   ]
  },
  {
   "cell_type": "code",
   "execution_count": 3,
   "id": "c1324418",
   "metadata": {},
   "outputs": [],
   "source": [
    "allfiles = glob.glob(os.path.join(DIR,\"*.jpg\"))"
   ]
  },
  {
   "cell_type": "code",
   "execution_count": 4,
   "id": "2b2304b8",
   "metadata": {},
   "outputs": [],
   "source": [
    "df = pd.DataFrame({\"localpath\":allfiles})"
   ]
  },
  {
   "cell_type": "markdown",
   "id": "ecc813e9",
   "metadata": {},
   "source": [
    "# Removing colorbar"
   ]
  },
  {
   "cell_type": "code",
   "execution_count": 5,
   "id": "b4e42f8f",
   "metadata": {},
   "outputs": [],
   "source": [
    "from PIL import Image\n",
    "import numpy as np\n",
    "from skimage.color import rgb2hsv"
   ]
  },
  {
   "cell_type": "code",
   "execution_count": 6,
   "id": "c4863456",
   "metadata": {},
   "outputs": [],
   "source": [
    "# left upper right lower"
   ]
  },
  {
   "cell_type": "code",
   "execution_count": 7,
   "id": "14aa90f4",
   "metadata": {},
   "outputs": [],
   "source": [
    "def getcropboxes(im):\n",
    "    w = im.width\n",
    "    h = im.height\n",
    "    incr = int(w/50)\n",
    "    \n",
    "    cb = []\n",
    "    for l in range(0,w,incr):\n",
    "        r = l + incr\n",
    "        if r > w:\n",
    "            r = w\n",
    "        cropbox = (l,0,r,h)\n",
    "        cb.append(cropbox)\n",
    "    \n",
    "    return cb"
   ]
  },
  {
   "cell_type": "code",
   "execution_count": 8,
   "id": "1a146cba",
   "metadata": {},
   "outputs": [],
   "source": [
    "def getsats(im,cb):\n",
    "    ls = []\n",
    "    sats = []\n",
    "    vals = []\n",
    "    for c in cb:\n",
    "        tmp = im.crop(c)\n",
    "        img = rgb2hsv(np.asarray(tmp))\n",
    "        ls.append(c[0])\n",
    "        sats.append(np.var(img[:,:,1]))\n",
    "        vals.append(np.var(img[:,:,2]))\n",
    "        \n",
    "    return pd.DataFrame({\"l\":ls,\"sat\":sats,\"val\":vals})"
   ]
  },
  {
   "cell_type": "code",
   "execution_count": 9,
   "id": "834db067",
   "metadata": {},
   "outputs": [],
   "source": [
    "i = -1"
   ]
  },
  {
   "cell_type": "code",
   "execution_count": 10,
   "id": "26244b00",
   "metadata": {},
   "outputs": [
    {
     "data": {
      "text/plain": [
       "[<matplotlib.lines.Line2D at 0x1209a1bd0>]"
      ]
     },
     "execution_count": 10,
     "metadata": {},
     "output_type": "execute_result"
    },
    {
     "data": {
      "image/png": "[encoded data removed]",
      "text/plain": [
       "<Figure size 432x288 with 1 Axes>"
      ]
     },
     "metadata": {
      "needs_background": "light"
     },
     "output_type": "display_data"
    }
   ],
   "source": [
    "i+=1\n",
    "im = Image.open(df.localpath.loc[i])\n",
    "cb = getcropboxes(im)\n",
    "tmp = getsats(im,cb)\n",
    "fig,ax = plt.subplots()\n",
    "ax.plot(tmp.val)\n",
    "ax.plot(tmp.sat)"
   ]
  },
  {
   "cell_type": "code",
   "execution_count": 11,
   "id": "73946f39",
   "metadata": {},
   "outputs": [],
   "source": [
    "def getcrop(sf):\n",
    "    flags = 0\n",
    "    for i in sf.index:\n",
    "        satvar = sf.sat.loc[i]\n",
    "        valvar = sf.val.loc[i]\n",
    "        varsum = satvar + valvar\n",
    "        if varsum > 0.005:\n",
    "            flags+=1\n",
    "        else:\n",
    "            if flags > 0:\n",
    "                l = sf.l.loc[i+1]\n",
    "                return l"
   ]
  },
  {
   "cell_type": "code",
   "execution_count": 12,
   "id": "196e6b36",
   "metadata": {},
   "outputs": [],
   "source": [
    "CROPDIR = \"/Users/damoncrockett/genome_2021/data/images/genome_packages_2048_barcrop_wide/\""
   ]
  },
  {
   "cell_type": "code",
   "execution_count": 13,
   "id": "7d102b98",
   "metadata": {},
   "outputs": [],
   "source": [
    "try:\n",
    "    os.mkdir(CROPDIR)\n",
    "except:\n",
    "    pass"
   ]
  },
  {
   "cell_type": "code",
   "execution_count": 14,
   "id": "d2c50f6c",
   "metadata": {},
   "outputs": [],
   "source": [
    "croppaths = []\n",
    "for i in df.index:\n",
    "    impath = df.localpath.loc[i]\n",
    "    im = Image.open(impath)\n",
    "    cb = getcropboxes(im)\n",
    "    sf = getsats(im,cb)\n",
    "    cropl = getcrop(sf)\n",
    "    imcrop = im.crop((cropl,0,im.width,im.height))\n",
    "    savestr = CROPDIR + os.path.basename(impath)\n",
    "    imcrop.save(savestr)\n",
    "    croppaths.append(savestr)"
   ]
  },
  {
   "cell_type": "code",
   "execution_count": 15,
   "id": "889e54ad",
   "metadata": {},
   "outputs": [
    {
     "name": "stdout",
     "output_type": "stream",
     "text": [
      "'requests' module not installed\n"
     ]
    }
   ],
   "source": [
    "import sys\n",
    "sys.path.append(\"/Users/damoncrockett/ivpy/src/\")\n",
    "from ivpy import *"
   ]
  },
  {
   "cell_type": "code",
   "execution_count": 16,
   "id": "7c887d6e",
   "metadata": {},
   "outputs": [],
   "source": [
    "df['croppath'] = croppaths"
   ]
  },
  {
   "cell_type": "code",
   "execution_count": 17,
   "id": "a76135d4",
   "metadata": {},
   "outputs": [],
   "source": [
    "attach(df,'croppath')"
   ]
  }
 ],
 "metadata": {
  "kernelspec": {
   "display_name": "Python 3 (ipykernel)",
   "language": "python",
   "name": "python3"
  },
  "language_info": {
   "codemirror_mode": {
    "name": "ipython",
    "version": 3
   },
   "file_extension": ".py",
   "mimetype": "text/x-python",
   "name": "python",
   "nbconvert_exporter": "python",
   "pygments_lexer": "ipython3",
   "version": "3.10.4"
  }
 },
 "nbformat": 4,
 "nbformat_minor": 5
}
