{
 "cells": [
  {
   "cell_type": "code",
   "execution_count": 47,
   "id": "bec7a2d8",
   "metadata": {},
   "outputs": [],
   "source": [
    "import glob,os\n",
    "import pandas as pd"
   ]
  },
  {
   "cell_type": "code",
   "execution_count": 48,
   "id": "15418ffa",
   "metadata": {},
   "outputs": [],
   "source": [
    "DIR = \"/Users/damoncrockett/Desktop/paperbase_data/genome_packages/\"\n",
    "# now located at ~/genome_2021/data/images/genome_packages/"
   ]
  },
  {
   "cell_type": "code",
   "execution_count": 49,
   "id": "c1324418",
   "metadata": {},
   "outputs": [],
   "source": [
    "allfiles = glob.glob(os.path.join(DIR,\"*.jpg\"))"
   ]
  },
  {
   "cell_type": "code",
   "execution_count": 50,
   "id": "2b2304b8",
   "metadata": {},
   "outputs": [],
   "source": [
    "df = pd.DataFrame({\"localpath\":allfiles})"
   ]
  },
  {
   "cell_type": "code",
   "execution_count": 51,
   "id": "0888c217",
   "metadata": {},
   "outputs": [],
   "source": [
    "df['fbase'] = [os.path.basename(item)[:-4] for item in df.localpath]"
   ]
  },
  {
   "cell_type": "code",
   "execution_count": 52,
   "id": "ea87a7cd",
   "metadata": {},
   "outputs": [],
   "source": [
    "endings = list(set([item[-1] for item in df.fbase]))"
   ]
  },
  {
   "cell_type": "code",
   "execution_count": 53,
   "id": "9334fac2",
   "metadata": {},
   "outputs": [],
   "source": [
    "for item in endings:\n",
    "    try:\n",
    "        int(item)\n",
    "        endings = [i for i in endings if item!=i]\n",
    "    except:\n",
    "        pass"
   ]
  },
  {
   "cell_type": "code",
   "execution_count": 54,
   "id": "c5c1aea4",
   "metadata": {},
   "outputs": [
    {
     "data": {
      "text/plain": [
       "['t', 'v', 'e', 'r', 'd', 'l', 'f', 'g', 'b', 'B', 'V', 'a', 'c', 'R']"
      ]
     },
     "execution_count": 54,
     "metadata": {},
     "output_type": "execute_result"
    }
   ],
   "source": [
    "endings"
   ]
  },
  {
   "cell_type": "code",
   "execution_count": 57,
   "id": "3b6a4da2",
   "metadata": {},
   "outputs": [],
   "source": [
    "drops = []\n",
    "for i in df.index:\n",
    "    fbase = df.fbase.loc[i]\n",
    "    for e in endings:\n",
    "        if e in fbase:\n",
    "            drops.append(i)"
   ]
  },
  {
   "cell_type": "code",
   "execution_count": 59,
   "id": "39fbed86",
   "metadata": {},
   "outputs": [],
   "source": [
    "df = df.drop(drops)"
   ]
  },
  {
   "cell_type": "code",
   "execution_count": 61,
   "id": "1819b335",
   "metadata": {},
   "outputs": [],
   "source": [
    "df = df.reset_index(drop=True)"
   ]
  },
  {
   "cell_type": "code",
   "execution_count": 64,
   "id": "52c30fc4",
   "metadata": {},
   "outputs": [],
   "source": [
    "import sys\n",
    "sys.path.append(\"/Users/damoncrockett/ivpy/src\")\n",
    "from ivpy import *\n",
    "from ivpy.utils import resize"
   ]
  },
  {
   "cell_type": "code",
   "execution_count": 66,
   "id": "19e6837a",
   "metadata": {},
   "outputs": [],
   "source": [
    "attach(df,\"localpath\")"
   ]
  },
  {
   "cell_type": "code",
   "execution_count": 67,
   "id": "0ba8bcc9",
   "metadata": {},
   "outputs": [],
   "source": [
    "SAVEDIR = \"/Users/damoncrockett/Desktop/paperbase_data/genome_packages_2048/\"\n",
    "# now located at ~/genome_2021/data/images/genome_packages_2048/"
   ]
  },
  {
   "cell_type": "code",
   "execution_count": 68,
   "id": "1e0f9848",
   "metadata": {},
   "outputs": [
    {
     "name": "stderr",
     "output_type": "stream",
     "text": [
      "/Users/damoncrockett/ivpy/src/ivpy/utils.py:38: FutureWarning: The default dtype for empty Series will be 'object' instead of 'float64' in a future version. Specify a dtype explicitly to silence this warning.\n",
      "  pathcol_resized = pd.Series(index=pathcol.index)\n"
     ]
    }
   ],
   "source": [
    "df['localpath_2048'] = resize(savedir=SAVEDIR,thumb=2048)"
   ]
  },
  {
   "cell_type": "code",
   "execution_count": null,
   "id": "f6f85453",
   "metadata": {},
   "outputs": [],
   "source": []
  }
 ],
 "metadata": {
  "kernelspec": {
   "display_name": "Python 3 (ipykernel)",
   "language": "python",
   "name": "python3"
  },
  "language_info": {
   "codemirror_mode": {
    "name": "ipython",
    "version": 3
   },
   "file_extension": ".py",
   "mimetype": "text/x-python",
   "name": "python",
   "nbconvert_exporter": "python",
   "pygments_lexer": "ipython3",
   "version": "3.10.4"
  }
 },
 "nbformat": 4,
 "nbformat_minor": 5
}
