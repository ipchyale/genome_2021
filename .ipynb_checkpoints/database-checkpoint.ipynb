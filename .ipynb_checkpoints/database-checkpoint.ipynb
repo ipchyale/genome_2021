{
 "cells": [
  {
   "cell_type": "code",
   "execution_count": 198,
   "metadata": {},
   "outputs": [],
   "source": [
    "import os\n",
    "import pandas as pd\n",
    "import numpy as np"
   ]
  },
  {
   "cell_type": "code",
   "execution_count": 199,
   "metadata": {},
   "outputs": [],
   "source": [
    "HOMEDIR = os.path.expanduser(\"~\") + \"/\""
   ]
  },
  {
   "cell_type": "code",
   "execution_count": 200,
   "metadata": {},
   "outputs": [],
   "source": [
    "DIR = HOMEDIR + \"Dropbox/lml/genome_2021/\""
   ]
  },
  {
   "cell_type": "code",
   "execution_count": 201,
   "metadata": {},
   "outputs": [],
   "source": [
    "df = pd.read_csv(HOMEDIR + \"Dropbox/lml/export_01_19_22.csv\",encoding='latin1')"
   ]
  },
  {
   "cell_type": "code",
   "execution_count": 202,
   "metadata": {},
   "outputs": [],
   "source": [
    "df = df.fillna('_')"
   ]
  },
  {
   "cell_type": "code",
   "execution_count": 203,
   "metadata": {},
   "outputs": [],
   "source": [
    "df['Secondary Catalog Number'] = df['Secondary Catalog Number'].apply(str)\n",
    "df['Catalog Number'] = df['Catalog Number'].apply(str)\n",
    "df['catalog'] = df['Catalog Number'] + df['Secondary Catalog Number']"
   ]
  },
  {
   "cell_type": "code",
   "execution_count": 204,
   "metadata": {
    "scrolled": true
   },
   "outputs": [],
   "source": [
    "cols = ['catalog',\n",
    "    'Sampled','Scanned','Copies','Format','T1','T2','T3','T4','T5','Year','Manufacturer','Brand','gloss',\n",
    "    'Thickness?','Gloss?','Texture?','Color?','L*-recto','a*-recto','b*-recto','R-recto','G-recto','B-recto',\n",
    "    'L*-verso','a*-verso','b*-verso','R-verso','G-verso','B-verso'\n",
    "]"
   ]
  },
  {
   "cell_type": "code",
   "execution_count": 205,
   "metadata": {},
   "outputs": [
    {
     "data": {
      "text/plain": [
       "7126"
      ]
     },
     "execution_count": 205,
     "metadata": {},
     "output_type": "execute_result"
    }
   ],
   "source": [
    "len(df)"
   ]
  },
  {
   "cell_type": "code",
   "execution_count": 206,
   "metadata": {},
   "outputs": [
    {
     "data": {
      "text/plain": [
       "7112"
      ]
     },
     "execution_count": 206,
     "metadata": {},
     "output_type": "execute_result"
    }
   ],
   "source": [
    "len(df.drop_duplicates())"
   ]
  },
  {
   "cell_type": "code",
   "execution_count": 207,
   "metadata": {},
   "outputs": [],
   "source": [
    "df = df.drop_duplicates()"
   ]
  },
  {
   "cell_type": "code",
   "execution_count": 208,
   "metadata": {
    "scrolled": false
   },
   "outputs": [],
   "source": [
    "repeats = df.catalog.value_counts()[df.catalog.value_counts()>1]"
   ]
  },
  {
   "cell_type": "code",
   "execution_count": 209,
   "metadata": {},
   "outputs": [],
   "source": [
    "def coldiff(cat):\n",
    "    tmp = df[df.catalog==cat]\n",
    "    assert len(tmp) > 1\n",
    "    \n",
    "    diffcols = []\n",
    "    for col in tmp.columns:\n",
    "        vallist = tmp[col]\n",
    "        if len(vallist.unique()) > 1:\n",
    "            diffcols.append(col)\n",
    "            \n",
    "    return diffcols"
   ]
  },
  {
   "cell_type": "code",
   "execution_count": 210,
   "metadata": {},
   "outputs": [],
   "source": [
    "chillcols = ['Amount', 'FiberResults.Notes', 'SpeciesID', 'Species', 'SpeciesNotes']"
   ]
  },
  {
   "cell_type": "code",
   "execution_count": 211,
   "metadata": {
    "scrolled": false
   },
   "outputs": [],
   "source": [
    "badcats = []\n",
    "for rep in repeats.index:\n",
    "    diffcols = coldiff(rep)\n",
    "    if any([col not in chillcols for col in diffcols]):\n",
    "        #print(rep,\"\\n\",diffcols,\"\\n\\n\")\n",
    "        badcats.append(rep)"
   ]
  },
  {
   "cell_type": "code",
   "execution_count": 212,
   "metadata": {},
   "outputs": [
    {
     "data": {
      "text/plain": [
       "44"
      ]
     },
     "execution_count": 212,
     "metadata": {},
     "output_type": "execute_result"
    }
   ],
   "source": [
    "len(badcats)"
   ]
  },
  {
   "cell_type": "code",
   "execution_count": 213,
   "metadata": {},
   "outputs": [
    {
     "data": {
      "text/plain": [
       "['366_',\n",
       " '2089_',\n",
       " '86_',\n",
       " '5498_',\n",
       " '47k',\n",
       " '5013_',\n",
       " '3141_',\n",
       " '3035_',\n",
       " '2309_',\n",
       " '901u',\n",
       " '2154_',\n",
       " '4945_',\n",
       " '5459_',\n",
       " '4949_',\n",
       " '1747_',\n",
       " '5014_',\n",
       " '47d',\n",
       " '870i',\n",
       " '47j',\n",
       " '1007f',\n",
       " '5499_',\n",
       " '47e',\n",
       " '4861_',\n",
       " '3198a',\n",
       " '4807_',\n",
       " '2084m',\n",
       " '2756_',\n",
       " '5069_',\n",
       " '2089e',\n",
       " '2_',\n",
       " '2581_',\n",
       " '5507_',\n",
       " '4270_',\n",
       " '47f',\n",
       " '5015_',\n",
       " '2643m',\n",
       " '47I',\n",
       " '2293_',\n",
       " '1856_',\n",
       " '3128_',\n",
       " '4231_',\n",
       " '47h',\n",
       " '47g',\n",
       " '4803_']"
      ]
     },
     "execution_count": 213,
     "metadata": {},
     "output_type": "execute_result"
    }
   ],
   "source": [
    "badcats"
   ]
  },
  {
   "cell_type": "markdown",
   "metadata": {},
   "source": [
    "# Row to String"
   ]
  },
  {
   "cell_type": "code",
   "execution_count": 214,
   "metadata": {},
   "outputs": [],
   "source": [
    "from fuzzywuzzy import process"
   ]
  },
  {
   "cell_type": "code",
   "execution_count": 215,
   "metadata": {},
   "outputs": [],
   "source": [
    "sf = pd.read_csv(HOMEDIR + \"Dropbox/lml/export_01_19_22.csv\",encoding='latin1')"
   ]
  },
  {
   "cell_type": "code",
   "execution_count": 216,
   "metadata": {},
   "outputs": [],
   "source": [
    "scols = [\n",
    "    'Catalog Number',\n",
    "    'Secondary Catalog Number',\n",
    "    'Number of sheets (apx)',\n",
    "    'Sampled',\n",
    "    'Scanned',\n",
    "    'Copies',\n",
    "    'Year',\n",
    "    'Manufacturer',\n",
    "    'Brand',\n",
    "    'LocationBox',\n",
    "    'LocationBag',\n",
    "    'processing_instructions',\n",
    "    'IntroductionDate',\n",
    "    'EndDate',\n",
    "    'Texture2',\n",
    "    'Texture2Definition',\n",
    "    'Weight2',\n",
    "    'Weight2Definition',\n",
    "    'BaseColor2',\n",
    "    'BaseColor2Definition',\n",
    "    'PaperGrade2',\n",
    "    'PaperGrade2Definition',\n",
    "    'PaperGrade2Code',\n",
    "    'Finish',\n",
    "    'Format',\n",
    "    'ComapnyStartDate',\n",
    "    'CompanyEndDate',\n",
    "    'CompanyAddress',\n",
    "    'Bibliography',\n",
    "    'Copy',\n",
    "    'Mounted?',\n",
    "    'Expr1057',\n",
    "    'Expr1058',\n",
    "    'Month',\n",
    "    'Purpose2',\n",
    "    'Purpose2Definition',\n",
    "    'Reflectance2',\n",
    "    'Reflectance2Definition',\n",
    "    'Size',\n",
    "    'Size.Notes',\n",
    "    'SurfaceDesignation2Definition',\n",
    "    'SurfaceDesignation2',\n",
    "    'SurfaceDesignation2Term'\n",
    "]"
   ]
  },
  {
   "cell_type": "code",
   "execution_count": 217,
   "metadata": {},
   "outputs": [],
   "source": [
    "def row2string(sf,i):\n",
    "    return ''.join([str(item) for item in sf.loc[i,scols].fillna('')])"
   ]
  },
  {
   "cell_type": "code",
   "execution_count": 218,
   "metadata": {},
   "outputs": [],
   "source": [
    "rowdict = {}\n",
    "for i in sf.index:\n",
    "    rowdict[i] = row2string(sf,i)"
   ]
  },
  {
   "cell_type": "code",
   "execution_count": 219,
   "metadata": {},
   "outputs": [],
   "source": [
    "sf = sf.fillna('_')"
   ]
  },
  {
   "cell_type": "markdown",
   "metadata": {},
   "source": [
    "# Web viewer"
   ]
  },
  {
   "cell_type": "code",
   "execution_count": 220,
   "metadata": {},
   "outputs": [],
   "source": [
    "import webbrowser"
   ]
  },
  {
   "cell_type": "code",
   "execution_count": 221,
   "metadata": {},
   "outputs": [],
   "source": [
    "sitepath = '/Users/damoncrockett/Desktop/vistest.html'"
   ]
  },
  {
   "cell_type": "code",
   "execution_count": 222,
   "metadata": {},
   "outputs": [],
   "source": [
    "truncval = 30"
   ]
  },
  {
   "cell_type": "code",
   "execution_count": 223,
   "metadata": {},
   "outputs": [],
   "source": [
    "def trunccell(cell):\n",
    "    try:\n",
    "        if len(cell) > truncval:\n",
    "            return cell[:truncval] + '...'\n",
    "        else:\n",
    "            return cell\n",
    "    except:\n",
    "        return cell"
   ]
  },
  {
   "cell_type": "code",
   "execution_count": 224,
   "metadata": {},
   "outputs": [],
   "source": [
    "def oddoreven(num):\n",
    "    if num % 2 == 0:\n",
    "        return 'even'\n",
    "    else:\n",
    "        return 'odd'"
   ]
  },
  {
   "cell_type": "code",
   "execution_count": 225,
   "metadata": {},
   "outputs": [],
   "source": [
    "colorder = [\n",
    "    'PhotoID',\n",
    "    'Catalog Number',\n",
    "    'Secondary Catalog Number',\n",
    "    'Number of sheets (apx)',\n",
    "    'PhotoPapers.Notes',\n",
    "    'DateUncertain',\n",
    "    'Sampled',\n",
    "    'Scanned',\n",
    "    'OBACheck',\n",
    "    'FluorescenceVerso',\n",
    "    'FluorescenceRecto',\n",
    "    'OBAVersoIndeterminant',\n",
    "    'OBARectoIndeterminant',\n",
    "    'OmitFromOBASurvey',\n",
    "    'Copies',\n",
    "    'FiberSampleSent',\n",
    "    'FiberSample',\n",
    "    'T1',\n",
    "    'T2',\n",
    "    'T3',\n",
    "    'T4',\n",
    "    'T5',\n",
    "    'Year',\n",
    "    'Emulsion_thickness',\n",
    "    'Manufacturer',\n",
    "    'Brand',\n",
    "    'D',\n",
    "    'W1',\n",
    "    'W2',\n",
    "    'W3',\n",
    "    'FiberResutls',\n",
    "    'WhyOmittedFromLogoWebsite',\n",
    "    'BackprintingWebsite',\n",
    "    'MoMATextureStudy',\n",
    "    'surface_image',\n",
    "    'LocationBox',\n",
    "    'LocationBag',\n",
    "    'LocationNotes',\n",
    "    'gloss',\n",
    "    'processing_instructions',\n",
    "    'IntroductionDate',\n",
    "    'EndDate',\n",
    "    'Brand.Notes',\n",
    "    'Texture2',\n",
    "    'Texture2Definition',\n",
    "    'Weight2',\n",
    "    'Weight2Definition',\n",
    "    'BaseColor2',\n",
    "    'BaseColor2Definition',\n",
    "    'PaperGrade2',\n",
    "    'PaperGrade2Definition',\n",
    "    'PaperGrade2Code',\n",
    "    'ContrastGrade.Notes',\n",
    "    'Amount',\n",
    "    'FiberResults.Notes',\n",
    "    'Finish',\n",
    "    'Finish.Notes',\n",
    "    'Format',\n",
    "    'Format.Notes',\n",
    "    'ComapnyStartDate',\n",
    "    'CompanyEndDate',\n",
    "    'CompanyAddress',\n",
    "    'MergeHistory',\n",
    "    'Bibliography',\n",
    "    'Manufacturer.Notes',\n",
    "    'FLuorescence Notes',\n",
    "    'Copy',\n",
    "    'Mounted?',\n",
    "    'FiberSampleSendDate',\n",
    "    'GCI_analysis',\n",
    "    \"Walter'sBook\",\n",
    "    'OmitFromLogoWebsite?',\n",
    "    'new_surface_image_needed?',\n",
    "    'Yale_inventory?',\n",
    "    'Thickness?',\n",
    "    'Gloss?',\n",
    "    'Texture?',\n",
    "    'Color?',\n",
    "    'Missing sample Oct 2019',\n",
    "    'Expr1057',\n",
    "    'Expr1058',\n",
    "    'L*-recto',\n",
    "    'a*-recto',\n",
    "    'b*-recto',\n",
    "    'R-recto',\n",
    "    'G-recto',\n",
    "    'B-recto',\n",
    "    'L*-verso',\n",
    "    'a*-verso',\n",
    "    'b*-verso',\n",
    "    'R-verso',\n",
    "    'G-verso',\n",
    "    'B-verso',\n",
    "    'SpeciesNotes',\n",
    "    'SpeciesID',\n",
    "    'FiberType',\n",
    "    'Species',\n",
    "    'Species.Notes',\n",
    "    'Month',\n",
    "    'Purpose2',\n",
    "    'Purpose2Definition',\n",
    "    'Reflectance2',\n",
    "    'Reflectance2Definition',\n",
    "    'Size',\n",
    "    'Size.Notes',\n",
    "    'SurfaceDesignation2Definition',\n",
    "    'SurfaceDesignation2',\n",
    "    'SurfaceDesignation2Term'\n",
    "]"
   ]
  },
  {
   "cell_type": "code",
   "execution_count": 226,
   "metadata": {},
   "outputs": [],
   "source": [
    "def writepage(subsetter,method='catalog'):\n",
    "    \n",
    "    if method=='catalog':\n",
    "        tmp = sf[sf.catalog==subsetter]\n",
    "    elif method=='idx':\n",
    "        tmp = sf.loc[subsetter]\n",
    "    else:\n",
    "        raise TypeError()\n",
    "    \n",
    "    tmp = tmp.reset_index(drop=True)\n",
    "    tmp = tmp.applymap(trunccell)\n",
    "\n",
    "    with open(sitepath,'w') as f:\n",
    "        f.write(\"<!doctype html>\")\n",
    "        f.write(\"<html lang='en'>\")\n",
    "        f.write(\"<head>\")\n",
    "        f.write(\"<link rel='stylesheet' href='vistest.css'>\")\n",
    "        f.write(\"</head>\")\n",
    "        f.write(\"<body>\")\n",
    "\n",
    "        f.write(\"<div class='keybox'>\")\n",
    "        for col in colorder:\n",
    "            f.write(\"<p>\")\n",
    "            f.write(col)\n",
    "            f.write(\"</p>\")\n",
    "        f.write(\"</div>\")\n",
    "        \n",
    "        for i,idx in enumerate(tmp.index):\n",
    "\n",
    "            f.write(\"<div class='valbox'>\")\n",
    "            for j,col in enumerate(colorder):\n",
    "                \n",
    "                color_tuple = (oddoreven(i),oddoreven(j))\n",
    "                \n",
    "                if color_tuple==('odd','odd'):\n",
    "                    colorclass = 'valcell1'\n",
    "                elif color_tuple==('odd','even'):\n",
    "                    colorclass = 'valcell3'\n",
    "                elif color_tuple==('even','odd'):\n",
    "                    colorclass = 'valcell2'\n",
    "                elif color_tuple==('even','even'):\n",
    "                    colorclass = 'valcell4'\n",
    "                \n",
    "                f.write(\"<p id='\" + colorclass +\"'>\")\n",
    "                f.write(str(tmp.loc[idx,col]))\n",
    "                f.write(\"</p>\")\n",
    "                \n",
    "            f.write(\"</div>\")\n",
    "\n",
    "        f.write(\"</body>\")\n",
    "        f.write(\"</html>\")"
   ]
  },
  {
   "cell_type": "code",
   "execution_count": 233,
   "metadata": {},
   "outputs": [],
   "source": [
    "idx = np.random.choice(sf.index)\n",
    "rlist = process.extract(rowdict[idx],rowdict,limit=20)\n",
    "idxlist = [item[2] for item in rlist if item[1]>86]"
   ]
  },
  {
   "cell_type": "code",
   "execution_count": 234,
   "metadata": {},
   "outputs": [],
   "source": [
    "writepage(idxlist,method='idx')"
   ]
  },
  {
   "cell_type": "code",
   "execution_count": 235,
   "metadata": {},
   "outputs": [
    {
     "data": {
      "text/plain": [
       "True"
      ]
     },
     "execution_count": 235,
     "metadata": {},
     "output_type": "execute_result"
    }
   ],
   "source": [
    "url = \"file://\" + sitepath\n",
    "webbrowser.open(url, new=2)"
   ]
  },
  {
   "cell_type": "code",
   "execution_count": null,
   "metadata": {},
   "outputs": [],
   "source": []
  }
 ],
 "metadata": {
  "kernelspec": {
   "display_name": "Python 3",
   "language": "python",
   "name": "python3"
  },
  "language_info": {
   "codemirror_mode": {
    "name": "ipython",
    "version": 3
   },
   "file_extension": ".py",
   "mimetype": "text/x-python",
   "name": "python",
   "nbconvert_exporter": "python",
   "pygments_lexer": "ipython3",
   "version": "3.6.5"
  }
 },
 "nbformat": 4,
 "nbformat_minor": 2
}
