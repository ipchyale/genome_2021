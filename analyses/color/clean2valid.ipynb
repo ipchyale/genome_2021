{
 "cells": [
  {
   "cell_type": "code",
   "execution_count": 1,
   "id": "397bcb54",
   "metadata": {},
   "outputs": [],
   "source": [
    "import pandas as pd\n",
    "import numpy as np\n",
    "%matplotlib inline\n",
    "import warnings\n",
    "warnings.filterwarnings('ignore')"
   ]
  },
  {
   "cell_type": "code",
   "execution_count": 2,
   "id": "fa1bec68",
   "metadata": {},
   "outputs": [],
   "source": [
    "df = pd.read_csv('clean.csv')"
   ]
  },
  {
   "cell_type": "markdown",
   "id": "5d58ba66",
   "metadata": {},
   "source": [
    "# Validation"
   ]
  },
  {
   "cell_type": "markdown",
   "id": "9ed4638b",
   "metadata": {},
   "source": [
    "Some ``mloc`` labels are not valid. Let's try to correct that."
   ]
  },
  {
   "cell_type": "code",
   "execution_count": 3,
   "id": "9a21f205",
   "metadata": {},
   "outputs": [
    {
     "data": {
      "text/plain": [
       "<AxesSubplot:>"
      ]
     },
     "execution_count": 3,
     "metadata": {},
     "output_type": "execute_result"
    },
    {
     "data": {
      "image/png": "[encoded data removed]",
      "text/plain": [
       "<Figure size 432x288 with 1 Axes>"
      ]
     },
     "metadata": {
      "needs_background": "light"
     },
     "output_type": "display_data"
    }
   ],
   "source": [
    "df.LAB_L[df.mloc=='dmin'].hist(bins=100)"
   ]
  },
  {
   "cell_type": "code",
   "execution_count": 4,
   "id": "1e195cbe",
   "metadata": {},
   "outputs": [
    {
     "data": {
      "text/plain": [
       "<AxesSubplot:>"
      ]
     },
     "execution_count": 4,
     "metadata": {},
     "output_type": "execute_result"
    },
    {
     "data": {
      "image/png": "[encoded data removed]",
      "text/plain": [
       "<Figure size 432x288 with 1 Axes>"
      ]
     },
     "metadata": {
      "needs_background": "light"
     },
     "output_type": "display_data"
    }
   ],
   "source": [
    "df.LAB_L[df.mloc=='dmax'].hist(bins=100)"
   ]
  },
  {
   "cell_type": "code",
   "execution_count": 5,
   "id": "c46c65cc",
   "metadata": {},
   "outputs": [
    {
     "data": {
      "text/html": [
       "<div>\n",
       "<style scoped>\n",
       "    .dataframe tbody tr th:only-of-type {\n",
       "        vertical-align: middle;\n",
       "    }\n",
       "\n",
       "    .dataframe tbody tr th {\n",
       "        vertical-align: top;\n",
       "    }\n",
       "\n",
       "    .dataframe thead th {\n",
       "        text-align: right;\n",
       "    }\n",
       "</style>\n",
       "<table border=\"1\" class=\"dataframe\">\n",
       "  <thead>\n",
       "    <tr style=\"text-align: right;\">\n",
       "      <th></th>\n",
       "      <th>LAB_L</th>\n",
       "    </tr>\n",
       "    <tr>\n",
       "      <th>mloc</th>\n",
       "      <th></th>\n",
       "    </tr>\n",
       "  </thead>\n",
       "  <tbody>\n",
       "    <tr>\n",
       "      <th>dmax</th>\n",
       "      <td>0.290733</td>\n",
       "    </tr>\n",
       "    <tr>\n",
       "      <th>dmin</th>\n",
       "      <td>0.065200</td>\n",
       "    </tr>\n",
       "  </tbody>\n",
       "</table>\n",
       "</div>"
      ],
      "text/plain": [
       "         LAB_L\n",
       "mloc          \n",
       "dmax  0.290733\n",
       "dmin  0.065200"
      ]
     },
     "execution_count": 5,
     "metadata": {},
     "output_type": "execute_result"
    }
   ],
   "source": [
    "df[['cat','LAB_L','mloc']].groupby(['cat','mloc']).agg(np.var).groupby('mloc').agg(np.median)"
   ]
  },
  {
   "cell_type": "markdown",
   "id": "cb91c1e4",
   "metadata": {},
   "source": [
    "Okay, so now we have some estimates for where the variance _should_ be within a ``catloc``. Let's find violations of that."
   ]
  },
  {
   "cell_type": "code",
   "execution_count": 6,
   "id": "3c9202f7",
   "metadata": {},
   "outputs": [],
   "source": [
    "tmp = df[['cat','LAB_L','mloc']].groupby(['cat','mloc']).agg(np.var).reset_index()"
   ]
  },
  {
   "cell_type": "code",
   "execution_count": 7,
   "id": "5f906e7c",
   "metadata": {},
   "outputs": [],
   "source": [
    "tmp = tmp[tmp.mloc=='dmax'].sort_values('LAB_L',ascending=False)"
   ]
  },
  {
   "cell_type": "code",
   "execution_count": 8,
   "id": "955eabae",
   "metadata": {},
   "outputs": [
    {
     "name": "stdout",
     "output_type": "stream",
     "text": [
      "5532h\n",
      "4790s\n",
      "1023k\n",
      "5464oo\n",
      "294u\n"
     ]
    }
   ],
   "source": [
    "for cat in tmp.cat:\n",
    "    t = df[df.cat==cat]\n",
    "    mlocs = list(t.mloc.unique())\n",
    "    if len(mlocs)==1:\n",
    "        print(cat)"
   ]
  },
  {
   "cell_type": "code",
   "execution_count": 9,
   "id": "10ec8b77",
   "metadata": {},
   "outputs": [],
   "source": [
    "df.mloc[(df.cat=='5532h')&(df.LAB_L > 30)] = 'dmin'"
   ]
  },
  {
   "cell_type": "code",
   "execution_count": 10,
   "id": "f8553c2b",
   "metadata": {},
   "outputs": [],
   "source": [
    "df.mloc[(df.cat=='4790s')&(df.LAB_L > 30)] = 'dmin'"
   ]
  },
  {
   "cell_type": "code",
   "execution_count": 11,
   "id": "3c4039de",
   "metadata": {},
   "outputs": [],
   "source": [
    "tmp = df[['cat','LAB_L','mloc']].groupby(['cat','mloc']).agg(np.var).reset_index()\n",
    "tmp = tmp[tmp.mloc=='dmin'].sort_values('LAB_L',ascending=False)"
   ]
  },
  {
   "cell_type": "code",
   "execution_count": 12,
   "id": "a04008c4",
   "metadata": {},
   "outputs": [
    {
     "name": "stdout",
     "output_type": "stream",
     "text": [
      "1023l ['dmin'] 3\n",
      "5514y ['dmin'] 3\n",
      "5513y ['dmin'] 3\n"
     ]
    }
   ],
   "source": [
    "for cat in tmp.cat:\n",
    "    t = df[df.cat==cat]\n",
    "    mlocs = list(t.mloc.unique())\n",
    "    if len(mlocs)==1:\n",
    "        print(cat,mlocs,len(t))"
   ]
  },
  {
   "cell_type": "markdown",
   "id": "9c42a3a5",
   "metadata": {},
   "source": [
    "The following cull is not about validity, but since I want to look at dmax and dmin measurements for the same papers, the following papers (which could not be measured for both) are not useful."
   ]
  },
  {
   "cell_type": "code",
   "execution_count": 13,
   "id": "2cae6954",
   "metadata": {
    "scrolled": true
   },
   "outputs": [],
   "source": [
    "badcats = []\n",
    "tmp = df[df.mloc.isin(['dmax','dmin'])]\n",
    "for cat in tmp.cat.unique():\n",
    "    t = tmp[tmp.cat==cat]\n",
    "    mlocs = list(t.mloc.unique())\n",
    "    if len(mlocs)==1:\n",
    "        badcats.append(cat)"
   ]
  },
  {
   "cell_type": "code",
   "execution_count": 14,
   "id": "c7448054",
   "metadata": {},
   "outputs": [],
   "source": [
    "df = df[~df.cat.isin(badcats)]"
   ]
  },
  {
   "cell_type": "code",
   "execution_count": 15,
   "id": "59289916",
   "metadata": {},
   "outputs": [
    {
     "data": {
      "text/plain": [
       "dmin    10788\n",
       "dmax    10787\n",
       "Name: mloc, dtype: int64"
      ]
     },
     "execution_count": 15,
     "metadata": {},
     "output_type": "execute_result"
    }
   ],
   "source": [
    "df.mloc.value_counts()"
   ]
  },
  {
   "cell_type": "code",
   "execution_count": 16,
   "id": "300ab82e",
   "metadata": {
    "scrolled": false
   },
   "outputs": [
    {
     "name": "stdout",
     "output_type": "stream",
     "text": [
      "285c\n"
     ]
    }
   ],
   "source": [
    "tmp = df[df.mloc.isin(['dmax','dmin'])]\n",
    "for cat in tmp.cat.unique():\n",
    "    t = tmp[tmp.cat==cat]\n",
    "    l = list(set(list(t.mloc.value_counts())))\n",
    "    if len(l)!=1:\n",
    "        print(cat)"
   ]
  },
  {
   "cell_type": "code",
   "execution_count": 17,
   "id": "aa3f6208",
   "metadata": {},
   "outputs": [],
   "source": [
    "df = df[df.cat!='285c']"
   ]
  },
  {
   "cell_type": "code",
   "execution_count": 18,
   "id": "a04a2cc8",
   "metadata": {},
   "outputs": [
    {
     "data": {
      "text/plain": [
       "dmax    10785\n",
       "dmin    10785\n",
       "Name: mloc, dtype: int64"
      ]
     },
     "execution_count": 18,
     "metadata": {},
     "output_type": "execute_result"
    }
   ],
   "source": [
    "df.mloc.value_counts()"
   ]
  },
  {
   "cell_type": "markdown",
   "id": "ef01120a",
   "metadata": {},
   "source": [
    "### mtrial issue"
   ]
  },
  {
   "cell_type": "code",
   "execution_count": 20,
   "id": "0279cd6f",
   "metadata": {},
   "outputs": [],
   "source": [
    "df['catrial'] = [df.cat.loc[i] + \"_\" + str(df.mtrial.loc[i]) for i in df.index]"
   ]
  },
  {
   "cell_type": "code",
   "execution_count": 21,
   "id": "8ea2ab7b",
   "metadata": {},
   "outputs": [],
   "source": [
    "df.mtrial[(df.catrial=='2372p_2')&(df.mloc=='dmax')] = '1'\n",
    "df.mtrial[(df.catrial=='2372p_3')&(df.mloc=='dmax')] = '2'"
   ]
  },
  {
   "cell_type": "code",
   "execution_count": 23,
   "id": "e011c29c",
   "metadata": {},
   "outputs": [],
   "source": [
    "df['catrial'] = [df.cat.loc[i] + \"_\" + str(df.mtrial.loc[i]) for i in df.index]"
   ]
  },
  {
   "cell_type": "markdown",
   "id": "482982fb",
   "metadata": {},
   "source": [
    "### save"
   ]
  },
  {
   "cell_type": "code",
   "execution_count": 24,
   "id": "089d998e",
   "metadata": {},
   "outputs": [],
   "source": [
    "df.to_csv('valid.csv',index=False)"
   ]
  },
  {
   "cell_type": "code",
   "execution_count": null,
   "id": "d5aa85a1",
   "metadata": {},
   "outputs": [],
   "source": []
  }
 ],
 "metadata": {
  "kernelspec": {
   "display_name": "Python 3 (ipykernel)",
   "language": "python",
   "name": "python3"
  },
  "language_info": {
   "codemirror_mode": {
    "name": "ipython",
    "version": 3
   },
   "file_extension": ".py",
   "mimetype": "text/x-python",
   "name": "python",
   "nbconvert_exporter": "python",
   "pygments_lexer": "ipython3",
   "version": "3.10.4"
  }
 },
 "nbformat": 4,
 "nbformat_minor": 5
}
