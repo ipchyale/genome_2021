{
 "cells": [
  {
   "cell_type": "code",
   "execution_count": 27,
   "id": "da5dd57e",
   "metadata": {},
   "outputs": [],
   "source": [
    "import glob,os\n",
    "import pandas as pd\n",
    "import numpy as np"
   ]
  },
  {
   "cell_type": "code",
   "execution_count": 10,
   "id": "113f780e",
   "metadata": {},
   "outputs": [],
   "source": [
    "import sys\n",
    "sys.path.append(os.path.expanduser(\"~\"))\n",
    "from ss2csv.ss2csv import file2table,cleancols"
   ]
  },
  {
   "cell_type": "code",
   "execution_count": 11,
   "id": "d60d153e",
   "metadata": {},
   "outputs": [],
   "source": [
    "GDIR = os.path.expanduser(\"~\") + \"/\" + \"Dropbox/lml/genome_2021/\""
   ]
  },
  {
   "cell_type": "code",
   "execution_count": 12,
   "id": "34c5dbcd",
   "metadata": {},
   "outputs": [],
   "source": [
    "allfiles = glob.glob(os.path.join(GDIR,\"*.txt\"))"
   ]
  },
  {
   "cell_type": "code",
   "execution_count": 22,
   "id": "b157b8fd",
   "metadata": {},
   "outputs": [
    {
     "name": "stdout",
     "output_type": "stream",
     "text": [
      "bad row\n",
      "bad row\n"
     ]
    }
   ],
   "source": [
    "badfiles = []\n",
    "for i,allfile in enumerate(allfiles):\n",
    "    try:\n",
    "        tmp = cleancols(file2table(allfile))\n",
    "    except:\n",
    "        badfiles.append(allfile)\n",
    "        continue\n",
    "        \n",
    "    if i==0:\n",
    "        df = tmp\n",
    "    else:\n",
    "        try:\n",
    "            df = pd.concat([df,tmp])\n",
    "        except:\n",
    "            badfiles.append(allfile)"
   ]
  },
  {
   "cell_type": "markdown",
   "id": "fab5d4db",
   "metadata": {},
   "source": [
    "#### badfiles"
   ]
  },
  {
   "cell_type": "code",
   "execution_count": 28,
   "id": "b7f56a6e",
   "metadata": {},
   "outputs": [],
   "source": [
    "with open(badfiles[0],'r') as colorfile:\n",
    "    l = colorfile.readlines()\n",
    "        \n",
    "    hunt = False\n",
    "    collist = []\n",
    "    for item in l:\n",
    "        if hunt==True:\n",
    "            if 'END_DATA_FORMAT' in item:\n",
    "                break\n",
    "            else:\n",
    "                collist.append(item)\n",
    "\n",
    "        if 'BEGIN_DATA_FORMAT' in item:\n",
    "            hunt = True    \n",
    "    \n",
    "    cols = collist[0].split('\\t')\n",
    "    cols = [item.rstrip('\\n') for item in cols]\n",
    "    sf = pd.DataFrame(columns=cols)\n",
    "        \n",
    "    hunt = False\n",
    "    vallists = []\n",
    "    for item in l:\n",
    "        if hunt==True:\n",
    "            if item=='END_DATA\\n':\n",
    "                vallists.append(vallist)\n",
    "                hunt = False\n",
    "            else:\n",
    "                vallist.append(item)\n",
    "\n",
    "        if item=='BEGIN_DATA\\n':\n",
    "            hunt = True\n",
    "            vallist = []\n",
    "            \n",
    "megalist = vallists[0]\n",
    "l = [item.rstrip('\\n').split('\\t') for item in megalist]\n",
    "l = [item for sublist in l for item in sublist]\n",
    "l = [item for item in l if item!='']\n",
    "\n",
    "# turn megalist into Series whose indices are rows of sf\n",
    "megalist_length = len(l)\n",
    "ncols = len(sf.columns)\n",
    "nrows = int( megalist_length / ncols )\n",
    "valseries_idx = list(np.repeat(range(nrows),ncols))\n",
    "valseries = pd.Series(l,index=valseries_idx)\n",
    "\n",
    "for i in range(nrows):\n",
    "    sf.loc[i] = list(valseries.loc[i]) # making it a list wipes its index, which we need"
   ]
  },
  {
   "cell_type": "code",
   "execution_count": 32,
   "id": "7333cb77",
   "metadata": {},
   "outputs": [],
   "source": [
    "df = pd.concat([df,cleancols(sf)])"
   ]
  },
  {
   "cell_type": "code",
   "execution_count": 33,
   "id": "f04eb1a8",
   "metadata": {},
   "outputs": [],
   "source": [
    "df = df.reset_index(drop=True)"
   ]
  },
  {
   "cell_type": "code",
   "execution_count": 35,
   "id": "b37c3735",
   "metadata": {},
   "outputs": [],
   "source": [
    "df.to_csv('table.csv',index=False)"
   ]
  }
 ],
 "metadata": {
  "kernelspec": {
   "display_name": "Python 3 (ipykernel)",
   "language": "python",
   "name": "python3"
  },
  "language_info": {
   "codemirror_mode": {
    "name": "ipython",
    "version": 3
   },
   "file_extension": ".py",
   "mimetype": "text/x-python",
   "name": "python",
   "nbconvert_exporter": "python",
   "pygments_lexer": "ipython3",
   "version": "3.10.4"
  }
 },
 "nbformat": 4,
 "nbformat_minor": 5
}
