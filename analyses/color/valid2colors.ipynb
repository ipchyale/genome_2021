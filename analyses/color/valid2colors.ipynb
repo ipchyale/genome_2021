{
 "cells": [
  {
   "cell_type": "code",
   "execution_count": 1,
   "id": "2c3df2dd",
   "metadata": {},
   "outputs": [],
   "source": [
    "import pandas as pd"
   ]
  },
  {
   "cell_type": "code",
   "execution_count": 2,
   "id": "2c71606b",
   "metadata": {},
   "outputs": [],
   "source": [
    "df = pd.read_csv('valid.csv')"
   ]
  },
  {
   "cell_type": "code",
   "execution_count": 3,
   "id": "93f3cf72",
   "metadata": {},
   "outputs": [],
   "source": [
    "from colormath.color_objects import LabColor,HSLColor,sRGBColor\n",
    "from colormath.color_conversions import convert_color"
   ]
  },
  {
   "cell_type": "code",
   "execution_count": 4,
   "id": "788ee5da",
   "metadata": {},
   "outputs": [],
   "source": [
    "labs = [LabColor(df.LAB_L.loc[i],df.LAB_A.loc[i],df.LAB_B.loc[i],observer='2',illuminant='d65') for i in df.index]"
   ]
  },
  {
   "cell_type": "code",
   "execution_count": 5,
   "id": "da1624f4",
   "metadata": {},
   "outputs": [],
   "source": [
    "hsls = [convert_color(item,HSLColor).get_value_tuple() for item in labs]"
   ]
  },
  {
   "cell_type": "code",
   "execution_count": 6,
   "id": "c930fa3b",
   "metadata": {},
   "outputs": [],
   "source": [
    "rgbs = [convert_color(item,sRGBColor).get_upscaled_value_tuple() for item in labs]"
   ]
  },
  {
   "cell_type": "code",
   "execution_count": 7,
   "id": "1ec59802",
   "metadata": {},
   "outputs": [],
   "source": [
    "df['rgb'] = rgbs"
   ]
  },
  {
   "cell_type": "code",
   "execution_count": 8,
   "id": "6d1a6680",
   "metadata": {},
   "outputs": [],
   "source": [
    "df['r'] = [item[0] for item in df.rgb]\n",
    "df['g'] = [item[1] for item in df.rgb]\n",
    "df['b'] = [item[2] for item in df.rgb]"
   ]
  },
  {
   "cell_type": "code",
   "execution_count": 9,
   "id": "2f96f091",
   "metadata": {},
   "outputs": [],
   "source": [
    "df['hue'] = [item[0] for item in hsls]"
   ]
  },
  {
   "cell_type": "code",
   "execution_count": 10,
   "id": "528cfe69",
   "metadata": {},
   "outputs": [],
   "source": [
    "df['saturation'] = [item[1] for item in hsls]"
   ]
  },
  {
   "cell_type": "code",
   "execution_count": 11,
   "id": "f636948a",
   "metadata": {},
   "outputs": [],
   "source": [
    "df['lightness'] = [item[2] for item in hsls]"
   ]
  },
  {
   "cell_type": "code",
   "execution_count": 12,
   "id": "4d88b687",
   "metadata": {},
   "outputs": [],
   "source": [
    "df['hex'] = [convert_color(item,sRGBColor).get_rgb_hex() for item in labs]"
   ]
  },
  {
   "cell_type": "code",
   "execution_count": 13,
   "id": "85ba0708",
   "metadata": {},
   "outputs": [],
   "source": [
    "df.to_csv('colors.csv',index=False)"
   ]
  }
 ],
 "metadata": {
  "kernelspec": {
   "display_name": "Python 3 (ipykernel)",
   "language": "python",
   "name": "python3"
  },
  "language_info": {
   "codemirror_mode": {
    "name": "ipython",
    "version": 3
   },
   "file_extension": ".py",
   "mimetype": "text/x-python",
   "name": "python",
   "nbconvert_exporter": "python",
   "pygments_lexer": "ipython3",
   "version": "3.10.4"
  }
 },
 "nbformat": 4,
 "nbformat_minor": 5
}
